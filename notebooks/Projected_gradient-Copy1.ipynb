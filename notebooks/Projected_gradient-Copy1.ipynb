{
 "cells": [
  {
   "cell_type": "code",
   "execution_count": 72,
   "metadata": {},
   "outputs": [],
   "source": [
    "using Optim, ForwardDiff, LinearAlgebra, Printf, Convex, ECOS"
   ]
  },
  {
   "cell_type": "markdown",
   "metadata": {},
   "source": [
    "The n-variable Rosenbrock test function is\n",
    "\n",
    "$$\n",
    "f(x) = \\sum_{i=1}^{N-1}[100(x_{i+1} - x_{i}^2)^2+(1-x_i)^2].\n",
    "$$\n",
    "\n",
    "Define the 3-variable Rosenbrock test function."
   ]
  },
  {
   "cell_type": "code",
   "execution_count": 102,
   "metadata": {},
   "outputs": [
    {
     "data": {
      "text/plain": [
       "f3 (generic function with 1 method)"
      ]
     },
     "execution_count": 102,
     "metadata": {},
     "output_type": "execute_result"
    }
   ],
   "source": [
    "N = 3;\n",
    "f3(x)= 2*x[1]^2 + 3*x[2]^2 + 4*x[3]^2 + 2*x[1]*x[2] -2*x[1]*x[3] -8*x[1] -4*x[2]-2*x[3]"
   ]
  },
  {
   "cell_type": "code",
   "execution_count": 103,
   "metadata": {},
   "outputs": [
    {
     "data": {
      "text/plain": [
       "g (generic function with 1 method)"
      ]
     },
     "execution_count": 103,
     "metadata": {},
     "output_type": "execute_result"
    }
   ],
   "source": [
    "g(x) = ForwardDiff.gradient(f3, x)"
   ]
  },
  {
   "cell_type": "markdown",
   "metadata": {},
   "source": [
    "The linear constraint is $x_1+x_2+x3 = 1$ and $2x_1+x_2 = 0.5$."
   ]
  },
  {
   "cell_type": "code",
   "execution_count": 104,
   "metadata": {},
   "outputs": [
    {
     "data": {
      "text/plain": [
       "11.489125293076057"
      ]
     },
     "execution_count": 104,
     "metadata": {},
     "output_type": "execute_result"
    }
   ],
   "source": [
    "AtA = [4 2 -2;2 6 0;-2 0 8]\n",
    "L = norm(AtA,2)"
   ]
  },
  {
   "cell_type": "markdown",
   "metadata": {},
   "source": [
    "let $C = \\{x | Ax = b\\}$. Projection on to C is $\\text{proj}_{\\mathcal C} (z) = z + A^\\intercal(AA^\\intercal)^{-1}(b-Az)$"
   ]
  },
  {
   "cell_type": "code",
   "execution_count": 105,
   "metadata": {},
   "outputs": [
    {
     "data": {
      "text/plain": [
       "proj (generic function with 1 method)"
      ]
     },
     "execution_count": 105,
     "metadata": {},
     "output_type": "execute_result"
    }
   ],
   "source": [
    "proj(z) = max.(z,0)"
   ]
  },
  {
   "cell_type": "code",
   "execution_count": 106,
   "metadata": {},
   "outputs": [
    {
     "name": "stdout",
     "output_type": "stream",
     "text": [
      "iteration = 10, successive error = 0.058070\n",
      "iteration = 20, successive error = 0.002295\n",
      "iteration = 30, successive error = 0.000091\n",
      "iteration = 40, successive error = 0.000004\n",
      "iteration = 50, successive error = 0.000000\n",
      "iteration = 60, successive error = 0.000000\n",
      "iteration = 70, successive error = 0.000000\n",
      "iteration = 80, successive error = 0.000000\n",
      "iteration = 90, successive error = 0.000000\n",
      "iteration = 100, successive error = 0.000000\n",
      "\n",
      "The minimizer is x = (2.429,0.000,0.857) with optimal value = -10.571\n"
     ]
    }
   ],
   "source": [
    "xk = zeros(3);\n",
    "step = 1/L;\n",
    "xkp = xk;\n",
    "for i in 1:100\n",
    "    xkp = xk - step * g(xk);\n",
    "    xkp = proj(xkp)\n",
    "    if rem(i,10) == 0\n",
    "        @printf(\"iteration = %d, successive error = %f\\n\",i, norm(xk - xkp))\n",
    "    end\n",
    "    xk = xkp\n",
    "end\n",
    "@printf(\"\\nThe minimizer is x = (%.3f,%.3f,%.3f) with optimal value = %.3f\\n\", xk[1], xk[2], xk[3],f3(xk))"
   ]
  },
  {
   "cell_type": "code",
   "execution_count": 114,
   "metadata": {},
   "outputs": [
    {
     "name": "stdout",
     "output_type": "stream",
     "text": [
      "\n",
      "The minimizer is x = (2.429,0.000,0.857) with optimal value = -10.571\n"
     ]
    }
   ],
   "source": [
    "chol = cholesky(AtA/2)\n",
    "A = chol.U\n",
    "b = (A')\\([8;4;2]./2)\n",
    "\n",
    "x = Variable(3)\n",
    "problem = minimize(sumsquares(A*x - b) - norm(b,2)^2, [x>=0])\n",
    "solve!(problem, ECOS.Optimizer(verbose = false))\n",
    "@printf(\"\\nThe minimizer is x = (%.3f,%.3f,%.3f) with optimal value = %.3f\\n\", x.value[1], x.value[2], x.value[3], problem.optval)"
   ]
  },
  {
   "cell_type": "code",
   "execution_count": 116,
   "metadata": {},
   "outputs": [
    {
     "data": {
      "text/plain": [
       "3×1 Array{Float64,2}:\n",
       " -1.6013894210686885e-8\n",
       "  0.8571428327137207\n",
       " -1.4521682167867311e-7"
      ]
     },
     "execution_count": 116,
     "metadata": {},
     "output_type": "execute_result"
    }
   ],
   "source": [
    "g(x.value)"
   ]
  },
  {
   "cell_type": "code",
   "execution_count": null,
   "metadata": {},
   "outputs": [],
   "source": []
  }
 ],
 "metadata": {
  "@webio": {
   "lastCommId": null,
   "lastKernelId": null
  },
  "kernelspec": {
   "display_name": "Julia 1.5.3",
   "language": "julia",
   "name": "julia-1.5"
  },
  "language_info": {
   "file_extension": ".jl",
   "mimetype": "application/julia",
   "name": "julia",
   "version": "1.5.3"
  }
 },
 "nbformat": 4,
 "nbformat_minor": 2
}
