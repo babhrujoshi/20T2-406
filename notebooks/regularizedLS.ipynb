{
 "cells": [
  {
   "cell_type": "markdown",
   "metadata": {},
   "source": [
    "# Regularized linear least squares"
   ]
  },
  {
   "cell_type": "code",
   "execution_count": 2,
   "metadata": {},
   "outputs": [],
   "source": [
    "using Plots, Interact, LinearAlgebra"
   ]
  },
  {
   "cell_type": "markdown",
   "metadata": {},
   "source": [
    "We'll give an application in signal denoising. The \"true\" signal is smooth."
   ]
  },
  {
   "cell_type": "code",
   "execution_count": 7,
   "metadata": {},
   "outputs": [],
   "source": [
    "n = 300\n",
    "t = LinRange(0,4,n)\n",
    "x = @. sin(t) + t*cos(t)^2;"
   ]
  },
  {
   "cell_type": "markdown",
   "metadata": {},
   "source": [
    "Now add noise."
   ]
  },
  {
   "cell_type": "code",
   "execution_count": 29,
   "metadata": {},
   "outputs": [
    {
     "data": {
      "image/svg+xml": [
       "<?xml version=\"1.0\" encoding=\"utf-8\"?>\n",
       "<svg xmlns=\"http://www.w3.org/2000/svg\" xmlns:xlink=\"http://www.w3.org/1999/xlink\" width=\"600\" height=\"400\" viewBox=\"0 0 2400 1600\">\n",
       "<defs>\n",
       "  <clipPath id=\"clip0300\">\n",
       "    <rect x=\"0\" y=\"0\" width=\"2400\" height=\"1600\"/>\n",
       "  </clipPath>\n",
       "</defs>\n",
       "<path clip-path=\"url(#clip0300)\" d=\"\n",
       "M0 1600 L2400 1600 L2400 0 L0 0  Z\n",
       "  \" fill=\"#ffffff\" fill-rule=\"evenodd\" fill-opacity=\"1\"/>\n",
       "<defs>\n",
       "  <clipPath id=\"clip0301\">\n",
       "    <rect x=\"480\" y=\"0\" width=\"1681\" height=\"1600\"/>\n",
       "  </clipPath>\n",
       "</defs>\n",
       "<path clip-path=\"url(#clip0300)\" d=\"\n",
       "M113.754 1487.47 L2352.76 1487.47 L2352.76 47.2441 L113.754 47.2441  Z\n",
       "  \" fill=\"#ffffff\" fill-rule=\"evenodd\" fill-opacity=\"1\"/>\n",
       "<defs>\n",
       "  <clipPath id=\"clip0302\">\n",
       "    <rect x=\"113\" y=\"47\" width=\"2240\" height=\"1441\"/>\n",
       "  </clipPath>\n",
       "</defs>\n",
       "<polyline clip-path=\"url(#clip0302)\" style=\"stroke:#000000; stroke-width:2; stroke-opacity:0.1; fill:none\" points=\"\n",
       "  177.122,1487.47 177.122,47.2441 \n",
       "  \"/>\n",
       "<polyline clip-path=\"url(#clip0302)\" style=\"stroke:#000000; stroke-width:2; stroke-opacity:0.1; fill:none\" points=\"\n",
       "  705.189,1487.47 705.189,47.2441 \n",
       "  \"/>\n",
       "<polyline clip-path=\"url(#clip0302)\" style=\"stroke:#000000; stroke-width:2; stroke-opacity:0.1; fill:none\" points=\"\n",
       "  1233.26,1487.47 1233.26,47.2441 \n",
       "  \"/>\n",
       "<polyline clip-path=\"url(#clip0302)\" style=\"stroke:#000000; stroke-width:2; stroke-opacity:0.1; fill:none\" points=\"\n",
       "  1761.32,1487.47 1761.32,47.2441 \n",
       "  \"/>\n",
       "<polyline clip-path=\"url(#clip0302)\" style=\"stroke:#000000; stroke-width:2; stroke-opacity:0.1; fill:none\" points=\"\n",
       "  2289.39,1487.47 2289.39,47.2441 \n",
       "  \"/>\n",
       "<polyline clip-path=\"url(#clip0302)\" style=\"stroke:#000000; stroke-width:2; stroke-opacity:0.1; fill:none\" points=\"\n",
       "  113.754,1392.25 2352.76,1392.25 \n",
       "  \"/>\n",
       "<polyline clip-path=\"url(#clip0302)\" style=\"stroke:#000000; stroke-width:2; stroke-opacity:0.1; fill:none\" points=\"\n",
       "  113.754,998.908 2352.76,998.908 \n",
       "  \"/>\n",
       "<polyline clip-path=\"url(#clip0302)\" style=\"stroke:#000000; stroke-width:2; stroke-opacity:0.1; fill:none\" points=\"\n",
       "  113.754,605.567 2352.76,605.567 \n",
       "  \"/>\n",
       "<polyline clip-path=\"url(#clip0302)\" style=\"stroke:#000000; stroke-width:2; stroke-opacity:0.1; fill:none\" points=\"\n",
       "  113.754,212.226 2352.76,212.226 \n",
       "  \"/>\n",
       "<polyline clip-path=\"url(#clip0300)\" style=\"stroke:#000000; stroke-width:4; stroke-opacity:1; fill:none\" points=\"\n",
       "  113.754,1487.47 2352.76,1487.47 \n",
       "  \"/>\n",
       "<polyline clip-path=\"url(#clip0300)\" style=\"stroke:#000000; stroke-width:4; stroke-opacity:1; fill:none\" points=\"\n",
       "  113.754,1487.47 113.754,47.2441 \n",
       "  \"/>\n",
       "<polyline clip-path=\"url(#clip0300)\" style=\"stroke:#000000; stroke-width:4; stroke-opacity:1; fill:none\" points=\"\n",
       "  177.122,1487.47 177.122,1470.19 \n",
       "  \"/>\n",
       "<polyline clip-path=\"url(#clip0300)\" style=\"stroke:#000000; stroke-width:4; stroke-opacity:1; fill:none\" points=\"\n",
       "  705.189,1487.47 705.189,1470.19 \n",
       "  \"/>\n",
       "<polyline clip-path=\"url(#clip0300)\" style=\"stroke:#000000; stroke-width:4; stroke-opacity:1; fill:none\" points=\"\n",
       "  1233.26,1487.47 1233.26,1470.19 \n",
       "  \"/>\n",
       "<polyline clip-path=\"url(#clip0300)\" style=\"stroke:#000000; stroke-width:4; stroke-opacity:1; fill:none\" points=\"\n",
       "  1761.32,1487.47 1761.32,1470.19 \n",
       "  \"/>\n",
       "<polyline clip-path=\"url(#clip0300)\" style=\"stroke:#000000; stroke-width:4; stroke-opacity:1; fill:none\" points=\"\n",
       "  2289.39,1487.47 2289.39,1470.19 \n",
       "  \"/>\n",
       "<polyline clip-path=\"url(#clip0300)\" style=\"stroke:#000000; stroke-width:4; stroke-opacity:1; fill:none\" points=\"\n",
       "  113.754,1392.25 140.622,1392.25 \n",
       "  \"/>\n",
       "<polyline clip-path=\"url(#clip0300)\" style=\"stroke:#000000; stroke-width:4; stroke-opacity:1; fill:none\" points=\"\n",
       "  113.754,998.908 140.622,998.908 \n",
       "  \"/>\n",
       "<polyline clip-path=\"url(#clip0300)\" style=\"stroke:#000000; stroke-width:4; stroke-opacity:1; fill:none\" points=\"\n",
       "  113.754,605.567 140.622,605.567 \n",
       "  \"/>\n",
       "<polyline clip-path=\"url(#clip0300)\" style=\"stroke:#000000; stroke-width:4; stroke-opacity:1; fill:none\" points=\"\n",
       "  113.754,212.226 140.622,212.226 \n",
       "  \"/>\n",
       "<g clip-path=\"url(#clip0300)\">\n",
       "<text style=\"fill:#000000; fill-opacity:1; font-family:Arial,Helvetica Neue,Helvetica,sans-serif; font-size:48px; text-anchor:middle;\" transform=\"rotate(0, 177.122, 1541.47)\" x=\"177.122\" y=\"1541.47\">0</text>\n",
       "</g>\n",
       "<g clip-path=\"url(#clip0300)\">\n",
       "<text style=\"fill:#000000; fill-opacity:1; font-family:Arial,Helvetica Neue,Helvetica,sans-serif; font-size:48px; text-anchor:middle;\" transform=\"rotate(0, 705.189, 1541.47)\" x=\"705.189\" y=\"1541.47\">1</text>\n",
       "</g>\n",
       "<g clip-path=\"url(#clip0300)\">\n",
       "<text style=\"fill:#000000; fill-opacity:1; font-family:Arial,Helvetica Neue,Helvetica,sans-serif; font-size:48px; text-anchor:middle;\" transform=\"rotate(0, 1233.26, 1541.47)\" x=\"1233.26\" y=\"1541.47\">2</text>\n",
       "</g>\n",
       "<g clip-path=\"url(#clip0300)\">\n",
       "<text style=\"fill:#000000; fill-opacity:1; font-family:Arial,Helvetica Neue,Helvetica,sans-serif; font-size:48px; text-anchor:middle;\" transform=\"rotate(0, 1761.32, 1541.47)\" x=\"1761.32\" y=\"1541.47\">3</text>\n",
       "</g>\n",
       "<g clip-path=\"url(#clip0300)\">\n",
       "<text style=\"fill:#000000; fill-opacity:1; font-family:Arial,Helvetica Neue,Helvetica,sans-serif; font-size:48px; text-anchor:middle;\" transform=\"rotate(0, 2289.39, 1541.47)\" x=\"2289.39\" y=\"1541.47\">4</text>\n",
       "</g>\n",
       "<g clip-path=\"url(#clip0300)\">\n",
       "<text style=\"fill:#000000; fill-opacity:1; font-family:Arial,Helvetica Neue,Helvetica,sans-serif; font-size:48px; text-anchor:end;\" transform=\"rotate(0, 89.7545, 1409.75)\" x=\"89.7545\" y=\"1409.75\">0</text>\n",
       "</g>\n",
       "<g clip-path=\"url(#clip0300)\">\n",
       "<text style=\"fill:#000000; fill-opacity:1; font-family:Arial,Helvetica Neue,Helvetica,sans-serif; font-size:48px; text-anchor:end;\" transform=\"rotate(0, 89.7545, 1016.41)\" x=\"89.7545\" y=\"1016.41\">1</text>\n",
       "</g>\n",
       "<g clip-path=\"url(#clip0300)\">\n",
       "<text style=\"fill:#000000; fill-opacity:1; font-family:Arial,Helvetica Neue,Helvetica,sans-serif; font-size:48px; text-anchor:end;\" transform=\"rotate(0, 89.7545, 623.067)\" x=\"89.7545\" y=\"623.067\">2</text>\n",
       "</g>\n",
       "<g clip-path=\"url(#clip0300)\">\n",
       "<text style=\"fill:#000000; fill-opacity:1; font-family:Arial,Helvetica Neue,Helvetica,sans-serif; font-size:48px; text-anchor:end;\" transform=\"rotate(0, 89.7545, 229.726)\" x=\"89.7545\" y=\"229.726\">3</text>\n",
       "</g>\n",
       "<polyline clip-path=\"url(#clip0302)\" style=\"stroke:#009af9; stroke-width:8; stroke-opacity:1; fill:none\" points=\"\n",
       "  177.122,1446.71 184.187,1279.04 191.251,1383.83 198.316,1359.7 205.38,1218.74 212.445,1339.38 219.509,1224.72 226.573,1312.21 233.638,1383.25 240.702,1292.9 \n",
       "  247.767,1386.71 254.831,1201.97 261.896,1365.81 268.96,1217.55 276.024,1208.54 283.089,1176.01 290.153,1202.43 297.218,1184.26 304.282,1137.29 311.347,1272.23 \n",
       "  318.411,1219.37 325.476,1141.14 332.54,1239.99 339.604,1123.93 346.669,1207.44 353.733,1104.64 360.798,1066.24 367.862,1179.86 374.927,1161.79 381.991,993.246 \n",
       "  389.055,1101.05 396.12,1075.26 403.184,1084.19 410.249,1048.69 417.313,1063.61 424.378,1016.37 431.442,992.384 438.506,1066.79 445.571,1081.67 452.635,1061.45 \n",
       "  459.7,1064.15 466.764,1075.56 473.829,914.158 480.893,956.347 487.957,1067.01 495.022,1114.75 502.086,1107.99 509.151,835.593 516.215,954.071 523.28,930.146 \n",
       "  530.344,1008 537.409,920.605 544.473,931.721 551.537,881.198 558.602,1006.98 565.666,977.62 572.731,1048.81 579.795,789.746 586.86,924.144 593.924,915.953 \n",
       "  600.988,1018.47 608.053,1003.56 615.117,1083.18 622.182,973.609 629.246,872.055 636.311,843.577 643.375,1027.64 650.439,1071.15 657.504,891.834 664.568,904.031 \n",
       "  671.633,1054.1 678.697,1022.16 685.762,990.9 692.826,1022.04 699.89,982.357 706.955,1007.97 714.019,997.348 721.084,1053.13 728.148,973.166 735.213,883.674 \n",
       "  742.277,967.271 749.342,950.556 756.406,1028.68 763.47,877.537 770.535,854.503 777.599,906.666 784.664,972.967 791.728,974.553 798.793,896.4 805.857,990.203 \n",
       "  812.921,1050.93 819.986,894.789 827.05,976.205 834.115,953.944 841.179,1000.41 848.244,897.4 855.308,1000.72 862.372,977.921 869.437,978.379 876.501,1001.68 \n",
       "  883.566,1111.72 890.63,1025.5 897.695,964.234 904.759,958.027 911.823,1007.56 918.888,1070.57 925.952,995.909 933.017,993.36 940.081,1055.5 947.146,1030.14 \n",
       "  954.21,867.705 961.275,838.548 968.339,995.594 975.403,1028.92 982.468,919.161 989.532,917.052 996.597,967.535 1003.66,980.192 1010.73,964.493 1017.79,1059.91 \n",
       "  1024.85,1003.22 1031.92,1046.1 1038.98,1039.4 1046.05,851.449 1053.11,1042.09 1060.18,1083.12 1067.24,1048.19 1074.31,1000.97 1081.37,977.077 1088.43,1062.09 \n",
       "  1095.5,974.422 1102.56,862.856 1109.63,1066.73 1116.69,921.359 1123.76,931.018 1130.82,925.981 1137.89,1037.66 1144.95,934.672 1152.01,1139.79 1159.08,895.346 \n",
       "  1166.14,989.725 1173.21,870.508 1180.27,886.263 1187.34,935.335 1194.4,895.302 1201.47,947.151 1208.53,958.457 1215.59,933.4 1222.66,912.046 1229.72,822.772 \n",
       "  1236.79,868.526 1243.85,809.829 1250.92,837.687 1257.98,898.756 1265.05,753.934 1272.11,886.522 1279.17,1014.65 1286.24,792.685 1293.3,803.585 1300.37,783.257 \n",
       "  1307.43,770.404 1314.5,816.356 1321.56,904.983 1328.63,693.78 1335.69,761.444 1342.75,803.836 1349.82,825.746 1356.88,721.885 1363.95,724.009 1371.01,798.046 \n",
       "  1378.08,706.997 1385.14,760.549 1392.2,697.558 1399.27,654.717 1406.33,735.022 1413.4,630.113 1420.46,650.5 1427.53,618.702 1434.59,716.611 1441.66,605.645 \n",
       "  1448.72,587.411 1455.78,757.473 1462.85,419.918 1469.91,596.485 1476.98,560.373 1484.04,435.305 1491.11,605.043 1498.17,617.756 1505.24,502.859 1512.3,504.702 \n",
       "  1519.36,546.992 1526.43,429.455 1533.49,306.121 1540.56,502.317 1547.62,336.817 1554.69,431.608 1561.75,385.477 1568.82,279.104 1575.88,337.443 1582.94,435.726 \n",
       "  1590.01,310.373 1597.07,268.393 1604.14,395.937 1611.2,340.974 1618.27,285.105 1625.33,336.429 1632.4,365.421 1639.46,196.516 1646.52,327.875 1653.59,314.308 \n",
       "  1660.65,304.187 1667.72,218.053 1674.78,252.363 1681.85,298.082 1688.91,118.065 1695.98,231.898 1703.04,173.737 1710.1,93.3046 1717.17,195.611 1724.23,107.262 \n",
       "  1731.3,157.341 1738.36,190.09 1745.43,124.847 1752.49,136.788 1759.56,310.895 1766.62,333.625 1773.68,250.765 1780.75,204.675 1787.81,129.401 1794.88,171.636 \n",
       "  1801.94,177.86 1809.01,110.806 1816.07,206.702 1823.14,187.811 1830.2,88.0053 1837.26,159.325 1844.33,347.417 1851.39,227.117 1858.46,94.5497 1865.52,130.143 \n",
       "  1872.59,167.581 1879.65,214.626 1886.72,201.572 1893.78,210.151 1900.84,295.446 1907.91,178.327 1914.97,95.122 1922.04,192.385 1929.1,358.473 1936.17,254.513 \n",
       "  1943.23,226.896 1950.3,251.402 1957.36,201.408 1964.42,297.209 1971.49,235.39 1978.55,101.418 1985.62,220.731 1992.68,284.302 1999.75,354.769 2006.81,250.793 \n",
       "  2013.88,351.805 2020.94,275.519 2028,277.019 2035.07,382.835 2042.13,343.246 2049.2,287.257 2056.26,378.873 2063.33,374.339 2070.39,291.293 2077.45,376.772 \n",
       "  2084.52,437.618 2091.58,444.584 2098.65,330.121 2105.71,508.465 2112.78,508.116 2119.84,405.206 2126.91,525.896 2133.97,580.952 2141.03,705.689 2148.1,527.825 \n",
       "  2155.16,598.988 2162.23,656.563 2169.29,641.04 2176.36,645.188 2183.42,596.233 2190.49,699.591 2197.55,747.546 2204.61,830.794 2211.68,729.58 2218.74,764.451 \n",
       "  2225.81,796.276 2232.87,911.462 2239.94,777.516 2247,689.47 2254.07,831.253 2261.13,948.052 2268.19,1024.02 2275.26,1003.17 2282.32,1008.64 2289.39,995.867 \n",
       "  \n",
       "  \"/>\n",
       "</svg>\n"
      ]
     },
     "execution_count": 29,
     "metadata": {},
     "output_type": "execute_result"
    }
   ],
   "source": [
    "η = randn(n); η = η/norm(η)\n",
    "b = x + 3*η;\n",
    "plot(t, b, leg=false, w=2)"
   ]
  },
  {
   "cell_type": "markdown",
   "metadata": {},
   "source": [
    "Create the finite difference matrix $D$:"
   ]
  },
  {
   "cell_type": "code",
   "execution_count": 44,
   "metadata": {},
   "outputs": [
    {
     "data": {
      "text/plain": [
       "4×4 Array{Float64,2}:\n",
       " 1.0  -1.0   0.0   0.0\n",
       " 0.0   1.0  -1.0   0.0\n",
       " 0.0   0.0   1.0  -1.0\n",
       " 0.0   0.0   0.0   1.0"
      ]
     },
     "execution_count": 44,
     "metadata": {},
     "output_type": "execute_result"
    }
   ],
   "source": [
    "finiteDiff(n) = diagm(ones(n)) - diagm(1 => ones(n-1))\n",
    "finiteDiff(4)"
   ]
  },
  {
   "cell_type": "code",
   "execution_count": 46,
   "metadata": {},
   "outputs": [],
   "source": [
    "D = finiteDiff(n);"
   ]
  },
  {
   "cell_type": "code",
   "execution_count": 41,
   "metadata": {},
   "outputs": [
    {
     "data": {
      "application/vnd.webio.node+json": {
       "children": [
        {
         "children": [
          {
           "children": [
            {
             "children": [
              {
               "children": [
                {
                 "children": [
                  "λ"
                 ],
                 "instanceArgs": {
                  "namespace": "html",
                  "tag": "label"
                 },
                 "nodeType": "DOM",
                 "props": {
                  "className": "interact ",
                  "style": {
                   "padding": "5px 10px 0px 10px"
                  }
                 },
                 "type": "node"
                }
               ],
               "instanceArgs": {
                "namespace": "html",
                "tag": "div"
               },
               "nodeType": "DOM",
               "props": {
                "className": "interact-flex-row-left"
               },
               "type": "node"
              },
              {
               "children": [
                {
                 "children": [],
                 "instanceArgs": {
                  "namespace": "html",
                  "tag": "input"
                 },
                 "nodeType": "DOM",
                 "props": {
                  "attributes": {
                   "data-bind": "numericValue: index, valueUpdate: 'input', event: {change: function (){this.changes(this.changes()+1)}}",
                   "orient": "horizontal",
                   "type": "range"
                  },
                  "className": "slider slider is-fullwidth",
                  "max": 251,
                  "min": 1,
                  "step": 1,
                  "style": {}
                 },
                 "type": "node"
                }
               ],
               "instanceArgs": {
                "namespace": "html",
                "tag": "div"
               },
               "nodeType": "DOM",
               "props": {
                "className": "interact-flex-row-center"
               },
               "type": "node"
              },
              {
               "children": [
                {
                 "children": [],
                 "instanceArgs": {
                  "namespace": "html",
                  "tag": "p"
                 },
                 "nodeType": "DOM",
                 "props": {
                  "attributes": {
                   "data-bind": "text: formatted_val"
                  }
                 },
                 "type": "node"
                }
               ],
               "instanceArgs": {
                "namespace": "html",
                "tag": "div"
               },
               "nodeType": "DOM",
               "props": {
                "className": "interact-flex-row-right"
               },
               "type": "node"
              }
             ],
             "instanceArgs": {
              "namespace": "html",
              "tag": "div"
             },
             "nodeType": "DOM",
             "props": {
              "className": "interact-flex-row interact-widget"
             },
             "type": "node"
            }
           ],
           "instanceArgs": {
            "handlers": {
             "changes": [
              "(function (val){return (val!=this.model[\"changes\"]()) ? (this.valueFromJulia[\"changes\"]=true, this.model[\"changes\"](val)) : undefined})"
             ],
             "index": [
              "(function (val){return (val!=this.model[\"index\"]()) ? (this.valueFromJulia[\"index\"]=true, this.model[\"index\"](val)) : undefined})"
             ]
            },
            "id": "3927851249523368984",
            "imports": {
             "data": [
              {
               "name": "knockout",
               "type": "js",
               "url": "/assetserver/3f712825d914ad7ceb56bfee8c26f86f12ffa94d-knockout.js"
              },
              {
               "name": "knockout_punches",
               "type": "js",
               "url": "/assetserver/bb1b62fcbdf49c4be6ac0dad8b532b184373033e-knockout_punches.js"
              },
              {
               "name": null,
               "type": "js",
               "url": "/assetserver/19913531c8d53c38ae69c309e5652251bd73068b-all.js"
              },
              {
               "name": null,
               "type": "css",
               "url": "/assetserver/ebf4f6e27037f283781868b78a232c87484e6315-style.css"
              },
              {
               "name": null,
               "type": "css",
               "url": "/assetserver/f57d299ee23910e5dba49c495adcf216c311802c-bulma_confined.min.css"
              }
             ],
             "type": "async_block"
            },
            "mount_callbacks": [
             "function () {\n    var handler = (function (ko, koPunches) {\n    ko.punches.enableAll();\n    ko.bindingHandlers.numericValue = {\n        init: function(element, valueAccessor, allBindings, data, context) {\n            var stringified = ko.observable(ko.unwrap(valueAccessor()));\n            stringified.subscribe(function(value) {\n                var val = parseFloat(value);\n                if (!isNaN(val)) {\n                    valueAccessor()(val);\n                }\n            });\n            valueAccessor().subscribe(function(value) {\n                var str = JSON.stringify(value);\n                if ((str == \"0\") && ([\"-0\", \"-0.\"].indexOf(stringified()) >= 0))\n                     return;\n                 if ([\"null\", \"\"].indexOf(str) >= 0)\n                     return;\n                stringified(str);\n            });\n            ko.applyBindingsToNode(\n                element,\n                {\n                    value: stringified,\n                    valueUpdate: allBindings.get('valueUpdate'),\n                },\n                context,\n            );\n        }\n    };\n    var json_data = {\"formatted_vals\":[\"0\",\"1\",\"2\",\"3\",\"4\",\"5\",\"6\",\"7\",\"8\",\"9\",\"10\",\"11\",\"12\",\"13\",\"14\",\"15\",\"16\",\"17\",\"18\",\"19\",\"20\",\"21\",\"22\",\"23\",\"24\",\"25\",\"26\",\"27\",\"28\",\"29\",\"30\",\"31\",\"32\",\"33\",\"34\",\"35\",\"36\",\"37\",\"38\",\"39\",\"40\",\"41\",\"42\",\"43\",\"44\",\"45\",\"46\",\"47\",\"48\",\"49\",\"50\",\"51\",\"52\",\"53\",\"54\",\"55\",\"56\",\"57\",\"58\",\"59\",\"60\",\"61\",\"62\",\"63\",\"64\",\"65\",\"66\",\"67\",\"68\",\"69\",\"70\",\"71\",\"72\",\"73\",\"74\",\"75\",\"76\",\"77\",\"78\",\"79\",\"80\",\"81\",\"82\",\"83\",\"84\",\"85\",\"86\",\"87\",\"88\",\"89\",\"90\",\"91\",\"92\",\"93\",\"94\",\"95\",\"96\",\"97\",\"98\",\"99\",\"100\",\"101\",\"102\",\"103\",\"104\",\"105\",\"106\",\"107\",\"108\",\"109\",\"110\",\"111\",\"112\",\"113\",\"114\",\"115\",\"116\",\"117\",\"118\",\"119\",\"120\",\"121\",\"122\",\"123\",\"124\",\"125\",\"126\",\"127\",\"128\",\"129\",\"130\",\"131\",\"132\",\"133\",\"134\",\"135\",\"136\",\"137\",\"138\",\"139\",\"140\",\"141\",\"142\",\"143\",\"144\",\"145\",\"146\",\"147\",\"148\",\"149\",\"150\",\"151\",\"152\",\"153\",\"154\",\"155\",\"156\",\"157\",\"158\",\"159\",\"160\",\"161\",\"162\",\"163\",\"164\",\"165\",\"166\",\"167\",\"168\",\"169\",\"170\",\"171\",\"172\",\"173\",\"174\",\"175\",\"176\",\"177\",\"178\",\"179\",\"180\",\"181\",\"182\",\"183\",\"184\",\"185\",\"186\",\"187\",\"188\",\"189\",\"190\",\"191\",\"192\",\"193\",\"194\",\"195\",\"196\",\"197\",\"198\",\"199\",\"200\",\"201\",\"202\",\"203\",\"204\",\"205\",\"206\",\"207\",\"208\",\"209\",\"210\",\"211\",\"212\",\"213\",\"214\",\"215\",\"216\",\"217\",\"218\",\"219\",\"220\",\"221\",\"222\",\"223\",\"224\",\"225\",\"226\",\"227\",\"228\",\"229\",\"230\",\"231\",\"232\",\"233\",\"234\",\"235\",\"236\",\"237\",\"238\",\"239\",\"240\",\"241\",\"242\",\"243\",\"244\",\"245\",\"246\",\"247\",\"248\",\"249\",\"250\"],\"changes\":WebIO.getval({\"name\":\"changes\",\"scope\":\"3927851249523368984\",\"id\":\"ob_111\",\"type\":\"observable\"}),\"index\":WebIO.getval({\"name\":\"index\",\"scope\":\"3927851249523368984\",\"id\":\"ob_110\",\"type\":\"observable\"})};\n    var self = this;\n    function AppViewModel() {\n        for (var key in json_data) {\n            var el = json_data[key];\n            this[key] = Array.isArray(el) ? ko.observableArray(el) : ko.observable(el);\n        }\n        \n        [this[\"formatted_val\"]=ko.computed(    function(){\n        return this.formatted_vals()[parseInt(this.index())-(1)];\n    }\n,this)]\n        [this[\"changes\"].subscribe((function (val){!(this.valueFromJulia[\"changes\"]) ? (WebIO.setval({\"name\":\"changes\",\"scope\":\"3927851249523368984\",\"id\":\"ob_111\",\"type\":\"observable\"},val)) : undefined; return this.valueFromJulia[\"changes\"]=false}),self),this[\"index\"].subscribe((function (val){!(this.valueFromJulia[\"index\"]) ? (WebIO.setval({\"name\":\"index\",\"scope\":\"3927851249523368984\",\"id\":\"ob_110\",\"type\":\"observable\"},val)) : undefined; return this.valueFromJulia[\"index\"]=false}),self)]\n        \n    }\n    self.model = new AppViewModel();\n    self.valueFromJulia = {};\n    for (var key in json_data) {\n        self.valueFromJulia[key] = false;\n    }\n    ko.applyBindings(self.model, self.dom);\n}\n);\n    (WebIO.importBlock({\"data\":[{\"name\":\"knockout\",\"type\":\"js\",\"url\":\"/assetserver/3f712825d914ad7ceb56bfee8c26f86f12ffa94d-knockout.js\"},{\"name\":\"knockout_punches\",\"type\":\"js\",\"url\":\"/assetserver/bb1b62fcbdf49c4be6ac0dad8b532b184373033e-knockout_punches.js\"}],\"type\":\"async_block\"})).then((imports) => handler.apply(this, imports));\n}\n"
            ],
            "observables": {
             "changes": {
              "id": "ob_111",
              "sync": false,
              "value": 0
             },
             "index": {
              "id": "ob_110",
              "sync": true,
              "value": 126
             }
            },
            "systemjs_options": null
           },
           "nodeType": "Scope",
           "props": {},
           "type": "node"
          }
         ],
         "instanceArgs": {
          "namespace": "html",
          "tag": "div"
         },
         "nodeType": "DOM",
         "props": {
          "className": "field interact-widget"
         },
         "type": "node"
        },
        {
         "children": [
          {
           "children": [],
           "instanceArgs": {
            "id": "ob_117",
            "name": "obs-node"
           },
           "nodeType": "ObservableNode",
           "props": {},
           "type": "node"
          }
         ],
         "instanceArgs": {
          "handlers": {},
          "id": "12779669681110432928",
          "imports": {
           "data": [],
           "type": "async_block"
          },
          "mount_callbacks": [],
          "observables": {
           "obs-node": {
            "id": "ob_117",
            "sync": false,
            "value": {
             "children": [
              {
               "children": [],
               "instanceArgs": {
                "namespace": "html",
                "tag": "div"
               },
               "nodeType": "DOM",
               "props": {
                "setInnerHtml": "<?xml version=\"1.0\" encoding=\"utf-8\"?>\n<svg xmlns=\"http://www.w3.org/2000/svg\" xmlns:xlink=\"http://www.w3.org/1999/xlink\" width=\"600\" height=\"400\" viewBox=\"0 0 2400 1600\">\n<defs>\n  <clipPath id=\"clip0600\">\n    <rect x=\"0\" y=\"0\" width=\"2400\" height=\"1600\"/>\n  </clipPath>\n</defs>\n<path clip-path=\"url(#clip0600)\" d=\"\nM0 1600 L2400 1600 L2400 0 L0 0  Z\n  \" fill=\"#ffffff\" fill-rule=\"evenodd\" fill-opacity=\"1\"/>\n<defs>\n  <clipPath id=\"clip0601\">\n    <rect x=\"480\" y=\"0\" width=\"1681\" height=\"1600\"/>\n  </clipPath>\n</defs>\n<path clip-path=\"url(#clip0600)\" d=\"\nM113.754 1487.47 L2352.76 1487.47 L2352.76 47.2441 L113.754 47.2441  Z\n  \" fill=\"#ffffff\" fill-rule=\"evenodd\" fill-opacity=\"1\"/>\n<defs>\n  <clipPath id=\"clip0602\">\n    <rect x=\"113\" y=\"47\" width=\"2240\" height=\"1441\"/>\n  </clipPath>\n</defs>\n<polyline clip-path=\"url(#clip0602)\" style=\"stroke:#000000; stroke-width:2; stroke-opacity:0.1; fill:none\" points=\"\n  177.122,1487.47 177.122,47.2441 \n  \"/>\n<polyline clip-path=\"url(#clip0602)\" style=\"stroke:#000000; stroke-width:2; stroke-opacity:0.1; fill:none\" points=\"\n  705.189,1487.47 705.189,47.2441 \n  \"/>\n<polyline clip-path=\"url(#clip0602)\" style=\"stroke:#000000; stroke-width:2; stroke-opacity:0.1; fill:none\" points=\"\n  1233.26,1487.47 1233.26,47.2441 \n  \"/>\n<polyline clip-path=\"url(#clip0602)\" style=\"stroke:#000000; stroke-width:2; stroke-opacity:0.1; fill:none\" points=\"\n  1761.32,1487.47 1761.32,47.2441 \n  \"/>\n<polyline clip-path=\"url(#clip0602)\" style=\"stroke:#000000; stroke-width:2; stroke-opacity:0.1; fill:none\" points=\"\n  2289.39,1487.47 2289.39,47.2441 \n  \"/>\n<polyline clip-path=\"url(#clip0602)\" style=\"stroke:#000000; stroke-width:2; stroke-opacity:0.1; fill:none\" points=\"\n  113.754,1392.25 2352.76,1392.25 \n  \"/>\n<polyline clip-path=\"url(#clip0602)\" style=\"stroke:#000000; stroke-width:2; stroke-opacity:0.1; fill:none\" points=\"\n  113.754,998.908 2352.76,998.908 \n  \"/>\n<polyline clip-path=\"url(#clip0602)\" style=\"stroke:#000000; stroke-width:2; stroke-opacity:0.1; fill:none\" points=\"\n  113.754,605.567 2352.76,605.567 \n  \"/>\n<polyline clip-path=\"url(#clip0602)\" style=\"stroke:#000000; stroke-width:2; stroke-opacity:0.1; fill:none\" points=\"\n  113.754,212.226 2352.76,212.226 \n  \"/>\n<polyline clip-path=\"url(#clip0600)\" style=\"stroke:#000000; stroke-width:4; stroke-opacity:1; fill:none\" points=\"\n  113.754,1487.47 2352.76,1487.47 \n  \"/>\n<polyline clip-path=\"url(#clip0600)\" style=\"stroke:#000000; stroke-width:4; stroke-opacity:1; fill:none\" points=\"\n  113.754,1487.47 113.754,47.2441 \n  \"/>\n<polyline clip-path=\"url(#clip0600)\" style=\"stroke:#000000; stroke-width:4; stroke-opacity:1; fill:none\" points=\"\n  177.122,1487.47 177.122,1470.19 \n  \"/>\n<polyline clip-path=\"url(#clip0600)\" style=\"stroke:#000000; stroke-width:4; stroke-opacity:1; fill:none\" points=\"\n  705.189,1487.47 705.189,1470.19 \n  \"/>\n<polyline clip-path=\"url(#clip0600)\" style=\"stroke:#000000; stroke-width:4; stroke-opacity:1; fill:none\" points=\"\n  1233.26,1487.47 1233.26,1470.19 \n  \"/>\n<polyline clip-path=\"url(#clip0600)\" style=\"stroke:#000000; stroke-width:4; stroke-opacity:1; fill:none\" points=\"\n  1761.32,1487.47 1761.32,1470.19 \n  \"/>\n<polyline clip-path=\"url(#clip0600)\" style=\"stroke:#000000; stroke-width:4; stroke-opacity:1; fill:none\" points=\"\n  2289.39,1487.47 2289.39,1470.19 \n  \"/>\n<polyline clip-path=\"url(#clip0600)\" style=\"stroke:#000000; stroke-width:4; stroke-opacity:1; fill:none\" points=\"\n  113.754,1392.25 140.622,1392.25 \n  \"/>\n<polyline clip-path=\"url(#clip0600)\" style=\"stroke:#000000; stroke-width:4; stroke-opacity:1; fill:none\" points=\"\n  113.754,998.908 140.622,998.908 \n  \"/>\n<polyline clip-path=\"url(#clip0600)\" style=\"stroke:#000000; stroke-width:4; stroke-opacity:1; fill:none\" points=\"\n  113.754,605.567 140.622,605.567 \n  \"/>\n<polyline clip-path=\"url(#clip0600)\" style=\"stroke:#000000; stroke-width:4; stroke-opacity:1; fill:none\" points=\"\n  113.754,212.226 140.622,212.226 \n  \"/>\n<g clip-path=\"url(#clip0600)\">\n<text style=\"fill:#000000; fill-opacity:1; font-family:Arial,Helvetica Neue,Helvetica,sans-serif; font-size:48px; text-anchor:middle;\" transform=\"rotate(0, 177.122, 1541.47)\" x=\"177.122\" y=\"1541.47\">0</text>\n</g>\n<g clip-path=\"url(#clip0600)\">\n<text style=\"fill:#000000; fill-opacity:1; font-family:Arial,Helvetica Neue,Helvetica,sans-serif; font-size:48px; text-anchor:middle;\" transform=\"rotate(0, 705.189, 1541.47)\" x=\"705.189\" y=\"1541.47\">1</text>\n</g>\n<g clip-path=\"url(#clip0600)\">\n<text style=\"fill:#000000; fill-opacity:1; font-family:Arial,Helvetica Neue,Helvetica,sans-serif; font-size:48px; text-anchor:middle;\" transform=\"rotate(0, 1233.26, 1541.47)\" x=\"1233.26\" y=\"1541.47\">2</text>\n</g>\n<g clip-path=\"url(#clip0600)\">\n<text style=\"fill:#000000; fill-opacity:1; font-family:Arial,Helvetica Neue,Helvetica,sans-serif; font-size:48px; text-anchor:middle;\" transform=\"rotate(0, 1761.32, 1541.47)\" x=\"1761.32\" y=\"1541.47\">3</text>\n</g>\n<g clip-path=\"url(#clip0600)\">\n<text style=\"fill:#000000; fill-opacity:1; font-family:Arial,Helvetica Neue,Helvetica,sans-serif; font-size:48px; text-anchor:middle;\" transform=\"rotate(0, 2289.39, 1541.47)\" x=\"2289.39\" y=\"1541.47\">4</text>\n</g>\n<g clip-path=\"url(#clip0600)\">\n<text style=\"fill:#000000; fill-opacity:1; font-family:Arial,Helvetica Neue,Helvetica,sans-serif; font-size:48px; text-anchor:end;\" transform=\"rotate(0, 89.7545, 1409.75)\" x=\"89.7545\" y=\"1409.75\">0</text>\n</g>\n<g clip-path=\"url(#clip0600)\">\n<text style=\"fill:#000000; fill-opacity:1; font-family:Arial,Helvetica Neue,Helvetica,sans-serif; font-size:48px; text-anchor:end;\" transform=\"rotate(0, 89.7545, 1016.41)\" x=\"89.7545\" y=\"1016.41\">1</text>\n</g>\n<g clip-path=\"url(#clip0600)\">\n<text style=\"fill:#000000; fill-opacity:1; font-family:Arial,Helvetica Neue,Helvetica,sans-serif; font-size:48px; text-anchor:end;\" transform=\"rotate(0, 89.7545, 623.067)\" x=\"89.7545\" y=\"623.067\">2</text>\n</g>\n<g clip-path=\"url(#clip0600)\">\n<text style=\"fill:#000000; fill-opacity:1; font-family:Arial,Helvetica Neue,Helvetica,sans-serif; font-size:48px; text-anchor:end;\" transform=\"rotate(0, 89.7545, 229.726)\" x=\"89.7545\" y=\"229.726\">3</text>\n</g>\n<polyline clip-path=\"url(#clip0602)\" style=\"stroke:#009af9; stroke-width:8; stroke-opacity:1; fill:none\" points=\"\n  177.122,1446.71 184.187,1279.04 191.251,1383.83 198.316,1359.7 205.38,1218.74 212.445,1339.38 219.509,1224.72 226.573,1312.21 233.638,1383.25 240.702,1292.9 \n  247.767,1386.71 254.831,1201.97 261.896,1365.81 268.96,1217.55 276.024,1208.54 283.089,1176.01 290.153,1202.43 297.218,1184.26 304.282,1137.29 311.347,1272.23 \n  318.411,1219.37 325.476,1141.14 332.54,1239.99 339.604,1123.93 346.669,1207.44 353.733,1104.64 360.798,1066.24 367.862,1179.86 374.927,1161.79 381.991,993.246 \n  389.055,1101.05 396.12,1075.26 403.184,1084.19 410.249,1048.69 417.313,1063.61 424.378,1016.37 431.442,992.384 438.506,1066.79 445.571,1081.67 452.635,1061.45 \n  459.7,1064.15 466.764,1075.56 473.829,914.158 480.893,956.347 487.957,1067.01 495.022,1114.75 502.086,1107.99 509.151,835.593 516.215,954.071 523.28,930.146 \n  530.344,1008 537.409,920.605 544.473,931.721 551.537,881.198 558.602,1006.98 565.666,977.62 572.731,1048.81 579.795,789.746 586.86,924.144 593.924,915.953 \n  600.988,1018.47 608.053,1003.56 615.117,1083.18 622.182,973.609 629.246,872.055 636.311,843.577 643.375,1027.64 650.439,1071.15 657.504,891.834 664.568,904.031 \n  671.633,1054.1 678.697,1022.16 685.762,990.9 692.826,1022.04 699.89,982.357 706.955,1007.97 714.019,997.348 721.084,1053.13 728.148,973.166 735.213,883.674 \n  742.277,967.271 749.342,950.556 756.406,1028.68 763.47,877.537 770.535,854.503 777.599,906.666 784.664,972.967 791.728,974.553 798.793,896.4 805.857,990.203 \n  812.921,1050.93 819.986,894.789 827.05,976.205 834.115,953.944 841.179,1000.41 848.244,897.4 855.308,1000.72 862.372,977.921 869.437,978.379 876.501,1001.68 \n  883.566,1111.72 890.63,1025.5 897.695,964.234 904.759,958.027 911.823,1007.56 918.888,1070.57 925.952,995.909 933.017,993.36 940.081,1055.5 947.146,1030.14 \n  954.21,867.705 961.275,838.548 968.339,995.594 975.403,1028.92 982.468,919.161 989.532,917.052 996.597,967.535 1003.66,980.192 1010.73,964.493 1017.79,1059.91 \n  1024.85,1003.22 1031.92,1046.1 1038.98,1039.4 1046.05,851.449 1053.11,1042.09 1060.18,1083.12 1067.24,1048.19 1074.31,1000.97 1081.37,977.077 1088.43,1062.09 \n  1095.5,974.422 1102.56,862.856 1109.63,1066.73 1116.69,921.359 1123.76,931.018 1130.82,925.981 1137.89,1037.66 1144.95,934.672 1152.01,1139.79 1159.08,895.346 \n  1166.14,989.725 1173.21,870.508 1180.27,886.263 1187.34,935.335 1194.4,895.302 1201.47,947.151 1208.53,958.457 1215.59,933.4 1222.66,912.046 1229.72,822.772 \n  1236.79,868.526 1243.85,809.829 1250.92,837.687 1257.98,898.756 1265.05,753.934 1272.11,886.522 1279.17,1014.65 1286.24,792.685 1293.3,803.585 1300.37,783.257 \n  1307.43,770.404 1314.5,816.356 1321.56,904.983 1328.63,693.78 1335.69,761.444 1342.75,803.836 1349.82,825.746 1356.88,721.885 1363.95,724.009 1371.01,798.046 \n  1378.08,706.997 1385.14,760.549 1392.2,697.558 1399.27,654.717 1406.33,735.022 1413.4,630.113 1420.46,650.5 1427.53,618.702 1434.59,716.611 1441.66,605.645 \n  1448.72,587.411 1455.78,757.473 1462.85,419.918 1469.91,596.485 1476.98,560.373 1484.04,435.305 1491.11,605.043 1498.17,617.756 1505.24,502.859 1512.3,504.702 \n  1519.36,546.992 1526.43,429.455 1533.49,306.121 1540.56,502.317 1547.62,336.817 1554.69,431.608 1561.75,385.477 1568.82,279.104 1575.88,337.443 1582.94,435.726 \n  1590.01,310.373 1597.07,268.393 1604.14,395.937 1611.2,340.974 1618.27,285.105 1625.33,336.429 1632.4,365.421 1639.46,196.516 1646.52,327.875 1653.59,314.308 \n  1660.65,304.187 1667.72,218.053 1674.78,252.363 1681.85,298.082 1688.91,118.065 1695.98,231.898 1703.04,173.737 1710.1,93.3046 1717.17,195.611 1724.23,107.262 \n  1731.3,157.341 1738.36,190.09 1745.43,124.847 1752.49,136.788 1759.56,310.895 1766.62,333.625 1773.68,250.765 1780.75,204.675 1787.81,129.401 1794.88,171.636 \n  1801.94,177.86 1809.01,110.806 1816.07,206.702 1823.14,187.811 1830.2,88.0053 1837.26,159.325 1844.33,347.417 1851.39,227.117 1858.46,94.5497 1865.52,130.143 \n  1872.59,167.581 1879.65,214.626 1886.72,201.572 1893.78,210.151 1900.84,295.446 1907.91,178.327 1914.97,95.122 1922.04,192.385 1929.1,358.473 1936.17,254.513 \n  1943.23,226.896 1950.3,251.402 1957.36,201.408 1964.42,297.209 1971.49,235.39 1978.55,101.418 1985.62,220.731 1992.68,284.302 1999.75,354.769 2006.81,250.793 \n  2013.88,351.805 2020.94,275.519 2028,277.019 2035.07,382.835 2042.13,343.246 2049.2,287.257 2056.26,378.873 2063.33,374.339 2070.39,291.293 2077.45,376.772 \n  2084.52,437.618 2091.58,444.584 2098.65,330.121 2105.71,508.465 2112.78,508.116 2119.84,405.206 2126.91,525.896 2133.97,580.952 2141.03,705.689 2148.1,527.825 \n  2155.16,598.988 2162.23,656.563 2169.29,641.04 2176.36,645.188 2183.42,596.233 2190.49,699.591 2197.55,747.546 2204.61,830.794 2211.68,729.58 2218.74,764.451 \n  2225.81,796.276 2232.87,911.462 2239.94,777.516 2247,689.47 2254.07,831.253 2261.13,948.052 2268.19,1024.02 2275.26,1003.17 2282.32,1008.64 2289.39,995.867 \n  \n  \"/>\n<polyline clip-path=\"url(#clip0602)\" style=\"stroke:#e26f46; stroke-width:8; stroke-opacity:1; fill:none\" points=\"\n  177.122,1272.65 184.187,1271.26 191.251,1269.8 198.316,1267.43 205.38,1264.33 212.445,1261.59 219.509,1258.23 226.573,1255.13 233.638,1251.58 240.702,1246.98 \n  247.767,1242 254.831,1235.87 261.896,1230.02 268.96,1223.07 276.024,1216.17 283.089,1209.33 290.153,1202.76 297.218,1196.19 304.282,1189.71 311.347,1183.66 \n  318.411,1176.89 325.476,1169.79 332.54,1162.91 339.604,1155.42 346.669,1148.18 353.733,1140.47 360.798,1133.04 367.862,1126.15 374.927,1118.83 381.991,1111.16 \n  389.055,1104.44 396.12,1097.74 403.184,1091.23 410.249,1084.77 417.313,1078.6 424.378,1072.55 431.442,1066.95 438.506,1061.94 445.571,1056.9 452.635,1051.65 \n  459.7,1046.33 466.764,1040.87 473.829,1035.13 480.893,1030.36 487.957,1026.18 495.022,1021.67 502.086,1016.42 509.151,1010.44 516.215,1005.85 523.28,1001.68 \n  530.344,998.081 537.409,994.402 544.473,991.314 551.537,988.703 558.602,986.952 565.666,985.041 572.731,983.189 579.795,980.812 586.86,979.963 593.924,979.561 \n  600.988,979.668 608.053,979.465 615.117,979.069 622.182,977.839 629.246,976.644 636.311,976.286 643.375,976.989 650.439,977.287 657.504,976.834 664.568,977.061 \n  671.633,977.872 678.697,978.073 685.762,977.922 692.826,977.667 699.89,977.057 706.955,976.405 714.019,975.5 721.084,974.42 728.148,972.71 735.213,970.997 \n  742.277,969.983 749.342,968.99 756.406,968.144 763.47,966.815 770.535,966.199 777.599,966.478 784.664,967.234 791.728,967.945 798.793,968.603 805.857,969.839 \n  812.921,970.911 819.986,971.344 827.05,972.389 834.115,973.403 841.179,974.573 848.244,975.536 855.308,977.125 862.372,978.525 869.437,979.929 876.501,981.346 \n  883.566,982.6 890.63,982.822 897.695,982.701 904.759,982.729 911.823,982.954 918.888,982.983 925.952,982.31 933.017,981.529 940.081,980.653 947.146,979.179 \n  954.21,977.296 961.275,976.291 968.339,976.387 975.403,976.33 982.468,975.852 989.532,975.828 996.597,976.273 1003.66,976.789 1010.73,977.278 1017.79,977.868 \n  1024.85,977.803 1031.92,977.534 1038.98,976.716 1046.05,975.397 1053.11,975.07 1060.18,974.206 1067.24,972.472 1074.31,970.131 1081.37,967.544 1088.43,964.88 \n  1095.5,961.439 1102.56,957.894 1109.63,955.109 1116.69,951.431 1123.76,947.994 1130.82,944.693 1137.89,941.541 1144.95,937.62 1152.01,933.723 1159.08,928.178 \n  1166.14,922.895 1173.21,917.077 1180.27,911.632 1187.34,906.39 1194.4,900.917 1201.47,895.488 1208.53,889.646 1215.59,883.254 1222.66,876.46 1229.72,869.382 \n  1236.79,862.676 1243.85,855.924 1250.92,849.541 1257.98,843.252 1265.05,836.519 1272.11,830.448 1279.17,823.927 1286.24,815.881 1293.3,808.02 1300.37,800.194 \n  1307.43,792.505 1314.5,784.992 1321.56,777.228 1328.63,768.442 1335.69,760.253 1342.75,752.055 1349.82,743.442 1356.88,734.171 1363.95,724.999 1371.01,715.834 \n  1378.08,706.012 1385.14,696.182 1392.2,685.836 1399.27,675.397 1406.33,665.124 1413.4,654.291 1420.46,643.652 1427.53,632.958 1434.59,622.378 1441.66,611.044 \n  1448.72,599.753 1455.78,588.562 1462.85,576.018 1469.91,564.724 1476.98,553.175 1484.04,541.569 1491.11,530.813 1498.17,519.463 1505.24,507.327 1512.3,495.227 \n  1519.36,483.051 1526.43,470.363 1533.49,458.002 1540.56,446.857 1547.62,435.268 1554.69,424.466 1561.75,413.608 1568.82,402.974 1575.88,393.332 1582.94,384.136 \n  1590.01,374.528 1597.07,365.433 1604.14,357.114 1611.2,348.485 1618.27,339.916 1625.33,331.785 1632.4,323.617 1639.46,315.115 1646.52,307.562 1653.59,299.846 \n  1660.65,292.014 1667.72,284.085 1674.78,276.684 1681.85,269.478 1688.91,262.043 1695.98,255.76 1703.04,249.667 1710.1,244.183 1717.17,239.905 1724.23,235.981 \n  1731.3,233.087 1738.36,230.8 1745.43,228.837 1752.49,227.707 1759.56,227.304 1766.62,226.233 1773.68,224.302 1780.75,222.16 1787.81,220.157 1794.88,218.881 \n  1801.94,217.982 1809.01,217.405 1816.07,217.68 1823.14,218.043 1830.2,218.648 1837.26,220.298 1844.33,222.436 1851.39,223.574 1858.46,224.684 1865.52,226.834 \n  1872.59,229.759 1879.65,233.18 1886.72,236.751 1893.78,240.602 1900.84,244.697 1907.91,248.386 1914.97,252.636 1922.04,258.146 1929.1,264.182 1936.17,269.463 \n  1943.23,274.864 1950.3,280.649 1957.36,286.668 1964.42,293.369 1971.49,300.039 1978.55,307.227 1985.62,316.061 1992.68,325.657 1999.75,335.584 2006.81,345.358 \n  2013.88,355.889 2020.94,366.452 2028,377.742 2035.07,389.839 2042.13,401.991 2049.2,414.613 2056.26,428.254 2063.33,442.291 2070.39,456.87 2077.45,472.775 \n  2084.52,489.447 2091.58,506.534 2098.65,524.117 2105.71,543.252 2112.78,562.665 2119.84,582.514 2126.91,603.782 2133.97,625.673 2141.03,647.922 2148.1,669.708 \n  2155.16,692.63 2162.23,716.3 2169.29,740.449 2176.36,765.393 2183.42,791.299 2190.49,818.765 2197.55,847.184 2204.61,876.401 2211.68,905.982 2218.74,936.975 \n  2225.81,969.348 2232.87,1003.1 2239.94,1037.6 2247,1074.17 2254.07,1113.82 2261.13,1155.72 2268.19,1199.3 2275.26,1244.27 2282.32,1291.17 2289.39,1340.33 \n  \n  \"/>\n</svg>\n"
               },
               "type": "node"
              }
             ],
             "instanceArgs": {
              "namespace": "html",
              "tag": "div"
             },
             "nodeType": "DOM",
             "props": {
              "className": "interact-flex-row interact-widget"
             },
             "type": "node"
            }
           }
          },
          "systemjs_options": null
         },
         "nodeType": "Scope",
         "props": {},
         "type": "node"
        }
       ],
       "instanceArgs": {
        "namespace": "html",
        "tag": "div"
       },
       "nodeType": "DOM",
       "props": {},
       "type": "node"
      },
      "text/html": [
       "<div\n",
       "    class=\"webio-mountpoint\"\n",
       "    data-webio-mountpoint=\"17626341917779218644\"\n",
       ">\n",
       "    <script>\n",
       "    if (window.require && require.defined && require.defined(\"nbextensions/webio-jupyter-notebook\")) {\n",
       "        console.log(\"Jupyter WebIO extension detected, not mounting.\");\n",
       "    } else if (window.WebIO) {\n",
       "        WebIO.mount(\n",
       "            document.querySelector('[data-webio-mountpoint=\"17626341917779218644\"]'),\n",
       "            {\"props\":{},\"nodeType\":\"DOM\",\"type\":\"node\",\"instanceArgs\":{\"namespace\":\"html\",\"tag\":\"div\"},\"children\":[{\"props\":{\"className\":\"field interact-widget\"},\"nodeType\":\"DOM\",\"type\":\"node\",\"instanceArgs\":{\"namespace\":\"html\",\"tag\":\"div\"},\"children\":[{\"props\":{},\"nodeType\":\"Scope\",\"type\":\"node\",\"instanceArgs\":{\"imports\":{\"data\":[{\"name\":\"knockout\",\"type\":\"js\",\"url\":\"\\/assetserver\\/3f712825d914ad7ceb56bfee8c26f86f12ffa94d-knockout.js\"},{\"name\":\"knockout_punches\",\"type\":\"js\",\"url\":\"\\/assetserver\\/bb1b62fcbdf49c4be6ac0dad8b532b184373033e-knockout_punches.js\"},{\"name\":null,\"type\":\"js\",\"url\":\"\\/assetserver\\/19913531c8d53c38ae69c309e5652251bd73068b-all.js\"},{\"name\":null,\"type\":\"css\",\"url\":\"\\/assetserver\\/ebf4f6e27037f283781868b78a232c87484e6315-style.css\"},{\"name\":null,\"type\":\"css\",\"url\":\"\\/assetserver\\/f57d299ee23910e5dba49c495adcf216c311802c-bulma_confined.min.css\"}],\"type\":\"async_block\"},\"id\":\"3927851249523368984\",\"handlers\":{\"changes\":[\"(function (val){return (val!=this.model[\\\"changes\\\"]()) ? (this.valueFromJulia[\\\"changes\\\"]=true, this.model[\\\"changes\\\"](val)) : undefined})\"],\"index\":[\"(function (val){return (val!=this.model[\\\"index\\\"]()) ? (this.valueFromJulia[\\\"index\\\"]=true, this.model[\\\"index\\\"](val)) : undefined})\"]},\"systemjs_options\":null,\"mount_callbacks\":[\"function () {\\n    var handler = (function (ko, koPunches) {\\n    ko.punches.enableAll();\\n    ko.bindingHandlers.numericValue = {\\n        init: function(element, valueAccessor, allBindings, data, context) {\\n            var stringified = ko.observable(ko.unwrap(valueAccessor()));\\n            stringified.subscribe(function(value) {\\n                var val = parseFloat(value);\\n                if (!isNaN(val)) {\\n                    valueAccessor()(val);\\n                }\\n            });\\n            valueAccessor().subscribe(function(value) {\\n                var str = JSON.stringify(value);\\n                if ((str == \\\"0\\\") && ([\\\"-0\\\", \\\"-0.\\\"].indexOf(stringified()) >= 0))\\n                     return;\\n                 if ([\\\"null\\\", \\\"\\\"].indexOf(str) >= 0)\\n                     return;\\n                stringified(str);\\n            });\\n            ko.applyBindingsToNode(\\n                element,\\n                {\\n                    value: stringified,\\n                    valueUpdate: allBindings.get('valueUpdate'),\\n                },\\n                context,\\n            );\\n        }\\n    };\\n    var json_data = {\\\"formatted_vals\\\":[\\\"0\\\",\\\"1\\\",\\\"2\\\",\\\"3\\\",\\\"4\\\",\\\"5\\\",\\\"6\\\",\\\"7\\\",\\\"8\\\",\\\"9\\\",\\\"10\\\",\\\"11\\\",\\\"12\\\",\\\"13\\\",\\\"14\\\",\\\"15\\\",\\\"16\\\",\\\"17\\\",\\\"18\\\",\\\"19\\\",\\\"20\\\",\\\"21\\\",\\\"22\\\",\\\"23\\\",\\\"24\\\",\\\"25\\\",\\\"26\\\",\\\"27\\\",\\\"28\\\",\\\"29\\\",\\\"30\\\",\\\"31\\\",\\\"32\\\",\\\"33\\\",\\\"34\\\",\\\"35\\\",\\\"36\\\",\\\"37\\\",\\\"38\\\",\\\"39\\\",\\\"40\\\",\\\"41\\\",\\\"42\\\",\\\"43\\\",\\\"44\\\",\\\"45\\\",\\\"46\\\",\\\"47\\\",\\\"48\\\",\\\"49\\\",\\\"50\\\",\\\"51\\\",\\\"52\\\",\\\"53\\\",\\\"54\\\",\\\"55\\\",\\\"56\\\",\\\"57\\\",\\\"58\\\",\\\"59\\\",\\\"60\\\",\\\"61\\\",\\\"62\\\",\\\"63\\\",\\\"64\\\",\\\"65\\\",\\\"66\\\",\\\"67\\\",\\\"68\\\",\\\"69\\\",\\\"70\\\",\\\"71\\\",\\\"72\\\",\\\"73\\\",\\\"74\\\",\\\"75\\\",\\\"76\\\",\\\"77\\\",\\\"78\\\",\\\"79\\\",\\\"80\\\",\\\"81\\\",\\\"82\\\",\\\"83\\\",\\\"84\\\",\\\"85\\\",\\\"86\\\",\\\"87\\\",\\\"88\\\",\\\"89\\\",\\\"90\\\",\\\"91\\\",\\\"92\\\",\\\"93\\\",\\\"94\\\",\\\"95\\\",\\\"96\\\",\\\"97\\\",\\\"98\\\",\\\"99\\\",\\\"100\\\",\\\"101\\\",\\\"102\\\",\\\"103\\\",\\\"104\\\",\\\"105\\\",\\\"106\\\",\\\"107\\\",\\\"108\\\",\\\"109\\\",\\\"110\\\",\\\"111\\\",\\\"112\\\",\\\"113\\\",\\\"114\\\",\\\"115\\\",\\\"116\\\",\\\"117\\\",\\\"118\\\",\\\"119\\\",\\\"120\\\",\\\"121\\\",\\\"122\\\",\\\"123\\\",\\\"124\\\",\\\"125\\\",\\\"126\\\",\\\"127\\\",\\\"128\\\",\\\"129\\\",\\\"130\\\",\\\"131\\\",\\\"132\\\",\\\"133\\\",\\\"134\\\",\\\"135\\\",\\\"136\\\",\\\"137\\\",\\\"138\\\",\\\"139\\\",\\\"140\\\",\\\"141\\\",\\\"142\\\",\\\"143\\\",\\\"144\\\",\\\"145\\\",\\\"146\\\",\\\"147\\\",\\\"148\\\",\\\"149\\\",\\\"150\\\",\\\"151\\\",\\\"152\\\",\\\"153\\\",\\\"154\\\",\\\"155\\\",\\\"156\\\",\\\"157\\\",\\\"158\\\",\\\"159\\\",\\\"160\\\",\\\"161\\\",\\\"162\\\",\\\"163\\\",\\\"164\\\",\\\"165\\\",\\\"166\\\",\\\"167\\\",\\\"168\\\",\\\"169\\\",\\\"170\\\",\\\"171\\\",\\\"172\\\",\\\"173\\\",\\\"174\\\",\\\"175\\\",\\\"176\\\",\\\"177\\\",\\\"178\\\",\\\"179\\\",\\\"180\\\",\\\"181\\\",\\\"182\\\",\\\"183\\\",\\\"184\\\",\\\"185\\\",\\\"186\\\",\\\"187\\\",\\\"188\\\",\\\"189\\\",\\\"190\\\",\\\"191\\\",\\\"192\\\",\\\"193\\\",\\\"194\\\",\\\"195\\\",\\\"196\\\",\\\"197\\\",\\\"198\\\",\\\"199\\\",\\\"200\\\",\\\"201\\\",\\\"202\\\",\\\"203\\\",\\\"204\\\",\\\"205\\\",\\\"206\\\",\\\"207\\\",\\\"208\\\",\\\"209\\\",\\\"210\\\",\\\"211\\\",\\\"212\\\",\\\"213\\\",\\\"214\\\",\\\"215\\\",\\\"216\\\",\\\"217\\\",\\\"218\\\",\\\"219\\\",\\\"220\\\",\\\"221\\\",\\\"222\\\",\\\"223\\\",\\\"224\\\",\\\"225\\\",\\\"226\\\",\\\"227\\\",\\\"228\\\",\\\"229\\\",\\\"230\\\",\\\"231\\\",\\\"232\\\",\\\"233\\\",\\\"234\\\",\\\"235\\\",\\\"236\\\",\\\"237\\\",\\\"238\\\",\\\"239\\\",\\\"240\\\",\\\"241\\\",\\\"242\\\",\\\"243\\\",\\\"244\\\",\\\"245\\\",\\\"246\\\",\\\"247\\\",\\\"248\\\",\\\"249\\\",\\\"250\\\"],\\\"changes\\\":WebIO.getval({\\\"name\\\":\\\"changes\\\",\\\"scope\\\":\\\"3927851249523368984\\\",\\\"id\\\":\\\"ob_111\\\",\\\"type\\\":\\\"observable\\\"}),\\\"index\\\":WebIO.getval({\\\"name\\\":\\\"index\\\",\\\"scope\\\":\\\"3927851249523368984\\\",\\\"id\\\":\\\"ob_110\\\",\\\"type\\\":\\\"observable\\\"})};\\n    var self = this;\\n    function AppViewModel() {\\n        for (var key in json_data) {\\n            var el = json_data[key];\\n            this[key] = Array.isArray(el) ? ko.observableArray(el) : ko.observable(el);\\n        }\\n        \\n        [this[\\\"formatted_val\\\"]=ko.computed(    function(){\\n        return this.formatted_vals()[parseInt(this.index())-(1)];\\n    }\\n,this)]\\n        [this[\\\"changes\\\"].subscribe((function (val){!(this.valueFromJulia[\\\"changes\\\"]) ? (WebIO.setval({\\\"name\\\":\\\"changes\\\",\\\"scope\\\":\\\"3927851249523368984\\\",\\\"id\\\":\\\"ob_111\\\",\\\"type\\\":\\\"observable\\\"},val)) : undefined; return this.valueFromJulia[\\\"changes\\\"]=false}),self),this[\\\"index\\\"].subscribe((function (val){!(this.valueFromJulia[\\\"index\\\"]) ? (WebIO.setval({\\\"name\\\":\\\"index\\\",\\\"scope\\\":\\\"3927851249523368984\\\",\\\"id\\\":\\\"ob_110\\\",\\\"type\\\":\\\"observable\\\"},val)) : undefined; return this.valueFromJulia[\\\"index\\\"]=false}),self)]\\n        \\n    }\\n    self.model = new AppViewModel();\\n    self.valueFromJulia = {};\\n    for (var key in json_data) {\\n        self.valueFromJulia[key] = false;\\n    }\\n    ko.applyBindings(self.model, self.dom);\\n}\\n);\\n    (WebIO.importBlock({\\\"data\\\":[{\\\"name\\\":\\\"knockout\\\",\\\"type\\\":\\\"js\\\",\\\"url\\\":\\\"\\/assetserver\\/3f712825d914ad7ceb56bfee8c26f86f12ffa94d-knockout.js\\\"},{\\\"name\\\":\\\"knockout_punches\\\",\\\"type\\\":\\\"js\\\",\\\"url\\\":\\\"\\/assetserver\\/bb1b62fcbdf49c4be6ac0dad8b532b184373033e-knockout_punches.js\\\"}],\\\"type\\\":\\\"async_block\\\"})).then((imports) => handler.apply(this, imports));\\n}\\n\"],\"observables\":{\"changes\":{\"sync\":false,\"id\":\"ob_111\",\"value\":0},\"index\":{\"sync\":true,\"id\":\"ob_110\",\"value\":126}}},\"children\":[{\"props\":{\"className\":\"interact-flex-row interact-widget\"},\"nodeType\":\"DOM\",\"type\":\"node\",\"instanceArgs\":{\"namespace\":\"html\",\"tag\":\"div\"},\"children\":[{\"props\":{\"className\":\"interact-flex-row-left\"},\"nodeType\":\"DOM\",\"type\":\"node\",\"instanceArgs\":{\"namespace\":\"html\",\"tag\":\"div\"},\"children\":[{\"props\":{\"className\":\"interact \",\"style\":{\"padding\":\"5px 10px 0px 10px\"}},\"nodeType\":\"DOM\",\"type\":\"node\",\"instanceArgs\":{\"namespace\":\"html\",\"tag\":\"label\"},\"children\":[\"λ\"]}]},{\"props\":{\"className\":\"interact-flex-row-center\"},\"nodeType\":\"DOM\",\"type\":\"node\",\"instanceArgs\":{\"namespace\":\"html\",\"tag\":\"div\"},\"children\":[{\"props\":{\"max\":251,\"min\":1,\"attributes\":{\"type\":\"range\",\"data-bind\":\"numericValue: index, valueUpdate: 'input', event: {change: function (){this.changes(this.changes()+1)}}\",\"orient\":\"horizontal\"},\"step\":1,\"className\":\"slider slider is-fullwidth\",\"style\":{}},\"nodeType\":\"DOM\",\"type\":\"node\",\"instanceArgs\":{\"namespace\":\"html\",\"tag\":\"input\"},\"children\":[]}]},{\"props\":{\"className\":\"interact-flex-row-right\"},\"nodeType\":\"DOM\",\"type\":\"node\",\"instanceArgs\":{\"namespace\":\"html\",\"tag\":\"div\"},\"children\":[{\"props\":{\"attributes\":{\"data-bind\":\"text: formatted_val\"}},\"nodeType\":\"DOM\",\"type\":\"node\",\"instanceArgs\":{\"namespace\":\"html\",\"tag\":\"p\"},\"children\":[]}]}]}]}]},{\"props\":{},\"nodeType\":\"Scope\",\"type\":\"node\",\"instanceArgs\":{\"imports\":{\"data\":[],\"type\":\"async_block\"},\"id\":\"17748285196596373692\",\"handlers\":{},\"systemjs_options\":null,\"mount_callbacks\":[],\"observables\":{\"obs-node\":{\"sync\":false,\"id\":\"ob_115\",\"value\":{\"props\":{\"className\":\"interact-flex-row interact-widget\"},\"nodeType\":\"DOM\",\"type\":\"node\",\"instanceArgs\":{\"namespace\":\"html\",\"tag\":\"div\"},\"children\":[{\"props\":{\"setInnerHtml\":\"<?xml version=\\\"1.0\\\" encoding=\\\"utf-8\\\"?>\\n<svg xmlns=\\\"http:\\/\\/www.w3.org\\/2000\\/svg\\\" xmlns:xlink=\\\"http:\\/\\/www.w3.org\\/1999\\/xlink\\\" width=\\\"600\\\" height=\\\"400\\\" viewBox=\\\"0 0 2400 1600\\\">\\n<defs>\\n  <clipPath id=\\\"clip0200\\\">\\n    <rect x=\\\"0\\\" y=\\\"0\\\" width=\\\"2400\\\" height=\\\"1600\\\"\\/>\\n  <\\/clipPath>\\n<\\/defs>\\n<path clip-path=\\\"url(#clip0200)\\\" d=\\\"\\nM0 1600 L2400 1600 L2400 0 L0 0  Z\\n  \\\" fill=\\\"#ffffff\\\" fill-rule=\\\"evenodd\\\" fill-opacity=\\\"1\\\"\\/>\\n<defs>\\n  <clipPath id=\\\"clip0201\\\">\\n    <rect x=\\\"480\\\" y=\\\"0\\\" width=\\\"1681\\\" height=\\\"1600\\\"\\/>\\n  <\\/clipPath>\\n<\\/defs>\\n<path clip-path=\\\"url(#clip0200)\\\" d=\\\"\\nM113.754 1487.47 L2352.76 1487.47 L2352.76 47.2441 L113.754 47.2441  Z\\n  \\\" fill=\\\"#ffffff\\\" fill-rule=\\\"evenodd\\\" fill-opacity=\\\"1\\\"\\/>\\n<defs>\\n  <clipPath id=\\\"clip0202\\\">\\n    <rect x=\\\"113\\\" y=\\\"47\\\" width=\\\"2240\\\" height=\\\"1441\\\"\\/>\\n  <\\/clipPath>\\n<\\/defs>\\n<polyline clip-path=\\\"url(#clip0202)\\\" style=\\\"stroke:#000000; stroke-width:2; stroke-opacity:0.1; fill:none\\\" points=\\\"\\n  177.122,1487.47 177.122,47.2441 \\n  \\\"\\/>\\n<polyline clip-path=\\\"url(#clip0202)\\\" style=\\\"stroke:#000000; stroke-width:2; stroke-opacity:0.1; fill:none\\\" points=\\\"\\n  705.189,1487.47 705.189,47.2441 \\n  \\\"\\/>\\n<polyline clip-path=\\\"url(#clip0202)\\\" style=\\\"stroke:#000000; stroke-width:2; stroke-opacity:0.1; fill:none\\\" points=\\\"\\n  1233.26,1487.47 1233.26,47.2441 \\n  \\\"\\/>\\n<polyline clip-path=\\\"url(#clip0202)\\\" style=\\\"stroke:#000000; stroke-width:2; stroke-opacity:0.1; fill:none\\\" points=\\\"\\n  1761.32,1487.47 1761.32,47.2441 \\n  \\\"\\/>\\n<polyline clip-path=\\\"url(#clip0202)\\\" style=\\\"stroke:#000000; stroke-width:2; stroke-opacity:0.1; fill:none\\\" points=\\\"\\n  2289.39,1487.47 2289.39,47.2441 \\n  \\\"\\/>\\n<polyline clip-path=\\\"url(#clip0202)\\\" style=\\\"stroke:#000000; stroke-width:2; stroke-opacity:0.1; fill:none\\\" points=\\\"\\n  113.754,1392.25 2352.76,1392.25 \\n  \\\"\\/>\\n<polyline clip-path=\\\"url(#clip0202)\\\" style=\\\"stroke:#000000; stroke-width:2; stroke-opacity:0.1; fill:none\\\" points=\\\"\\n  113.754,998.908 2352.76,998.908 \\n  \\\"\\/>\\n<polyline clip-path=\\\"url(#clip0202)\\\" style=\\\"stroke:#000000; stroke-width:2; stroke-opacity:0.1; fill:none\\\" points=\\\"\\n  113.754,605.567 2352.76,605.567 \\n  \\\"\\/>\\n<polyline clip-path=\\\"url(#clip0202)\\\" style=\\\"stroke:#000000; stroke-width:2; stroke-opacity:0.1; fill:none\\\" points=\\\"\\n  113.754,212.226 2352.76,212.226 \\n  \\\"\\/>\\n<polyline clip-path=\\\"url(#clip0200)\\\" style=\\\"stroke:#000000; stroke-width:4; stroke-opacity:1; fill:none\\\" points=\\\"\\n  113.754,1487.47 2352.76,1487.47 \\n  \\\"\\/>\\n<polyline clip-path=\\\"url(#clip0200)\\\" style=\\\"stroke:#000000; stroke-width:4; stroke-opacity:1; fill:none\\\" points=\\\"\\n  113.754,1487.47 113.754,47.2441 \\n  \\\"\\/>\\n<polyline clip-path=\\\"url(#clip0200)\\\" style=\\\"stroke:#000000; stroke-width:4; stroke-opacity:1; fill:none\\\" points=\\\"\\n  177.122,1487.47 177.122,1470.19 \\n  \\\"\\/>\\n<polyline clip-path=\\\"url(#clip0200)\\\" style=\\\"stroke:#000000; stroke-width:4; stroke-opacity:1; fill:none\\\" points=\\\"\\n  705.189,1487.47 705.189,1470.19 \\n  \\\"\\/>\\n<polyline clip-path=\\\"url(#clip0200)\\\" style=\\\"stroke:#000000; stroke-width:4; stroke-opacity:1; fill:none\\\" points=\\\"\\n  1233.26,1487.47 1233.26,1470.19 \\n  \\\"\\/>\\n<polyline clip-path=\\\"url(#clip0200)\\\" style=\\\"stroke:#000000; stroke-width:4; stroke-opacity:1; fill:none\\\" points=\\\"\\n  1761.32,1487.47 1761.32,1470.19 \\n  \\\"\\/>\\n<polyline clip-path=\\\"url(#clip0200)\\\" style=\\\"stroke:#000000; stroke-width:4; stroke-opacity:1; fill:none\\\" points=\\\"\\n  2289.39,1487.47 2289.39,1470.19 \\n  \\\"\\/>\\n<polyline clip-path=\\\"url(#clip0200)\\\" style=\\\"stroke:#000000; stroke-width:4; stroke-opacity:1; fill:none\\\" points=\\\"\\n  113.754,1392.25 140.622,1392.25 \\n  \\\"\\/>\\n<polyline clip-path=\\\"url(#clip0200)\\\" style=\\\"stroke:#000000; stroke-width:4; stroke-opacity:1; fill:none\\\" points=\\\"\\n  113.754,998.908 140.622,998.908 \\n  \\\"\\/>\\n<polyline clip-path=\\\"url(#clip0200)\\\" style=\\\"stroke:#000000; stroke-width:4; stroke-opacity:1; fill:none\\\" points=\\\"\\n  113.754,605.567 140.622,605.567 \\n  \\\"\\/>\\n<polyline clip-path=\\\"url(#clip0200)\\\" style=\\\"stroke:#000000; stroke-width:4; stroke-opacity:1; fill:none\\\" points=\\\"\\n  113.754,212.226 140.622,212.226 \\n  \\\"\\/>\\n<g clip-path=\\\"url(#clip0200)\\\">\\n<text style=\\\"fill:#000000; fill-opacity:1; font-family:Arial,Helvetica Neue,Helvetica,sans-serif; font-size:48px; text-anchor:middle;\\\" transform=\\\"rotate(0, 177.122, 1541.47)\\\" x=\\\"177.122\\\" y=\\\"1541.47\\\">0<\\/text>\\n<\\/g>\\n<g clip-path=\\\"url(#clip0200)\\\">\\n<text style=\\\"fill:#000000; fill-opacity:1; font-family:Arial,Helvetica Neue,Helvetica,sans-serif; font-size:48px; text-anchor:middle;\\\" transform=\\\"rotate(0, 705.189, 1541.47)\\\" x=\\\"705.189\\\" y=\\\"1541.47\\\">1<\\/text>\\n<\\/g>\\n<g clip-path=\\\"url(#clip0200)\\\">\\n<text style=\\\"fill:#000000; fill-opacity:1; font-family:Arial,Helvetica Neue,Helvetica,sans-serif; font-size:48px; text-anchor:middle;\\\" transform=\\\"rotate(0, 1233.26, 1541.47)\\\" x=\\\"1233.26\\\" y=\\\"1541.47\\\">2<\\/text>\\n<\\/g>\\n<g clip-path=\\\"url(#clip0200)\\\">\\n<text style=\\\"fill:#000000; fill-opacity:1; font-family:Arial,Helvetica Neue,Helvetica,sans-serif; font-size:48px; text-anchor:middle;\\\" transform=\\\"rotate(0, 1761.32, 1541.47)\\\" x=\\\"1761.32\\\" y=\\\"1541.47\\\">3<\\/text>\\n<\\/g>\\n<g clip-path=\\\"url(#clip0200)\\\">\\n<text style=\\\"fill:#000000; fill-opacity:1; font-family:Arial,Helvetica Neue,Helvetica,sans-serif; font-size:48px; text-anchor:middle;\\\" transform=\\\"rotate(0, 2289.39, 1541.47)\\\" x=\\\"2289.39\\\" y=\\\"1541.47\\\">4<\\/text>\\n<\\/g>\\n<g clip-path=\\\"url(#clip0200)\\\">\\n<text style=\\\"fill:#000000; fill-opacity:1; font-family:Arial,Helvetica Neue,Helvetica,sans-serif; font-size:48px; text-anchor:end;\\\" transform=\\\"rotate(0, 89.7545, 1409.75)\\\" x=\\\"89.7545\\\" y=\\\"1409.75\\\">0<\\/text>\\n<\\/g>\\n<g clip-path=\\\"url(#clip0200)\\\">\\n<text style=\\\"fill:#000000; fill-opacity:1; font-family:Arial,Helvetica Neue,Helvetica,sans-serif; font-size:48px; text-anchor:end;\\\" transform=\\\"rotate(0, 89.7545, 1016.41)\\\" x=\\\"89.7545\\\" y=\\\"1016.41\\\">1<\\/text>\\n<\\/g>\\n<g clip-path=\\\"url(#clip0200)\\\">\\n<text style=\\\"fill:#000000; fill-opacity:1; font-family:Arial,Helvetica Neue,Helvetica,sans-serif; font-size:48px; text-anchor:end;\\\" transform=\\\"rotate(0, 89.7545, 623.067)\\\" x=\\\"89.7545\\\" y=\\\"623.067\\\">2<\\/text>\\n<\\/g>\\n<g clip-path=\\\"url(#clip0200)\\\">\\n<text style=\\\"fill:#000000; fill-opacity:1; font-family:Arial,Helvetica Neue,Helvetica,sans-serif; font-size:48px; text-anchor:end;\\\" transform=\\\"rotate(0, 89.7545, 229.726)\\\" x=\\\"89.7545\\\" y=\\\"229.726\\\">3<\\/text>\\n<\\/g>\\n<polyline clip-path=\\\"url(#clip0202)\\\" style=\\\"stroke:#009af9; stroke-width:8; stroke-opacity:1; fill:none\\\" points=\\\"\\n  177.122,1446.71 184.187,1279.04 191.251,1383.83 198.316,1359.7 205.38,1218.74 212.445,1339.38 219.509,1224.72 226.573,1312.21 233.638,1383.25 240.702,1292.9 \\n  247.767,1386.71 254.831,1201.97 261.896,1365.81 268.96,1217.55 276.024,1208.54 283.089,1176.01 290.153,1202.43 297.218,1184.26 304.282,1137.29 311.347,1272.23 \\n  318.411,1219.37 325.476,1141.14 332.54,1239.99 339.604,1123.93 346.669,1207.44 353.733,1104.64 360.798,1066.24 367.862,1179.86 374.927,1161.79 381.991,993.246 \\n  389.055,1101.05 396.12,1075.26 403.184,1084.19 410.249,1048.69 417.313,1063.61 424.378,1016.37 431.442,992.384 438.506,1066.79 445.571,1081.67 452.635,1061.45 \\n  459.7,1064.15 466.764,1075.56 473.829,914.158 480.893,956.347 487.957,1067.01 495.022,1114.75 502.086,1107.99 509.151,835.593 516.215,954.071 523.28,930.146 \\n  530.344,1008 537.409,920.605 544.473,931.721 551.537,881.198 558.602,1006.98 565.666,977.62 572.731,1048.81 579.795,789.746 586.86,924.144 593.924,915.953 \\n  600.988,1018.47 608.053,1003.56 615.117,1083.18 622.182,973.609 629.246,872.055 636.311,843.577 643.375,1027.64 650.439,1071.15 657.504,891.834 664.568,904.031 \\n  671.633,1054.1 678.697,1022.16 685.762,990.9 692.826,1022.04 699.89,982.357 706.955,1007.97 714.019,997.348 721.084,1053.13 728.148,973.166 735.213,883.674 \\n  742.277,967.271 749.342,950.556 756.406,1028.68 763.47,877.537 770.535,854.503 777.599,906.666 784.664,972.967 791.728,974.553 798.793,896.4 805.857,990.203 \\n  812.921,1050.93 819.986,894.789 827.05,976.205 834.115,953.944 841.179,1000.41 848.244,897.4 855.308,1000.72 862.372,977.921 869.437,978.379 876.501,1001.68 \\n  883.566,1111.72 890.63,1025.5 897.695,964.234 904.759,958.027 911.823,1007.56 918.888,1070.57 925.952,995.909 933.017,993.36 940.081,1055.5 947.146,1030.14 \\n  954.21,867.705 961.275,838.548 968.339,995.594 975.403,1028.92 982.468,919.161 989.532,917.052 996.597,967.535 1003.66,980.192 1010.73,964.493 1017.79,1059.91 \\n  1024.85,1003.22 1031.92,1046.1 1038.98,1039.4 1046.05,851.449 1053.11,1042.09 1060.18,1083.12 1067.24,1048.19 1074.31,1000.97 1081.37,977.077 1088.43,1062.09 \\n  1095.5,974.422 1102.56,862.856 1109.63,1066.73 1116.69,921.359 1123.76,931.018 1130.82,925.981 1137.89,1037.66 1144.95,934.672 1152.01,1139.79 1159.08,895.346 \\n  1166.14,989.725 1173.21,870.508 1180.27,886.263 1187.34,935.335 1194.4,895.302 1201.47,947.151 1208.53,958.457 1215.59,933.4 1222.66,912.046 1229.72,822.772 \\n  1236.79,868.526 1243.85,809.829 1250.92,837.687 1257.98,898.756 1265.05,753.934 1272.11,886.522 1279.17,1014.65 1286.24,792.685 1293.3,803.585 1300.37,783.257 \\n  1307.43,770.404 1314.5,816.356 1321.56,904.983 1328.63,693.78 1335.69,761.444 1342.75,803.836 1349.82,825.746 1356.88,721.885 1363.95,724.009 1371.01,798.046 \\n  1378.08,706.997 1385.14,760.549 1392.2,697.558 1399.27,654.717 1406.33,735.022 1413.4,630.113 1420.46,650.5 1427.53,618.702 1434.59,716.611 1441.66,605.645 \\n  1448.72,587.411 1455.78,757.473 1462.85,419.918 1469.91,596.485 1476.98,560.373 1484.04,435.305 1491.11,605.043 1498.17,617.756 1505.24,502.859 1512.3,504.702 \\n  1519.36,546.992 1526.43,429.455 1533.49,306.121 1540.56,502.317 1547.62,336.817 1554.69,431.608 1561.75,385.477 1568.82,279.104 1575.88,337.443 1582.94,435.726 \\n  1590.01,310.373 1597.07,268.393 1604.14,395.937 1611.2,340.974 1618.27,285.105 1625.33,336.429 1632.4,365.421 1639.46,196.516 1646.52,327.875 1653.59,314.308 \\n  1660.65,304.187 1667.72,218.053 1674.78,252.363 1681.85,298.082 1688.91,118.065 1695.98,231.898 1703.04,173.737 1710.1,93.3046 1717.17,195.611 1724.23,107.262 \\n  1731.3,157.341 1738.36,190.09 1745.43,124.847 1752.49,136.788 1759.56,310.895 1766.62,333.625 1773.68,250.765 1780.75,204.675 1787.81,129.401 1794.88,171.636 \\n  1801.94,177.86 1809.01,110.806 1816.07,206.702 1823.14,187.811 1830.2,88.0053 1837.26,159.325 1844.33,347.417 1851.39,227.117 1858.46,94.5497 1865.52,130.143 \\n  1872.59,167.581 1879.65,214.626 1886.72,201.572 1893.78,210.151 1900.84,295.446 1907.91,178.327 1914.97,95.122 1922.04,192.385 1929.1,358.473 1936.17,254.513 \\n  1943.23,226.896 1950.3,251.402 1957.36,201.408 1964.42,297.209 1971.49,235.39 1978.55,101.418 1985.62,220.731 1992.68,284.302 1999.75,354.769 2006.81,250.793 \\n  2013.88,351.805 2020.94,275.519 2028,277.019 2035.07,382.835 2042.13,343.246 2049.2,287.257 2056.26,378.873 2063.33,374.339 2070.39,291.293 2077.45,376.772 \\n  2084.52,437.618 2091.58,444.584 2098.65,330.121 2105.71,508.465 2112.78,508.116 2119.84,405.206 2126.91,525.896 2133.97,580.952 2141.03,705.689 2148.1,527.825 \\n  2155.16,598.988 2162.23,656.563 2169.29,641.04 2176.36,645.188 2183.42,596.233 2190.49,699.591 2197.55,747.546 2204.61,830.794 2211.68,729.58 2218.74,764.451 \\n  2225.81,796.276 2232.87,911.462 2239.94,777.516 2247,689.47 2254.07,831.253 2261.13,948.052 2268.19,1024.02 2275.26,1003.17 2282.32,1008.64 2289.39,995.867 \\n  \\n  \\\"\\/>\\n<polyline clip-path=\\\"url(#clip0202)\\\" style=\\\"stroke:#e26f46; stroke-width:8; stroke-opacity:1; fill:none\\\" points=\\\"\\n  177.122,1272.65 184.187,1271.26 191.251,1269.8 198.316,1267.43 205.38,1264.33 212.445,1261.59 219.509,1258.23 226.573,1255.13 233.638,1251.58 240.702,1246.98 \\n  247.767,1242 254.831,1235.87 261.896,1230.02 268.96,1223.07 276.024,1216.17 283.089,1209.33 290.153,1202.76 297.218,1196.19 304.282,1189.71 311.347,1183.66 \\n  318.411,1176.89 325.476,1169.79 332.54,1162.91 339.604,1155.42 346.669,1148.18 353.733,1140.47 360.798,1133.04 367.862,1126.15 374.927,1118.83 381.991,1111.16 \\n  389.055,1104.44 396.12,1097.74 403.184,1091.23 410.249,1084.77 417.313,1078.6 424.378,1072.55 431.442,1066.95 438.506,1061.94 445.571,1056.9 452.635,1051.65 \\n  459.7,1046.33 466.764,1040.87 473.829,1035.13 480.893,1030.36 487.957,1026.18 495.022,1021.67 502.086,1016.42 509.151,1010.44 516.215,1005.85 523.28,1001.68 \\n  530.344,998.081 537.409,994.402 544.473,991.314 551.537,988.703 558.602,986.952 565.666,985.041 572.731,983.189 579.795,980.812 586.86,979.963 593.924,979.561 \\n  600.988,979.668 608.053,979.465 615.117,979.069 622.182,977.839 629.246,976.644 636.311,976.286 643.375,976.989 650.439,977.287 657.504,976.834 664.568,977.061 \\n  671.633,977.872 678.697,978.073 685.762,977.922 692.826,977.667 699.89,977.057 706.955,976.405 714.019,975.5 721.084,974.42 728.148,972.71 735.213,970.997 \\n  742.277,969.983 749.342,968.99 756.406,968.144 763.47,966.815 770.535,966.199 777.599,966.478 784.664,967.234 791.728,967.945 798.793,968.603 805.857,969.839 \\n  812.921,970.911 819.986,971.344 827.05,972.389 834.115,973.403 841.179,974.573 848.244,975.536 855.308,977.125 862.372,978.525 869.437,979.929 876.501,981.346 \\n  883.566,982.6 890.63,982.822 897.695,982.701 904.759,982.729 911.823,982.954 918.888,982.983 925.952,982.31 933.017,981.529 940.081,980.653 947.146,979.179 \\n  954.21,977.296 961.275,976.291 968.339,976.387 975.403,976.33 982.468,975.852 989.532,975.828 996.597,976.273 1003.66,976.789 1010.73,977.278 1017.79,977.868 \\n  1024.85,977.803 1031.92,977.534 1038.98,976.716 1046.05,975.397 1053.11,975.07 1060.18,974.206 1067.24,972.472 1074.31,970.131 1081.37,967.544 1088.43,964.88 \\n  1095.5,961.439 1102.56,957.894 1109.63,955.109 1116.69,951.431 1123.76,947.994 1130.82,944.693 1137.89,941.541 1144.95,937.62 1152.01,933.723 1159.08,928.178 \\n  1166.14,922.895 1173.21,917.077 1180.27,911.632 1187.34,906.39 1194.4,900.917 1201.47,895.488 1208.53,889.646 1215.59,883.254 1222.66,876.46 1229.72,869.382 \\n  1236.79,862.676 1243.85,855.924 1250.92,849.541 1257.98,843.252 1265.05,836.519 1272.11,830.448 1279.17,823.927 1286.24,815.881 1293.3,808.02 1300.37,800.194 \\n  1307.43,792.505 1314.5,784.992 1321.56,777.228 1328.63,768.442 1335.69,760.253 1342.75,752.055 1349.82,743.442 1356.88,734.171 1363.95,724.999 1371.01,715.834 \\n  1378.08,706.012 1385.14,696.182 1392.2,685.836 1399.27,675.397 1406.33,665.124 1413.4,654.291 1420.46,643.652 1427.53,632.958 1434.59,622.378 1441.66,611.044 \\n  1448.72,599.753 1455.78,588.562 1462.85,576.018 1469.91,564.724 1476.98,553.175 1484.04,541.569 1491.11,530.813 1498.17,519.463 1505.24,507.327 1512.3,495.227 \\n  1519.36,483.051 1526.43,470.363 1533.49,458.002 1540.56,446.857 1547.62,435.268 1554.69,424.466 1561.75,413.608 1568.82,402.974 1575.88,393.332 1582.94,384.136 \\n  1590.01,374.528 1597.07,365.433 1604.14,357.114 1611.2,348.485 1618.27,339.916 1625.33,331.785 1632.4,323.617 1639.46,315.115 1646.52,307.562 1653.59,299.846 \\n  1660.65,292.014 1667.72,284.085 1674.78,276.684 1681.85,269.478 1688.91,262.043 1695.98,255.76 1703.04,249.667 1710.1,244.183 1717.17,239.905 1724.23,235.981 \\n  1731.3,233.087 1738.36,230.8 1745.43,228.837 1752.49,227.707 1759.56,227.304 1766.62,226.233 1773.68,224.302 1780.75,222.16 1787.81,220.157 1794.88,218.881 \\n  1801.94,217.982 1809.01,217.405 1816.07,217.68 1823.14,218.043 1830.2,218.648 1837.26,220.298 1844.33,222.436 1851.39,223.574 1858.46,224.684 1865.52,226.834 \\n  1872.59,229.759 1879.65,233.18 1886.72,236.751 1893.78,240.602 1900.84,244.697 1907.91,248.386 1914.97,252.636 1922.04,258.146 1929.1,264.182 1936.17,269.463 \\n  1943.23,274.864 1950.3,280.649 1957.36,286.668 1964.42,293.369 1971.49,300.039 1978.55,307.227 1985.62,316.061 1992.68,325.657 1999.75,335.584 2006.81,345.358 \\n  2013.88,355.889 2020.94,366.452 2028,377.742 2035.07,389.839 2042.13,401.991 2049.2,414.613 2056.26,428.254 2063.33,442.291 2070.39,456.87 2077.45,472.775 \\n  2084.52,489.447 2091.58,506.534 2098.65,524.117 2105.71,543.252 2112.78,562.665 2119.84,582.514 2126.91,603.782 2133.97,625.673 2141.03,647.922 2148.1,669.708 \\n  2155.16,692.63 2162.23,716.3 2169.29,740.449 2176.36,765.393 2183.42,791.299 2190.49,818.765 2197.55,847.184 2204.61,876.401 2211.68,905.982 2218.74,936.975 \\n  2225.81,969.348 2232.87,1003.1 2239.94,1037.6 2247,1074.17 2254.07,1113.82 2261.13,1155.72 2268.19,1199.3 2275.26,1244.27 2282.32,1291.17 2289.39,1340.33 \\n  \\n  \\\"\\/>\\n<\\/svg>\\n\"},\"nodeType\":\"DOM\",\"type\":\"node\",\"instanceArgs\":{\"namespace\":\"html\",\"tag\":\"div\"},\"children\":[]}]}}}},\"children\":[{\"props\":{},\"nodeType\":\"ObservableNode\",\"type\":\"node\",\"instanceArgs\":{\"id\":\"ob_115\",\"name\":\"obs-node\"},\"children\":[]}]}]},\n",
       "            window,\n",
       "        );\n",
       "    } else {\n",
       "        document\n",
       "            .querySelector('[data-webio-mountpoint=\"17626341917779218644\"]')\n",
       "            .innerHTML = (\n",
       "                '<div style=\"padding: 1em; background-color: #f8d6da; border: 1px solid #f5c6cb\">' +\n",
       "                '<p><strong>WebIO not detected.</strong></p>' +\n",
       "                '<p>Please read ' +\n",
       "                '<a href=\"https://juliagizmos.github.io/WebIO.jl/latest/troubleshooting/not-detected/\" target=\"_blank\">the troubleshooting guide</a> ' +\n",
       "                'for more information on how to resolve this issue.</p>' +\n",
       "                '<p><a href=\"https://juliagizmos.github.io/WebIO.jl/latest/troubleshooting/not-detected/\" target=\"_blank\">https://juliagizmos.github.io/WebIO.jl/latest/troubleshooting/not-detected/</a></p>' +\n",
       "                '</div>'\n",
       "            );\n",
       "    }\n",
       "    </script>\n",
       "</div>\n"
      ],
      "text/plain": [
       "Node{WebIO.DOM}(WebIO.DOM(:html, :div), Any[Node{WebIO.DOM}(WebIO.DOM(:html, :div), Any[Scope(Node{WebIO.DOM}(WebIO.DOM(:html, :div), Any[Node{WebIO.DOM}(WebIO.DOM(:html, :div), Any[Node{WebIO.DOM}(WebIO.DOM(:html, :label), Any[\"λ\"], Dict{Symbol,Any}(:className => \"interact \",:style => Dict{Any,Any}(:padding => \"5px 10px 0px 10px\")))], Dict{Symbol,Any}(:className => \"interact-flex-row-left\")), Node{WebIO.DOM}(WebIO.DOM(:html, :div), Any[Node{WebIO.DOM}(WebIO.DOM(:html, :input), Any[], Dict{Symbol,Any}(:max => 251,:min => 1,:attributes => Dict{Any,Any}(:type => \"range\",Symbol(\"data-bind\") => \"numericValue: index, valueUpdate: 'input', event: {change: function (){this.changes(this.changes()+1)}}\",\"orient\" => \"horizontal\"),:step => 1,:className => \"slider slider is-fullwidth\",:style => Dict{Any,Any}()))], Dict{Symbol,Any}(:className => \"interact-flex-row-center\")), Node{WebIO.DOM}(WebIO.DOM(:html, :div), Any[Node{WebIO.DOM}(WebIO.DOM(:html, :p), Any[], Dict{Symbol,Any}(:attributes => Dict(\"data-bind\" => \"text: formatted_val\")))], Dict{Symbol,Any}(:className => \"interact-flex-row-right\"))], Dict{Symbol,Any}(:className => \"interact-flex-row interact-widget\")), Dict{String,Tuple{Observables.AbstractObservable,Union{Nothing, Bool}}}(\"changes\" => (Observable{Int64} with 1 listeners. Value:\n",
       "0, nothing),\"index\" => (Observable{Any} with 2 listeners. Value:\n",
       "126, nothing)), Set(String[]), nothing, Asset[Asset(\"js\", \"knockout\", \"/Users/mpf/.julia/packages/Knockout/1sDlc/src/../assets/knockout.js\"), Asset(\"js\", \"knockout_punches\", \"/Users/mpf/.julia/packages/Knockout/1sDlc/src/../assets/knockout_punches.js\"), Asset(\"js\", nothing, \"/Users/mpf/.julia/packages/InteractBase/9mFwe/src/../assets/all.js\"), Asset(\"css\", nothing, \"/Users/mpf/.julia/packages/InteractBase/9mFwe/src/../assets/style.css\"), Asset(\"css\", nothing, \"/Users/mpf/.julia/packages/Interact/SbgIk/src/../assets/bulma_confined.min.css\")], Dict{Any,Any}(\"changes\" => Any[WebIO.JSString(\"(function (val){return (val!=this.model[\\\"changes\\\"]()) ? (this.valueFromJulia[\\\"changes\\\"]=true, this.model[\\\"changes\\\"](val)) : undefined})\")],\"index\" => Any[WebIO.JSString(\"(function (val){return (val!=this.model[\\\"index\\\"]()) ? (this.valueFromJulia[\\\"index\\\"]=true, this.model[\\\"index\\\"](val)) : undefined})\")]), WebIO.ConnectionPool(Channel{Any}(sz_max:32,sz_curr:0), Set(AbstractConnection[]), Base.GenericCondition{Base.AlwaysLockedST}(Base.InvasiveLinkedList{Task}(Task (runnable) @0x0000000110fe1f90, Task (runnable) @0x0000000110fe1f90), Base.AlwaysLockedST(1))), WebIO.JSString[WebIO.JSString(\"function () {\\n    var handler = (function (ko, koPunches) {\\n    ko.punches.enableAll();\\n    ko.bindingHandlers.numericValue = {\\n        init: function(element, valueAccessor, allBindings, data, context) {\\n            var stringified = ko.observable(ko.unwrap(valueAccessor()));\\n            stringified.subscribe(function(value) {\\n                var val = parseFloat(value);\\n                if (!isNaN(val)) {\\n                    valueAccessor()(val);\\n                }\\n            });\\n            valueAccessor().subscribe(function(value) {\\n                var str = JSON.stringify(value);\\n                if ((str == \\\"0\\\") && ([\\\"-0\\\", \\\"-0.\\\"].indexOf(stringified()) >= 0))\\n                     return;\\n                 if ([\\\"null\\\", \\\"\\\"].indexOf(str) >= 0)\\n                     return;\\n                stringified(str);\\n            });\\n            ko.applyBindingsToNode(\\n                element,\\n                {\\n                    value: stringified,\\n                    valueUpdate: allBindings.get('valueUpdate'),\\n                },\\n                context,\\n            );\\n        }\\n    };\\n    var json_data = {\\\"formatted_vals\\\":[\\\"0\\\",\\\"1\\\",\\\"2\\\",\\\"3\\\",\\\"4\\\",\\\"5\\\",\\\"6\\\",\\\"7\\\",\\\"8\\\",\\\"9\\\",\\\"10\\\",\\\"11\\\",\\\"12\\\",\\\"13\\\",\\\"14\\\",\\\"15\\\",\\\"16\\\",\\\"17\\\",\\\"18\\\",\\\"19\\\",\\\"20\\\",\\\"21\\\",\\\"22\\\",\\\"23\\\",\\\"24\\\",\\\"25\\\",\\\"26\\\",\\\"27\\\",\\\"28\\\",\\\"29\\\",\\\"30\\\",\\\"31\\\",\\\"32\\\",\\\"33\\\",\\\"34\\\",\\\"35\\\",\\\"36\\\",\\\"37\\\",\\\"38\\\",\\\"39\\\",\\\"40\\\",\\\"41\\\",\\\"42\\\",\\\"43\\\",\\\"44\\\",\\\"45\\\",\\\"46\\\",\\\"47\\\",\\\"48\\\",\\\"49\\\",\\\"50\\\",\\\"51\\\",\\\"52\\\",\\\"53\\\",\\\"54\\\",\\\"55\\\",\\\"56\\\",\\\"57\\\",\\\"58\\\",\\\"59\\\",\\\"60\\\",\\\"61\\\",\\\"62\\\",\\\"63\\\",\\\"64\\\",\\\"65\\\",\\\"66\\\",\\\"67\\\",\\\"68\\\",\\\"69\\\",\\\"70\\\",\\\"71\\\",\\\"72\\\",\\\"73\\\",\\\"74\\\",\\\"75\\\",\\\"76\\\",\\\"77\\\",\\\"78\\\",\\\"79\\\",\\\"80\\\",\\\"81\\\",\\\"82\\\",\\\"83\\\",\\\"84\\\",\\\"85\\\",\\\"86\\\",\\\"87\\\",\\\"88\\\",\\\"89\\\",\\\"90\\\",\\\"91\\\",\\\"92\\\",\\\"93\\\",\\\"94\\\",\\\"95\\\",\\\"96\\\",\\\"97\\\",\\\"98\\\",\\\"99\\\",\\\"100\\\",\\\"101\\\",\\\"102\\\",\\\"103\\\",\\\"104\\\",\\\"105\\\",\\\"106\\\",\\\"107\\\",\\\"108\\\",\\\"109\\\",\\\"110\\\",\\\"111\\\",\\\"112\\\",\\\"113\\\",\\\"114\\\",\\\"115\\\",\\\"116\\\",\\\"117\\\",\\\"118\\\",\\\"119\\\",\\\"120\\\",\\\"121\\\",\\\"122\\\",\\\"123\\\",\\\"124\\\",\\\"125\\\",\\\"126\\\",\\\"127\\\",\\\"128\\\",\\\"129\\\",\\\"130\\\",\\\"131\\\",\\\"132\\\",\\\"133\\\",\\\"134\\\",\\\"135\\\",\\\"136\\\",\\\"137\\\",\\\"138\\\",\\\"139\\\",\\\"140\\\",\\\"141\\\",\\\"142\\\",\\\"143\\\",\\\"144\\\",\\\"145\\\",\\\"146\\\",\\\"147\\\",\\\"148\\\",\\\"149\\\",\\\"150\\\",\\\"151\\\",\\\"152\\\",\\\"153\\\",\\\"154\\\",\\\"155\\\",\\\"156\\\",\\\"157\\\",\\\"158\\\",\\\"159\\\",\\\"160\\\",\\\"161\\\",\\\"162\\\",\\\"163\\\",\\\"164\\\",\\\"165\\\",\\\"166\\\",\\\"167\\\",\\\"168\\\",\\\"169\\\",\\\"170\\\",\\\"171\\\",\\\"172\\\",\\\"173\\\",\\\"174\\\",\\\"175\\\",\\\"176\\\",\\\"177\\\",\\\"178\\\",\\\"179\\\",\\\"180\\\",\\\"181\\\",\\\"182\\\",\\\"183\\\",\\\"184\\\",\\\"185\\\",\\\"186\\\",\\\"187\\\",\\\"188\\\",\\\"189\\\",\\\"190\\\",\\\"191\\\",\\\"192\\\",\\\"193\\\",\\\"194\\\",\\\"195\\\",\\\"196\\\",\\\"197\\\",\\\"198\\\",\\\"199\\\",\\\"200\\\",\\\"201\\\",\\\"202\\\",\\\"203\\\",\\\"204\\\",\\\"205\\\",\\\"206\\\",\\\"207\\\",\\\"208\\\",\\\"209\\\",\\\"210\\\",\\\"211\\\",\\\"212\\\",\\\"213\\\",\\\"214\\\",\\\"215\\\",\\\"216\\\",\\\"217\\\",\\\"218\\\",\\\"219\\\",\\\"220\\\",\\\"221\\\",\\\"222\\\",\\\"223\\\",\\\"224\\\",\\\"225\\\",\\\"226\\\",\\\"227\\\",\\\"228\\\",\\\"229\\\",\\\"230\\\",\\\"231\\\",\\\"232\\\",\\\"233\\\",\\\"234\\\",\\\"235\\\",\\\"236\\\",\\\"237\\\",\\\"238\\\",\\\"239\\\",\\\"240\\\",\\\"241\\\",\\\"242\\\",\\\"243\\\",\\\"244\\\",\\\"245\\\",\\\"246\\\",\\\"247\\\",\\\"248\\\",\\\"249\\\",\\\"250\\\"],\\\"changes\\\":WebIO.getval({\\\"name\\\":\\\"changes\\\",\\\"scope\\\":\\\"3927851249523368984\\\",\\\"id\\\":\\\"ob_111\\\",\\\"type\\\":\\\"observable\\\"}),\\\"index\\\":WebIO.getval({\\\"name\\\":\\\"index\\\",\\\"scope\\\":\\\"3927851249523368984\\\",\\\"id\\\":\\\"ob_110\\\",\\\"type\\\":\\\"observable\\\"})};\\n    var self = this;\\n    function AppViewModel() {\\n        for (var key in json_data) {\\n            var el = json_data[key];\\n            this[key] = Array.isArray(el) ? ko.observableArray(el) : ko.observable(el);\\n        }\\n        \\n        [this[\\\"formatted_val\\\"]=ko.computed(    function(){\\n        return this.formatted_vals()[parseInt(this.index())-(1)];\\n    }\\n,this)]\\n        [this[\\\"changes\\\"].subscribe((function (val){!(this.valueFromJulia[\\\"changes\\\"]) ? (WebIO.setval({\\\"name\\\":\\\"changes\\\",\\\"scope\\\":\\\"3927851249523368984\\\",\\\"id\\\":\\\"ob_111\\\",\\\"type\\\":\\\"observable\\\"},val)) : undefined; return this.valueFromJulia[\\\"changes\\\"]=false}),self),this[\\\"index\\\"].subscribe((function (val){!(this.valueFromJulia[\\\"index\\\"]) ? (WebIO.setval({\\\"name\\\":\\\"index\\\",\\\"scope\\\":\\\"3927851249523368984\\\",\\\"id\\\":\\\"ob_110\\\",\\\"type\\\":\\\"observable\\\"},val)) : undefined; return this.valueFromJulia[\\\"index\\\"]=false}),self)]\\n        \\n    }\\n    self.model = new AppViewModel();\\n    self.valueFromJulia = {};\\n    for (var key in json_data) {\\n        self.valueFromJulia[key] = false;\\n    }\\n    ko.applyBindings(self.model, self.dom);\\n}\\n);\\n    (WebIO.importBlock({\\\"data\\\":[{\\\"name\\\":\\\"knockout\\\",\\\"type\\\":\\\"js\\\",\\\"url\\\":\\\"/assetserver/3f712825d914ad7ceb56bfee8c26f86f12ffa94d-knockout.js\\\"},{\\\"name\\\":\\\"knockout_punches\\\",\\\"type\\\":\\\"js\\\",\\\"url\\\":\\\"/assetserver/bb1b62fcbdf49c4be6ac0dad8b532b184373033e-knockout_punches.js\\\"}],\\\"type\\\":\\\"async_block\\\"})).then((imports) => handler.apply(this, imports));\\n}\\n\")])], Dict{Symbol,Any}(:className => \"field interact-widget\")), Observable{Any} with 0 listeners. Value:\n",
       "Node{WebIO.DOM}(WebIO.DOM(:html, :div), Any[Plot{Plots.GRBackend() n=2}], Dict{Symbol,Any}(:className => \"interact-flex-row interact-widget\"))], Dict{Symbol,Any}())"
      ]
     },
     "execution_count": 41,
     "metadata": {
      "application/vnd.webio.node+json": {
       "kernelId": "9805c853-6849-4604-a60c-c5640fae9a8f"
      }
     },
     "output_type": "execute_result"
    }
   ],
   "source": [
    "@manipulate for λ = 0:1:250\n",
    "    x = (I + λ*D'D)\\b\n",
    "    plot(t, b, leg=false, w=2)\n",
    "    plot!(t, x, w=2)\n",
    "end"
   ]
  }
 ],
 "metadata": {
  "@webio": {
   "lastCommId": "79e7ac92e1f5440d8368e39b523100aa",
   "lastKernelId": "9805c853-6849-4604-a60c-c5640fae9a8f"
  },
  "kernelspec": {
   "display_name": "Julia 1.3.1",
   "language": "julia",
   "name": "julia-1.3"
  },
  "language_info": {
   "file_extension": ".jl",
   "mimetype": "application/julia",
   "name": "julia",
   "version": "1.3.1"
  }
 },
 "nbformat": 4,
 "nbformat_minor": 2
}
