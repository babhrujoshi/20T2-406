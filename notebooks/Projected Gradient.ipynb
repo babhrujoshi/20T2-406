{
 "cells": [
  {
   "cell_type": "code",
   "execution_count": 1,
   "metadata": {},
   "outputs": [],
   "source": [
    "using Optim, ForwardDiff, LinearAlgebra, Printf"
   ]
  },
  {
   "cell_type": "markdown",
   "metadata": {},
   "source": [
    "The n-variable Rosenbrock test function is\n",
    "\n",
    "$$\n",
    "f(x) = \\sum_{i=1}^{N-1}[100(x_{i+1} - x_{i}^2)^2+(1-x_i)^2].\n",
    "$$\n",
    "\n",
    "Define the 3-variable Rosenbrock test function."
   ]
  },
  {
   "cell_type": "code",
   "execution_count": 2,
   "metadata": {},
   "outputs": [
    {
     "data": {
      "text/plain": [
       "f3 (generic function with 1 method)"
      ]
     },
     "execution_count": 2,
     "metadata": {},
     "output_type": "execute_result"
    }
   ],
   "source": [
    "N = 3;\n",
    "f3(x)= 100.0 * (x[2] - x[1]^2)^2 + (1-x[1])^2 + 100.0 * (x[3]-x[2]^2)^2+(1-x[2])^2"
   ]
  },
  {
   "cell_type": "code",
   "execution_count": 3,
   "metadata": {},
   "outputs": [
    {
     "data": {
      "text/plain": [
       "g (generic function with 1 method)"
      ]
     },
     "execution_count": 3,
     "metadata": {},
     "output_type": "execute_result"
    }
   ],
   "source": [
    "g(x) = ForwardDiff.gradient(f3, x)"
   ]
  },
  {
   "cell_type": "markdown",
   "metadata": {},
   "source": [
    "The linear constraint is $x_1+x_2+x3 = 1$ and $2x_1+x_2 = 0.5$."
   ]
  },
  {
   "cell_type": "code",
   "execution_count": 4,
   "metadata": {},
   "outputs": [],
   "source": [
    "a1 = ones(1,3) ; b1 = 1\n",
    "a2 = [2 1 0]; b2 = 0.5\n",
    "A = vcat(a1,a2); b = vcat(b1,b2);"
   ]
  },
  {
   "cell_type": "markdown",
   "metadata": {},
   "source": [
    "let $C = \\{x | Ax = b\\}$. Projection on to C is $\\text{proj}_{\\mathcal C} (z) = z - A^\\intercal(AA^\\intercal)^{-1}(b-Az)$"
   ]
  },
  {
   "cell_type": "code",
   "execution_count": 5,
   "metadata": {},
   "outputs": [
    {
     "data": {
      "text/plain": [
       "proj (generic function with 1 method)"
      ]
     },
     "execution_count": 5,
     "metadata": {},
     "output_type": "execute_result"
    }
   ],
   "source": [
    "proj(z) = z + A'* ( (A*A') \\ (-A*z+b))"
   ]
  },
  {
   "cell_type": "code",
   "execution_count": 6,
   "metadata": {},
   "outputs": [
    {
     "name": "stdout",
     "output_type": "stream",
     "text": [
      "iteration = 100, successive error = 0.000277\n",
      "iteration = 200, successive error = 0.000016\n",
      "iteration = 300, successive error = 0.000001\n",
      "iteration = 400, successive error = 0.000000\n",
      "iteration = 500, successive error = 0.000000\n",
      "\n",
      "The minimizer is x = (0.027,0.446,0.527)\n"
     ]
    }
   ],
   "source": [
    "xk = zeros(3);\n",
    "step = 1e-4;\n",
    "xkp = xk;\n",
    "for i in 1:500\n",
    "    xkp = xk - step * g(xk);\n",
    "    xkp = proj(xkp)\n",
    "    if rem(i,100) == 0\n",
    "        @printf(\"iteration = %d, successive error = %f\\n\",i, norm(xk - xkp))\n",
    "    end\n",
    "    xk = xkp\n",
    "end\n",
    "@printf(\"\\nThe minimizer is x = (%.3f,%.3f,%.3f)\\n\", xk[1], xk[2], xk[3])"
   ]
  },
  {
   "cell_type": "code",
   "execution_count": 38,
   "metadata": {},
   "outputs": [
    {
     "name": "stdout",
     "output_type": "stream",
     "text": [
      "iteration = 100, successive error = 0.000277\n",
      "iteration = 200, successive error = 0.000016\n",
      "iteration = 300, successive error = 0.000001\n",
      "iteration = 400, successive error = 0.000000\n",
      "iteration = 500, successive error = 0.000000\n"
     ]
    }
   ],
   "source": [
    "xk = [];\n",
    "xk = push!(xk,zeros(3));\n",
    "step = 1e-4;\n",
    "for i in 1:500\n",
    "    xkp = xk[i] - step * g(xk[i]);\n",
    "    xkp = proj(xkp)\n",
    "    if rem(i,100) == 0\n",
    "        @printf(\"iteration = %d, successive error = %f\\n\",i, norm(xk[i] - xkp))\n",
    "    end\n",
    "    push!(xk,xkp)\n",
    "end"
   ]
  },
  {
   "cell_type": "code",
   "execution_count": 37,
   "metadata": {},
   "outputs": [
    {
     "data": {
      "text/plain": [
       "1-element Array{Any,1}:\n",
       " zeros"
      ]
     },
     "execution_count": 37,
     "metadata": {},
     "output_type": "execute_result"
    }
   ],
   "source": [
    "xk"
   ]
  },
  {
   "cell_type": "code",
   "execution_count": 32,
   "metadata": {},
   "outputs": [
    {
     "data": {
      "text/plain": [
       "1-element Array{Any,1}:\n",
       " [0.0, 0.0, 0.0]"
      ]
     },
     "execution_count": 32,
     "metadata": {},
     "output_type": "execute_result"
    }
   ],
   "source": [
    "xk = []\n",
    "push!(xk, zeros(3))"
   ]
  },
  {
   "cell_type": "code",
   "execution_count": 33,
   "metadata": {},
   "outputs": [
    {
     "data": {
      "text/plain": [
       "2-element Array{Any,1}:\n",
       " [0.0, 0.0, 0.0]\n",
       " [2.0, 2.0, 2.0]"
      ]
     },
     "execution_count": 33,
     "metadata": {},
     "output_type": "execute_result"
    }
   ],
   "source": [
    "push!(xk, 2*ones(3))"
   ]
  },
  {
   "cell_type": "code",
   "execution_count": 34,
   "metadata": {},
   "outputs": [
    {
     "data": {
      "text/plain": [
       "3-element Array{Float64,1}:\n",
       " 2.0\n",
       " 2.0\n",
       " 2.0"
      ]
     },
     "execution_count": 34,
     "metadata": {},
     "output_type": "execute_result"
    }
   ],
   "source": [
    "xk[2]"
   ]
  },
  {
   "cell_type": "code",
   "execution_count": 35,
   "metadata": {},
   "outputs": [
    {
     "data": {
      "text/plain": [
       "3-element Array{Float64,1}:\n",
       " 1602.0\n",
       " 1202.0\n",
       " -400.0"
      ]
     },
     "execution_count": 35,
     "metadata": {},
     "output_type": "execute_result"
    }
   ],
   "source": [
    "g(xk[2])"
   ]
  },
  {
   "cell_type": "code",
   "execution_count": 30,
   "metadata": {},
   "outputs": [
    {
     "data": {
      "text/plain": [
       "3-element Array{Float64,1}:\n",
       " -2.0\n",
       " -2.0\n",
       "  0.0"
      ]
     },
     "execution_count": 30,
     "metadata": {},
     "output_type": "execute_result"
    }
   ],
   "source": [
    "g(zeros(3))"
   ]
  },
  {
   "cell_type": "code",
   "execution_count": 41,
   "metadata": {},
   "outputs": [
    {
     "data": {
      "text/plain": [
       "0.0"
      ]
     },
     "execution_count": 41,
     "metadata": {},
     "output_type": "execute_result"
    }
   ],
   "source": [
    "xk[1][2]"
   ]
  },
  {
   "cell_type": "code",
   "execution_count": null,
   "metadata": {},
   "outputs": [],
   "source": []
  }
 ],
 "metadata": {
  "@webio": {
   "lastCommId": null,
   "lastKernelId": null
  },
  "kernelspec": {
   "display_name": "Julia 1.3.1",
   "language": "julia",
   "name": "julia-1.3"
  },
  "language_info": {
   "file_extension": ".jl",
   "mimetype": "application/julia",
   "name": "julia",
   "version": "1.3.1"
  }
 },
 "nbformat": 4,
 "nbformat_minor": 2
}
