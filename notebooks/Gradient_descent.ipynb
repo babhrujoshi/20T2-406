{
 "cells": [
  {
   "cell_type": "markdown",
   "metadata": {},
   "source": [
    "# Steepest descent"
   ]
  },
  {
   "cell_type": "code",
   "execution_count": null,
   "metadata": {},
   "outputs": [],
   "source": [
    "using Plots, ForwardDiff, Printf, LinearAlgebra"
   ]
  },
  {
   "cell_type": "markdown",
   "metadata": {},
   "source": [
    "# Steepest descent on quadratic with exact linesearch"
   ]
  },
  {
   "cell_type": "code",
   "execution_count": null,
   "metadata": {},
   "outputs": [],
   "source": [
    "#f(x) = 1/2 x'Ax + b'x (ignoring constant terms)\n",
    "function grad_method_exact_ls(A, b, x0, ϵ=1e-6)\n",
    "    x = copy(x0)\n",
    "    ∇f = A*x + b\n",
    "    k = 0\n",
    "    xtrace = x'\n",
    "    while norm(∇f) > ϵ\n",
    "        α = dot(∇f,∇f) / dot(∇f,A*∇f)\n",
    "        x = x - α*∇f\n",
    "        ∇f = A*x + b\n",
    "        f = (1/2)x'*A*x + b'*x\n",
    "        @printf \"it = %3d | |∇f| = %8.2e | f = %8.2e\\n\" k norm(∇f) f\n",
    "        k += 1\n",
    "        xtrace = vcat(xtrace,x')\n",
    "    end\n",
    "    return xtrace\n",
    "end\n"
   ]
  },
  {
   "cell_type": "code",
   "execution_count": null,
   "metadata": {
    "scrolled": true
   },
   "outputs": [],
   "source": [
    "#Apply to f(x) = x^2+2y^2\n",
    "A = [1 0;0 2]\n",
    "b = [0, 0]\n",
    "x0 = [2, 1]\n",
    "xtrace = grad_method_exact_ls(A, b, x0);"
   ]
  },
  {
   "cell_type": "code",
   "execution_count": null,
   "metadata": {},
   "outputs": [],
   "source": [
    "# contour plot\n",
    "f(x1,x2) = (1/2)*[x1, x2]'*A*[x1, x2]+b'*[x1,x2]\n",
    "x1 = -2:0.05:2\n",
    "x2 = -2:0.05:2;\n",
    "\n",
    "contour(x1, x2, f, levels = 50)\n",
    "plot!(xtrace[:,1], xtrace[:,2], marker = 3)\n"
   ]
  },
  {
   "cell_type": "code",
   "execution_count": null,
   "metadata": {},
   "outputs": [],
   "source": [
    "#Apply to f(x) = x^2 + y^2/100\n",
    "A = [1 0; 0 1/100]\n",
    "b = [0, 0]\n",
    "x0 = [2 ,1]\n",
    "f(x) = x'*A*x + b'*x\n",
    "∇f(x) = A*x + b\n",
    "xtrace = grad_method_exact_ls(A, b, x0);"
   ]
  },
  {
   "cell_type": "code",
   "execution_count": null,
   "metadata": {},
   "outputs": [],
   "source": [
    "f(x1,x2) = x1^2 + x2^2/100\n",
    "x1 = -2:0.05:2\n",
    "x2 = -2:0.05:2\n",
    "contour(x1, x2, f, levels = 50)\n",
    "plot!(xtrace[:,1],xtrace[:,2],marker = 3)"
   ]
  }
 ],
 "metadata": {
  "kernelspec": {
   "display_name": "Julia 1.5.3",
   "language": "julia",
   "name": "julia-1.5"
  },
  "language_info": {
   "file_extension": ".jl",
   "mimetype": "application/julia",
   "name": "julia",
   "version": "1.5.3"
  }
 },
 "nbformat": 4,
 "nbformat_minor": 2
}
