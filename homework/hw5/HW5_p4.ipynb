{
 "cells": [
  {
   "cell_type": "markdown",
   "metadata": {},
   "source": [
    "# Homework 5, problem 4c"
   ]
  },
  {
   "cell_type": "code",
   "execution_count": 1,
   "metadata": {},
   "outputs": [],
   "source": [
    "using LinearAlgebra, Statistics, Random, Plots, GLPK, Convex"
   ]
  },
  {
   "cell_type": "markdown",
   "metadata": {},
   "source": [
    "Generate Data"
   ]
  },
  {
   "cell_type": "code",
   "execution_count": 6,
   "metadata": {},
   "outputs": [],
   "source": [
    "Random.seed!(1)\n",
    "m = 400\n",
    "n = 200\n",
    "A = randn(m,n)\n",
    "b = randn(m);"
   ]
  },
  {
   "cell_type": "markdown",
   "metadata": {},
   "source": [
    "Solve the least squares program\n",
    "\n",
    "$$ \\min_{x \\in \\mathbb{R}^n} \\|Ax-b\\|_2$$\n",
    "\n",
    "and plot the histogram of the residual. In histogram, set `bins = -3:.1:3`. In the code segement below, replace `?` with the appropriate terms (Of course, if you would like to, you may write your own code).\n"
   ]
  },
  {
   "cell_type": "code",
   "execution_count": null,
   "metadata": {},
   "outputs": [],
   "source": [
    "# Least squares solution\n",
    "x_ls = ?;\n",
    "\n",
    "# residual\n",
    "res_ls = A*x_ls-b;\n",
    "\n",
    "# histogram plot\n",
    "histogram(res_ls,bins=-3:.1:3)\n",
    "\n"
   ]
  },
  {
   "cell_type": "markdown",
   "metadata": {},
   "source": [
    "Solve the 1-norm and $\\infty$-norm minimization program\n",
    "\n",
    "$$ \\min_{x \\in \\mathbb{R}^n} \\|Ax-b\\|_p,$$\n",
    "\n",
    "for $ p = 1$ or $2$, by rewriting it as a linear program\n",
    "\n",
    "$$ \\min_{z} c^\\top z \\text{ subject to } \\hat{A}z \\leq \\hat{b}$$\n",
    "\n",
    "and then using the Convex.jl and GLPK.jl pacakages to solve the linear program. Note that $x$ and $z$ may not be of the same dimension. Like with least squares, plot the histogram of the residual with bin option set to `bins = -3:.1:3`. "
   ]
  },
  {
   "cell_type": "code",
   "execution_count": null,
   "metadata": {},
   "outputs": [],
   "source": [
    "# 1-norm \n",
    "z = Variable(n+m);\n",
    "c = [zeros(n);ones(m)];\n",
    "Ahat = [?];\n",
    "bhat = [?];\n",
    "\n",
    "problem = minimize(?, [?])\n",
    "\n",
    "solve!(problem, GLPK.Optimizer)\n",
    "\n",
    "res_l1 = ?\n",
    "\n",
    "# histogram plot\n",
    "histogram(res_l1, bins=-3:.1:3)\n"
   ]
  },
  {
   "cell_type": "code",
   "execution_count": null,
   "metadata": {},
   "outputs": [],
   "source": [
    "# inf-norm \n",
    "z = Variable(n+1);\n",
    "c = [zeros(n);1];\n",
    "Ahat2 = [?];\n",
    "bhat2 = [?];\n",
    "\n",
    "problem = minimize(?, [?])\n",
    "\n",
    "solve!(problem, GLPK.Optimizer)\n",
    "res_inf = ?;\n",
    "\n",
    "# histogram plot\n",
    "histogram(res_inf, bins=-3:.1:3)\n"
   ]
  },
  {
   "cell_type": "markdown",
   "metadata": {},
   "source": [
    "Q. What conclusions can you draw about each norm?\n",
    "\n",
    "Ans: "
   ]
  },
  {
   "cell_type": "code",
   "execution_count": null,
   "metadata": {},
   "outputs": [],
   "source": []
  }
 ],
 "metadata": {
  "kernelspec": {
   "display_name": "Julia 1.3.1",
   "language": "julia",
   "name": "julia-1.3"
  },
  "language_info": {
   "file_extension": ".jl",
   "mimetype": "application/julia",
   "name": "julia",
   "version": "1.3.1"
  }
 },
 "nbformat": 4,
 "nbformat_minor": 2
}
