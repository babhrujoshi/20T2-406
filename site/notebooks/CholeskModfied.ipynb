{
 "cells": [
  {
   "cell_type": "code",
   "execution_count": 1,
   "metadata": {},
   "outputs": [
    {
     "data": {
      "text/html": [
       "<script>\n",
       "// Immediately-invoked-function-expression to avoid global variables.\n",
       "(function() {\n",
       "    var warning_div = document.getElementById(\"webio-warning-15126495339563897354\");\n",
       "    var hide = function () {\n",
       "        var script = document.getElementById(\"webio-setup-13512584888860429279\");\n",
       "        var parent = script && script.parentElement;\n",
       "        var grandparent = parent && parent.parentElement;\n",
       "        if (grandparent) {\n",
       "            grandparent.style.display = \"none\";\n",
       "        }\n",
       "        warning_div.style.display = \"none\";\n",
       "    };\n",
       "    if (typeof Jupyter !== \"undefined\") {\n",
       "        console.log(\"WebIO detected Jupyter notebook environment.\");\n",
       "        // Jupyter notebook.\n",
       "        var extensions = (\n",
       "            Jupyter\n",
       "            && Jupyter.notebook.config.data\n",
       "            && Jupyter.notebook.config.data.load_extensions\n",
       "        );\n",
       "        if (extensions && extensions[\"webio-jupyter-notebook\"]) {\n",
       "            // Extension already loaded.\n",
       "            console.log(\"Jupyter WebIO nbextension detected; not loading ad-hoc.\");\n",
       "            hide();\n",
       "            return;\n",
       "        }\n",
       "    } else if (window.location.pathname.includes(\"/lab\")) {\n",
       "        // Guessing JupyterLa\n",
       "        console.log(\"Jupyter Lab detected; make sure the @webio/jupyter-lab-provider labextension is installed.\");\n",
       "        hide();\n",
       "        return;\n",
       "    }\n",
       "})();\n",
       "\n",
       "</script>\n",
       "<p\n",
       "    id=\"webio-warning-15126495339563897354\"\n",
       "    class=\"output_text output_stderr\"\n",
       "    style=\"padding: 1em; font-weight: bold;\"\n",
       ">\n",
       "    Unable to load WebIO. Please make sure WebIO works for your Jupyter client.\n",
       "    For troubleshooting, please see <a href=\"https://juliagizmos.github.io/WebIO.jl/latest/providers/ijulia/\">\n",
       "    the WebIO/IJulia documentation</a>.\n",
       "    <!-- TODO: link to installation docs. -->\n",
       "</p>\n"
      ],
      "text/plain": [
       "HTML{String}(\"<script>\\n// Immediately-invoked-function-expression to avoid global variables.\\n(function() {\\n    var warning_div = document.getElementById(\\\"webio-warning-15126495339563897354\\\");\\n    var hide = function () {\\n        var script = document.getElementById(\\\"webio-setup-13512584888860429279\\\");\\n        var parent = script && script.parentElement;\\n        var grandparent = parent && parent.parentElement;\\n        if (grandparent) {\\n            grandparent.style.display = \\\"none\\\";\\n        }\\n        warning_div.style.display = \\\"none\\\";\\n    };\\n    if (typeof Jupyter !== \\\"undefined\\\") {\\n        console.log(\\\"WebIO detected Jupyter notebook environment.\\\");\\n        // Jupyter notebook.\\n        var extensions = (\\n            Jupyter\\n            && Jupyter.notebook.config.data\\n            && Jupyter.notebook.config.data.load_extensions\\n        );\\n        if (extensions && extensions[\\\"webio-jupyter-notebook\\\"]) {\\n            // Extension already loaded.\\n            console.log(\\\"Jupyter WebIO nbextension detected; not loading ad-hoc.\\\");\\n            hide();\\n            return;\\n        }\\n    } else if (window.location.pathname.includes(\\\"/lab\\\")) {\\n        // Guessing JupyterLa\\n        console.log(\\\"Jupyter Lab detected; make sure the @webio/jupyter-lab-provider labextension is installed.\\\");\\n        hide();\\n        return;\\n    }\\n})();\\n\\n</script>\\n<p\\n    id=\\\"webio-warning-15126495339563897354\\\"\\n    class=\\\"output_text output_stderr\\\"\\n    style=\\\"padding: 1em; font-weight: bold;\\\"\\n>\\n    Unable to load WebIO. Please make sure WebIO works for your Jupyter client.\\n    For troubleshooting, please see <a href=\\\"https://juliagizmos.github.io/WebIO.jl/latest/providers/ijulia/\\\">\\n    the WebIO/IJulia documentation</a>.\\n    <!-- TODO: link to installation docs. -->\\n</p>\\n\")"
      ]
     },
     "metadata": {},
     "output_type": "display_data"
    }
   ],
   "source": [
    "using Plots, ForwardDiff, Interact, Printf, LinearAlgebra"
   ]
  },
  {
   "cell_type": "code",
   "execution_count": 2,
   "metadata": {},
   "outputs": [
    {
     "data": {
      "text/plain": [
       "CholeskyFull (generic function with 1 method)"
      ]
     },
     "execution_count": 2,
     "metadata": {},
     "output_type": "execute_result"
    }
   ],
   "source": [
    "# check if matrix is symmetric\n",
    "function isSymmetric(M)\n",
    "    (m,n) = size(M)   \n",
    "    if m != n\n",
    "        return false\n",
    "    end\n",
    "    for i in 1:m\n",
    "        for j in 1:n\n",
    "            if M[i,j] != M[j,i]\n",
    "                return false\n",
    "            end\n",
    "        end\n",
    "    end\n",
    "    return true\n",
    "end\n",
    "\n",
    "# one iterate of cholesky factorization\n",
    "function CholeskyIterate(M)\n",
    "    (n,~) = size(M)\n",
    "    \n",
    "    ϵ = .1;\n",
    "    tol = 1e-4\n",
    "    \n",
    "    R = similar(M)\n",
    "    A = similar(M)\n",
    "    log_PD = true\n",
    "\n",
    "    if abs(M[1,1]) <= tol      \n",
    "        log_PD = false #set α = ϵ\n",
    "        α = ϵ; \n",
    "        w = M[1,2:end]\n",
    "        R = [α w'/α ; zeros(n-1,1) I(n-1)]\n",
    "        A = [1 zeros(1,n-1);zeros(n-1,1) M[2:end,2:end] - w*w' / (α^2)]\n",
    "    else\n",
    "        α = √(M[1,1])\n",
    "        w = M[1,2:end]\n",
    "        R = [α w'/α ; zeros(n-1,1) I(n-1)]\n",
    "        A = [1 zeros(1,n-1);zeros(n-1,1) M[2:end,2:end] - w*w' / (α^2)]    \n",
    "    end\n",
    "    return log_PD, R, A    \n",
    "end\n",
    "\n",
    "function CholeskyFull(M)\n",
    "    tol = 1e-4\n",
    "    \n",
    "    if isSymmetric(M)\n",
    "        (n,~) = size(M) \n",
    "\n",
    "        Rt = I(n)\n",
    "        for i in 1:n-1\n",
    "            (log_PD, R, M) = CholeskyIterate(M[i:end,i:end])\n",
    "            if log_PD\n",
    "                Rt = [I(i-1) zeros(i-1, n-i+1); zeros(n-i+1, i-1 ) R] * Rt\n",
    "            else\n",
    "                @printf(\"Matrix is not positive definite\\n\")\n",
    "                return nothing\n",
    "            end                \n",
    "        end   \n",
    "        \n",
    "        if abs(M[2,2]) <= tol\n",
    "            @printf(\"Matrix is not positive definite\\n\")\n",
    "            return nothing\n",
    "        else\n",
    "            Rt[n,n] = Rt[n,n] * √(M[2,2])\n",
    "        end\n",
    "\n",
    "        return Rt\n",
    "    else\n",
    "        @printf(\"Matrix is not symmetric\\n\")\n",
    "        return nothing\n",
    "    end       \n",
    "end"
   ]
  },
  {
   "cell_type": "code",
   "execution_count": 3,
   "metadata": {},
   "outputs": [
    {
     "name": "stdout",
     "output_type": "stream",
     "text": [
      "Cholesky:\n",
      "Matrix is not positive definite\n"
     ]
    }
   ],
   "source": [
    "x1 = randn(3)\n",
    "x2 = randn(3)\n",
    "x3 = randn(3)\n",
    "\n",
    "X = x1*x1' + x2*x2';\n",
    "@printf(\"Cholesky:\\n\")\n",
    "K1 = CholeskyFull(X)\n",
    "\n",
    "\n",
    "# @show(norm(K1'K1 - X));\n"
   ]
  },
  {
   "cell_type": "code",
   "execution_count": 4,
   "metadata": {},
   "outputs": [
    {
     "data": {
      "text/plain": [
       "ModifiedCholeskyFull (generic function with 1 method)"
      ]
     },
     "execution_count": 4,
     "metadata": {},
     "output_type": "execute_result"
    }
   ],
   "source": [
    "# modified Cholesky\n",
    "function ModifiedCholeskyFull(M)\n",
    "    ϵ = .1\n",
    "    tol = 1e-4;\n",
    "    \n",
    "    if isSymmetric(M)\n",
    "        (n,~) = size(M) \n",
    "\n",
    "        Rt = I(n)\n",
    "        for i in 1:n-1\n",
    "            (log_PD, R, M) = CholeskyIterate(M[i:end,i:end])\n",
    "            if log_PD\n",
    "                Rt = [I(i-1) zeros(i-1, n-i+1); zeros(n-i+1, i-1 ) R] * Rt\n",
    "            else\n",
    "                @printf(\"Using moified Cholesky step\\n\")\n",
    "                Rt = [I(i-1) zeros(i-1, n-i+1); zeros(n-i+1, i-1 ) R] * Rt\n",
    "            end                \n",
    "        end   \n",
    "        \n",
    "        if abs(M[2,2]) <= tol\n",
    "            @printf(\"Using moified Cholesky step\\n\")\n",
    "            Rt[n,n] = Rt[n,n] * ϵ\n",
    "        else\n",
    "            Rt[n,n] = Rt[n,n] * √(M[2,2])\n",
    "        end\n",
    "        \n",
    "        return Rt\n",
    "            \n",
    "    else\n",
    "        @printf(\"Matrix is not symmetric\\n\")\n",
    "        return nothing\n",
    "    end       \n",
    "end\n"
   ]
  },
  {
   "cell_type": "code",
   "execution_count": 5,
   "metadata": {},
   "outputs": [
    {
     "name": "stdout",
     "output_type": "stream",
     "text": [
      "Cholesky:\n",
      "Using moified Cholesky step\n",
      "norm(K1' * K1 - X) = 0.01000000000000223\n"
     ]
    }
   ],
   "source": [
    "x1 = randn(3)\n",
    "x2 = randn(3)\n",
    "x3 = randn(3)\n",
    "\n",
    "X = x1*x1' + x2*x2';\n",
    "@printf(\"Cholesky:\\n\")\n",
    "K1 = ModifiedCholeskyFull(X)\n",
    "\n",
    "@show(norm(K1'K1 - X));\n"
   ]
  },
  {
   "cell_type": "code",
   "execution_count": null,
   "metadata": {},
   "outputs": [],
   "source": []
  }
 ],
 "metadata": {
  "kernelspec": {
   "display_name": "Julia 1.3.1",
   "language": "julia",
   "name": "julia-1.3"
  },
  "language_info": {
   "file_extension": ".jl",
   "mimetype": "application/julia",
   "name": "julia",
   "version": "1.3.1"
  }
 },
 "nbformat": 4,
 "nbformat_minor": 2
}
