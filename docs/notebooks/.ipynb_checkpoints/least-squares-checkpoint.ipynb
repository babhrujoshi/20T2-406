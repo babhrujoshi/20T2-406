{
 "cells": [
  {
   "cell_type": "markdown",
   "metadata": {
    "slideshow": {
     "slide_type": "slide"
    }
   },
   "source": [
    "# Linear least-squares"
   ]
  },
  {
   "cell_type": "code",
   "execution_count": 23,
   "metadata": {},
   "outputs": [],
   "source": [
    "using Polynomials\n",
    "using Plots\n",
    "using Random:seed!\n",
    "using LinearAlgebra\n",
    "using Interact"
   ]
  },
  {
   "cell_type": "markdown",
   "metadata": {},
   "source": [
    "Let's create a polynomial with 5 roots."
   ]
  },
  {
   "cell_type": "code",
   "execution_count": 2,
   "metadata": {},
   "outputs": [
    {
     "data": {
      "text/html": [
       "24 &#43; 10&#8729;x &#45; 27&#8729;x<sup>2</sup> &#45; 11&#8729;x<sup>3</sup> &#43; 3&#8729;x<sup>4</sup> &#43; x<sup>5</sup>"
      ],
      "text/latex": [
       "$24 + 10\\cdot x - 27\\cdot x^{2} - 11\\cdot x^{3} + 3\\cdot x^{4} + x^{5}$"
      ],
      "text/plain": [
       "Poly(24 + 10*x - 27*x^2 - 11*x^3 + 3*x^4 + x^5)"
      ]
     },
     "execution_count": 2,
     "metadata": {},
     "output_type": "execute_result"
    }
   ],
   "source": [
    "p = poly( [-4, -2, -1, 1, 3] )"
   ]
  },
  {
   "cell_type": "markdown",
   "metadata": {},
   "source": [
    "Plot the polynomial and the roots."
   ]
  },
  {
   "cell_type": "code",
   "execution_count": 5,
   "metadata": {},
   "outputs": [
    {
     "data": {
      "image/svg+xml": [
       "<?xml version=\"1.0\" encoding=\"utf-8\"?>\n",
       "<svg xmlns=\"http://www.w3.org/2000/svg\" xmlns:xlink=\"http://www.w3.org/1999/xlink\" width=\"600\" height=\"400\" viewBox=\"0 0 2400 1600\">\n",
       "<defs>\n",
       "  <clipPath id=\"clip3100\">\n",
       "    <rect x=\"0\" y=\"0\" width=\"2400\" height=\"1600\"/>\n",
       "  </clipPath>\n",
       "</defs>\n",
       "<path clip-path=\"url(#clip3100)\" d=\"\n",
       "M0 1600 L2400 1600 L2400 0 L0 0  Z\n",
       "  \" fill=\"#ffffff\" fill-rule=\"evenodd\" fill-opacity=\"1\"/>\n",
       "<defs>\n",
       "  <clipPath id=\"clip3101\">\n",
       "    <rect x=\"480\" y=\"0\" width=\"1681\" height=\"1600\"/>\n",
       "  </clipPath>\n",
       "</defs>\n",
       "<path clip-path=\"url(#clip3100)\" d=\"\n",
       "M168.627 1487.47 L2352.76 1487.47 L2352.76 47.2441 L168.627 47.2441  Z\n",
       "  \" fill=\"#ffffff\" fill-rule=\"evenodd\" fill-opacity=\"1\"/>\n",
       "<defs>\n",
       "  <clipPath id=\"clip3102\">\n",
       "    <rect x=\"168\" y=\"47\" width=\"2185\" height=\"1441\"/>\n",
       "  </clipPath>\n",
       "</defs>\n",
       "<polyline clip-path=\"url(#clip3102)\" style=\"stroke:#000000; stroke-width:2; stroke-opacity:0.1; fill:none\" points=\"\n",
       "  259.06,1487.47 259.06,47.2441 \n",
       "  \"/>\n",
       "<polyline clip-path=\"url(#clip3102)\" style=\"stroke:#000000; stroke-width:2; stroke-opacity:0.1; fill:none\" points=\"\n",
       "  831.421,1487.47 831.421,47.2441 \n",
       "  \"/>\n",
       "<polyline clip-path=\"url(#clip3102)\" style=\"stroke:#000000; stroke-width:2; stroke-opacity:0.1; fill:none\" points=\"\n",
       "  1403.78,1487.47 1403.78,47.2441 \n",
       "  \"/>\n",
       "<polyline clip-path=\"url(#clip3102)\" style=\"stroke:#000000; stroke-width:2; stroke-opacity:0.1; fill:none\" points=\"\n",
       "  1976.14,1487.47 1976.14,47.2441 \n",
       "  \"/>\n",
       "<polyline clip-path=\"url(#clip3102)\" style=\"stroke:#000000; stroke-width:2; stroke-opacity:0.1; fill:none\" points=\"\n",
       "  168.627,1384.22 2352.76,1384.22 \n",
       "  \"/>\n",
       "<polyline clip-path=\"url(#clip3102)\" style=\"stroke:#000000; stroke-width:2; stroke-opacity:0.1; fill:none\" points=\"\n",
       "  168.627,1138.55 2352.76,1138.55 \n",
       "  \"/>\n",
       "<polyline clip-path=\"url(#clip3102)\" style=\"stroke:#000000; stroke-width:2; stroke-opacity:0.1; fill:none\" points=\"\n",
       "  168.627,892.878 2352.76,892.878 \n",
       "  \"/>\n",
       "<polyline clip-path=\"url(#clip3102)\" style=\"stroke:#000000; stroke-width:2; stroke-opacity:0.1; fill:none\" points=\"\n",
       "  168.627,647.209 2352.76,647.209 \n",
       "  \"/>\n",
       "<polyline clip-path=\"url(#clip3102)\" style=\"stroke:#000000; stroke-width:2; stroke-opacity:0.1; fill:none\" points=\"\n",
       "  168.627,401.54 2352.76,401.54 \n",
       "  \"/>\n",
       "<polyline clip-path=\"url(#clip3102)\" style=\"stroke:#000000; stroke-width:2; stroke-opacity:0.1; fill:none\" points=\"\n",
       "  168.627,155.87 2352.76,155.87 \n",
       "  \"/>\n",
       "<polyline clip-path=\"url(#clip3100)\" style=\"stroke:#000000; stroke-width:4; stroke-opacity:1; fill:none\" points=\"\n",
       "  168.627,1487.47 2352.76,1487.47 \n",
       "  \"/>\n",
       "<polyline clip-path=\"url(#clip3100)\" style=\"stroke:#000000; stroke-width:4; stroke-opacity:1; fill:none\" points=\"\n",
       "  168.627,1487.47 168.627,47.2441 \n",
       "  \"/>\n",
       "<polyline clip-path=\"url(#clip3100)\" style=\"stroke:#000000; stroke-width:4; stroke-opacity:1; fill:none\" points=\"\n",
       "  259.06,1487.47 259.06,1470.19 \n",
       "  \"/>\n",
       "<polyline clip-path=\"url(#clip3100)\" style=\"stroke:#000000; stroke-width:4; stroke-opacity:1; fill:none\" points=\"\n",
       "  831.421,1487.47 831.421,1470.19 \n",
       "  \"/>\n",
       "<polyline clip-path=\"url(#clip3100)\" style=\"stroke:#000000; stroke-width:4; stroke-opacity:1; fill:none\" points=\"\n",
       "  1403.78,1487.47 1403.78,1470.19 \n",
       "  \"/>\n",
       "<polyline clip-path=\"url(#clip3100)\" style=\"stroke:#000000; stroke-width:4; stroke-opacity:1; fill:none\" points=\"\n",
       "  1976.14,1487.47 1976.14,1470.19 \n",
       "  \"/>\n",
       "<polyline clip-path=\"url(#clip3100)\" style=\"stroke:#000000; stroke-width:4; stroke-opacity:1; fill:none\" points=\"\n",
       "  168.627,1384.22 194.836,1384.22 \n",
       "  \"/>\n",
       "<polyline clip-path=\"url(#clip3100)\" style=\"stroke:#000000; stroke-width:4; stroke-opacity:1; fill:none\" points=\"\n",
       "  168.627,1138.55 194.836,1138.55 \n",
       "  \"/>\n",
       "<polyline clip-path=\"url(#clip3100)\" style=\"stroke:#000000; stroke-width:4; stroke-opacity:1; fill:none\" points=\"\n",
       "  168.627,892.878 194.836,892.878 \n",
       "  \"/>\n",
       "<polyline clip-path=\"url(#clip3100)\" style=\"stroke:#000000; stroke-width:4; stroke-opacity:1; fill:none\" points=\"\n",
       "  168.627,647.209 194.836,647.209 \n",
       "  \"/>\n",
       "<polyline clip-path=\"url(#clip3100)\" style=\"stroke:#000000; stroke-width:4; stroke-opacity:1; fill:none\" points=\"\n",
       "  168.627,401.54 194.836,401.54 \n",
       "  \"/>\n",
       "<polyline clip-path=\"url(#clip3100)\" style=\"stroke:#000000; stroke-width:4; stroke-opacity:1; fill:none\" points=\"\n",
       "  168.627,155.87 194.836,155.87 \n",
       "  \"/>\n",
       "<g clip-path=\"url(#clip3100)\">\n",
       "<text style=\"fill:#000000; fill-opacity:1; font-family:Arial,Helvetica Neue,Helvetica,sans-serif; font-size:48px; text-anchor:middle;\" transform=\"rotate(0, 259.06, 1541.47)\" x=\"259.06\" y=\"1541.47\">-4</text>\n",
       "</g>\n",
       "<g clip-path=\"url(#clip3100)\">\n",
       "<text style=\"fill:#000000; fill-opacity:1; font-family:Arial,Helvetica Neue,Helvetica,sans-serif; font-size:48px; text-anchor:middle;\" transform=\"rotate(0, 831.421, 1541.47)\" x=\"831.421\" y=\"1541.47\">-2</text>\n",
       "</g>\n",
       "<g clip-path=\"url(#clip3100)\">\n",
       "<text style=\"fill:#000000; fill-opacity:1; font-family:Arial,Helvetica Neue,Helvetica,sans-serif; font-size:48px; text-anchor:middle;\" transform=\"rotate(0, 1403.78, 1541.47)\" x=\"1403.78\" y=\"1541.47\">0</text>\n",
       "</g>\n",
       "<g clip-path=\"url(#clip3100)\">\n",
       "<text style=\"fill:#000000; fill-opacity:1; font-family:Arial,Helvetica Neue,Helvetica,sans-serif; font-size:48px; text-anchor:middle;\" transform=\"rotate(0, 1976.14, 1541.47)\" x=\"1976.14\" y=\"1541.47\">2</text>\n",
       "</g>\n",
       "<g clip-path=\"url(#clip3100)\">\n",
       "<text style=\"fill:#000000; fill-opacity:1; font-family:Arial,Helvetica Neue,Helvetica,sans-serif; font-size:48px; text-anchor:end;\" transform=\"rotate(0, 144.627, 1401.72)\" x=\"144.627\" y=\"1401.72\">-75</text>\n",
       "</g>\n",
       "<g clip-path=\"url(#clip3100)\">\n",
       "<text style=\"fill:#000000; fill-opacity:1; font-family:Arial,Helvetica Neue,Helvetica,sans-serif; font-size:48px; text-anchor:end;\" transform=\"rotate(0, 144.627, 1156.05)\" x=\"144.627\" y=\"1156.05\">-50</text>\n",
       "</g>\n",
       "<g clip-path=\"url(#clip3100)\">\n",
       "<text style=\"fill:#000000; fill-opacity:1; font-family:Arial,Helvetica Neue,Helvetica,sans-serif; font-size:48px; text-anchor:end;\" transform=\"rotate(0, 144.627, 910.378)\" x=\"144.627\" y=\"910.378\">-25</text>\n",
       "</g>\n",
       "<g clip-path=\"url(#clip3100)\">\n",
       "<text style=\"fill:#000000; fill-opacity:1; font-family:Arial,Helvetica Neue,Helvetica,sans-serif; font-size:48px; text-anchor:end;\" transform=\"rotate(0, 144.627, 664.709)\" x=\"144.627\" y=\"664.709\">0</text>\n",
       "</g>\n",
       "<g clip-path=\"url(#clip3100)\">\n",
       "<text style=\"fill:#000000; fill-opacity:1; font-family:Arial,Helvetica Neue,Helvetica,sans-serif; font-size:48px; text-anchor:end;\" transform=\"rotate(0, 144.627, 419.04)\" x=\"144.627\" y=\"419.04\">25</text>\n",
       "</g>\n",
       "<g clip-path=\"url(#clip3100)\">\n",
       "<text style=\"fill:#000000; fill-opacity:1; font-family:Arial,Helvetica Neue,Helvetica,sans-serif; font-size:48px; text-anchor:end;\" transform=\"rotate(0, 144.627, 173.37)\" x=\"144.627\" y=\"173.37\">50</text>\n",
       "</g>\n",
       "<polyline clip-path=\"url(#clip3102)\" style=\"stroke:#009af9; stroke-width:4; stroke-opacity:1; fill:none\" points=\"\n",
       "  230.442,878.852 235.472,834.348 240.503,791.499 245.534,750.273 250.564,710.635 262.193,624.905 273.822,547.084 285.451,476.781 297.08,413.616 308.708,357.219 \n",
       "  320.337,307.229 331.966,263.3 343.595,225.091 355.224,192.274 366.853,164.531 378.481,141.553 390.11,123.041 413.368,98.2669 436.626,88.0053 464.579,91.9832 \n",
       "  492.533,110.668 520.487,141.052 548.441,180.403 595.71,260.573 642.979,349.182 694.326,445.347 745.674,533.43 793.012,602.297 840.349,656.109 865.725,678.099 \n",
       "  891.101,695.12 916.476,707.142 941.852,714.225 971.252,716.441 1000.65,712.554 1030.05,703.024 1059.45,688.415 1111.71,652.007 1163.96,605.948 1209.78,561.413 \n",
       "  1255.61,516.618 1305.57,471.61 1355.52,434.94 1405.78,410.693 1456.04,402.893 1483.82,406.804 1511.6,417.116 1539.38,434.152 1567.17,458.13 1593.6,487.488 \n",
       "  1620.03,523.218 1646.47,565.2 1672.9,613.199 1727.87,730.555 1782.84,867.086 1829.12,991.161 1875.39,1116.87 1903.64,1191.03 1931.88,1260.66 1960.13,1323.32 \n",
       "  1988.38,1376.32 2014.93,1414.67 2041.49,1439.12 2054.76,1445.22 2068.04,1446.71 2081.32,1443.2 2094.59,1434.25 2115.86,1407.47 2137.13,1363.71 2147.77,1334.83 \n",
       "  2158.4,1300.94 2169.04,1261.78 2179.67,1217.06 2190.31,1166.49 2200.94,1109.8 2211.58,1046.68 2222.21,976.82 2232.85,899.911 2243.48,815.629 2254.12,723.644 \n",
       "  2264.75,623.619 2271.3,557.898 2277.85,488.917 2284.39,416.593 2290.94,340.842 \n",
       "  \"/>\n",
       "<circle clip-path=\"url(#clip3102)\" style=\"fill:#000000; stroke:none; fill-opacity:1\" cx=\"259.06\" cy=\"647.209\" r=\"18\"/>\n",
       "<circle clip-path=\"url(#clip3102)\" style=\"fill:#e26f46; stroke:none; fill-opacity:1\" cx=\"259.06\" cy=\"647.209\" r=\"14\"/>\n",
       "<circle clip-path=\"url(#clip3102)\" style=\"fill:#000000; stroke:none; fill-opacity:1\" cx=\"831.421\" cy=\"647.209\" r=\"18\"/>\n",
       "<circle clip-path=\"url(#clip3102)\" style=\"fill:#e26f46; stroke:none; fill-opacity:1\" cx=\"831.421\" cy=\"647.209\" r=\"14\"/>\n",
       "<circle clip-path=\"url(#clip3102)\" style=\"fill:#000000; stroke:none; fill-opacity:1\" cx=\"1117.6\" cy=\"647.209\" r=\"18\"/>\n",
       "<circle clip-path=\"url(#clip3102)\" style=\"fill:#e26f46; stroke:none; fill-opacity:1\" cx=\"1117.6\" cy=\"647.209\" r=\"14\"/>\n",
       "<circle clip-path=\"url(#clip3102)\" style=\"fill:#000000; stroke:none; fill-opacity:1\" cx=\"1689.96\" cy=\"647.209\" r=\"18\"/>\n",
       "<circle clip-path=\"url(#clip3102)\" style=\"fill:#e26f46; stroke:none; fill-opacity:1\" cx=\"1689.96\" cy=\"647.209\" r=\"14\"/>\n",
       "<circle clip-path=\"url(#clip3102)\" style=\"fill:#000000; stroke:none; fill-opacity:1\" cx=\"2262.32\" cy=\"647.209\" r=\"18\"/>\n",
       "<circle clip-path=\"url(#clip3102)\" style=\"fill:#e26f46; stroke:none; fill-opacity:1\" cx=\"2262.32\" cy=\"647.209\" r=\"14\"/>\n",
       "<path clip-path=\"url(#clip3100)\" d=\"\n",
       "M1989.93 312.204 L2280.76 312.204 L2280.76 130.764 L1989.93 130.764  Z\n",
       "  \" fill=\"#ffffff\" fill-rule=\"evenodd\" fill-opacity=\"1\"/>\n",
       "<polyline clip-path=\"url(#clip3100)\" style=\"stroke:#000000; stroke-width:4; stroke-opacity:1; fill:none\" points=\"\n",
       "  1989.93,312.204 2280.76,312.204 2280.76,130.764 1989.93,130.764 1989.93,312.204 \n",
       "  \"/>\n",
       "<polyline clip-path=\"url(#clip3100)\" style=\"stroke:#009af9; stroke-width:4; stroke-opacity:1; fill:none\" points=\"\n",
       "  2013.93,191.244 2157.93,191.244 \n",
       "  \"/>\n",
       "<g clip-path=\"url(#clip3100)\">\n",
       "<text style=\"fill:#000000; fill-opacity:1; font-family:Arial,Helvetica Neue,Helvetica,sans-serif; font-size:48px; text-anchor:start;\" transform=\"rotate(0, 2181.93, 208.744)\" x=\"2181.93\" y=\"208.744\">y1</text>\n",
       "</g>\n",
       "<circle clip-path=\"url(#clip3100)\" style=\"fill:#000000; stroke:none; fill-opacity:1\" cx=\"2097.93\" cy=\"251.724\" r=\"25\"/>\n",
       "<circle clip-path=\"url(#clip3100)\" style=\"fill:#e26f46; stroke:none; fill-opacity:1\" cx=\"2097.93\" cy=\"251.724\" r=\"21\"/>\n",
       "<g clip-path=\"url(#clip3100)\">\n",
       "<text style=\"fill:#000000; fill-opacity:1; font-family:Arial,Helvetica Neue,Helvetica,sans-serif; font-size:48px; text-anchor:start;\" transform=\"rotate(0, 2181.93, 269.224)\" x=\"2181.93\" y=\"269.224\">y2</text>\n",
       "</g>\n",
       "</svg>\n"
      ]
     },
     "execution_count": 5,
     "metadata": {},
     "output_type": "execute_result"
    }
   ],
   "source": [
    "xlim = (-4.1, 3.1)\n",
    "plot( t->p(t), xlim... )\n",
    "r = roots(p)\n",
    "scatter!(r, zeros(length(r)))"
   ]
  },
  {
   "cell_type": "markdown",
   "metadata": {},
   "source": [
    "The following function samples the polynomial $p(t)$ at $m$ random points $t_1,t_2,\\ldots,t_m$, and adds noise with magnitude $\\eta$."
   ]
  },
  {
   "cell_type": "code",
   "execution_count": 37,
   "metadata": {},
   "outputs": [],
   "source": [
    "function gen_data(p, m, η=20)\n",
    "   seed!(0)\n",
    "   t = randn(m)\n",
    "   noise = randn(m); noise *= η/norm(noise)\n",
    "   b = p(t) + noise\n",
    "   return t, b\n",
    "end;"
   ]
  },
  {
   "cell_type": "markdown",
   "metadata": {},
   "source": [
    "Use this data generator to create $m=100$ noisy samples from the polynomial:"
   ]
  },
  {
   "cell_type": "code",
   "execution_count": 38,
   "metadata": {},
   "outputs": [
    {
     "data": {
      "image/svg+xml": [
       "<?xml version=\"1.0\" encoding=\"utf-8\"?>\n",
       "<svg xmlns=\"http://www.w3.org/2000/svg\" xmlns:xlink=\"http://www.w3.org/1999/xlink\" width=\"600\" height=\"400\" viewBox=\"0 0 2400 1600\">\n",
       "<defs>\n",
       "  <clipPath id=\"clip1900\">\n",
       "    <rect x=\"0\" y=\"0\" width=\"2400\" height=\"1600\"/>\n",
       "  </clipPath>\n",
       "</defs>\n",
       "<path clip-path=\"url(#clip1900)\" d=\"\n",
       "M0 1600 L2400 1600 L2400 0 L0 0  Z\n",
       "  \" fill=\"#ffffff\" fill-rule=\"evenodd\" fill-opacity=\"1\"/>\n",
       "<defs>\n",
       "  <clipPath id=\"clip1901\">\n",
       "    <rect x=\"480\" y=\"0\" width=\"1681\" height=\"1600\"/>\n",
       "  </clipPath>\n",
       "</defs>\n",
       "<path clip-path=\"url(#clip1900)\" d=\"\n",
       "M195.389 1487.47 L2352.76 1487.47 L2352.76 47.2441 L195.389 47.2441  Z\n",
       "  \" fill=\"#ffffff\" fill-rule=\"evenodd\" fill-opacity=\"1\"/>\n",
       "<defs>\n",
       "  <clipPath id=\"clip1902\">\n",
       "    <rect x=\"195\" y=\"47\" width=\"2158\" height=\"1441\"/>\n",
       "  </clipPath>\n",
       "</defs>\n",
       "<polyline clip-path=\"url(#clip1902)\" style=\"stroke:#000000; stroke-width:2; stroke-opacity:0.1; fill:none\" points=\"\n",
       "  225.353,1487.47 225.353,47.2441 \n",
       "  \"/>\n",
       "<polyline clip-path=\"url(#clip1902)\" style=\"stroke:#000000; stroke-width:2; stroke-opacity:0.1; fill:none\" points=\"\n",
       "  824.621,1487.47 824.621,47.2441 \n",
       "  \"/>\n",
       "<polyline clip-path=\"url(#clip1902)\" style=\"stroke:#000000; stroke-width:2; stroke-opacity:0.1; fill:none\" points=\"\n",
       "  1423.89,1487.47 1423.89,47.2441 \n",
       "  \"/>\n",
       "<polyline clip-path=\"url(#clip1902)\" style=\"stroke:#000000; stroke-width:2; stroke-opacity:0.1; fill:none\" points=\"\n",
       "  2023.16,1487.47 2023.16,47.2441 \n",
       "  \"/>\n",
       "<polyline clip-path=\"url(#clip1902)\" style=\"stroke:#000000; stroke-width:2; stroke-opacity:0.1; fill:none\" points=\"\n",
       "  195.389,1487.47 2352.76,1487.47 \n",
       "  \"/>\n",
       "<polyline clip-path=\"url(#clip1902)\" style=\"stroke:#000000; stroke-width:2; stroke-opacity:0.1; fill:none\" points=\"\n",
       "  195.389,1037.4 2352.76,1037.4 \n",
       "  \"/>\n",
       "<polyline clip-path=\"url(#clip1902)\" style=\"stroke:#000000; stroke-width:2; stroke-opacity:0.1; fill:none\" points=\"\n",
       "  195.389,587.331 2352.76,587.331 \n",
       "  \"/>\n",
       "<polyline clip-path=\"url(#clip1902)\" style=\"stroke:#000000; stroke-width:2; stroke-opacity:0.1; fill:none\" points=\"\n",
       "  195.389,137.259 2352.76,137.259 \n",
       "  \"/>\n",
       "<polyline clip-path=\"url(#clip1900)\" style=\"stroke:#000000; stroke-width:4; stroke-opacity:1; fill:none\" points=\"\n",
       "  195.389,1487.47 2352.76,1487.47 \n",
       "  \"/>\n",
       "<polyline clip-path=\"url(#clip1900)\" style=\"stroke:#000000; stroke-width:4; stroke-opacity:1; fill:none\" points=\"\n",
       "  195.389,1487.47 195.389,47.2441 \n",
       "  \"/>\n",
       "<polyline clip-path=\"url(#clip1900)\" style=\"stroke:#000000; stroke-width:4; stroke-opacity:1; fill:none\" points=\"\n",
       "  225.353,1487.47 225.353,1470.19 \n",
       "  \"/>\n",
       "<polyline clip-path=\"url(#clip1900)\" style=\"stroke:#000000; stroke-width:4; stroke-opacity:1; fill:none\" points=\"\n",
       "  824.621,1487.47 824.621,1470.19 \n",
       "  \"/>\n",
       "<polyline clip-path=\"url(#clip1900)\" style=\"stroke:#000000; stroke-width:4; stroke-opacity:1; fill:none\" points=\"\n",
       "  1423.89,1487.47 1423.89,1470.19 \n",
       "  \"/>\n",
       "<polyline clip-path=\"url(#clip1900)\" style=\"stroke:#000000; stroke-width:4; stroke-opacity:1; fill:none\" points=\"\n",
       "  2023.16,1487.47 2023.16,1470.19 \n",
       "  \"/>\n",
       "<polyline clip-path=\"url(#clip1900)\" style=\"stroke:#000000; stroke-width:4; stroke-opacity:1; fill:none\" points=\"\n",
       "  195.389,1487.47 221.278,1487.47 \n",
       "  \"/>\n",
       "<polyline clip-path=\"url(#clip1900)\" style=\"stroke:#000000; stroke-width:4; stroke-opacity:1; fill:none\" points=\"\n",
       "  195.389,1037.4 221.278,1037.4 \n",
       "  \"/>\n",
       "<polyline clip-path=\"url(#clip1900)\" style=\"stroke:#000000; stroke-width:4; stroke-opacity:1; fill:none\" points=\"\n",
       "  195.389,587.331 221.278,587.331 \n",
       "  \"/>\n",
       "<polyline clip-path=\"url(#clip1900)\" style=\"stroke:#000000; stroke-width:4; stroke-opacity:1; fill:none\" points=\"\n",
       "  195.389,137.259 221.278,137.259 \n",
       "  \"/>\n",
       "<g clip-path=\"url(#clip1900)\">\n",
       "<text style=\"fill:#000000; fill-opacity:1; font-family:Arial,Helvetica Neue,Helvetica,sans-serif; font-size:48px; text-anchor:middle;\" transform=\"rotate(0, 225.353, 1541.47)\" x=\"225.353\" y=\"1541.47\">-4</text>\n",
       "</g>\n",
       "<g clip-path=\"url(#clip1900)\">\n",
       "<text style=\"fill:#000000; fill-opacity:1; font-family:Arial,Helvetica Neue,Helvetica,sans-serif; font-size:48px; text-anchor:middle;\" transform=\"rotate(0, 824.621, 1541.47)\" x=\"824.621\" y=\"1541.47\">-2</text>\n",
       "</g>\n",
       "<g clip-path=\"url(#clip1900)\">\n",
       "<text style=\"fill:#000000; fill-opacity:1; font-family:Arial,Helvetica Neue,Helvetica,sans-serif; font-size:48px; text-anchor:middle;\" transform=\"rotate(0, 1423.89, 1541.47)\" x=\"1423.89\" y=\"1541.47\">0</text>\n",
       "</g>\n",
       "<g clip-path=\"url(#clip1900)\">\n",
       "<text style=\"fill:#000000; fill-opacity:1; font-family:Arial,Helvetica Neue,Helvetica,sans-serif; font-size:48px; text-anchor:middle;\" transform=\"rotate(0, 2023.16, 1541.47)\" x=\"2023.16\" y=\"1541.47\">2</text>\n",
       "</g>\n",
       "<g clip-path=\"url(#clip1900)\">\n",
       "<text style=\"fill:#000000; fill-opacity:1; font-family:Arial,Helvetica Neue,Helvetica,sans-serif; font-size:48px; text-anchor:end;\" transform=\"rotate(0, 171.389, 1504.97)\" x=\"171.389\" y=\"1504.97\">-100</text>\n",
       "</g>\n",
       "<g clip-path=\"url(#clip1900)\">\n",
       "<text style=\"fill:#000000; fill-opacity:1; font-family:Arial,Helvetica Neue,Helvetica,sans-serif; font-size:48px; text-anchor:end;\" transform=\"rotate(0, 171.389, 1054.9)\" x=\"171.389\" y=\"1054.9\">-50</text>\n",
       "</g>\n",
       "<g clip-path=\"url(#clip1900)\">\n",
       "<text style=\"fill:#000000; fill-opacity:1; font-family:Arial,Helvetica Neue,Helvetica,sans-serif; font-size:48px; text-anchor:end;\" transform=\"rotate(0, 171.389, 604.831)\" x=\"171.389\" y=\"604.831\">0</text>\n",
       "</g>\n",
       "<g clip-path=\"url(#clip1900)\">\n",
       "<text style=\"fill:#000000; fill-opacity:1; font-family:Arial,Helvetica Neue,Helvetica,sans-serif; font-size:48px; text-anchor:end;\" transform=\"rotate(0, 171.389, 154.759)\" x=\"171.389\" y=\"154.759\">50</text>\n",
       "</g>\n",
       "<circle clip-path=\"url(#clip1902)\" style=\"fill:#000000; stroke:none; fill-opacity:1\" cx=\"1627.37\" cy=\"457.735\" r=\"18\"/>\n",
       "<circle clip-path=\"url(#clip1902)\" style=\"fill:#009af9; stroke:none; fill-opacity:1\" cx=\"1627.37\" cy=\"457.735\" r=\"14\"/>\n",
       "<circle clip-path=\"url(#clip1902)\" style=\"fill:#000000; stroke:none; fill-opacity:1\" cx=\"1672.11\" cy=\"500.94\" r=\"18\"/>\n",
       "<circle clip-path=\"url(#clip1902)\" style=\"fill:#009af9; stroke:none; fill-opacity:1\" cx=\"1672.11\" cy=\"500.94\" r=\"14\"/>\n",
       "<circle clip-path=\"url(#clip1902)\" style=\"fill:#000000; stroke:none; fill-opacity:1\" cx=\"1318.12\" cy=\"426.259\" r=\"18\"/>\n",
       "<circle clip-path=\"url(#clip1902)\" style=\"fill:#009af9; stroke:none; fill-opacity:1\" cx=\"1318.12\" cy=\"426.259\" r=\"14\"/>\n",
       "<circle clip-path=\"url(#clip1902)\" style=\"fill:#000000; stroke:none; fill-opacity:1\" cx=\"1383.48\" cy=\"389.738\" r=\"18\"/>\n",
       "<circle clip-path=\"url(#clip1902)\" style=\"fill:#009af9; stroke:none; fill-opacity:1\" cx=\"1383.48\" cy=\"389.738\" r=\"14\"/>\n",
       "<circle clip-path=\"url(#clip1902)\" style=\"fill:#000000; stroke:none; fill-opacity:1\" cx=\"1599.66\" cy=\"438.003\" r=\"18\"/>\n",
       "<circle clip-path=\"url(#clip1902)\" style=\"fill:#009af9; stroke:none; fill-opacity:1\" cx=\"1599.66\" cy=\"438.003\" r=\"14\"/>\n",
       "<circle clip-path=\"url(#clip1902)\" style=\"fill:#000000; stroke:none; fill-opacity:1\" cx=\"1512.98\" cy=\"357.697\" r=\"18\"/>\n",
       "<circle clip-path=\"url(#clip1902)\" style=\"fill:#009af9; stroke:none; fill-opacity:1\" cx=\"1512.98\" cy=\"357.697\" r=\"14\"/>\n",
       "<circle clip-path=\"url(#clip1902)\" style=\"fill:#000000; stroke:none; fill-opacity:1\" cx=\"1443.35\" cy=\"383.342\" r=\"18\"/>\n",
       "<circle clip-path=\"url(#clip1902)\" style=\"fill:#009af9; stroke:none; fill-opacity:1\" cx=\"1443.35\" cy=\"383.342\" r=\"14\"/>\n",
       "<circle clip-path=\"url(#clip1902)\" style=\"fill:#000000; stroke:none; fill-opacity:1\" cx=\"1391.22\" cy=\"366.512\" r=\"18\"/>\n",
       "<circle clip-path=\"url(#clip1902)\" style=\"fill:#009af9; stroke:none; fill-opacity:1\" cx=\"1391.22\" cy=\"366.512\" r=\"14\"/>\n",
       "<circle clip-path=\"url(#clip1902)\" style=\"fill:#000000; stroke:none; fill-opacity:1\" cx=\"1269.81\" cy=\"486.337\" r=\"18\"/>\n",
       "<circle clip-path=\"url(#clip1902)\" style=\"fill:#009af9; stroke:none; fill-opacity:1\" cx=\"1269.81\" cy=\"486.337\" r=\"14\"/>\n",
       "<circle clip-path=\"url(#clip1902)\" style=\"fill:#000000; stroke:none; fill-opacity:1\" cx=\"1895.61\" cy=\"956.378\" r=\"18\"/>\n",
       "<circle clip-path=\"url(#clip1902)\" style=\"fill:#009af9; stroke:none; fill-opacity:1\" cx=\"1895.61\" cy=\"956.378\" r=\"14\"/>\n",
       "<circle clip-path=\"url(#clip1902)\" style=\"fill:#000000; stroke:none; fill-opacity:1\" cx=\"1217.47\" cy=\"516.794\" r=\"18\"/>\n",
       "<circle clip-path=\"url(#clip1902)\" style=\"fill:#009af9; stroke:none; fill-opacity:1\" cx=\"1217.47\" cy=\"516.794\" r=\"14\"/>\n",
       "<circle clip-path=\"url(#clip1902)\" style=\"fill:#000000; stroke:none; fill-opacity:1\" cx=\"1195.33\" cy=\"513.986\" r=\"18\"/>\n",
       "<circle clip-path=\"url(#clip1902)\" style=\"fill:#009af9; stroke:none; fill-opacity:1\" cx=\"1195.33\" cy=\"513.986\" r=\"14\"/>\n",
       "<circle clip-path=\"url(#clip1902)\" style=\"fill:#000000; stroke:none; fill-opacity:1\" cx=\"1542.99\" cy=\"399.416\" r=\"18\"/>\n",
       "<circle clip-path=\"url(#clip1902)\" style=\"fill:#009af9; stroke:none; fill-opacity:1\" cx=\"1542.99\" cy=\"399.416\" r=\"14\"/>\n",
       "<circle clip-path=\"url(#clip1902)\" style=\"fill:#000000; stroke:none; fill-opacity:1\" cx=\"1667.08\" cy=\"484.919\" r=\"18\"/>\n",
       "<circle clip-path=\"url(#clip1902)\" style=\"fill:#009af9; stroke:none; fill-opacity:1\" cx=\"1667.08\" cy=\"484.919\" r=\"14\"/>\n",
       "<circle clip-path=\"url(#clip1902)\" style=\"fill:#000000; stroke:none; fill-opacity:1\" cx=\"1320.11\" cy=\"427.136\" r=\"18\"/>\n",
       "<circle clip-path=\"url(#clip1902)\" style=\"fill:#009af9; stroke:none; fill-opacity:1\" cx=\"1320.11\" cy=\"427.136\" r=\"14\"/>\n",
       "<circle clip-path=\"url(#clip1902)\" style=\"fill:#000000; stroke:none; fill-opacity:1\" cx=\"1367.69\" cy=\"404.109\" r=\"18\"/>\n",
       "<circle clip-path=\"url(#clip1902)\" style=\"fill:#009af9; stroke:none; fill-opacity:1\" cx=\"1367.69\" cy=\"404.109\" r=\"14\"/>\n",
       "<circle clip-path=\"url(#clip1902)\" style=\"fill:#000000; stroke:none; fill-opacity:1\" cx=\"942.301\" cy=\"666.844\" r=\"18\"/>\n",
       "<circle clip-path=\"url(#clip1902)\" style=\"fill:#009af9; stroke:none; fill-opacity:1\" cx=\"942.301\" cy=\"666.844\" r=\"14\"/>\n",
       "<circle clip-path=\"url(#clip1902)\" style=\"fill:#000000; stroke:none; fill-opacity:1\" cx=\"680.559\" cy=\"415.8\" r=\"18\"/>\n",
       "<circle clip-path=\"url(#clip1902)\" style=\"fill:#009af9; stroke:none; fill-opacity:1\" cx=\"680.559\" cy=\"415.8\" r=\"14\"/>\n",
       "<circle clip-path=\"url(#clip1902)\" style=\"fill:#000000; stroke:none; fill-opacity:1\" cx=\"2105.93\" cy=\"1326.74\" r=\"18\"/>\n",
       "<circle clip-path=\"url(#clip1902)\" style=\"fill:#009af9; stroke:none; fill-opacity:1\" cx=\"2105.93\" cy=\"1326.74\" r=\"14\"/>\n",
       "<circle clip-path=\"url(#clip1902)\" style=\"fill:#000000; stroke:none; fill-opacity:1\" cx=\"1489.72\" cy=\"361.683\" r=\"18\"/>\n",
       "<circle clip-path=\"url(#clip1902)\" style=\"fill:#009af9; stroke:none; fill-opacity:1\" cx=\"1489.72\" cy=\"361.683\" r=\"14\"/>\n",
       "<circle clip-path=\"url(#clip1902)\" style=\"fill:#000000; stroke:none; fill-opacity:1\" cx=\"1388.79\" cy=\"412.687\" r=\"18\"/>\n",
       "<circle clip-path=\"url(#clip1902)\" style=\"fill:#009af9; stroke:none; fill-opacity:1\" cx=\"1388.79\" cy=\"412.687\" r=\"14\"/>\n",
       "<circle clip-path=\"url(#clip1902)\" style=\"fill:#000000; stroke:none; fill-opacity:1\" cx=\"1243.73\" cy=\"516.751\" r=\"18\"/>\n",
       "<circle clip-path=\"url(#clip1902)\" style=\"fill:#009af9; stroke:none; fill-opacity:1\" cx=\"1243.73\" cy=\"516.751\" r=\"14\"/>\n",
       "<circle clip-path=\"url(#clip1902)\" style=\"fill:#000000; stroke:none; fill-opacity:1\" cx=\"1766.15\" cy=\"675.268\" r=\"18\"/>\n",
       "<circle clip-path=\"url(#clip1902)\" style=\"fill:#009af9; stroke:none; fill-opacity:1\" cx=\"1766.15\" cy=\"675.268\" r=\"14\"/>\n",
       "<circle clip-path=\"url(#clip1902)\" style=\"fill:#000000; stroke:none; fill-opacity:1\" cx=\"1397.34\" cy=\"380.042\" r=\"18\"/>\n",
       "<circle clip-path=\"url(#clip1902)\" style=\"fill:#009af9; stroke:none; fill-opacity:1\" cx=\"1397.34\" cy=\"380.042\" r=\"14\"/>\n",
       "<circle clip-path=\"url(#clip1902)\" style=\"fill:#000000; stroke:none; fill-opacity:1\" cx=\"1507.63\" cy=\"365.104\" r=\"18\"/>\n",
       "<circle clip-path=\"url(#clip1902)\" style=\"fill:#009af9; stroke:none; fill-opacity:1\" cx=\"1507.63\" cy=\"365.104\" r=\"14\"/>\n",
       "<circle clip-path=\"url(#clip1902)\" style=\"fill:#000000; stroke:none; fill-opacity:1\" cx=\"1457.28\" cy=\"318.794\" r=\"18\"/>\n",
       "<circle clip-path=\"url(#clip1902)\" style=\"fill:#009af9; stroke:none; fill-opacity:1\" cx=\"1457.28\" cy=\"318.794\" r=\"14\"/>\n",
       "<circle clip-path=\"url(#clip1902)\" style=\"fill:#000000; stroke:none; fill-opacity:1\" cx=\"1316.66\" cy=\"441.367\" r=\"18\"/>\n",
       "<circle clip-path=\"url(#clip1902)\" style=\"fill:#009af9; stroke:none; fill-opacity:1\" cx=\"1316.66\" cy=\"441.367\" r=\"14\"/>\n",
       "<circle clip-path=\"url(#clip1902)\" style=\"fill:#000000; stroke:none; fill-opacity:1\" cx=\"1565.83\" cy=\"393.074\" r=\"18\"/>\n",
       "<circle clip-path=\"url(#clip1902)\" style=\"fill:#009af9; stroke:none; fill-opacity:1\" cx=\"1565.83\" cy=\"393.074\" r=\"14\"/>\n",
       "<circle clip-path=\"url(#clip1902)\" style=\"fill:#000000; stroke:none; fill-opacity:1\" cx=\"1513.85\" cy=\"361.477\" r=\"18\"/>\n",
       "<circle clip-path=\"url(#clip1902)\" style=\"fill:#009af9; stroke:none; fill-opacity:1\" cx=\"1513.85\" cy=\"361.477\" r=\"14\"/>\n",
       "<circle clip-path=\"url(#clip1902)\" style=\"fill:#000000; stroke:none; fill-opacity:1\" cx=\"1195.37\" cy=\"554.711\" r=\"18\"/>\n",
       "<circle clip-path=\"url(#clip1902)\" style=\"fill:#009af9; stroke:none; fill-opacity:1\" cx=\"1195.37\" cy=\"554.711\" r=\"14\"/>\n",
       "<circle clip-path=\"url(#clip1902)\" style=\"fill:#000000; stroke:none; fill-opacity:1\" cx=\"1850.28\" cy=\"865.02\" r=\"18\"/>\n",
       "<circle clip-path=\"url(#clip1902)\" style=\"fill:#009af9; stroke:none; fill-opacity:1\" cx=\"1850.28\" cy=\"865.02\" r=\"14\"/>\n",
       "<circle clip-path=\"url(#clip1902)\" style=\"fill:#000000; stroke:none; fill-opacity:1\" cx=\"1546.26\" cy=\"395.821\" r=\"18\"/>\n",
       "<circle clip-path=\"url(#clip1902)\" style=\"fill:#009af9; stroke:none; fill-opacity:1\" cx=\"1546.26\" cy=\"395.821\" r=\"14\"/>\n",
       "<circle clip-path=\"url(#clip1902)\" style=\"fill:#000000; stroke:none; fill-opacity:1\" cx=\"1600.26\" cy=\"400.667\" r=\"18\"/>\n",
       "<circle clip-path=\"url(#clip1902)\" style=\"fill:#009af9; stroke:none; fill-opacity:1\" cx=\"1600.26\" cy=\"400.667\" r=\"14\"/>\n",
       "<circle clip-path=\"url(#clip1902)\" style=\"fill:#000000; stroke:none; fill-opacity:1\" cx=\"1335.11\" cy=\"417.573\" r=\"18\"/>\n",
       "<circle clip-path=\"url(#clip1902)\" style=\"fill:#009af9; stroke:none; fill-opacity:1\" cx=\"1335.11\" cy=\"417.573\" r=\"14\"/>\n",
       "<circle clip-path=\"url(#clip1902)\" style=\"fill:#000000; stroke:none; fill-opacity:1\" cx=\"1630.97\" cy=\"472.672\" r=\"18\"/>\n",
       "<circle clip-path=\"url(#clip1902)\" style=\"fill:#009af9; stroke:none; fill-opacity:1\" cx=\"1630.97\" cy=\"472.672\" r=\"14\"/>\n",
       "<circle clip-path=\"url(#clip1902)\" style=\"fill:#000000; stroke:none; fill-opacity:1\" cx=\"1575.77\" cy=\"415.096\" r=\"18\"/>\n",
       "<circle clip-path=\"url(#clip1902)\" style=\"fill:#009af9; stroke:none; fill-opacity:1\" cx=\"1575.77\" cy=\"415.096\" r=\"14\"/>\n",
       "<circle clip-path=\"url(#clip1902)\" style=\"fill:#000000; stroke:none; fill-opacity:1\" cx=\"1406.83\" cy=\"373.564\" r=\"18\"/>\n",
       "<circle clip-path=\"url(#clip1902)\" style=\"fill:#009af9; stroke:none; fill-opacity:1\" cx=\"1406.83\" cy=\"373.564\" r=\"14\"/>\n",
       "<circle clip-path=\"url(#clip1902)\" style=\"fill:#000000; stroke:none; fill-opacity:1\" cx=\"893.23\" cy=\"637.207\" r=\"18\"/>\n",
       "<circle clip-path=\"url(#clip1902)\" style=\"fill:#009af9; stroke:none; fill-opacity:1\" cx=\"893.23\" cy=\"637.207\" r=\"14\"/>\n",
       "<circle clip-path=\"url(#clip1902)\" style=\"fill:#000000; stroke:none; fill-opacity:1\" cx=\"1900.49\" cy=\"1011.76\" r=\"18\"/>\n",
       "<circle clip-path=\"url(#clip1902)\" style=\"fill:#009af9; stroke:none; fill-opacity:1\" cx=\"1900.49\" cy=\"1011.76\" r=\"14\"/>\n",
       "<circle clip-path=\"url(#clip1902)\" style=\"fill:#000000; stroke:none; fill-opacity:1\" cx=\"1842.5\" cy=\"834.95\" r=\"18\"/>\n",
       "<circle clip-path=\"url(#clip1902)\" style=\"fill:#009af9; stroke:none; fill-opacity:1\" cx=\"1842.5\" cy=\"834.95\" r=\"14\"/>\n",
       "<circle clip-path=\"url(#clip1902)\" style=\"fill:#000000; stroke:none; fill-opacity:1\" cx=\"1568.18\" cy=\"364.39\" r=\"18\"/>\n",
       "<circle clip-path=\"url(#clip1902)\" style=\"fill:#009af9; stroke:none; fill-opacity:1\" cx=\"1568.18\" cy=\"364.39\" r=\"14\"/>\n",
       "<circle clip-path=\"url(#clip1902)\" style=\"fill:#000000; stroke:none; fill-opacity:1\" cx=\"1327.42\" cy=\"364.632\" r=\"18\"/>\n",
       "<circle clip-path=\"url(#clip1902)\" style=\"fill:#009af9; stroke:none; fill-opacity:1\" cx=\"1327.42\" cy=\"364.632\" r=\"14\"/>\n",
       "<circle clip-path=\"url(#clip1902)\" style=\"fill:#000000; stroke:none; fill-opacity:1\" cx=\"1497.7\" cy=\"354.5\" r=\"18\"/>\n",
       "<circle clip-path=\"url(#clip1902)\" style=\"fill:#009af9; stroke:none; fill-opacity:1\" cx=\"1497.7\" cy=\"354.5\" r=\"14\"/>\n",
       "<circle clip-path=\"url(#clip1902)\" style=\"fill:#000000; stroke:none; fill-opacity:1\" cx=\"1370.32\" cy=\"372.512\" r=\"18\"/>\n",
       "<circle clip-path=\"url(#clip1902)\" style=\"fill:#009af9; stroke:none; fill-opacity:1\" cx=\"1370.32\" cy=\"372.512\" r=\"14\"/>\n",
       "<circle clip-path=\"url(#clip1902)\" style=\"fill:#000000; stroke:none; fill-opacity:1\" cx=\"981.066\" cy=\"647.694\" r=\"18\"/>\n",
       "<circle clip-path=\"url(#clip1902)\" style=\"fill:#009af9; stroke:none; fill-opacity:1\" cx=\"981.066\" cy=\"647.694\" r=\"14\"/>\n",
       "<circle clip-path=\"url(#clip1902)\" style=\"fill:#000000; stroke:none; fill-opacity:1\" cx=\"1368.33\" cy=\"388.88\" r=\"18\"/>\n",
       "<circle clip-path=\"url(#clip1902)\" style=\"fill:#009af9; stroke:none; fill-opacity:1\" cx=\"1368.33\" cy=\"388.88\" r=\"14\"/>\n",
       "<circle clip-path=\"url(#clip1902)\" style=\"fill:#000000; stroke:none; fill-opacity:1\" cx=\"1804.34\" cy=\"732.364\" r=\"18\"/>\n",
       "<circle clip-path=\"url(#clip1902)\" style=\"fill:#009af9; stroke:none; fill-opacity:1\" cx=\"1804.34\" cy=\"732.364\" r=\"14\"/>\n",
       "<circle clip-path=\"url(#clip1902)\" style=\"fill:#000000; stroke:none; fill-opacity:1\" cx=\"1375.2\" cy=\"412.177\" r=\"18\"/>\n",
       "<circle clip-path=\"url(#clip1902)\" style=\"fill:#009af9; stroke:none; fill-opacity:1\" cx=\"1375.2\" cy=\"412.177\" r=\"14\"/>\n",
       "<circle clip-path=\"url(#clip1902)\" style=\"fill:#000000; stroke:none; fill-opacity:1\" cx=\"1403.76\" cy=\"384.745\" r=\"18\"/>\n",
       "<circle clip-path=\"url(#clip1902)\" style=\"fill:#009af9; stroke:none; fill-opacity:1\" cx=\"1403.76\" cy=\"384.745\" r=\"14\"/>\n",
       "<circle clip-path=\"url(#clip1902)\" style=\"fill:#000000; stroke:none; fill-opacity:1\" cx=\"1596.86\" cy=\"421.929\" r=\"18\"/>\n",
       "<circle clip-path=\"url(#clip1902)\" style=\"fill:#009af9; stroke:none; fill-opacity:1\" cx=\"1596.86\" cy=\"421.929\" r=\"14\"/>\n",
       "<circle clip-path=\"url(#clip1902)\" style=\"fill:#000000; stroke:none; fill-opacity:1\" cx=\"1690.96\" cy=\"548.669\" r=\"18\"/>\n",
       "<circle clip-path=\"url(#clip1902)\" style=\"fill:#009af9; stroke:none; fill-opacity:1\" cx=\"1690.96\" cy=\"548.669\" r=\"14\"/>\n",
       "<circle clip-path=\"url(#clip1902)\" style=\"fill:#000000; stroke:none; fill-opacity:1\" cx=\"736.382\" cy=\"498.069\" r=\"18\"/>\n",
       "<circle clip-path=\"url(#clip1902)\" style=\"fill:#009af9; stroke:none; fill-opacity:1\" cx=\"736.382\" cy=\"498.069\" r=\"14\"/>\n",
       "<circle clip-path=\"url(#clip1902)\" style=\"fill:#000000; stroke:none; fill-opacity:1\" cx=\"1072.41\" cy=\"603.104\" r=\"18\"/>\n",
       "<circle clip-path=\"url(#clip1902)\" style=\"fill:#009af9; stroke:none; fill-opacity:1\" cx=\"1072.41\" cy=\"603.104\" r=\"14\"/>\n",
       "<circle clip-path=\"url(#clip1902)\" style=\"fill:#000000; stroke:none; fill-opacity:1\" cx=\"1160.24\" cy=\"573.812\" r=\"18\"/>\n",
       "<circle clip-path=\"url(#clip1902)\" style=\"fill:#009af9; stroke:none; fill-opacity:1\" cx=\"1160.24\" cy=\"573.812\" r=\"14\"/>\n",
       "<circle clip-path=\"url(#clip1902)\" style=\"fill:#000000; stroke:none; fill-opacity:1\" cx=\"1275.86\" cy=\"486.135\" r=\"18\"/>\n",
       "<circle clip-path=\"url(#clip1902)\" style=\"fill:#009af9; stroke:none; fill-opacity:1\" cx=\"1275.86\" cy=\"486.135\" r=\"14\"/>\n",
       "<circle clip-path=\"url(#clip1902)\" style=\"fill:#000000; stroke:none; fill-opacity:1\" cx=\"1577.29\" cy=\"422.18\" r=\"18\"/>\n",
       "<circle clip-path=\"url(#clip1902)\" style=\"fill:#009af9; stroke:none; fill-opacity:1\" cx=\"1577.29\" cy=\"422.18\" r=\"14\"/>\n",
       "<circle clip-path=\"url(#clip1902)\" style=\"fill:#000000; stroke:none; fill-opacity:1\" cx=\"1196.56\" cy=\"527.106\" r=\"18\"/>\n",
       "<circle clip-path=\"url(#clip1902)\" style=\"fill:#009af9; stroke:none; fill-opacity:1\" cx=\"1196.56\" cy=\"527.106\" r=\"14\"/>\n",
       "<circle clip-path=\"url(#clip1902)\" style=\"fill:#000000; stroke:none; fill-opacity:1\" cx=\"1193.78\" cy=\"509.78\" r=\"18\"/>\n",
       "<circle clip-path=\"url(#clip1902)\" style=\"fill:#009af9; stroke:none; fill-opacity:1\" cx=\"1193.78\" cy=\"509.78\" r=\"14\"/>\n",
       "<circle clip-path=\"url(#clip1902)\" style=\"fill:#000000; stroke:none; fill-opacity:1\" cx=\"1414.81\" cy=\"398.49\" r=\"18\"/>\n",
       "<circle clip-path=\"url(#clip1902)\" style=\"fill:#009af9; stroke:none; fill-opacity:1\" cx=\"1414.81\" cy=\"398.49\" r=\"14\"/>\n",
       "<circle clip-path=\"url(#clip1902)\" style=\"fill:#000000; stroke:none; fill-opacity:1\" cx=\"1028.6\" cy=\"651.416\" r=\"18\"/>\n",
       "<circle clip-path=\"url(#clip1902)\" style=\"fill:#009af9; stroke:none; fill-opacity:1\" cx=\"1028.6\" cy=\"651.416\" r=\"14\"/>\n",
       "<circle clip-path=\"url(#clip1902)\" style=\"fill:#000000; stroke:none; fill-opacity:1\" cx=\"1279.28\" cy=\"469.344\" r=\"18\"/>\n",
       "<circle clip-path=\"url(#clip1902)\" style=\"fill:#009af9; stroke:none; fill-opacity:1\" cx=\"1279.28\" cy=\"469.344\" r=\"14\"/>\n",
       "<circle clip-path=\"url(#clip1902)\" style=\"fill:#000000; stroke:none; fill-opacity:1\" cx=\"1077.05\" cy=\"590.722\" r=\"18\"/>\n",
       "<circle clip-path=\"url(#clip1902)\" style=\"fill:#009af9; stroke:none; fill-opacity:1\" cx=\"1077.05\" cy=\"590.722\" r=\"14\"/>\n",
       "<circle clip-path=\"url(#clip1902)\" style=\"fill:#000000; stroke:none; fill-opacity:1\" cx=\"1359.72\" cy=\"407.448\" r=\"18\"/>\n",
       "<circle clip-path=\"url(#clip1902)\" style=\"fill:#009af9; stroke:none; fill-opacity:1\" cx=\"1359.72\" cy=\"407.448\" r=\"14\"/>\n",
       "<circle clip-path=\"url(#clip1902)\" style=\"fill:#000000; stroke:none; fill-opacity:1\" cx=\"1012.81\" cy=\"648.438\" r=\"18\"/>\n",
       "<circle clip-path=\"url(#clip1902)\" style=\"fill:#009af9; stroke:none; fill-opacity:1\" cx=\"1012.81\" cy=\"648.438\" r=\"14\"/>\n",
       "<circle clip-path=\"url(#clip1902)\" style=\"fill:#000000; stroke:none; fill-opacity:1\" cx=\"963.035\" cy=\"665.402\" r=\"18\"/>\n",
       "<circle clip-path=\"url(#clip1902)\" style=\"fill:#009af9; stroke:none; fill-opacity:1\" cx=\"963.035\" cy=\"665.402\" r=\"14\"/>\n",
       "<circle clip-path=\"url(#clip1902)\" style=\"fill:#000000; stroke:none; fill-opacity:1\" cx=\"1056.11\" cy=\"617.887\" r=\"18\"/>\n",
       "<circle clip-path=\"url(#clip1902)\" style=\"fill:#009af9; stroke:none; fill-opacity:1\" cx=\"1056.11\" cy=\"617.887\" r=\"14\"/>\n",
       "<circle clip-path=\"url(#clip1902)\" style=\"fill:#000000; stroke:none; fill-opacity:1\" cx=\"837.063\" cy=\"605.612\" r=\"18\"/>\n",
       "<circle clip-path=\"url(#clip1902)\" style=\"fill:#009af9; stroke:none; fill-opacity:1\" cx=\"837.063\" cy=\"605.612\" r=\"14\"/>\n",
       "<circle clip-path=\"url(#clip1902)\" style=\"fill:#000000; stroke:none; fill-opacity:1\" cx=\"1282.12\" cy=\"450.55\" r=\"18\"/>\n",
       "<circle clip-path=\"url(#clip1902)\" style=\"fill:#009af9; stroke:none; fill-opacity:1\" cx=\"1282.12\" cy=\"450.55\" r=\"14\"/>\n",
       "<circle clip-path=\"url(#clip1902)\" style=\"fill:#000000; stroke:none; fill-opacity:1\" cx=\"1825.03\" cy=\"816.1\" r=\"18\"/>\n",
       "<circle clip-path=\"url(#clip1902)\" style=\"fill:#009af9; stroke:none; fill-opacity:1\" cx=\"1825.03\" cy=\"816.1\" r=\"14\"/>\n",
       "<circle clip-path=\"url(#clip1902)\" style=\"fill:#000000; stroke:none; fill-opacity:1\" cx=\"1665.94\" cy=\"523.1\" r=\"18\"/>\n",
       "<circle clip-path=\"url(#clip1902)\" style=\"fill:#009af9; stroke:none; fill-opacity:1\" cx=\"1665.94\" cy=\"523.1\" r=\"14\"/>\n",
       "<circle clip-path=\"url(#clip1902)\" style=\"fill:#000000; stroke:none; fill-opacity:1\" cx=\"1109\" cy=\"597.742\" r=\"18\"/>\n",
       "<circle clip-path=\"url(#clip1902)\" style=\"fill:#009af9; stroke:none; fill-opacity:1\" cx=\"1109\" cy=\"597.742\" r=\"14\"/>\n",
       "<circle clip-path=\"url(#clip1902)\" style=\"fill:#000000; stroke:none; fill-opacity:1\" cx=\"1668.44\" cy=\"506.995\" r=\"18\"/>\n",
       "<circle clip-path=\"url(#clip1902)\" style=\"fill:#009af9; stroke:none; fill-opacity:1\" cx=\"1668.44\" cy=\"506.995\" r=\"14\"/>\n",
       "<circle clip-path=\"url(#clip1902)\" style=\"fill:#000000; stroke:none; fill-opacity:1\" cx=\"1469.58\" cy=\"360.411\" r=\"18\"/>\n",
       "<circle clip-path=\"url(#clip1902)\" style=\"fill:#009af9; stroke:none; fill-opacity:1\" cx=\"1469.58\" cy=\"360.411\" r=\"14\"/>\n",
       "<circle clip-path=\"url(#clip1902)\" style=\"fill:#000000; stroke:none; fill-opacity:1\" cx=\"1324.98\" cy=\"420.351\" r=\"18\"/>\n",
       "<circle clip-path=\"url(#clip1902)\" style=\"fill:#009af9; stroke:none; fill-opacity:1\" cx=\"1324.98\" cy=\"420.351\" r=\"14\"/>\n",
       "<circle clip-path=\"url(#clip1902)\" style=\"fill:#000000; stroke:none; fill-opacity:1\" cx=\"1856.66\" cy=\"877.837\" r=\"18\"/>\n",
       "<circle clip-path=\"url(#clip1902)\" style=\"fill:#009af9; stroke:none; fill-opacity:1\" cx=\"1856.66\" cy=\"877.837\" r=\"14\"/>\n",
       "<circle clip-path=\"url(#clip1902)\" style=\"fill:#000000; stroke:none; fill-opacity:1\" cx=\"1291.2\" cy=\"427.211\" r=\"18\"/>\n",
       "<circle clip-path=\"url(#clip1902)\" style=\"fill:#009af9; stroke:none; fill-opacity:1\" cx=\"1291.2\" cy=\"427.211\" r=\"14\"/>\n",
       "<circle clip-path=\"url(#clip1902)\" style=\"fill:#000000; stroke:none; fill-opacity:1\" cx=\"1752.55\" cy=\"641.676\" r=\"18\"/>\n",
       "<circle clip-path=\"url(#clip1902)\" style=\"fill:#009af9; stroke:none; fill-opacity:1\" cx=\"1752.55\" cy=\"641.676\" r=\"14\"/>\n",
       "<circle clip-path=\"url(#clip1902)\" style=\"fill:#000000; stroke:none; fill-opacity:1\" cx=\"1348.66\" cy=\"410.707\" r=\"18\"/>\n",
       "<circle clip-path=\"url(#clip1902)\" style=\"fill:#009af9; stroke:none; fill-opacity:1\" cx=\"1348.66\" cy=\"410.707\" r=\"14\"/>\n",
       "<circle clip-path=\"url(#clip1902)\" style=\"fill:#000000; stroke:none; fill-opacity:1\" cx=\"1511.47\" cy=\"380.749\" r=\"18\"/>\n",
       "<circle clip-path=\"url(#clip1902)\" style=\"fill:#009af9; stroke:none; fill-opacity:1\" cx=\"1511.47\" cy=\"380.749\" r=\"14\"/>\n",
       "<circle clip-path=\"url(#clip1902)\" style=\"fill:#000000; stroke:none; fill-opacity:1\" cx=\"384.948\" cy=\"96.9124\" r=\"18\"/>\n",
       "<circle clip-path=\"url(#clip1902)\" style=\"fill:#009af9; stroke:none; fill-opacity:1\" cx=\"384.948\" cy=\"96.9124\" r=\"14\"/>\n",
       "<circle clip-path=\"url(#clip1902)\" style=\"fill:#000000; stroke:none; fill-opacity:1\" cx=\"1265.55\" cy=\"461.845\" r=\"18\"/>\n",
       "<circle clip-path=\"url(#clip1902)\" style=\"fill:#009af9; stroke:none; fill-opacity:1\" cx=\"1265.55\" cy=\"461.845\" r=\"14\"/>\n",
       "<circle clip-path=\"url(#clip1902)\" style=\"fill:#000000; stroke:none; fill-opacity:1\" cx=\"1459.09\" cy=\"345.321\" r=\"18\"/>\n",
       "<circle clip-path=\"url(#clip1902)\" style=\"fill:#009af9; stroke:none; fill-opacity:1\" cx=\"1459.09\" cy=\"345.321\" r=\"14\"/>\n",
       "<circle clip-path=\"url(#clip1902)\" style=\"fill:#000000; stroke:none; fill-opacity:1\" cx=\"2054.19\" cy=\"1281.54\" r=\"18\"/>\n",
       "<circle clip-path=\"url(#clip1902)\" style=\"fill:#009af9; stroke:none; fill-opacity:1\" cx=\"2054.19\" cy=\"1281.54\" r=\"14\"/>\n",
       "<circle clip-path=\"url(#clip1902)\" style=\"fill:#000000; stroke:none; fill-opacity:1\" cx=\"1880.19\" cy=\"908.786\" r=\"18\"/>\n",
       "<circle clip-path=\"url(#clip1902)\" style=\"fill:#009af9; stroke:none; fill-opacity:1\" cx=\"1880.19\" cy=\"908.786\" r=\"14\"/>\n",
       "<circle clip-path=\"url(#clip1902)\" style=\"fill:#000000; stroke:none; fill-opacity:1\" cx=\"792.125\" cy=\"537.469\" r=\"18\"/>\n",
       "<circle clip-path=\"url(#clip1902)\" style=\"fill:#009af9; stroke:none; fill-opacity:1\" cx=\"792.125\" cy=\"537.469\" r=\"14\"/>\n",
       "<circle clip-path=\"url(#clip1902)\" style=\"fill:#000000; stroke:none; fill-opacity:1\" cx=\"1590.71\" cy=\"378.724\" r=\"18\"/>\n",
       "<circle clip-path=\"url(#clip1902)\" style=\"fill:#009af9; stroke:none; fill-opacity:1\" cx=\"1590.71\" cy=\"378.724\" r=\"14\"/>\n",
       "<circle clip-path=\"url(#clip1902)\" style=\"fill:#000000; stroke:none; fill-opacity:1\" cx=\"1253.44\" cy=\"447.452\" r=\"18\"/>\n",
       "<circle clip-path=\"url(#clip1902)\" style=\"fill:#009af9; stroke:none; fill-opacity:1\" cx=\"1253.44\" cy=\"447.452\" r=\"14\"/>\n",
       "<circle clip-path=\"url(#clip1902)\" style=\"fill:#000000; stroke:none; fill-opacity:1\" cx=\"1280.98\" cy=\"463.168\" r=\"18\"/>\n",
       "<circle clip-path=\"url(#clip1902)\" style=\"fill:#009af9; stroke:none; fill-opacity:1\" cx=\"1280.98\" cy=\"463.168\" r=\"14\"/>\n",
       "<circle clip-path=\"url(#clip1902)\" style=\"fill:#000000; stroke:none; fill-opacity:1\" cx=\"1476.2\" cy=\"336.243\" r=\"18\"/>\n",
       "<circle clip-path=\"url(#clip1902)\" style=\"fill:#009af9; stroke:none; fill-opacity:1\" cx=\"1476.2\" cy=\"336.243\" r=\"14\"/>\n",
       "<circle clip-path=\"url(#clip1902)\" style=\"fill:#000000; stroke:none; fill-opacity:1\" cx=\"969.163\" cy=\"658.016\" r=\"18\"/>\n",
       "<circle clip-path=\"url(#clip1902)\" style=\"fill:#009af9; stroke:none; fill-opacity:1\" cx=\"969.163\" cy=\"658.016\" r=\"14\"/>\n",
       "<circle clip-path=\"url(#clip1902)\" style=\"fill:#000000; stroke:none; fill-opacity:1\" cx=\"1556.2\" cy=\"413.198\" r=\"18\"/>\n",
       "<circle clip-path=\"url(#clip1902)\" style=\"fill:#009af9; stroke:none; fill-opacity:1\" cx=\"1556.2\" cy=\"413.198\" r=\"14\"/>\n",
       "<circle clip-path=\"url(#clip1902)\" style=\"fill:#000000; stroke:none; fill-opacity:1\" cx=\"1926.34\" cy=\"1054.58\" r=\"18\"/>\n",
       "<circle clip-path=\"url(#clip1902)\" style=\"fill:#009af9; stroke:none; fill-opacity:1\" cx=\"1926.34\" cy=\"1054.58\" r=\"14\"/>\n",
       "<circle clip-path=\"url(#clip1902)\" style=\"fill:#000000; stroke:none; fill-opacity:1\" cx=\"1495.35\" cy=\"375.167\" r=\"18\"/>\n",
       "<circle clip-path=\"url(#clip1902)\" style=\"fill:#009af9; stroke:none; fill-opacity:1\" cx=\"1495.35\" cy=\"375.167\" r=\"14\"/>\n",
       "<circle clip-path=\"url(#clip1902)\" style=\"fill:#000000; stroke:none; fill-opacity:1\" cx=\"2117.18\" cy=\"1349.99\" r=\"18\"/>\n",
       "<circle clip-path=\"url(#clip1902)\" style=\"fill:#009af9; stroke:none; fill-opacity:1\" cx=\"2117.18\" cy=\"1349.99\" r=\"14\"/>\n",
       "<circle clip-path=\"url(#clip1902)\" style=\"fill:#000000; stroke:none; fill-opacity:1\" cx=\"1399.36\" cy=\"399.537\" r=\"18\"/>\n",
       "<circle clip-path=\"url(#clip1902)\" style=\"fill:#009af9; stroke:none; fill-opacity:1\" cx=\"1399.36\" cy=\"399.537\" r=\"14\"/>\n",
       "<circle clip-path=\"url(#clip1902)\" style=\"fill:#000000; stroke:none; fill-opacity:1\" cx=\"1824.74\" cy=\"836.356\" r=\"18\"/>\n",
       "<circle clip-path=\"url(#clip1902)\" style=\"fill:#009af9; stroke:none; fill-opacity:1\" cx=\"1824.74\" cy=\"836.356\" r=\"14\"/>\n",
       "<circle clip-path=\"url(#clip1902)\" style=\"fill:#000000; stroke:none; fill-opacity:1\" cx=\"1789.33\" cy=\"754.221\" r=\"18\"/>\n",
       "<circle clip-path=\"url(#clip1902)\" style=\"fill:#009af9; stroke:none; fill-opacity:1\" cx=\"1789.33\" cy=\"754.221\" r=\"14\"/>\n",
       "<circle clip-path=\"url(#clip1902)\" style=\"fill:#000000; stroke:none; fill-opacity:1\" cx=\"1057.78\" cy=\"607.268\" r=\"18\"/>\n",
       "<circle clip-path=\"url(#clip1902)\" style=\"fill:#009af9; stroke:none; fill-opacity:1\" cx=\"1057.78\" cy=\"607.268\" r=\"14\"/>\n",
       "<circle clip-path=\"url(#clip1902)\" style=\"fill:#000000; stroke:none; fill-opacity:1\" cx=\"1500.87\" cy=\"369.508\" r=\"18\"/>\n",
       "<circle clip-path=\"url(#clip1902)\" style=\"fill:#009af9; stroke:none; fill-opacity:1\" cx=\"1500.87\" cy=\"369.508\" r=\"14\"/>\n",
       "<circle clip-path=\"url(#clip1902)\" style=\"fill:#000000; stroke:none; fill-opacity:1\" cx=\"1663.51\" cy=\"508.299\" r=\"18\"/>\n",
       "<circle clip-path=\"url(#clip1902)\" style=\"fill:#009af9; stroke:none; fill-opacity:1\" cx=\"1663.51\" cy=\"508.299\" r=\"14\"/>\n",
       "<path clip-path=\"url(#clip1900)\" d=\"\n",
       "M1989.93 251.724 L2280.76 251.724 L2280.76 130.764 L1989.93 130.764  Z\n",
       "  \" fill=\"#ffffff\" fill-rule=\"evenodd\" fill-opacity=\"1\"/>\n",
       "<polyline clip-path=\"url(#clip1900)\" style=\"stroke:#000000; stroke-width:4; stroke-opacity:1; fill:none\" points=\"\n",
       "  1989.93,251.724 2280.76,251.724 2280.76,130.764 1989.93,130.764 1989.93,251.724 \n",
       "  \"/>\n",
       "<circle clip-path=\"url(#clip1900)\" style=\"fill:#000000; stroke:none; fill-opacity:1\" cx=\"2097.93\" cy=\"191.244\" r=\"25\"/>\n",
       "<circle clip-path=\"url(#clip1900)\" style=\"fill:#009af9; stroke:none; fill-opacity:1\" cx=\"2097.93\" cy=\"191.244\" r=\"21\"/>\n",
       "<g clip-path=\"url(#clip1900)\">\n",
       "<text style=\"fill:#000000; fill-opacity:1; font-family:Arial,Helvetica Neue,Helvetica,sans-serif; font-size:48px; text-anchor:start;\" transform=\"rotate(0, 2181.93, 208.744)\" x=\"2181.93\" y=\"208.744\">y1</text>\n",
       "</g>\n",
       "</svg>\n"
      ]
     },
     "execution_count": 38,
     "metadata": {},
     "output_type": "execute_result"
    }
   ],
   "source": [
    "m = 100\n",
    "t, b = gen_data(p, m);\n",
    "scatter( t, b, xlim=xlim, ylim=(-100,60) )"
   ]
  },
  {
   "cell_type": "markdown",
   "metadata": {},
   "source": [
    "Compute a polynomial fit using `polyfit` from the `Polynomial` module."
   ]
  },
  {
   "cell_type": "code",
   "execution_count": 34,
   "metadata": {},
   "outputs": [
    {
     "data": {
      "application/vnd.webio.node+json": {
       "children": [
        {
         "children": [
          {
           "children": [
            {
             "children": [
              {
               "children": [
                {
                 "children": [
                  "d"
                 ],
                 "instanceArgs": {
                  "namespace": "html",
                  "tag": "label"
                 },
                 "nodeType": "DOM",
                 "props": {
                  "className": "interact ",
                  "style": {
                   "padding": "5px 10px 0px 10px"
                  }
                 },
                 "type": "node"
                }
               ],
               "instanceArgs": {
                "namespace": "html",
                "tag": "div"
               },
               "nodeType": "DOM",
               "props": {
                "className": "interact-flex-row-left"
               },
               "type": "node"
              },
              {
               "children": [
                {
                 "children": [],
                 "instanceArgs": {
                  "namespace": "html",
                  "tag": "input"
                 },
                 "nodeType": "DOM",
                 "props": {
                  "attributes": {
                   "data-bind": "numericValue: index, valueUpdate: 'input', event: {change: function (){this.changes(this.changes()+1)}}",
                   "orient": "horizontal",
                   "type": "range"
                  },
                  "className": "slider slider is-fullwidth",
                  "max": 9,
                  "min": 1,
                  "step": 1,
                  "style": {}
                 },
                 "type": "node"
                }
               ],
               "instanceArgs": {
                "namespace": "html",
                "tag": "div"
               },
               "nodeType": "DOM",
               "props": {
                "className": "interact-flex-row-center"
               },
               "type": "node"
              },
              {
               "children": [
                {
                 "children": [],
                 "instanceArgs": {
                  "namespace": "html",
                  "tag": "p"
                 },
                 "nodeType": "DOM",
                 "props": {
                  "attributes": {
                   "data-bind": "text: formatted_val"
                  }
                 },
                 "type": "node"
                }
               ],
               "instanceArgs": {
                "namespace": "html",
                "tag": "div"
               },
               "nodeType": "DOM",
               "props": {
                "className": "interact-flex-row-right"
               },
               "type": "node"
              }
             ],
             "instanceArgs": {
              "namespace": "html",
              "tag": "div"
             },
             "nodeType": "DOM",
             "props": {
              "className": "interact-flex-row interact-widget"
             },
             "type": "node"
            }
           ],
           "instanceArgs": {
            "handlers": {
             "changes": [
              "(function (val){return (val!=this.model[\"changes\"]()) ? (this.valueFromJulia[\"changes\"]=true, this.model[\"changes\"](val)) : undefined})"
             ],
             "index": [
              "(function (val){return (val!=this.model[\"index\"]()) ? (this.valueFromJulia[\"index\"]=true, this.model[\"index\"](val)) : undefined})"
             ]
            },
            "id": "9186766342923947323",
            "imports": {
             "data": [
              {
               "name": "knockout",
               "type": "js",
               "url": "/assetserver/3f712825d914ad7ceb56bfee8c26f86f12ffa94d-knockout.js"
              },
              {
               "name": "knockout_punches",
               "type": "js",
               "url": "/assetserver/bb1b62fcbdf49c4be6ac0dad8b532b184373033e-knockout_punches.js"
              },
              {
               "name": null,
               "type": "js",
               "url": "/assetserver/19913531c8d53c38ae69c309e5652251bd73068b-all.js"
              },
              {
               "name": null,
               "type": "css",
               "url": "/assetserver/ebf4f6e27037f283781868b78a232c87484e6315-style.css"
              },
              {
               "name": null,
               "type": "css",
               "url": "/assetserver/f57d299ee23910e5dba49c495adcf216c311802c-bulma_confined.min.css"
              }
             ],
             "type": "async_block"
            },
            "mount_callbacks": [
             "function () {\n    var handler = (function (ko, koPunches) {\n    ko.punches.enableAll();\n    ko.bindingHandlers.numericValue = {\n        init: function(element, valueAccessor, allBindings, data, context) {\n            var stringified = ko.observable(ko.unwrap(valueAccessor()));\n            stringified.subscribe(function(value) {\n                var val = parseFloat(value);\n                if (!isNaN(val)) {\n                    valueAccessor()(val);\n                }\n            });\n            valueAccessor().subscribe(function(value) {\n                var str = JSON.stringify(value);\n                if ((str == \"0\") && ([\"-0\", \"-0.\"].indexOf(stringified()) >= 0))\n                     return;\n                 if ([\"null\", \"\"].indexOf(str) >= 0)\n                     return;\n                stringified(str);\n            });\n            ko.applyBindingsToNode(\n                element,\n                {\n                    value: stringified,\n                    valueUpdate: allBindings.get('valueUpdate'),\n                },\n                context,\n            );\n        }\n    };\n    var json_data = {\"formatted_vals\":[\"1\",\"2\",\"3\",\"4\",\"5\",\"6\",\"7\",\"8\",\"9\"],\"changes\":WebIO.getval({\"name\":\"changes\",\"scope\":\"9186766342923947323\",\"id\":\"ob_63\",\"type\":\"observable\"}),\"index\":WebIO.getval({\"name\":\"index\",\"scope\":\"9186766342923947323\",\"id\":\"ob_62\",\"type\":\"observable\"})};\n    var self = this;\n    function AppViewModel() {\n        for (var key in json_data) {\n            var el = json_data[key];\n            this[key] = Array.isArray(el) ? ko.observableArray(el) : ko.observable(el);\n        }\n        \n        [this[\"formatted_val\"]=ko.computed(    function(){\n        return this.formatted_vals()[parseInt(this.index())-(1)];\n    }\n,this)]\n        [this[\"changes\"].subscribe((function (val){!(this.valueFromJulia[\"changes\"]) ? (WebIO.setval({\"name\":\"changes\",\"scope\":\"9186766342923947323\",\"id\":\"ob_63\",\"type\":\"observable\"},val)) : undefined; return this.valueFromJulia[\"changes\"]=false}),self),this[\"index\"].subscribe((function (val){!(this.valueFromJulia[\"index\"]) ? (WebIO.setval({\"name\":\"index\",\"scope\":\"9186766342923947323\",\"id\":\"ob_62\",\"type\":\"observable\"},val)) : undefined; return this.valueFromJulia[\"index\"]=false}),self)]\n        \n    }\n    self.model = new AppViewModel();\n    self.valueFromJulia = {};\n    for (var key in json_data) {\n        self.valueFromJulia[key] = false;\n    }\n    ko.applyBindings(self.model, self.dom);\n}\n);\n    (WebIO.importBlock({\"data\":[{\"name\":\"knockout\",\"type\":\"js\",\"url\":\"/assetserver/3f712825d914ad7ceb56bfee8c26f86f12ffa94d-knockout.js\"},{\"name\":\"knockout_punches\",\"type\":\"js\",\"url\":\"/assetserver/bb1b62fcbdf49c4be6ac0dad8b532b184373033e-knockout_punches.js\"}],\"type\":\"async_block\"})).then((imports) => handler.apply(this, imports));\n}\n"
            ],
            "observables": {
             "changes": {
              "id": "ob_63",
              "sync": false,
              "value": 0
             },
             "index": {
              "id": "ob_62",
              "sync": true,
              "value": 5
             }
            },
            "systemjs_options": null
           },
           "nodeType": "Scope",
           "props": {},
           "type": "node"
          }
         ],
         "instanceArgs": {
          "namespace": "html",
          "tag": "div"
         },
         "nodeType": "DOM",
         "props": {
          "className": "field interact-widget"
         },
         "type": "node"
        },
        {
         "children": [
          {
           "children": [
            {
             "children": [
              {
               "children": [
                {
                 "children": [
                  "η"
                 ],
                 "instanceArgs": {
                  "namespace": "html",
                  "tag": "label"
                 },
                 "nodeType": "DOM",
                 "props": {
                  "className": "interact ",
                  "style": {
                   "padding": "5px 10px 0px 10px"
                  }
                 },
                 "type": "node"
                }
               ],
               "instanceArgs": {
                "namespace": "html",
                "tag": "div"
               },
               "nodeType": "DOM",
               "props": {
                "className": "interact-flex-row-left"
               },
               "type": "node"
              },
              {
               "children": [
                {
                 "children": [],
                 "instanceArgs": {
                  "namespace": "html",
                  "tag": "input"
                 },
                 "nodeType": "DOM",
                 "props": {
                  "attributes": {
                   "data-bind": "numericValue: index, valueUpdate: 'input', event: {change: function (){this.changes(this.changes()+1)}}",
                   "orient": "horizontal",
                   "type": "range"
                  },
                  "className": "slider slider is-fullwidth",
                  "max": 50,
                  "min": 0,
                  "step": 1,
                  "style": {}
                 },
                 "type": "node"
                }
               ],
               "instanceArgs": {
                "namespace": "html",
                "tag": "div"
               },
               "nodeType": "DOM",
               "props": {
                "className": "interact-flex-row-center"
               },
               "type": "node"
              },
              {
               "children": [
                {
                 "children": [],
                 "instanceArgs": {
                  "namespace": "html",
                  "tag": "p"
                 },
                 "nodeType": "DOM",
                 "props": {
                  "attributes": {
                   "data-bind": "text: formatted_val"
                  }
                 },
                 "type": "node"
                }
               ],
               "instanceArgs": {
                "namespace": "html",
                "tag": "div"
               },
               "nodeType": "DOM",
               "props": {
                "className": "interact-flex-row-right"
               },
               "type": "node"
              }
             ],
             "instanceArgs": {
              "namespace": "html",
              "tag": "div"
             },
             "nodeType": "DOM",
             "props": {
              "className": "interact-flex-row interact-widget"
             },
             "type": "node"
            }
           ],
           "instanceArgs": {
            "handlers": {
             "changes": [
              "(function (val){return (val!=this.model[\"changes\"]()) ? (this.valueFromJulia[\"changes\"]=true, this.model[\"changes\"](val)) : undefined})"
             ],
             "index": [
              "(function (val){return (val!=this.model[\"index\"]()) ? (this.valueFromJulia[\"index\"]=true, this.model[\"index\"](val)) : undefined})"
             ]
            },
            "id": "13257527843932597223",
            "imports": {
             "data": [
              {
               "name": "knockout",
               "type": "js",
               "url": "/assetserver/3f712825d914ad7ceb56bfee8c26f86f12ffa94d-knockout.js"
              },
              {
               "name": "knockout_punches",
               "type": "js",
               "url": "/assetserver/bb1b62fcbdf49c4be6ac0dad8b532b184373033e-knockout_punches.js"
              },
              {
               "name": null,
               "type": "js",
               "url": "/assetserver/19913531c8d53c38ae69c309e5652251bd73068b-all.js"
              },
              {
               "name": null,
               "type": "css",
               "url": "/assetserver/ebf4f6e27037f283781868b78a232c87484e6315-style.css"
              },
              {
               "name": null,
               "type": "css",
               "url": "/assetserver/f57d299ee23910e5dba49c495adcf216c311802c-bulma_confined.min.css"
              }
             ],
             "type": "async_block"
            },
            "mount_callbacks": [
             "function () {\n    var handler = (function (ko, koPunches) {\n    ko.punches.enableAll();\n    ko.bindingHandlers.numericValue = {\n        init: function(element, valueAccessor, allBindings, data, context) {\n            var stringified = ko.observable(ko.unwrap(valueAccessor()));\n            stringified.subscribe(function(value) {\n                var val = parseFloat(value);\n                if (!isNaN(val)) {\n                    valueAccessor()(val);\n                }\n            });\n            valueAccessor().subscribe(function(value) {\n                var str = JSON.stringify(value);\n                if ((str == \"0\") && ([\"-0\", \"-0.\"].indexOf(stringified()) >= 0))\n                     return;\n                 if ([\"null\", \"\"].indexOf(str) >= 0)\n                     return;\n                stringified(str);\n            });\n            ko.applyBindingsToNode(\n                element,\n                {\n                    value: stringified,\n                    valueUpdate: allBindings.get('valueUpdate'),\n                },\n                context,\n            );\n        }\n    };\n    var json_data = {\"formatted_vals\":[\"0\",\"1\",\"2\",\"3\",\"4\",\"5\",\"6\",\"7\",\"8\",\"9\",\"10\",\"11\",\"12\",\"13\",\"14\",\"15\",\"16\",\"17\",\"18\",\"19\",\"20\",\"21\",\"22\",\"23\",\"24\",\"25\",\"26\",\"27\",\"28\",\"29\",\"30\",\"31\",\"32\",\"33\",\"34\",\"35\",\"36\",\"37\",\"38\",\"39\",\"40\",\"41\",\"42\",\"43\",\"44\",\"45\",\"46\",\"47\",\"48\",\"49\",\"50\"],\"changes\":WebIO.getval({\"name\":\"changes\",\"scope\":\"13257527843932597223\",\"id\":\"ob_65\",\"type\":\"observable\"}),\"index\":WebIO.getval({\"name\":\"index\",\"scope\":\"13257527843932597223\",\"id\":\"ob_64\",\"type\":\"observable\"})};\n    var self = this;\n    function AppViewModel() {\n        for (var key in json_data) {\n            var el = json_data[key];\n            this[key] = Array.isArray(el) ? ko.observableArray(el) : ko.observable(el);\n        }\n        \n        [this[\"formatted_val\"]=ko.computed(    function(){\n        return this.formatted_vals()[parseInt(this.index())-(0)];\n    }\n,this)]\n        [this[\"changes\"].subscribe((function (val){!(this.valueFromJulia[\"changes\"]) ? (WebIO.setval({\"name\":\"changes\",\"scope\":\"13257527843932597223\",\"id\":\"ob_65\",\"type\":\"observable\"},val)) : undefined; return this.valueFromJulia[\"changes\"]=false}),self),this[\"index\"].subscribe((function (val){!(this.valueFromJulia[\"index\"]) ? (WebIO.setval({\"name\":\"index\",\"scope\":\"13257527843932597223\",\"id\":\"ob_64\",\"type\":\"observable\"},val)) : undefined; return this.valueFromJulia[\"index\"]=false}),self)]\n        \n    }\n    self.model = new AppViewModel();\n    self.valueFromJulia = {};\n    for (var key in json_data) {\n        self.valueFromJulia[key] = false;\n    }\n    ko.applyBindings(self.model, self.dom);\n}\n);\n    (WebIO.importBlock({\"data\":[{\"name\":\"knockout\",\"type\":\"js\",\"url\":\"/assetserver/3f712825d914ad7ceb56bfee8c26f86f12ffa94d-knockout.js\"},{\"name\":\"knockout_punches\",\"type\":\"js\",\"url\":\"/assetserver/bb1b62fcbdf49c4be6ac0dad8b532b184373033e-knockout_punches.js\"}],\"type\":\"async_block\"})).then((imports) => handler.apply(this, imports));\n}\n"
            ],
            "observables": {
             "changes": {
              "id": "ob_65",
              "sync": false,
              "value": 0
             },
             "index": {
              "id": "ob_64",
              "sync": true,
              "value": 25
             }
            },
            "systemjs_options": null
           },
           "nodeType": "Scope",
           "props": {},
           "type": "node"
          }
         ],
         "instanceArgs": {
          "namespace": "html",
          "tag": "div"
         },
         "nodeType": "DOM",
         "props": {
          "className": "field interact-widget"
         },
         "type": "node"
        },
        {
         "children": [
          {
           "children": [],
           "instanceArgs": {
            "id": "ob_71",
            "name": "obs-node"
           },
           "nodeType": "ObservableNode",
           "props": {},
           "type": "node"
          }
         ],
         "instanceArgs": {
          "handlers": {},
          "id": "8828848754546865283",
          "imports": {
           "data": [],
           "type": "async_block"
          },
          "mount_callbacks": [],
          "observables": {
           "obs-node": {
            "id": "ob_71",
            "sync": false,
            "value": {
             "children": [
              {
               "children": [],
               "instanceArgs": {
                "namespace": "html",
                "tag": "div"
               },
               "nodeType": "DOM",
               "props": {
                "setInnerHtml": "<?xml version=\"1.0\" encoding=\"utf-8\"?>\n<svg xmlns=\"http://www.w3.org/2000/svg\" xmlns:xlink=\"http://www.w3.org/1999/xlink\" width=\"600\" height=\"400\" viewBox=\"0 0 2400 1600\">\n<defs>\n  <clipPath id=\"clip6700\">\n    <rect x=\"0\" y=\"0\" width=\"2400\" height=\"1600\"/>\n  </clipPath>\n</defs>\n<path clip-path=\"url(#clip6700)\" d=\"\nM0 1600 L2400 1600 L2400 0 L0 0  Z\n  \" fill=\"#ffffff\" fill-rule=\"evenodd\" fill-opacity=\"1\"/>\n<defs>\n  <clipPath id=\"clip6701\">\n    <rect x=\"480\" y=\"0\" width=\"1681\" height=\"1600\"/>\n  </clipPath>\n</defs>\n<path clip-path=\"url(#clip6700)\" d=\"\nM195.389 1487.47 L2352.76 1487.47 L2352.76 47.2441 L195.389 47.2441  Z\n  \" fill=\"#ffffff\" fill-rule=\"evenodd\" fill-opacity=\"1\"/>\n<defs>\n  <clipPath id=\"clip6702\">\n    <rect x=\"195\" y=\"47\" width=\"2158\" height=\"1441\"/>\n  </clipPath>\n</defs>\n<polyline clip-path=\"url(#clip6702)\" style=\"stroke:#000000; stroke-width:2; stroke-opacity:0.1; fill:none\" points=\"\n  225.353,1487.47 225.353,47.2441 \n  \"/>\n<polyline clip-path=\"url(#clip6702)\" style=\"stroke:#000000; stroke-width:2; stroke-opacity:0.1; fill:none\" points=\"\n  824.621,1487.47 824.621,47.2441 \n  \"/>\n<polyline clip-path=\"url(#clip6702)\" style=\"stroke:#000000; stroke-width:2; stroke-opacity:0.1; fill:none\" points=\"\n  1423.89,1487.47 1423.89,47.2441 \n  \"/>\n<polyline clip-path=\"url(#clip6702)\" style=\"stroke:#000000; stroke-width:2; stroke-opacity:0.1; fill:none\" points=\"\n  2023.16,1487.47 2023.16,47.2441 \n  \"/>\n<polyline clip-path=\"url(#clip6702)\" style=\"stroke:#000000; stroke-width:2; stroke-opacity:0.1; fill:none\" points=\"\n  195.389,1487.47 2352.76,1487.47 \n  \"/>\n<polyline clip-path=\"url(#clip6702)\" style=\"stroke:#000000; stroke-width:2; stroke-opacity:0.1; fill:none\" points=\"\n  195.389,1037.4 2352.76,1037.4 \n  \"/>\n<polyline clip-path=\"url(#clip6702)\" style=\"stroke:#000000; stroke-width:2; stroke-opacity:0.1; fill:none\" points=\"\n  195.389,587.331 2352.76,587.331 \n  \"/>\n<polyline clip-path=\"url(#clip6702)\" style=\"stroke:#000000; stroke-width:2; stroke-opacity:0.1; fill:none\" points=\"\n  195.389,137.259 2352.76,137.259 \n  \"/>\n<polyline clip-path=\"url(#clip6700)\" style=\"stroke:#000000; stroke-width:4; stroke-opacity:1; fill:none\" points=\"\n  195.389,1487.47 2352.76,1487.47 \n  \"/>\n<polyline clip-path=\"url(#clip6700)\" style=\"stroke:#000000; stroke-width:4; stroke-opacity:1; fill:none\" points=\"\n  195.389,1487.47 195.389,47.2441 \n  \"/>\n<polyline clip-path=\"url(#clip6700)\" style=\"stroke:#000000; stroke-width:4; stroke-opacity:1; fill:none\" points=\"\n  225.353,1487.47 225.353,1470.19 \n  \"/>\n<polyline clip-path=\"url(#clip6700)\" style=\"stroke:#000000; stroke-width:4; stroke-opacity:1; fill:none\" points=\"\n  824.621,1487.47 824.621,1470.19 \n  \"/>\n<polyline clip-path=\"url(#clip6700)\" style=\"stroke:#000000; stroke-width:4; stroke-opacity:1; fill:none\" points=\"\n  1423.89,1487.47 1423.89,1470.19 \n  \"/>\n<polyline clip-path=\"url(#clip6700)\" style=\"stroke:#000000; stroke-width:4; stroke-opacity:1; fill:none\" points=\"\n  2023.16,1487.47 2023.16,1470.19 \n  \"/>\n<polyline clip-path=\"url(#clip6700)\" style=\"stroke:#000000; stroke-width:4; stroke-opacity:1; fill:none\" points=\"\n  195.389,1487.47 221.278,1487.47 \n  \"/>\n<polyline clip-path=\"url(#clip6700)\" style=\"stroke:#000000; stroke-width:4; stroke-opacity:1; fill:none\" points=\"\n  195.389,1037.4 221.278,1037.4 \n  \"/>\n<polyline clip-path=\"url(#clip6700)\" style=\"stroke:#000000; stroke-width:4; stroke-opacity:1; fill:none\" points=\"\n  195.389,587.331 221.278,587.331 \n  \"/>\n<polyline clip-path=\"url(#clip6700)\" style=\"stroke:#000000; stroke-width:4; stroke-opacity:1; fill:none\" points=\"\n  195.389,137.259 221.278,137.259 \n  \"/>\n<g clip-path=\"url(#clip6700)\">\n<text style=\"fill:#000000; fill-opacity:1; font-family:Arial,Helvetica Neue,Helvetica,sans-serif; font-size:48px; text-anchor:middle;\" transform=\"rotate(0, 225.353, 1541.47)\" x=\"225.353\" y=\"1541.47\">-4</text>\n</g>\n<g clip-path=\"url(#clip6700)\">\n<text style=\"fill:#000000; fill-opacity:1; font-family:Arial,Helvetica Neue,Helvetica,sans-serif; font-size:48px; text-anchor:middle;\" transform=\"rotate(0, 824.621, 1541.47)\" x=\"824.621\" y=\"1541.47\">-2</text>\n</g>\n<g clip-path=\"url(#clip6700)\">\n<text style=\"fill:#000000; fill-opacity:1; font-family:Arial,Helvetica Neue,Helvetica,sans-serif; font-size:48px; text-anchor:middle;\" transform=\"rotate(0, 1423.89, 1541.47)\" x=\"1423.89\" y=\"1541.47\">0</text>\n</g>\n<g clip-path=\"url(#clip6700)\">\n<text style=\"fill:#000000; fill-opacity:1; font-family:Arial,Helvetica Neue,Helvetica,sans-serif; font-size:48px; text-anchor:middle;\" transform=\"rotate(0, 2023.16, 1541.47)\" x=\"2023.16\" y=\"1541.47\">2</text>\n</g>\n<g clip-path=\"url(#clip6700)\">\n<text style=\"fill:#000000; fill-opacity:1; font-family:Arial,Helvetica Neue,Helvetica,sans-serif; font-size:48px; text-anchor:end;\" transform=\"rotate(0, 171.389, 1504.97)\" x=\"171.389\" y=\"1504.97\">-100</text>\n</g>\n<g clip-path=\"url(#clip6700)\">\n<text style=\"fill:#000000; fill-opacity:1; font-family:Arial,Helvetica Neue,Helvetica,sans-serif; font-size:48px; text-anchor:end;\" transform=\"rotate(0, 171.389, 1054.9)\" x=\"171.389\" y=\"1054.9\">-50</text>\n</g>\n<g clip-path=\"url(#clip6700)\">\n<text style=\"fill:#000000; fill-opacity:1; font-family:Arial,Helvetica Neue,Helvetica,sans-serif; font-size:48px; text-anchor:end;\" transform=\"rotate(0, 171.389, 604.831)\" x=\"171.389\" y=\"604.831\">0</text>\n</g>\n<g clip-path=\"url(#clip6700)\">\n<text style=\"fill:#000000; fill-opacity:1; font-family:Arial,Helvetica Neue,Helvetica,sans-serif; font-size:48px; text-anchor:end;\" transform=\"rotate(0, 171.389, 154.759)\" x=\"171.389\" y=\"154.759\">50</text>\n</g>\n<circle clip-path=\"url(#clip6702)\" style=\"fill:#000000; stroke:none; fill-opacity:1\" cx=\"1627.37\" cy=\"460.613\" r=\"18\"/>\n<circle clip-path=\"url(#clip6702)\" style=\"fill:#009af9; stroke:none; fill-opacity:1\" cx=\"1627.37\" cy=\"460.613\" r=\"14\"/>\n<circle clip-path=\"url(#clip6702)\" style=\"fill:#000000; stroke:none; fill-opacity:1\" cx=\"1672.11\" cy=\"500.28\" r=\"18\"/>\n<circle clip-path=\"url(#clip6702)\" style=\"fill:#009af9; stroke:none; fill-opacity:1\" cx=\"1672.11\" cy=\"500.28\" r=\"14\"/>\n<circle clip-path=\"url(#clip6702)\" style=\"fill:#000000; stroke:none; fill-opacity:1\" cx=\"1318.12\" cy=\"425.666\" r=\"18\"/>\n<circle clip-path=\"url(#clip6702)\" style=\"fill:#009af9; stroke:none; fill-opacity:1\" cx=\"1318.12\" cy=\"425.666\" r=\"14\"/>\n<circle clip-path=\"url(#clip6702)\" style=\"fill:#000000; stroke:none; fill-opacity:1\" cx=\"1383.48\" cy=\"390.272\" r=\"18\"/>\n<circle clip-path=\"url(#clip6702)\" style=\"fill:#009af9; stroke:none; fill-opacity:1\" cx=\"1383.48\" cy=\"390.272\" r=\"14\"/>\n<circle clip-path=\"url(#clip6702)\" style=\"fill:#000000; stroke:none; fill-opacity:1\" cx=\"1599.66\" cy=\"442.931\" r=\"18\"/>\n<circle clip-path=\"url(#clip6702)\" style=\"fill:#009af9; stroke:none; fill-opacity:1\" cx=\"1599.66\" cy=\"442.931\" r=\"14\"/>\n<circle clip-path=\"url(#clip6702)\" style=\"fill:#000000; stroke:none; fill-opacity:1\" cx=\"1512.98\" cy=\"355.024\" r=\"18\"/>\n<circle clip-path=\"url(#clip6702)\" style=\"fill:#009af9; stroke:none; fill-opacity:1\" cx=\"1512.98\" cy=\"355.024\" r=\"14\"/>\n<circle clip-path=\"url(#clip6702)\" style=\"fill:#000000; stroke:none; fill-opacity:1\" cx=\"1443.35\" cy=\"387.553\" r=\"18\"/>\n<circle clip-path=\"url(#clip6702)\" style=\"fill:#009af9; stroke:none; fill-opacity:1\" cx=\"1443.35\" cy=\"387.553\" r=\"14\"/>\n<circle clip-path=\"url(#clip6702)\" style=\"fill:#000000; stroke:none; fill-opacity:1\" cx=\"1391.22\" cy=\"362.174\" r=\"18\"/>\n<circle clip-path=\"url(#clip6702)\" style=\"fill:#009af9; stroke:none; fill-opacity:1\" cx=\"1391.22\" cy=\"362.174\" r=\"14\"/>\n<circle clip-path=\"url(#clip6702)\" style=\"fill:#000000; stroke:none; fill-opacity:1\" cx=\"1269.81\" cy=\"491.216\" r=\"18\"/>\n<circle clip-path=\"url(#clip6702)\" style=\"fill:#009af9; stroke:none; fill-opacity:1\" cx=\"1269.81\" cy=\"491.216\" r=\"14\"/>\n<circle clip-path=\"url(#clip6702)\" style=\"fill:#000000; stroke:none; fill-opacity:1\" cx=\"1895.61\" cy=\"954.129\" r=\"18\"/>\n<circle clip-path=\"url(#clip6702)\" style=\"fill:#009af9; stroke:none; fill-opacity:1\" cx=\"1895.61\" cy=\"954.129\" r=\"14\"/>\n<circle clip-path=\"url(#clip6702)\" style=\"fill:#000000; stroke:none; fill-opacity:1\" cx=\"1217.47\" cy=\"518.094\" r=\"18\"/>\n<circle clip-path=\"url(#clip6702)\" style=\"fill:#009af9; stroke:none; fill-opacity:1\" cx=\"1217.47\" cy=\"518.094\" r=\"14\"/>\n<circle clip-path=\"url(#clip6702)\" style=\"fill:#000000; stroke:none; fill-opacity:1\" cx=\"1195.33\" cy=\"509.83\" r=\"18\"/>\n<circle clip-path=\"url(#clip6702)\" style=\"fill:#009af9; stroke:none; fill-opacity:1\" cx=\"1195.33\" cy=\"509.83\" r=\"14\"/>\n<circle clip-path=\"url(#clip6702)\" style=\"fill:#000000; stroke:none; fill-opacity:1\" cx=\"1542.99\" cy=\"404.428\" r=\"18\"/>\n<circle clip-path=\"url(#clip6702)\" style=\"fill:#009af9; stroke:none; fill-opacity:1\" cx=\"1542.99\" cy=\"404.428\" r=\"14\"/>\n<circle clip-path=\"url(#clip6702)\" style=\"fill:#000000; stroke:none; fill-opacity:1\" cx=\"1667.08\" cy=\"482.052\" r=\"18\"/>\n<circle clip-path=\"url(#clip6702)\" style=\"fill:#009af9; stroke:none; fill-opacity:1\" cx=\"1667.08\" cy=\"482.052\" r=\"14\"/>\n<circle clip-path=\"url(#clip6702)\" style=\"fill:#000000; stroke:none; fill-opacity:1\" cx=\"1320.11\" cy=\"427.128\" r=\"18\"/>\n<circle clip-path=\"url(#clip6702)\" style=\"fill:#009af9; stroke:none; fill-opacity:1\" cx=\"1320.11\" cy=\"427.128\" r=\"14\"/>\n<circle clip-path=\"url(#clip6702)\" style=\"fill:#000000; stroke:none; fill-opacity:1\" cx=\"1367.69\" cy=\"406.125\" r=\"18\"/>\n<circle clip-path=\"url(#clip6702)\" style=\"fill:#009af9; stroke:none; fill-opacity:1\" cx=\"1367.69\" cy=\"406.125\" r=\"14\"/>\n<circle clip-path=\"url(#clip6702)\" style=\"fill:#000000; stroke:none; fill-opacity:1\" cx=\"942.301\" cy=\"671.297\" r=\"18\"/>\n<circle clip-path=\"url(#clip6702)\" style=\"fill:#009af9; stroke:none; fill-opacity:1\" cx=\"942.301\" cy=\"671.297\" r=\"14\"/>\n<circle clip-path=\"url(#clip6702)\" style=\"fill:#000000; stroke:none; fill-opacity:1\" cx=\"680.559\" cy=\"419.352\" r=\"18\"/>\n<circle clip-path=\"url(#clip6702)\" style=\"fill:#009af9; stroke:none; fill-opacity:1\" cx=\"680.559\" cy=\"419.352\" r=\"14\"/>\n<circle clip-path=\"url(#clip6702)\" style=\"fill:#000000; stroke:none; fill-opacity:1\" cx=\"2105.93\" cy=\"1328.81\" r=\"18\"/>\n<circle clip-path=\"url(#clip6702)\" style=\"fill:#009af9; stroke:none; fill-opacity:1\" cx=\"2105.93\" cy=\"1328.81\" r=\"14\"/>\n<circle clip-path=\"url(#clip6702)\" style=\"fill:#000000; stroke:none; fill-opacity:1\" cx=\"1489.72\" cy=\"361.046\" r=\"18\"/>\n<circle clip-path=\"url(#clip6702)\" style=\"fill:#009af9; stroke:none; fill-opacity:1\" cx=\"1489.72\" cy=\"361.046\" r=\"14\"/>\n<circle clip-path=\"url(#clip6702)\" style=\"fill:#000000; stroke:none; fill-opacity:1\" cx=\"1388.79\" cy=\"419.606\" r=\"18\"/>\n<circle clip-path=\"url(#clip6702)\" style=\"fill:#009af9; stroke:none; fill-opacity:1\" cx=\"1388.79\" cy=\"419.606\" r=\"14\"/>\n<circle clip-path=\"url(#clip6702)\" style=\"fill:#000000; stroke:none; fill-opacity:1\" cx=\"1243.73\" cy=\"523.705\" r=\"18\"/>\n<circle clip-path=\"url(#clip6702)\" style=\"fill:#009af9; stroke:none; fill-opacity:1\" cx=\"1243.73\" cy=\"523.705\" r=\"14\"/>\n<circle clip-path=\"url(#clip6702)\" style=\"fill:#000000; stroke:none; fill-opacity:1\" cx=\"1766.15\" cy=\"676.663\" r=\"18\"/>\n<circle clip-path=\"url(#clip6702)\" style=\"fill:#009af9; stroke:none; fill-opacity:1\" cx=\"1766.15\" cy=\"676.663\" r=\"14\"/>\n<circle clip-path=\"url(#clip6702)\" style=\"fill:#000000; stroke:none; fill-opacity:1\" cx=\"1397.34\" cy=\"379.774\" r=\"18\"/>\n<circle clip-path=\"url(#clip6702)\" style=\"fill:#009af9; stroke:none; fill-opacity:1\" cx=\"1397.34\" cy=\"379.774\" r=\"14\"/>\n<circle clip-path=\"url(#clip6702)\" style=\"fill:#000000; stroke:none; fill-opacity:1\" cx=\"1507.63\" cy=\"364.605\" r=\"18\"/>\n<circle clip-path=\"url(#clip6702)\" style=\"fill:#009af9; stroke:none; fill-opacity:1\" cx=\"1507.63\" cy=\"364.605\" r=\"14\"/>\n<circle clip-path=\"url(#clip6702)\" style=\"fill:#000000; stroke:none; fill-opacity:1\" cx=\"1457.28\" cy=\"307.389\" r=\"18\"/>\n<circle clip-path=\"url(#clip6702)\" style=\"fill:#009af9; stroke:none; fill-opacity:1\" cx=\"1457.28\" cy=\"307.389\" r=\"14\"/>\n<circle clip-path=\"url(#clip6702)\" style=\"fill:#000000; stroke:none; fill-opacity:1\" cx=\"1316.66\" cy=\"444.281\" r=\"18\"/>\n<circle clip-path=\"url(#clip6702)\" style=\"fill:#009af9; stroke:none; fill-opacity:1\" cx=\"1316.66\" cy=\"444.281\" r=\"14\"/>\n<circle clip-path=\"url(#clip6702)\" style=\"fill:#000000; stroke:none; fill-opacity:1\" cx=\"1565.83\" cy=\"393.307\" r=\"18\"/>\n<circle clip-path=\"url(#clip6702)\" style=\"fill:#009af9; stroke:none; fill-opacity:1\" cx=\"1565.83\" cy=\"393.307\" r=\"14\"/>\n<circle clip-path=\"url(#clip6702)\" style=\"fill:#000000; stroke:none; fill-opacity:1\" cx=\"1513.85\" cy=\"359.692\" r=\"18\"/>\n<circle clip-path=\"url(#clip6702)\" style=\"fill:#009af9; stroke:none; fill-opacity:1\" cx=\"1513.85\" cy=\"359.692\" r=\"14\"/>\n<circle clip-path=\"url(#clip6702)\" style=\"fill:#000000; stroke:none; fill-opacity:1\" cx=\"1195.37\" cy=\"560.744\" r=\"18\"/>\n<circle clip-path=\"url(#clip6702)\" style=\"fill:#009af9; stroke:none; fill-opacity:1\" cx=\"1195.37\" cy=\"560.744\" r=\"14\"/>\n<circle clip-path=\"url(#clip6702)\" style=\"fill:#000000; stroke:none; fill-opacity:1\" cx=\"1850.28\" cy=\"866.915\" r=\"18\"/>\n<circle clip-path=\"url(#clip6702)\" style=\"fill:#009af9; stroke:none; fill-opacity:1\" cx=\"1850.28\" cy=\"866.915\" r=\"14\"/>\n<circle clip-path=\"url(#clip6702)\" style=\"fill:#000000; stroke:none; fill-opacity:1\" cx=\"1546.26\" cy=\"399.536\" r=\"18\"/>\n<circle clip-path=\"url(#clip6702)\" style=\"fill:#009af9; stroke:none; fill-opacity:1\" cx=\"1546.26\" cy=\"399.536\" r=\"14\"/>\n<circle clip-path=\"url(#clip6702)\" style=\"fill:#000000; stroke:none; fill-opacity:1\" cx=\"1600.26\" cy=\"396.125\" r=\"18\"/>\n<circle clip-path=\"url(#clip6702)\" style=\"fill:#009af9; stroke:none; fill-opacity:1\" cx=\"1600.26\" cy=\"396.125\" r=\"14\"/>\n<circle clip-path=\"url(#clip6702)\" style=\"fill:#000000; stroke:none; fill-opacity:1\" cx=\"1335.11\" cy=\"417.833\" r=\"18\"/>\n<circle clip-path=\"url(#clip6702)\" style=\"fill:#009af9; stroke:none; fill-opacity:1\" cx=\"1335.11\" cy=\"417.833\" r=\"14\"/>\n<circle clip-path=\"url(#clip6702)\" style=\"fill:#000000; stroke:none; fill-opacity:1\" cx=\"1630.97\" cy=\"478.271\" r=\"18\"/>\n<circle clip-path=\"url(#clip6702)\" style=\"fill:#009af9; stroke:none; fill-opacity:1\" cx=\"1630.97\" cy=\"478.271\" r=\"14\"/>\n<circle clip-path=\"url(#clip6702)\" style=\"fill:#000000; stroke:none; fill-opacity:1\" cx=\"1575.77\" cy=\"419.139\" r=\"18\"/>\n<circle clip-path=\"url(#clip6702)\" style=\"fill:#009af9; stroke:none; fill-opacity:1\" cx=\"1575.77\" cy=\"419.139\" r=\"14\"/>\n<circle clip-path=\"url(#clip6702)\" style=\"fill:#000000; stroke:none; fill-opacity:1\" cx=\"1406.83\" cy=\"372.658\" r=\"18\"/>\n<circle clip-path=\"url(#clip6702)\" style=\"fill:#009af9; stroke:none; fill-opacity:1\" cx=\"1406.83\" cy=\"372.658\" r=\"14\"/>\n<circle clip-path=\"url(#clip6702)\" style=\"fill:#000000; stroke:none; fill-opacity:1\" cx=\"893.23\" cy=\"637.968\" r=\"18\"/>\n<circle clip-path=\"url(#clip6702)\" style=\"fill:#009af9; stroke:none; fill-opacity:1\" cx=\"893.23\" cy=\"637.968\" r=\"14\"/>\n<circle clip-path=\"url(#clip6702)\" style=\"fill:#000000; stroke:none; fill-opacity:1\" cx=\"1900.49\" cy=\"1020.46\" r=\"18\"/>\n<circle clip-path=\"url(#clip6702)\" style=\"fill:#009af9; stroke:none; fill-opacity:1\" cx=\"1900.49\" cy=\"1020.46\" r=\"14\"/>\n<circle clip-path=\"url(#clip6702)\" style=\"fill:#000000; stroke:none; fill-opacity:1\" cx=\"1842.5\" cy=\"833.909\" r=\"18\"/>\n<circle clip-path=\"url(#clip6702)\" style=\"fill:#009af9; stroke:none; fill-opacity:1\" cx=\"1842.5\" cy=\"833.909\" r=\"14\"/>\n<circle clip-path=\"url(#clip6702)\" style=\"fill:#000000; stroke:none; fill-opacity:1\" cx=\"1568.18\" cy=\"357.067\" r=\"18\"/>\n<circle clip-path=\"url(#clip6702)\" style=\"fill:#009af9; stroke:none; fill-opacity:1\" cx=\"1568.18\" cy=\"357.067\" r=\"14\"/>\n<circle clip-path=\"url(#clip6702)\" style=\"fill:#000000; stroke:none; fill-opacity:1\" cx=\"1327.42\" cy=\"350.314\" r=\"18\"/>\n<circle clip-path=\"url(#clip6702)\" style=\"fill:#009af9; stroke:none; fill-opacity:1\" cx=\"1327.42\" cy=\"350.314\" r=\"14\"/>\n<circle clip-path=\"url(#clip6702)\" style=\"fill:#000000; stroke:none; fill-opacity:1\" cx=\"1497.7\" cy=\"351.814\" r=\"18\"/>\n<circle clip-path=\"url(#clip6702)\" style=\"fill:#009af9; stroke:none; fill-opacity:1\" cx=\"1497.7\" cy=\"351.814\" r=\"14\"/>\n<circle clip-path=\"url(#clip6702)\" style=\"fill:#000000; stroke:none; fill-opacity:1\" cx=\"1370.32\" cy=\"366.999\" r=\"18\"/>\n<circle clip-path=\"url(#clip6702)\" style=\"fill:#009af9; stroke:none; fill-opacity:1\" cx=\"1370.32\" cy=\"366.999\" r=\"14\"/>\n<circle clip-path=\"url(#clip6702)\" style=\"fill:#000000; stroke:none; fill-opacity:1\" cx=\"981.066\" cy=\"647.071\" r=\"18\"/>\n<circle clip-path=\"url(#clip6702)\" style=\"fill:#009af9; stroke:none; fill-opacity:1\" cx=\"981.066\" cy=\"647.071\" r=\"14\"/>\n<circle clip-path=\"url(#clip6702)\" style=\"fill:#000000; stroke:none; fill-opacity:1\" cx=\"1368.33\" cy=\"387.179\" r=\"18\"/>\n<circle clip-path=\"url(#clip6702)\" style=\"fill:#009af9; stroke:none; fill-opacity:1\" cx=\"1368.33\" cy=\"387.179\" r=\"14\"/>\n<circle clip-path=\"url(#clip6702)\" style=\"fill:#000000; stroke:none; fill-opacity:1\" cx=\"1804.34\" cy=\"727.549\" r=\"18\"/>\n<circle clip-path=\"url(#clip6702)\" style=\"fill:#009af9; stroke:none; fill-opacity:1\" cx=\"1804.34\" cy=\"727.549\" r=\"14\"/>\n<circle clip-path=\"url(#clip6702)\" style=\"fill:#000000; stroke:none; fill-opacity:1\" cx=\"1375.2\" cy=\"417.246\" r=\"18\"/>\n<circle clip-path=\"url(#clip6702)\" style=\"fill:#009af9; stroke:none; fill-opacity:1\" cx=\"1375.2\" cy=\"417.246\" r=\"14\"/>\n<circle clip-path=\"url(#clip6702)\" style=\"fill:#000000; stroke:none; fill-opacity:1\" cx=\"1403.76\" cy=\"386.329\" r=\"18\"/>\n<circle clip-path=\"url(#clip6702)\" style=\"fill:#009af9; stroke:none; fill-opacity:1\" cx=\"1403.76\" cy=\"386.329\" r=\"14\"/>\n<circle clip-path=\"url(#clip6702)\" style=\"fill:#000000; stroke:none; fill-opacity:1\" cx=\"1596.86\" cy=\"423.462\" r=\"18\"/>\n<circle clip-path=\"url(#clip6702)\" style=\"fill:#009af9; stroke:none; fill-opacity:1\" cx=\"1596.86\" cy=\"423.462\" r=\"14\"/>\n<circle clip-path=\"url(#clip6702)\" style=\"fill:#000000; stroke:none; fill-opacity:1\" cx=\"1690.96\" cy=\"552.798\" r=\"18\"/>\n<circle clip-path=\"url(#clip6702)\" style=\"fill:#009af9; stroke:none; fill-opacity:1\" cx=\"1690.96\" cy=\"552.798\" r=\"14\"/>\n<circle clip-path=\"url(#clip6702)\" style=\"fill:#000000; stroke:none; fill-opacity:1\" cx=\"736.382\" cy=\"501.274\" r=\"18\"/>\n<circle clip-path=\"url(#clip6702)\" style=\"fill:#009af9; stroke:none; fill-opacity:1\" cx=\"736.382\" cy=\"501.274\" r=\"14\"/>\n<circle clip-path=\"url(#clip6702)\" style=\"fill:#000000; stroke:none; fill-opacity:1\" cx=\"1072.41\" cy=\"598.793\" r=\"18\"/>\n<circle clip-path=\"url(#clip6702)\" style=\"fill:#009af9; stroke:none; fill-opacity:1\" cx=\"1072.41\" cy=\"598.793\" r=\"14\"/>\n<circle clip-path=\"url(#clip6702)\" style=\"fill:#000000; stroke:none; fill-opacity:1\" cx=\"1160.24\" cy=\"577.321\" r=\"18\"/>\n<circle clip-path=\"url(#clip6702)\" style=\"fill:#009af9; stroke:none; fill-opacity:1\" cx=\"1160.24\" cy=\"577.321\" r=\"14\"/>\n<circle clip-path=\"url(#clip6702)\" style=\"fill:#000000; stroke:none; fill-opacity:1\" cx=\"1275.86\" cy=\"492.218\" r=\"18\"/>\n<circle clip-path=\"url(#clip6702)\" style=\"fill:#009af9; stroke:none; fill-opacity:1\" cx=\"1275.86\" cy=\"492.218\" r=\"14\"/>\n<circle clip-path=\"url(#clip6702)\" style=\"fill:#000000; stroke:none; fill-opacity:1\" cx=\"1577.29\" cy=\"427.718\" r=\"18\"/>\n<circle clip-path=\"url(#clip6702)\" style=\"fill:#009af9; stroke:none; fill-opacity:1\" cx=\"1577.29\" cy=\"427.718\" r=\"14\"/>\n<circle clip-path=\"url(#clip6702)\" style=\"fill:#000000; stroke:none; fill-opacity:1\" cx=\"1196.56\" cy=\"526.493\" r=\"18\"/>\n<circle clip-path=\"url(#clip6702)\" style=\"fill:#009af9; stroke:none; fill-opacity:1\" cx=\"1196.56\" cy=\"526.493\" r=\"14\"/>\n<circle clip-path=\"url(#clip6702)\" style=\"fill:#000000; stroke:none; fill-opacity:1\" cx=\"1193.78\" cy=\"504.244\" r=\"18\"/>\n<circle clip-path=\"url(#clip6702)\" style=\"fill:#009af9; stroke:none; fill-opacity:1\" cx=\"1193.78\" cy=\"504.244\" r=\"14\"/>\n<circle clip-path=\"url(#clip6702)\" style=\"fill:#000000; stroke:none; fill-opacity:1\" cx=\"1414.81\" cy=\"404.552\" r=\"18\"/>\n<circle clip-path=\"url(#clip6702)\" style=\"fill:#009af9; stroke:none; fill-opacity:1\" cx=\"1414.81\" cy=\"404.552\" r=\"14\"/>\n<circle clip-path=\"url(#clip6702)\" style=\"fill:#000000; stroke:none; fill-opacity:1\" cx=\"1028.6\" cy=\"654.304\" r=\"18\"/>\n<circle clip-path=\"url(#clip6702)\" style=\"fill:#009af9; stroke:none; fill-opacity:1\" cx=\"1028.6\" cy=\"654.304\" r=\"14\"/>\n<circle clip-path=\"url(#clip6702)\" style=\"fill:#000000; stroke:none; fill-opacity:1\" cx=\"1279.28\" cy=\"471.934\" r=\"18\"/>\n<circle clip-path=\"url(#clip6702)\" style=\"fill:#009af9; stroke:none; fill-opacity:1\" cx=\"1279.28\" cy=\"471.934\" r=\"14\"/>\n<circle clip-path=\"url(#clip6702)\" style=\"fill:#000000; stroke:none; fill-opacity:1\" cx=\"1077.05\" cy=\"583.954\" r=\"18\"/>\n<circle clip-path=\"url(#clip6702)\" style=\"fill:#009af9; stroke:none; fill-opacity:1\" cx=\"1077.05\" cy=\"583.954\" r=\"14\"/>\n<circle clip-path=\"url(#clip6702)\" style=\"fill:#000000; stroke:none; fill-opacity:1\" cx=\"1359.72\" cy=\"409.137\" r=\"18\"/>\n<circle clip-path=\"url(#clip6702)\" style=\"fill:#009af9; stroke:none; fill-opacity:1\" cx=\"1359.72\" cy=\"409.137\" r=\"14\"/>\n<circle clip-path=\"url(#clip6702)\" style=\"fill:#000000; stroke:none; fill-opacity:1\" cx=\"1012.81\" cy=\"649.389\" r=\"18\"/>\n<circle clip-path=\"url(#clip6702)\" style=\"fill:#009af9; stroke:none; fill-opacity:1\" cx=\"1012.81\" cy=\"649.389\" r=\"14\"/>\n<circle clip-path=\"url(#clip6702)\" style=\"fill:#000000; stroke:none; fill-opacity:1\" cx=\"963.035\" cy=\"669.059\" r=\"18\"/>\n<circle clip-path=\"url(#clip6702)\" style=\"fill:#009af9; stroke:none; fill-opacity:1\" cx=\"963.035\" cy=\"669.059\" r=\"14\"/>\n<circle clip-path=\"url(#clip6702)\" style=\"fill:#000000; stroke:none; fill-opacity:1\" cx=\"1056.11\" cy=\"615.204\" r=\"18\"/>\n<circle clip-path=\"url(#clip6702)\" style=\"fill:#009af9; stroke:none; fill-opacity:1\" cx=\"1056.11\" cy=\"615.204\" r=\"14\"/>\n<circle clip-path=\"url(#clip6702)\" style=\"fill:#000000; stroke:none; fill-opacity:1\" cx=\"837.063\" cy=\"607.501\" r=\"18\"/>\n<circle clip-path=\"url(#clip6702)\" style=\"fill:#009af9; stroke:none; fill-opacity:1\" cx=\"837.063\" cy=\"607.501\" r=\"14\"/>\n<circle clip-path=\"url(#clip6702)\" style=\"fill:#000000; stroke:none; fill-opacity:1\" cx=\"1282.12\" cy=\"449.021\" r=\"18\"/>\n<circle clip-path=\"url(#clip6702)\" style=\"fill:#009af9; stroke:none; fill-opacity:1\" cx=\"1282.12\" cy=\"449.021\" r=\"14\"/>\n<circle clip-path=\"url(#clip6702)\" style=\"fill:#000000; stroke:none; fill-opacity:1\" cx=\"1825.03\" cy=\"820.499\" r=\"18\"/>\n<circle clip-path=\"url(#clip6702)\" style=\"fill:#009af9; stroke:none; fill-opacity:1\" cx=\"1825.03\" cy=\"820.499\" r=\"14\"/>\n<circle clip-path=\"url(#clip6702)\" style=\"fill:#000000; stroke:none; fill-opacity:1\" cx=\"1665.94\" cy=\"530.18\" r=\"18\"/>\n<circle clip-path=\"url(#clip6702)\" style=\"fill:#009af9; stroke:none; fill-opacity:1\" cx=\"1665.94\" cy=\"530.18\" r=\"14\"/>\n<circle clip-path=\"url(#clip6702)\" style=\"fill:#000000; stroke:none; fill-opacity:1\" cx=\"1109\" cy=\"597.68\" r=\"18\"/>\n<circle clip-path=\"url(#clip6702)\" style=\"fill:#009af9; stroke:none; fill-opacity:1\" cx=\"1109\" cy=\"597.68\" r=\"14\"/>\n<circle clip-path=\"url(#clip6702)\" style=\"fill:#000000; stroke:none; fill-opacity:1\" cx=\"1668.44\" cy=\"509.165\" r=\"18\"/>\n<circle clip-path=\"url(#clip6702)\" style=\"fill:#009af9; stroke:none; fill-opacity:1\" cx=\"1668.44\" cy=\"509.165\" r=\"14\"/>\n<circle clip-path=\"url(#clip6702)\" style=\"fill:#000000; stroke:none; fill-opacity:1\" cx=\"1469.58\" cy=\"359.625\" r=\"18\"/>\n<circle clip-path=\"url(#clip6702)\" style=\"fill:#009af9; stroke:none; fill-opacity:1\" cx=\"1469.58\" cy=\"359.625\" r=\"14\"/>\n<circle clip-path=\"url(#clip6702)\" style=\"fill:#000000; stroke:none; fill-opacity:1\" cx=\"1324.98\" cy=\"419.528\" r=\"18\"/>\n<circle clip-path=\"url(#clip6702)\" style=\"fill:#009af9; stroke:none; fill-opacity:1\" cx=\"1324.98\" cy=\"419.528\" r=\"14\"/>\n<circle clip-path=\"url(#clip6702)\" style=\"fill:#000000; stroke:none; fill-opacity:1\" cx=\"1856.66\" cy=\"879.167\" r=\"18\"/>\n<circle clip-path=\"url(#clip6702)\" style=\"fill:#009af9; stroke:none; fill-opacity:1\" cx=\"1856.66\" cy=\"879.167\" r=\"14\"/>\n<circle clip-path=\"url(#clip6702)\" style=\"fill:#000000; stroke:none; fill-opacity:1\" cx=\"1291.2\" cy=\"421.68\" r=\"18\"/>\n<circle clip-path=\"url(#clip6702)\" style=\"fill:#009af9; stroke:none; fill-opacity:1\" cx=\"1291.2\" cy=\"421.68\" r=\"14\"/>\n<circle clip-path=\"url(#clip6702)\" style=\"fill:#000000; stroke:none; fill-opacity:1\" cx=\"1752.55\" cy=\"641.532\" r=\"18\"/>\n<circle clip-path=\"url(#clip6702)\" style=\"fill:#009af9; stroke:none; fill-opacity:1\" cx=\"1752.55\" cy=\"641.532\" r=\"14\"/>\n<circle clip-path=\"url(#clip6702)\" style=\"fill:#000000; stroke:none; fill-opacity:1\" cx=\"1348.66\" cy=\"411.497\" r=\"18\"/>\n<circle clip-path=\"url(#clip6702)\" style=\"fill:#009af9; stroke:none; fill-opacity:1\" cx=\"1348.66\" cy=\"411.497\" r=\"14\"/>\n<circle clip-path=\"url(#clip6702)\" style=\"fill:#000000; stroke:none; fill-opacity:1\" cx=\"1511.47\" cy=\"383.935\" r=\"18\"/>\n<circle clip-path=\"url(#clip6702)\" style=\"fill:#009af9; stroke:none; fill-opacity:1\" cx=\"1511.47\" cy=\"383.935\" r=\"14\"/>\n<circle clip-path=\"url(#clip6702)\" style=\"fill:#000000; stroke:none; fill-opacity:1\" cx=\"384.948\" cy=\"99.6889\" r=\"18\"/>\n<circle clip-path=\"url(#clip6702)\" style=\"fill:#009af9; stroke:none; fill-opacity:1\" cx=\"384.948\" cy=\"99.6889\" r=\"14\"/>\n<circle clip-path=\"url(#clip6702)\" style=\"fill:#000000; stroke:none; fill-opacity:1\" cx=\"1265.55\" cy=\"459.71\" r=\"18\"/>\n<circle clip-path=\"url(#clip6702)\" style=\"fill:#009af9; stroke:none; fill-opacity:1\" cx=\"1265.55\" cy=\"459.71\" r=\"14\"/>\n<circle clip-path=\"url(#clip6702)\" style=\"fill:#000000; stroke:none; fill-opacity:1\" cx=\"1459.09\" cy=\"340.593\" r=\"18\"/>\n<circle clip-path=\"url(#clip6702)\" style=\"fill:#009af9; stroke:none; fill-opacity:1\" cx=\"1459.09\" cy=\"340.593\" r=\"14\"/>\n<circle clip-path=\"url(#clip6702)\" style=\"fill:#000000; stroke:none; fill-opacity:1\" cx=\"2054.19\" cy=\"1282.04\" r=\"18\"/>\n<circle clip-path=\"url(#clip6702)\" style=\"fill:#009af9; stroke:none; fill-opacity:1\" cx=\"2054.19\" cy=\"1282.04\" r=\"14\"/>\n<circle clip-path=\"url(#clip6702)\" style=\"fill:#000000; stroke:none; fill-opacity:1\" cx=\"1880.19\" cy=\"903.839\" r=\"18\"/>\n<circle clip-path=\"url(#clip6702)\" style=\"fill:#009af9; stroke:none; fill-opacity:1\" cx=\"1880.19\" cy=\"903.839\" r=\"14\"/>\n<circle clip-path=\"url(#clip6702)\" style=\"fill:#000000; stroke:none; fill-opacity:1\" cx=\"792.125\" cy=\"533.129\" r=\"18\"/>\n<circle clip-path=\"url(#clip6702)\" style=\"fill:#009af9; stroke:none; fill-opacity:1\" cx=\"792.125\" cy=\"533.129\" r=\"14\"/>\n<circle clip-path=\"url(#clip6702)\" style=\"fill:#000000; stroke:none; fill-opacity:1\" cx=\"1590.71\" cy=\"370.773\" r=\"18\"/>\n<circle clip-path=\"url(#clip6702)\" style=\"fill:#009af9; stroke:none; fill-opacity:1\" cx=\"1590.71\" cy=\"370.773\" r=\"14\"/>\n<circle clip-path=\"url(#clip6702)\" style=\"fill:#000000; stroke:none; fill-opacity:1\" cx=\"1253.44\" cy=\"439.157\" r=\"18\"/>\n<circle clip-path=\"url(#clip6702)\" style=\"fill:#009af9; stroke:none; fill-opacity:1\" cx=\"1253.44\" cy=\"439.157\" r=\"14\"/>\n<circle clip-path=\"url(#clip6702)\" style=\"fill:#000000; stroke:none; fill-opacity:1\" cx=\"1280.98\" cy=\"464.562\" r=\"18\"/>\n<circle clip-path=\"url(#clip6702)\" style=\"fill:#009af9; stroke:none; fill-opacity:1\" cx=\"1280.98\" cy=\"464.562\" r=\"14\"/>\n<circle clip-path=\"url(#clip6702)\" style=\"fill:#000000; stroke:none; fill-opacity:1\" cx=\"1476.2\" cy=\"329.431\" r=\"18\"/>\n<circle clip-path=\"url(#clip6702)\" style=\"fill:#009af9; stroke:none; fill-opacity:1\" cx=\"1476.2\" cy=\"329.431\" r=\"14\"/>\n<circle clip-path=\"url(#clip6702)\" style=\"fill:#000000; stroke:none; fill-opacity:1\" cx=\"969.163\" cy=\"659.823\" r=\"18\"/>\n<circle clip-path=\"url(#clip6702)\" style=\"fill:#009af9; stroke:none; fill-opacity:1\" cx=\"969.163\" cy=\"659.823\" r=\"14\"/>\n<circle clip-path=\"url(#clip6702)\" style=\"fill:#000000; stroke:none; fill-opacity:1\" cx=\"1556.2\" cy=\"419.926\" r=\"18\"/>\n<circle clip-path=\"url(#clip6702)\" style=\"fill:#009af9; stroke:none; fill-opacity:1\" cx=\"1556.2\" cy=\"419.926\" r=\"14\"/>\n<circle clip-path=\"url(#clip6702)\" style=\"fill:#000000; stroke:none; fill-opacity:1\" cx=\"1926.34\" cy=\"1058.78\" r=\"18\"/>\n<circle clip-path=\"url(#clip6702)\" style=\"fill:#009af9; stroke:none; fill-opacity:1\" cx=\"1926.34\" cy=\"1058.78\" r=\"14\"/>\n<circle clip-path=\"url(#clip6702)\" style=\"fill:#000000; stroke:none; fill-opacity:1\" cx=\"1495.35\" cy=\"377.733\" r=\"18\"/>\n<circle clip-path=\"url(#clip6702)\" style=\"fill:#009af9; stroke:none; fill-opacity:1\" cx=\"1495.35\" cy=\"377.733\" r=\"14\"/>\n<circle clip-path=\"url(#clip6702)\" style=\"fill:#000000; stroke:none; fill-opacity:1\" cx=\"2117.18\" cy=\"1357.55\" r=\"18\"/>\n<circle clip-path=\"url(#clip6702)\" style=\"fill:#009af9; stroke:none; fill-opacity:1\" cx=\"2117.18\" cy=\"1357.55\" r=\"14\"/>\n<circle clip-path=\"url(#clip6702)\" style=\"fill:#000000; stroke:none; fill-opacity:1\" cx=\"1399.36\" cy=\"404.362\" r=\"18\"/>\n<circle clip-path=\"url(#clip6702)\" style=\"fill:#009af9; stroke:none; fill-opacity:1\" cx=\"1399.36\" cy=\"404.362\" r=\"14\"/>\n<circle clip-path=\"url(#clip6702)\" style=\"fill:#000000; stroke:none; fill-opacity:1\" cx=\"1824.74\" cy=\"845.984\" r=\"18\"/>\n<circle clip-path=\"url(#clip6702)\" style=\"fill:#009af9; stroke:none; fill-opacity:1\" cx=\"1824.74\" cy=\"845.984\" r=\"14\"/>\n<circle clip-path=\"url(#clip6702)\" style=\"fill:#000000; stroke:none; fill-opacity:1\" cx=\"1789.33\" cy=\"763.12\" r=\"18\"/>\n<circle clip-path=\"url(#clip6702)\" style=\"fill:#009af9; stroke:none; fill-opacity:1\" cx=\"1789.33\" cy=\"763.12\" r=\"14\"/>\n<circle clip-path=\"url(#clip6702)\" style=\"fill:#000000; stroke:none; fill-opacity:1\" cx=\"1057.78\" cy=\"602.127\" r=\"18\"/>\n<circle clip-path=\"url(#clip6702)\" style=\"fill:#009af9; stroke:none; fill-opacity:1\" cx=\"1057.78\" cy=\"602.127\" r=\"14\"/>\n<circle clip-path=\"url(#clip6702)\" style=\"fill:#000000; stroke:none; fill-opacity:1\" cx=\"1500.87\" cy=\"370.445\" r=\"18\"/>\n<circle clip-path=\"url(#clip6702)\" style=\"fill:#009af9; stroke:none; fill-opacity:1\" cx=\"1500.87\" cy=\"370.445\" r=\"14\"/>\n<circle clip-path=\"url(#clip6702)\" style=\"fill:#000000; stroke:none; fill-opacity:1\" cx=\"1663.51\" cy=\"512.524\" r=\"18\"/>\n<circle clip-path=\"url(#clip6702)\" style=\"fill:#009af9; stroke:none; fill-opacity:1\" cx=\"1663.51\" cy=\"512.524\" r=\"14\"/>\n<polyline clip-path=\"url(#clip6702)\" style=\"stroke:#e26f46; stroke-width:4; stroke-opacity:1; fill:none\" points=\"\n  195.389,773.79 200.656,734.856 205.923,697.389 211.191,661.356 216.458,626.729 228.633,551.903 240.809,484.071 252.984,422.885 265.16,368.007 277.335,319.107 \n  289.511,275.866 301.686,237.972 313.862,205.124 326.037,177.03 338.213,153.406 350.388,133.977 362.564,118.478 386.915,98.2481 411.266,90.7562 440.534,96.0369 \n  469.802,114.159 499.07,142.452 528.338,178.494 577.829,251.064 627.32,330.556 681.082,416.225 734.843,494.153 784.406,554.607 833.97,601.345 860.538,620.192 \n  887.107,634.559 913.675,644.432 940.244,649.875 971.026,650.822 1001.81,646.328 1032.59,636.818 1063.37,622.814 1118.08,588.747 1172.8,546.321 1220.77,505.688 \n  1268.75,465.123 1321.06,424.704 1373.36,392.173 1425.98,371.214 1478.6,365.44 1507.69,369.808 1536.78,380.047 1565.87,396.442 1594.95,419.187 1622.63,446.807 \n  1650.31,480.244 1677.98,519.385 1705.66,564.013 1763.22,672.81 1820.77,799.092 1869.22,913.757 1917.67,1029.97 1947.24,1098.61 1976.82,1163.18 2006.39,1221.47 \n  2035.97,1271.05 2063.77,1307.31 2091.57,1331.02 2105.47,1337.35 2119.37,1339.53 2133.28,1337.18 2147.18,1329.93 2169.45,1307.09 2191.72,1268.92 2202.85,1243.52 \n  2213.99,1213.6 2225.12,1178.92 2236.26,1139.22 2247.39,1094.26 2258.53,1043.76 2269.66,987.46 2280.8,925.082 2291.93,856.343 2303.07,780.952 2314.2,698.612 \n  2325.34,609.019 2332.19,550.125 2339.05,488.291 2345.9,423.44 2352.76,355.498 \n  \"/>\n<path clip-path=\"url(#clip6700)\" d=\"\nM1989.93 312.204 L2280.76 312.204 L2280.76 130.764 L1989.93 130.764  Z\n  \" fill=\"#ffffff\" fill-rule=\"evenodd\" fill-opacity=\"1\"/>\n<polyline clip-path=\"url(#clip6700)\" style=\"stroke:#000000; stroke-width:4; stroke-opacity:1; fill:none\" points=\"\n  1989.93,312.204 2280.76,312.204 2280.76,130.764 1989.93,130.764 1989.93,312.204 \n  \"/>\n<circle clip-path=\"url(#clip6700)\" style=\"fill:#000000; stroke:none; fill-opacity:1\" cx=\"2097.93\" cy=\"191.244\" r=\"25\"/>\n<circle clip-path=\"url(#clip6700)\" style=\"fill:#009af9; stroke:none; fill-opacity:1\" cx=\"2097.93\" cy=\"191.244\" r=\"21\"/>\n<g clip-path=\"url(#clip6700)\">\n<text style=\"fill:#000000; fill-opacity:1; font-family:Arial,Helvetica Neue,Helvetica,sans-serif; font-size:48px; text-anchor:start;\" transform=\"rotate(0, 2181.93, 208.744)\" x=\"2181.93\" y=\"208.744\">y1</text>\n</g>\n<polyline clip-path=\"url(#clip6700)\" style=\"stroke:#e26f46; stroke-width:4; stroke-opacity:1; fill:none\" points=\"\n  2013.93,251.724 2157.93,251.724 \n  \"/>\n<g clip-path=\"url(#clip6700)\">\n<text style=\"fill:#000000; fill-opacity:1; font-family:Arial,Helvetica Neue,Helvetica,sans-serif; font-size:48px; text-anchor:start;\" transform=\"rotate(0, 2181.93, 269.224)\" x=\"2181.93\" y=\"269.224\">y2</text>\n</g>\n</svg>\n"
               },
               "type": "node"
              }
             ],
             "instanceArgs": {
              "namespace": "html",
              "tag": "div"
             },
             "nodeType": "DOM",
             "props": {
              "className": "interact-flex-row interact-widget"
             },
             "type": "node"
            }
           }
          },
          "systemjs_options": null
         },
         "nodeType": "Scope",
         "props": {},
         "type": "node"
        }
       ],
       "instanceArgs": {
        "namespace": "html",
        "tag": "div"
       },
       "nodeType": "DOM",
       "props": {},
       "type": "node"
      },
      "text/html": [
       "<div\n",
       "    class=\"webio-mountpoint\"\n",
       "    data-webio-mountpoint=\"2119504123034582213\"\n",
       ">\n",
       "    <script>\n",
       "    if (window.require && require.defined && require.defined(\"nbextensions/webio-jupyter-notebook\")) {\n",
       "        console.log(\"Jupyter WebIO extension detected, not mounting.\");\n",
       "    } else if (window.WebIO) {\n",
       "        WebIO.mount(\n",
       "            document.querySelector('[data-webio-mountpoint=\"2119504123034582213\"]'),\n",
       "            {\"props\":{},\"nodeType\":\"DOM\",\"type\":\"node\",\"instanceArgs\":{\"namespace\":\"html\",\"tag\":\"div\"},\"children\":[{\"props\":{\"className\":\"field interact-widget\"},\"nodeType\":\"DOM\",\"type\":\"node\",\"instanceArgs\":{\"namespace\":\"html\",\"tag\":\"div\"},\"children\":[{\"props\":{},\"nodeType\":\"Scope\",\"type\":\"node\",\"instanceArgs\":{\"imports\":{\"data\":[{\"name\":\"knockout\",\"type\":\"js\",\"url\":\"\\/assetserver\\/3f712825d914ad7ceb56bfee8c26f86f12ffa94d-knockout.js\"},{\"name\":\"knockout_punches\",\"type\":\"js\",\"url\":\"\\/assetserver\\/bb1b62fcbdf49c4be6ac0dad8b532b184373033e-knockout_punches.js\"},{\"name\":null,\"type\":\"js\",\"url\":\"\\/assetserver\\/19913531c8d53c38ae69c309e5652251bd73068b-all.js\"},{\"name\":null,\"type\":\"css\",\"url\":\"\\/assetserver\\/ebf4f6e27037f283781868b78a232c87484e6315-style.css\"},{\"name\":null,\"type\":\"css\",\"url\":\"\\/assetserver\\/f57d299ee23910e5dba49c495adcf216c311802c-bulma_confined.min.css\"}],\"type\":\"async_block\"},\"id\":\"9186766342923947323\",\"handlers\":{\"changes\":[\"(function (val){return (val!=this.model[\\\"changes\\\"]()) ? (this.valueFromJulia[\\\"changes\\\"]=true, this.model[\\\"changes\\\"](val)) : undefined})\"],\"index\":[\"(function (val){return (val!=this.model[\\\"index\\\"]()) ? (this.valueFromJulia[\\\"index\\\"]=true, this.model[\\\"index\\\"](val)) : undefined})\"]},\"systemjs_options\":null,\"mount_callbacks\":[\"function () {\\n    var handler = (function (ko, koPunches) {\\n    ko.punches.enableAll();\\n    ko.bindingHandlers.numericValue = {\\n        init: function(element, valueAccessor, allBindings, data, context) {\\n            var stringified = ko.observable(ko.unwrap(valueAccessor()));\\n            stringified.subscribe(function(value) {\\n                var val = parseFloat(value);\\n                if (!isNaN(val)) {\\n                    valueAccessor()(val);\\n                }\\n            });\\n            valueAccessor().subscribe(function(value) {\\n                var str = JSON.stringify(value);\\n                if ((str == \\\"0\\\") && ([\\\"-0\\\", \\\"-0.\\\"].indexOf(stringified()) >= 0))\\n                     return;\\n                 if ([\\\"null\\\", \\\"\\\"].indexOf(str) >= 0)\\n                     return;\\n                stringified(str);\\n            });\\n            ko.applyBindingsToNode(\\n                element,\\n                {\\n                    value: stringified,\\n                    valueUpdate: allBindings.get('valueUpdate'),\\n                },\\n                context,\\n            );\\n        }\\n    };\\n    var json_data = {\\\"formatted_vals\\\":[\\\"1\\\",\\\"2\\\",\\\"3\\\",\\\"4\\\",\\\"5\\\",\\\"6\\\",\\\"7\\\",\\\"8\\\",\\\"9\\\"],\\\"changes\\\":WebIO.getval({\\\"name\\\":\\\"changes\\\",\\\"scope\\\":\\\"9186766342923947323\\\",\\\"id\\\":\\\"ob_63\\\",\\\"type\\\":\\\"observable\\\"}),\\\"index\\\":WebIO.getval({\\\"name\\\":\\\"index\\\",\\\"scope\\\":\\\"9186766342923947323\\\",\\\"id\\\":\\\"ob_62\\\",\\\"type\\\":\\\"observable\\\"})};\\n    var self = this;\\n    function AppViewModel() {\\n        for (var key in json_data) {\\n            var el = json_data[key];\\n            this[key] = Array.isArray(el) ? ko.observableArray(el) : ko.observable(el);\\n        }\\n        \\n        [this[\\\"formatted_val\\\"]=ko.computed(    function(){\\n        return this.formatted_vals()[parseInt(this.index())-(1)];\\n    }\\n,this)]\\n        [this[\\\"changes\\\"].subscribe((function (val){!(this.valueFromJulia[\\\"changes\\\"]) ? (WebIO.setval({\\\"name\\\":\\\"changes\\\",\\\"scope\\\":\\\"9186766342923947323\\\",\\\"id\\\":\\\"ob_63\\\",\\\"type\\\":\\\"observable\\\"},val)) : undefined; return this.valueFromJulia[\\\"changes\\\"]=false}),self),this[\\\"index\\\"].subscribe((function (val){!(this.valueFromJulia[\\\"index\\\"]) ? (WebIO.setval({\\\"name\\\":\\\"index\\\",\\\"scope\\\":\\\"9186766342923947323\\\",\\\"id\\\":\\\"ob_62\\\",\\\"type\\\":\\\"observable\\\"},val)) : undefined; return this.valueFromJulia[\\\"index\\\"]=false}),self)]\\n        \\n    }\\n    self.model = new AppViewModel();\\n    self.valueFromJulia = {};\\n    for (var key in json_data) {\\n        self.valueFromJulia[key] = false;\\n    }\\n    ko.applyBindings(self.model, self.dom);\\n}\\n);\\n    (WebIO.importBlock({\\\"data\\\":[{\\\"name\\\":\\\"knockout\\\",\\\"type\\\":\\\"js\\\",\\\"url\\\":\\\"\\/assetserver\\/3f712825d914ad7ceb56bfee8c26f86f12ffa94d-knockout.js\\\"},{\\\"name\\\":\\\"knockout_punches\\\",\\\"type\\\":\\\"js\\\",\\\"url\\\":\\\"\\/assetserver\\/bb1b62fcbdf49c4be6ac0dad8b532b184373033e-knockout_punches.js\\\"}],\\\"type\\\":\\\"async_block\\\"})).then((imports) => handler.apply(this, imports));\\n}\\n\"],\"observables\":{\"changes\":{\"sync\":false,\"id\":\"ob_63\",\"value\":0},\"index\":{\"sync\":true,\"id\":\"ob_62\",\"value\":5}}},\"children\":[{\"props\":{\"className\":\"interact-flex-row interact-widget\"},\"nodeType\":\"DOM\",\"type\":\"node\",\"instanceArgs\":{\"namespace\":\"html\",\"tag\":\"div\"},\"children\":[{\"props\":{\"className\":\"interact-flex-row-left\"},\"nodeType\":\"DOM\",\"type\":\"node\",\"instanceArgs\":{\"namespace\":\"html\",\"tag\":\"div\"},\"children\":[{\"props\":{\"className\":\"interact \",\"style\":{\"padding\":\"5px 10px 0px 10px\"}},\"nodeType\":\"DOM\",\"type\":\"node\",\"instanceArgs\":{\"namespace\":\"html\",\"tag\":\"label\"},\"children\":[\"d\"]}]},{\"props\":{\"className\":\"interact-flex-row-center\"},\"nodeType\":\"DOM\",\"type\":\"node\",\"instanceArgs\":{\"namespace\":\"html\",\"tag\":\"div\"},\"children\":[{\"props\":{\"max\":9,\"min\":1,\"attributes\":{\"type\":\"range\",\"data-bind\":\"numericValue: index, valueUpdate: 'input', event: {change: function (){this.changes(this.changes()+1)}}\",\"orient\":\"horizontal\"},\"step\":1,\"className\":\"slider slider is-fullwidth\",\"style\":{}},\"nodeType\":\"DOM\",\"type\":\"node\",\"instanceArgs\":{\"namespace\":\"html\",\"tag\":\"input\"},\"children\":[]}]},{\"props\":{\"className\":\"interact-flex-row-right\"},\"nodeType\":\"DOM\",\"type\":\"node\",\"instanceArgs\":{\"namespace\":\"html\",\"tag\":\"div\"},\"children\":[{\"props\":{\"attributes\":{\"data-bind\":\"text: formatted_val\"}},\"nodeType\":\"DOM\",\"type\":\"node\",\"instanceArgs\":{\"namespace\":\"html\",\"tag\":\"p\"},\"children\":[]}]}]}]}]},{\"props\":{\"className\":\"field interact-widget\"},\"nodeType\":\"DOM\",\"type\":\"node\",\"instanceArgs\":{\"namespace\":\"html\",\"tag\":\"div\"},\"children\":[{\"props\":{},\"nodeType\":\"Scope\",\"type\":\"node\",\"instanceArgs\":{\"imports\":{\"data\":[{\"name\":\"knockout\",\"type\":\"js\",\"url\":\"\\/assetserver\\/3f712825d914ad7ceb56bfee8c26f86f12ffa94d-knockout.js\"},{\"name\":\"knockout_punches\",\"type\":\"js\",\"url\":\"\\/assetserver\\/bb1b62fcbdf49c4be6ac0dad8b532b184373033e-knockout_punches.js\"},{\"name\":null,\"type\":\"js\",\"url\":\"\\/assetserver\\/19913531c8d53c38ae69c309e5652251bd73068b-all.js\"},{\"name\":null,\"type\":\"css\",\"url\":\"\\/assetserver\\/ebf4f6e27037f283781868b78a232c87484e6315-style.css\"},{\"name\":null,\"type\":\"css\",\"url\":\"\\/assetserver\\/f57d299ee23910e5dba49c495adcf216c311802c-bulma_confined.min.css\"}],\"type\":\"async_block\"},\"id\":\"13257527843932597223\",\"handlers\":{\"changes\":[\"(function (val){return (val!=this.model[\\\"changes\\\"]()) ? (this.valueFromJulia[\\\"changes\\\"]=true, this.model[\\\"changes\\\"](val)) : undefined})\"],\"index\":[\"(function (val){return (val!=this.model[\\\"index\\\"]()) ? (this.valueFromJulia[\\\"index\\\"]=true, this.model[\\\"index\\\"](val)) : undefined})\"]},\"systemjs_options\":null,\"mount_callbacks\":[\"function () {\\n    var handler = (function (ko, koPunches) {\\n    ko.punches.enableAll();\\n    ko.bindingHandlers.numericValue = {\\n        init: function(element, valueAccessor, allBindings, data, context) {\\n            var stringified = ko.observable(ko.unwrap(valueAccessor()));\\n            stringified.subscribe(function(value) {\\n                var val = parseFloat(value);\\n                if (!isNaN(val)) {\\n                    valueAccessor()(val);\\n                }\\n            });\\n            valueAccessor().subscribe(function(value) {\\n                var str = JSON.stringify(value);\\n                if ((str == \\\"0\\\") && ([\\\"-0\\\", \\\"-0.\\\"].indexOf(stringified()) >= 0))\\n                     return;\\n                 if ([\\\"null\\\", \\\"\\\"].indexOf(str) >= 0)\\n                     return;\\n                stringified(str);\\n            });\\n            ko.applyBindingsToNode(\\n                element,\\n                {\\n                    value: stringified,\\n                    valueUpdate: allBindings.get('valueUpdate'),\\n                },\\n                context,\\n            );\\n        }\\n    };\\n    var json_data = {\\\"formatted_vals\\\":[\\\"0\\\",\\\"1\\\",\\\"2\\\",\\\"3\\\",\\\"4\\\",\\\"5\\\",\\\"6\\\",\\\"7\\\",\\\"8\\\",\\\"9\\\",\\\"10\\\",\\\"11\\\",\\\"12\\\",\\\"13\\\",\\\"14\\\",\\\"15\\\",\\\"16\\\",\\\"17\\\",\\\"18\\\",\\\"19\\\",\\\"20\\\",\\\"21\\\",\\\"22\\\",\\\"23\\\",\\\"24\\\",\\\"25\\\",\\\"26\\\",\\\"27\\\",\\\"28\\\",\\\"29\\\",\\\"30\\\",\\\"31\\\",\\\"32\\\",\\\"33\\\",\\\"34\\\",\\\"35\\\",\\\"36\\\",\\\"37\\\",\\\"38\\\",\\\"39\\\",\\\"40\\\",\\\"41\\\",\\\"42\\\",\\\"43\\\",\\\"44\\\",\\\"45\\\",\\\"46\\\",\\\"47\\\",\\\"48\\\",\\\"49\\\",\\\"50\\\"],\\\"changes\\\":WebIO.getval({\\\"name\\\":\\\"changes\\\",\\\"scope\\\":\\\"13257527843932597223\\\",\\\"id\\\":\\\"ob_65\\\",\\\"type\\\":\\\"observable\\\"}),\\\"index\\\":WebIO.getval({\\\"name\\\":\\\"index\\\",\\\"scope\\\":\\\"13257527843932597223\\\",\\\"id\\\":\\\"ob_64\\\",\\\"type\\\":\\\"observable\\\"})};\\n    var self = this;\\n    function AppViewModel() {\\n        for (var key in json_data) {\\n            var el = json_data[key];\\n            this[key] = Array.isArray(el) ? ko.observableArray(el) : ko.observable(el);\\n        }\\n        \\n        [this[\\\"formatted_val\\\"]=ko.computed(    function(){\\n        return this.formatted_vals()[parseInt(this.index())-(0)];\\n    }\\n,this)]\\n        [this[\\\"changes\\\"].subscribe((function (val){!(this.valueFromJulia[\\\"changes\\\"]) ? (WebIO.setval({\\\"name\\\":\\\"changes\\\",\\\"scope\\\":\\\"13257527843932597223\\\",\\\"id\\\":\\\"ob_65\\\",\\\"type\\\":\\\"observable\\\"},val)) : undefined; return this.valueFromJulia[\\\"changes\\\"]=false}),self),this[\\\"index\\\"].subscribe((function (val){!(this.valueFromJulia[\\\"index\\\"]) ? (WebIO.setval({\\\"name\\\":\\\"index\\\",\\\"scope\\\":\\\"13257527843932597223\\\",\\\"id\\\":\\\"ob_64\\\",\\\"type\\\":\\\"observable\\\"},val)) : undefined; return this.valueFromJulia[\\\"index\\\"]=false}),self)]\\n        \\n    }\\n    self.model = new AppViewModel();\\n    self.valueFromJulia = {};\\n    for (var key in json_data) {\\n        self.valueFromJulia[key] = false;\\n    }\\n    ko.applyBindings(self.model, self.dom);\\n}\\n);\\n    (WebIO.importBlock({\\\"data\\\":[{\\\"name\\\":\\\"knockout\\\",\\\"type\\\":\\\"js\\\",\\\"url\\\":\\\"\\/assetserver\\/3f712825d914ad7ceb56bfee8c26f86f12ffa94d-knockout.js\\\"},{\\\"name\\\":\\\"knockout_punches\\\",\\\"type\\\":\\\"js\\\",\\\"url\\\":\\\"\\/assetserver\\/bb1b62fcbdf49c4be6ac0dad8b532b184373033e-knockout_punches.js\\\"}],\\\"type\\\":\\\"async_block\\\"})).then((imports) => handler.apply(this, imports));\\n}\\n\"],\"observables\":{\"changes\":{\"sync\":false,\"id\":\"ob_65\",\"value\":0},\"index\":{\"sync\":true,\"id\":\"ob_64\",\"value\":25}}},\"children\":[{\"props\":{\"className\":\"interact-flex-row interact-widget\"},\"nodeType\":\"DOM\",\"type\":\"node\",\"instanceArgs\":{\"namespace\":\"html\",\"tag\":\"div\"},\"children\":[{\"props\":{\"className\":\"interact-flex-row-left\"},\"nodeType\":\"DOM\",\"type\":\"node\",\"instanceArgs\":{\"namespace\":\"html\",\"tag\":\"div\"},\"children\":[{\"props\":{\"className\":\"interact \",\"style\":{\"padding\":\"5px 10px 0px 10px\"}},\"nodeType\":\"DOM\",\"type\":\"node\",\"instanceArgs\":{\"namespace\":\"html\",\"tag\":\"label\"},\"children\":[\"η\"]}]},{\"props\":{\"className\":\"interact-flex-row-center\"},\"nodeType\":\"DOM\",\"type\":\"node\",\"instanceArgs\":{\"namespace\":\"html\",\"tag\":\"div\"},\"children\":[{\"props\":{\"max\":50,\"min\":0,\"attributes\":{\"type\":\"range\",\"data-bind\":\"numericValue: index, valueUpdate: 'input', event: {change: function (){this.changes(this.changes()+1)}}\",\"orient\":\"horizontal\"},\"step\":1,\"className\":\"slider slider is-fullwidth\",\"style\":{}},\"nodeType\":\"DOM\",\"type\":\"node\",\"instanceArgs\":{\"namespace\":\"html\",\"tag\":\"input\"},\"children\":[]}]},{\"props\":{\"className\":\"interact-flex-row-right\"},\"nodeType\":\"DOM\",\"type\":\"node\",\"instanceArgs\":{\"namespace\":\"html\",\"tag\":\"div\"},\"children\":[{\"props\":{\"attributes\":{\"data-bind\":\"text: formatted_val\"}},\"nodeType\":\"DOM\",\"type\":\"node\",\"instanceArgs\":{\"namespace\":\"html\",\"tag\":\"p\"},\"children\":[]}]}]}]}]},{\"props\":{},\"nodeType\":\"Scope\",\"type\":\"node\",\"instanceArgs\":{\"imports\":{\"data\":[],\"type\":\"async_block\"},\"id\":\"16843046557661292019\",\"handlers\":{},\"systemjs_options\":null,\"mount_callbacks\":[],\"observables\":{\"obs-node\":{\"sync\":false,\"id\":\"ob_69\",\"value\":{\"props\":{\"className\":\"interact-flex-row interact-widget\"},\"nodeType\":\"DOM\",\"type\":\"node\",\"instanceArgs\":{\"namespace\":\"html\",\"tag\":\"div\"},\"children\":[{\"props\":{\"setInnerHtml\":\"<?xml version=\\\"1.0\\\" encoding=\\\"utf-8\\\"?>\\n<svg xmlns=\\\"http:\\/\\/www.w3.org\\/2000\\/svg\\\" xmlns:xlink=\\\"http:\\/\\/www.w3.org\\/1999\\/xlink\\\" width=\\\"600\\\" height=\\\"400\\\" viewBox=\\\"0 0 2400 1600\\\">\\n<defs>\\n  <clipPath id=\\\"clip6300\\\">\\n    <rect x=\\\"0\\\" y=\\\"0\\\" width=\\\"2400\\\" height=\\\"1600\\\"\\/>\\n  <\\/clipPath>\\n<\\/defs>\\n<path clip-path=\\\"url(#clip6300)\\\" d=\\\"\\nM0 1600 L2400 1600 L2400 0 L0 0  Z\\n  \\\" fill=\\\"#ffffff\\\" fill-rule=\\\"evenodd\\\" fill-opacity=\\\"1\\\"\\/>\\n<defs>\\n  <clipPath id=\\\"clip6301\\\">\\n    <rect x=\\\"480\\\" y=\\\"0\\\" width=\\\"1681\\\" height=\\\"1600\\\"\\/>\\n  <\\/clipPath>\\n<\\/defs>\\n<path clip-path=\\\"url(#clip6300)\\\" d=\\\"\\nM195.389 1487.47 L2352.76 1487.47 L2352.76 47.2441 L195.389 47.2441  Z\\n  \\\" fill=\\\"#ffffff\\\" fill-rule=\\\"evenodd\\\" fill-opacity=\\\"1\\\"\\/>\\n<defs>\\n  <clipPath id=\\\"clip6302\\\">\\n    <rect x=\\\"195\\\" y=\\\"47\\\" width=\\\"2158\\\" height=\\\"1441\\\"\\/>\\n  <\\/clipPath>\\n<\\/defs>\\n<polyline clip-path=\\\"url(#clip6302)\\\" style=\\\"stroke:#000000; stroke-width:2; stroke-opacity:0.1; fill:none\\\" points=\\\"\\n  225.353,1487.47 225.353,47.2441 \\n  \\\"\\/>\\n<polyline clip-path=\\\"url(#clip6302)\\\" style=\\\"stroke:#000000; stroke-width:2; stroke-opacity:0.1; fill:none\\\" points=\\\"\\n  824.621,1487.47 824.621,47.2441 \\n  \\\"\\/>\\n<polyline clip-path=\\\"url(#clip6302)\\\" style=\\\"stroke:#000000; stroke-width:2; stroke-opacity:0.1; fill:none\\\" points=\\\"\\n  1423.89,1487.47 1423.89,47.2441 \\n  \\\"\\/>\\n<polyline clip-path=\\\"url(#clip6302)\\\" style=\\\"stroke:#000000; stroke-width:2; stroke-opacity:0.1; fill:none\\\" points=\\\"\\n  2023.16,1487.47 2023.16,47.2441 \\n  \\\"\\/>\\n<polyline clip-path=\\\"url(#clip6302)\\\" style=\\\"stroke:#000000; stroke-width:2; stroke-opacity:0.1; fill:none\\\" points=\\\"\\n  195.389,1487.47 2352.76,1487.47 \\n  \\\"\\/>\\n<polyline clip-path=\\\"url(#clip6302)\\\" style=\\\"stroke:#000000; stroke-width:2; stroke-opacity:0.1; fill:none\\\" points=\\\"\\n  195.389,1037.4 2352.76,1037.4 \\n  \\\"\\/>\\n<polyline clip-path=\\\"url(#clip6302)\\\" style=\\\"stroke:#000000; stroke-width:2; stroke-opacity:0.1; fill:none\\\" points=\\\"\\n  195.389,587.331 2352.76,587.331 \\n  \\\"\\/>\\n<polyline clip-path=\\\"url(#clip6302)\\\" style=\\\"stroke:#000000; stroke-width:2; stroke-opacity:0.1; fill:none\\\" points=\\\"\\n  195.389,137.259 2352.76,137.259 \\n  \\\"\\/>\\n<polyline clip-path=\\\"url(#clip6300)\\\" style=\\\"stroke:#000000; stroke-width:4; stroke-opacity:1; fill:none\\\" points=\\\"\\n  195.389,1487.47 2352.76,1487.47 \\n  \\\"\\/>\\n<polyline clip-path=\\\"url(#clip6300)\\\" style=\\\"stroke:#000000; stroke-width:4; stroke-opacity:1; fill:none\\\" points=\\\"\\n  195.389,1487.47 195.389,47.2441 \\n  \\\"\\/>\\n<polyline clip-path=\\\"url(#clip6300)\\\" style=\\\"stroke:#000000; stroke-width:4; stroke-opacity:1; fill:none\\\" points=\\\"\\n  225.353,1487.47 225.353,1470.19 \\n  \\\"\\/>\\n<polyline clip-path=\\\"url(#clip6300)\\\" style=\\\"stroke:#000000; stroke-width:4; stroke-opacity:1; fill:none\\\" points=\\\"\\n  824.621,1487.47 824.621,1470.19 \\n  \\\"\\/>\\n<polyline clip-path=\\\"url(#clip6300)\\\" style=\\\"stroke:#000000; stroke-width:4; stroke-opacity:1; fill:none\\\" points=\\\"\\n  1423.89,1487.47 1423.89,1470.19 \\n  \\\"\\/>\\n<polyline clip-path=\\\"url(#clip6300)\\\" style=\\\"stroke:#000000; stroke-width:4; stroke-opacity:1; fill:none\\\" points=\\\"\\n  2023.16,1487.47 2023.16,1470.19 \\n  \\\"\\/>\\n<polyline clip-path=\\\"url(#clip6300)\\\" style=\\\"stroke:#000000; stroke-width:4; stroke-opacity:1; fill:none\\\" points=\\\"\\n  195.389,1487.47 221.278,1487.47 \\n  \\\"\\/>\\n<polyline clip-path=\\\"url(#clip6300)\\\" style=\\\"stroke:#000000; stroke-width:4; stroke-opacity:1; fill:none\\\" points=\\\"\\n  195.389,1037.4 221.278,1037.4 \\n  \\\"\\/>\\n<polyline clip-path=\\\"url(#clip6300)\\\" style=\\\"stroke:#000000; stroke-width:4; stroke-opacity:1; fill:none\\\" points=\\\"\\n  195.389,587.331 221.278,587.331 \\n  \\\"\\/>\\n<polyline clip-path=\\\"url(#clip6300)\\\" style=\\\"stroke:#000000; stroke-width:4; stroke-opacity:1; fill:none\\\" points=\\\"\\n  195.389,137.259 221.278,137.259 \\n  \\\"\\/>\\n<g clip-path=\\\"url(#clip6300)\\\">\\n<text style=\\\"fill:#000000; fill-opacity:1; font-family:Arial,Helvetica Neue,Helvetica,sans-serif; font-size:48px; text-anchor:middle;\\\" transform=\\\"rotate(0, 225.353, 1541.47)\\\" x=\\\"225.353\\\" y=\\\"1541.47\\\">-4<\\/text>\\n<\\/g>\\n<g clip-path=\\\"url(#clip6300)\\\">\\n<text style=\\\"fill:#000000; fill-opacity:1; font-family:Arial,Helvetica Neue,Helvetica,sans-serif; font-size:48px; text-anchor:middle;\\\" transform=\\\"rotate(0, 824.621, 1541.47)\\\" x=\\\"824.621\\\" y=\\\"1541.47\\\">-2<\\/text>\\n<\\/g>\\n<g clip-path=\\\"url(#clip6300)\\\">\\n<text style=\\\"fill:#000000; fill-opacity:1; font-family:Arial,Helvetica Neue,Helvetica,sans-serif; font-size:48px; text-anchor:middle;\\\" transform=\\\"rotate(0, 1423.89, 1541.47)\\\" x=\\\"1423.89\\\" y=\\\"1541.47\\\">0<\\/text>\\n<\\/g>\\n<g clip-path=\\\"url(#clip6300)\\\">\\n<text style=\\\"fill:#000000; fill-opacity:1; font-family:Arial,Helvetica Neue,Helvetica,sans-serif; font-size:48px; text-anchor:middle;\\\" transform=\\\"rotate(0, 2023.16, 1541.47)\\\" x=\\\"2023.16\\\" y=\\\"1541.47\\\">2<\\/text>\\n<\\/g>\\n<g clip-path=\\\"url(#clip6300)\\\">\\n<text style=\\\"fill:#000000; fill-opacity:1; font-family:Arial,Helvetica Neue,Helvetica,sans-serif; font-size:48px; text-anchor:end;\\\" transform=\\\"rotate(0, 171.389, 1504.97)\\\" x=\\\"171.389\\\" y=\\\"1504.97\\\">-100<\\/text>\\n<\\/g>\\n<g clip-path=\\\"url(#clip6300)\\\">\\n<text style=\\\"fill:#000000; fill-opacity:1; font-family:Arial,Helvetica Neue,Helvetica,sans-serif; font-size:48px; text-anchor:end;\\\" transform=\\\"rotate(0, 171.389, 1054.9)\\\" x=\\\"171.389\\\" y=\\\"1054.9\\\">-50<\\/text>\\n<\\/g>\\n<g clip-path=\\\"url(#clip6300)\\\">\\n<text style=\\\"fill:#000000; fill-opacity:1; font-family:Arial,Helvetica Neue,Helvetica,sans-serif; font-size:48px; text-anchor:end;\\\" transform=\\\"rotate(0, 171.389, 604.831)\\\" x=\\\"171.389\\\" y=\\\"604.831\\\">0<\\/text>\\n<\\/g>\\n<g clip-path=\\\"url(#clip6300)\\\">\\n<text style=\\\"fill:#000000; fill-opacity:1; font-family:Arial,Helvetica Neue,Helvetica,sans-serif; font-size:48px; text-anchor:end;\\\" transform=\\\"rotate(0, 171.389, 154.759)\\\" x=\\\"171.389\\\" y=\\\"154.759\\\">50<\\/text>\\n<\\/g>\\n<circle clip-path=\\\"url(#clip6302)\\\" style=\\\"fill:#000000; stroke:none; fill-opacity:1\\\" cx=\\\"1627.37\\\" cy=\\\"460.613\\\" r=\\\"18\\\"\\/>\\n<circle clip-path=\\\"url(#clip6302)\\\" style=\\\"fill:#009af9; stroke:none; fill-opacity:1\\\" cx=\\\"1627.37\\\" cy=\\\"460.613\\\" r=\\\"14\\\"\\/>\\n<circle clip-path=\\\"url(#clip6302)\\\" style=\\\"fill:#000000; stroke:none; fill-opacity:1\\\" cx=\\\"1672.11\\\" cy=\\\"500.28\\\" r=\\\"18\\\"\\/>\\n<circle clip-path=\\\"url(#clip6302)\\\" style=\\\"fill:#009af9; stroke:none; fill-opacity:1\\\" cx=\\\"1672.11\\\" cy=\\\"500.28\\\" r=\\\"14\\\"\\/>\\n<circle clip-path=\\\"url(#clip6302)\\\" style=\\\"fill:#000000; stroke:none; fill-opacity:1\\\" cx=\\\"1318.12\\\" cy=\\\"425.666\\\" r=\\\"18\\\"\\/>\\n<circle clip-path=\\\"url(#clip6302)\\\" style=\\\"fill:#009af9; stroke:none; fill-opacity:1\\\" cx=\\\"1318.12\\\" cy=\\\"425.666\\\" r=\\\"14\\\"\\/>\\n<circle clip-path=\\\"url(#clip6302)\\\" style=\\\"fill:#000000; stroke:none; fill-opacity:1\\\" cx=\\\"1383.48\\\" cy=\\\"390.272\\\" r=\\\"18\\\"\\/>\\n<circle clip-path=\\\"url(#clip6302)\\\" style=\\\"fill:#009af9; stroke:none; fill-opacity:1\\\" cx=\\\"1383.48\\\" cy=\\\"390.272\\\" r=\\\"14\\\"\\/>\\n<circle clip-path=\\\"url(#clip6302)\\\" style=\\\"fill:#000000; stroke:none; fill-opacity:1\\\" cx=\\\"1599.66\\\" cy=\\\"442.931\\\" r=\\\"18\\\"\\/>\\n<circle clip-path=\\\"url(#clip6302)\\\" style=\\\"fill:#009af9; stroke:none; fill-opacity:1\\\" cx=\\\"1599.66\\\" cy=\\\"442.931\\\" r=\\\"14\\\"\\/>\\n<circle clip-path=\\\"url(#clip6302)\\\" style=\\\"fill:#000000; stroke:none; fill-opacity:1\\\" cx=\\\"1512.98\\\" cy=\\\"355.024\\\" r=\\\"18\\\"\\/>\\n<circle clip-path=\\\"url(#clip6302)\\\" style=\\\"fill:#009af9; stroke:none; fill-opacity:1\\\" cx=\\\"1512.98\\\" cy=\\\"355.024\\\" r=\\\"14\\\"\\/>\\n<circle clip-path=\\\"url(#clip6302)\\\" style=\\\"fill:#000000; stroke:none; fill-opacity:1\\\" cx=\\\"1443.35\\\" cy=\\\"387.553\\\" r=\\\"18\\\"\\/>\\n<circle clip-path=\\\"url(#clip6302)\\\" style=\\\"fill:#009af9; stroke:none; fill-opacity:1\\\" cx=\\\"1443.35\\\" cy=\\\"387.553\\\" r=\\\"14\\\"\\/>\\n<circle clip-path=\\\"url(#clip6302)\\\" style=\\\"fill:#000000; stroke:none; fill-opacity:1\\\" cx=\\\"1391.22\\\" cy=\\\"362.174\\\" r=\\\"18\\\"\\/>\\n<circle clip-path=\\\"url(#clip6302)\\\" style=\\\"fill:#009af9; stroke:none; fill-opacity:1\\\" cx=\\\"1391.22\\\" cy=\\\"362.174\\\" r=\\\"14\\\"\\/>\\n<circle clip-path=\\\"url(#clip6302)\\\" style=\\\"fill:#000000; stroke:none; fill-opacity:1\\\" cx=\\\"1269.81\\\" cy=\\\"491.216\\\" r=\\\"18\\\"\\/>\\n<circle clip-path=\\\"url(#clip6302)\\\" style=\\\"fill:#009af9; stroke:none; fill-opacity:1\\\" cx=\\\"1269.81\\\" cy=\\\"491.216\\\" r=\\\"14\\\"\\/>\\n<circle clip-path=\\\"url(#clip6302)\\\" style=\\\"fill:#000000; stroke:none; fill-opacity:1\\\" cx=\\\"1895.61\\\" cy=\\\"954.129\\\" r=\\\"18\\\"\\/>\\n<circle clip-path=\\\"url(#clip6302)\\\" style=\\\"fill:#009af9; stroke:none; fill-opacity:1\\\" cx=\\\"1895.61\\\" cy=\\\"954.129\\\" r=\\\"14\\\"\\/>\\n<circle clip-path=\\\"url(#clip6302)\\\" style=\\\"fill:#000000; stroke:none; fill-opacity:1\\\" cx=\\\"1217.47\\\" cy=\\\"518.094\\\" r=\\\"18\\\"\\/>\\n<circle clip-path=\\\"url(#clip6302)\\\" style=\\\"fill:#009af9; stroke:none; fill-opacity:1\\\" cx=\\\"1217.47\\\" cy=\\\"518.094\\\" r=\\\"14\\\"\\/>\\n<circle clip-path=\\\"url(#clip6302)\\\" style=\\\"fill:#000000; stroke:none; fill-opacity:1\\\" cx=\\\"1195.33\\\" cy=\\\"509.83\\\" r=\\\"18\\\"\\/>\\n<circle clip-path=\\\"url(#clip6302)\\\" style=\\\"fill:#009af9; stroke:none; fill-opacity:1\\\" cx=\\\"1195.33\\\" cy=\\\"509.83\\\" r=\\\"14\\\"\\/>\\n<circle clip-path=\\\"url(#clip6302)\\\" style=\\\"fill:#000000; stroke:none; fill-opacity:1\\\" cx=\\\"1542.99\\\" cy=\\\"404.428\\\" r=\\\"18\\\"\\/>\\n<circle clip-path=\\\"url(#clip6302)\\\" style=\\\"fill:#009af9; stroke:none; fill-opacity:1\\\" cx=\\\"1542.99\\\" cy=\\\"404.428\\\" r=\\\"14\\\"\\/>\\n<circle clip-path=\\\"url(#clip6302)\\\" style=\\\"fill:#000000; stroke:none; fill-opacity:1\\\" cx=\\\"1667.08\\\" cy=\\\"482.052\\\" r=\\\"18\\\"\\/>\\n<circle clip-path=\\\"url(#clip6302)\\\" style=\\\"fill:#009af9; stroke:none; fill-opacity:1\\\" cx=\\\"1667.08\\\" cy=\\\"482.052\\\" r=\\\"14\\\"\\/>\\n<circle clip-path=\\\"url(#clip6302)\\\" style=\\\"fill:#000000; stroke:none; fill-opacity:1\\\" cx=\\\"1320.11\\\" cy=\\\"427.128\\\" r=\\\"18\\\"\\/>\\n<circle clip-path=\\\"url(#clip6302)\\\" style=\\\"fill:#009af9; stroke:none; fill-opacity:1\\\" cx=\\\"1320.11\\\" cy=\\\"427.128\\\" r=\\\"14\\\"\\/>\\n<circle clip-path=\\\"url(#clip6302)\\\" style=\\\"fill:#000000; stroke:none; fill-opacity:1\\\" cx=\\\"1367.69\\\" cy=\\\"406.125\\\" r=\\\"18\\\"\\/>\\n<circle clip-path=\\\"url(#clip6302)\\\" style=\\\"fill:#009af9; stroke:none; fill-opacity:1\\\" cx=\\\"1367.69\\\" cy=\\\"406.125\\\" r=\\\"14\\\"\\/>\\n<circle clip-path=\\\"url(#clip6302)\\\" style=\\\"fill:#000000; stroke:none; fill-opacity:1\\\" cx=\\\"942.301\\\" cy=\\\"671.297\\\" r=\\\"18\\\"\\/>\\n<circle clip-path=\\\"url(#clip6302)\\\" style=\\\"fill:#009af9; stroke:none; fill-opacity:1\\\" cx=\\\"942.301\\\" cy=\\\"671.297\\\" r=\\\"14\\\"\\/>\\n<circle clip-path=\\\"url(#clip6302)\\\" style=\\\"fill:#000000; stroke:none; fill-opacity:1\\\" cx=\\\"680.559\\\" cy=\\\"419.352\\\" r=\\\"18\\\"\\/>\\n<circle clip-path=\\\"url(#clip6302)\\\" style=\\\"fill:#009af9; stroke:none; fill-opacity:1\\\" cx=\\\"680.559\\\" cy=\\\"419.352\\\" r=\\\"14\\\"\\/>\\n<circle clip-path=\\\"url(#clip6302)\\\" style=\\\"fill:#000000; stroke:none; fill-opacity:1\\\" cx=\\\"2105.93\\\" cy=\\\"1328.81\\\" r=\\\"18\\\"\\/>\\n<circle clip-path=\\\"url(#clip6302)\\\" style=\\\"fill:#009af9; stroke:none; fill-opacity:1\\\" cx=\\\"2105.93\\\" cy=\\\"1328.81\\\" r=\\\"14\\\"\\/>\\n<circle clip-path=\\\"url(#clip6302)\\\" style=\\\"fill:#000000; stroke:none; fill-opacity:1\\\" cx=\\\"1489.72\\\" cy=\\\"361.046\\\" r=\\\"18\\\"\\/>\\n<circle clip-path=\\\"url(#clip6302)\\\" style=\\\"fill:#009af9; stroke:none; fill-opacity:1\\\" cx=\\\"1489.72\\\" cy=\\\"361.046\\\" r=\\\"14\\\"\\/>\\n<circle clip-path=\\\"url(#clip6302)\\\" style=\\\"fill:#000000; stroke:none; fill-opacity:1\\\" cx=\\\"1388.79\\\" cy=\\\"419.606\\\" r=\\\"18\\\"\\/>\\n<circle clip-path=\\\"url(#clip6302)\\\" style=\\\"fill:#009af9; stroke:none; fill-opacity:1\\\" cx=\\\"1388.79\\\" cy=\\\"419.606\\\" r=\\\"14\\\"\\/>\\n<circle clip-path=\\\"url(#clip6302)\\\" style=\\\"fill:#000000; stroke:none; fill-opacity:1\\\" cx=\\\"1243.73\\\" cy=\\\"523.705\\\" r=\\\"18\\\"\\/>\\n<circle clip-path=\\\"url(#clip6302)\\\" style=\\\"fill:#009af9; stroke:none; fill-opacity:1\\\" cx=\\\"1243.73\\\" cy=\\\"523.705\\\" r=\\\"14\\\"\\/>\\n<circle clip-path=\\\"url(#clip6302)\\\" style=\\\"fill:#000000; stroke:none; fill-opacity:1\\\" cx=\\\"1766.15\\\" cy=\\\"676.663\\\" r=\\\"18\\\"\\/>\\n<circle clip-path=\\\"url(#clip6302)\\\" style=\\\"fill:#009af9; stroke:none; fill-opacity:1\\\" cx=\\\"1766.15\\\" cy=\\\"676.663\\\" r=\\\"14\\\"\\/>\\n<circle clip-path=\\\"url(#clip6302)\\\" style=\\\"fill:#000000; stroke:none; fill-opacity:1\\\" cx=\\\"1397.34\\\" cy=\\\"379.774\\\" r=\\\"18\\\"\\/>\\n<circle clip-path=\\\"url(#clip6302)\\\" style=\\\"fill:#009af9; stroke:none; fill-opacity:1\\\" cx=\\\"1397.34\\\" cy=\\\"379.774\\\" r=\\\"14\\\"\\/>\\n<circle clip-path=\\\"url(#clip6302)\\\" style=\\\"fill:#000000; stroke:none; fill-opacity:1\\\" cx=\\\"1507.63\\\" cy=\\\"364.605\\\" r=\\\"18\\\"\\/>\\n<circle clip-path=\\\"url(#clip6302)\\\" style=\\\"fill:#009af9; stroke:none; fill-opacity:1\\\" cx=\\\"1507.63\\\" cy=\\\"364.605\\\" r=\\\"14\\\"\\/>\\n<circle clip-path=\\\"url(#clip6302)\\\" style=\\\"fill:#000000; stroke:none; fill-opacity:1\\\" cx=\\\"1457.28\\\" cy=\\\"307.389\\\" r=\\\"18\\\"\\/>\\n<circle clip-path=\\\"url(#clip6302)\\\" style=\\\"fill:#009af9; stroke:none; fill-opacity:1\\\" cx=\\\"1457.28\\\" cy=\\\"307.389\\\" r=\\\"14\\\"\\/>\\n<circle clip-path=\\\"url(#clip6302)\\\" style=\\\"fill:#000000; stroke:none; fill-opacity:1\\\" cx=\\\"1316.66\\\" cy=\\\"444.281\\\" r=\\\"18\\\"\\/>\\n<circle clip-path=\\\"url(#clip6302)\\\" style=\\\"fill:#009af9; stroke:none; fill-opacity:1\\\" cx=\\\"1316.66\\\" cy=\\\"444.281\\\" r=\\\"14\\\"\\/>\\n<circle clip-path=\\\"url(#clip6302)\\\" style=\\\"fill:#000000; stroke:none; fill-opacity:1\\\" cx=\\\"1565.83\\\" cy=\\\"393.307\\\" r=\\\"18\\\"\\/>\\n<circle clip-path=\\\"url(#clip6302)\\\" style=\\\"fill:#009af9; stroke:none; fill-opacity:1\\\" cx=\\\"1565.83\\\" cy=\\\"393.307\\\" r=\\\"14\\\"\\/>\\n<circle clip-path=\\\"url(#clip6302)\\\" style=\\\"fill:#000000; stroke:none; fill-opacity:1\\\" cx=\\\"1513.85\\\" cy=\\\"359.692\\\" r=\\\"18\\\"\\/>\\n<circle clip-path=\\\"url(#clip6302)\\\" style=\\\"fill:#009af9; stroke:none; fill-opacity:1\\\" cx=\\\"1513.85\\\" cy=\\\"359.692\\\" r=\\\"14\\\"\\/>\\n<circle clip-path=\\\"url(#clip6302)\\\" style=\\\"fill:#000000; stroke:none; fill-opacity:1\\\" cx=\\\"1195.37\\\" cy=\\\"560.744\\\" r=\\\"18\\\"\\/>\\n<circle clip-path=\\\"url(#clip6302)\\\" style=\\\"fill:#009af9; stroke:none; fill-opacity:1\\\" cx=\\\"1195.37\\\" cy=\\\"560.744\\\" r=\\\"14\\\"\\/>\\n<circle clip-path=\\\"url(#clip6302)\\\" style=\\\"fill:#000000; stroke:none; fill-opacity:1\\\" cx=\\\"1850.28\\\" cy=\\\"866.915\\\" r=\\\"18\\\"\\/>\\n<circle clip-path=\\\"url(#clip6302)\\\" style=\\\"fill:#009af9; stroke:none; fill-opacity:1\\\" cx=\\\"1850.28\\\" cy=\\\"866.915\\\" r=\\\"14\\\"\\/>\\n<circle clip-path=\\\"url(#clip6302)\\\" style=\\\"fill:#000000; stroke:none; fill-opacity:1\\\" cx=\\\"1546.26\\\" cy=\\\"399.536\\\" r=\\\"18\\\"\\/>\\n<circle clip-path=\\\"url(#clip6302)\\\" style=\\\"fill:#009af9; stroke:none; fill-opacity:1\\\" cx=\\\"1546.26\\\" cy=\\\"399.536\\\" r=\\\"14\\\"\\/>\\n<circle clip-path=\\\"url(#clip6302)\\\" style=\\\"fill:#000000; stroke:none; fill-opacity:1\\\" cx=\\\"1600.26\\\" cy=\\\"396.125\\\" r=\\\"18\\\"\\/>\\n<circle clip-path=\\\"url(#clip6302)\\\" style=\\\"fill:#009af9; stroke:none; fill-opacity:1\\\" cx=\\\"1600.26\\\" cy=\\\"396.125\\\" r=\\\"14\\\"\\/>\\n<circle clip-path=\\\"url(#clip6302)\\\" style=\\\"fill:#000000; stroke:none; fill-opacity:1\\\" cx=\\\"1335.11\\\" cy=\\\"417.833\\\" r=\\\"18\\\"\\/>\\n<circle clip-path=\\\"url(#clip6302)\\\" style=\\\"fill:#009af9; stroke:none; fill-opacity:1\\\" cx=\\\"1335.11\\\" cy=\\\"417.833\\\" r=\\\"14\\\"\\/>\\n<circle clip-path=\\\"url(#clip6302)\\\" style=\\\"fill:#000000; stroke:none; fill-opacity:1\\\" cx=\\\"1630.97\\\" cy=\\\"478.271\\\" r=\\\"18\\\"\\/>\\n<circle clip-path=\\\"url(#clip6302)\\\" style=\\\"fill:#009af9; stroke:none; fill-opacity:1\\\" cx=\\\"1630.97\\\" cy=\\\"478.271\\\" r=\\\"14\\\"\\/>\\n<circle clip-path=\\\"url(#clip6302)\\\" style=\\\"fill:#000000; stroke:none; fill-opacity:1\\\" cx=\\\"1575.77\\\" cy=\\\"419.139\\\" r=\\\"18\\\"\\/>\\n<circle clip-path=\\\"url(#clip6302)\\\" style=\\\"fill:#009af9; stroke:none; fill-opacity:1\\\" cx=\\\"1575.77\\\" cy=\\\"419.139\\\" r=\\\"14\\\"\\/>\\n<circle clip-path=\\\"url(#clip6302)\\\" style=\\\"fill:#000000; stroke:none; fill-opacity:1\\\" cx=\\\"1406.83\\\" cy=\\\"372.658\\\" r=\\\"18\\\"\\/>\\n<circle clip-path=\\\"url(#clip6302)\\\" style=\\\"fill:#009af9; stroke:none; fill-opacity:1\\\" cx=\\\"1406.83\\\" cy=\\\"372.658\\\" r=\\\"14\\\"\\/>\\n<circle clip-path=\\\"url(#clip6302)\\\" style=\\\"fill:#000000; stroke:none; fill-opacity:1\\\" cx=\\\"893.23\\\" cy=\\\"637.968\\\" r=\\\"18\\\"\\/>\\n<circle clip-path=\\\"url(#clip6302)\\\" style=\\\"fill:#009af9; stroke:none; fill-opacity:1\\\" cx=\\\"893.23\\\" cy=\\\"637.968\\\" r=\\\"14\\\"\\/>\\n<circle clip-path=\\\"url(#clip6302)\\\" style=\\\"fill:#000000; stroke:none; fill-opacity:1\\\" cx=\\\"1900.49\\\" cy=\\\"1020.46\\\" r=\\\"18\\\"\\/>\\n<circle clip-path=\\\"url(#clip6302)\\\" style=\\\"fill:#009af9; stroke:none; fill-opacity:1\\\" cx=\\\"1900.49\\\" cy=\\\"1020.46\\\" r=\\\"14\\\"\\/>\\n<circle clip-path=\\\"url(#clip6302)\\\" style=\\\"fill:#000000; stroke:none; fill-opacity:1\\\" cx=\\\"1842.5\\\" cy=\\\"833.909\\\" r=\\\"18\\\"\\/>\\n<circle clip-path=\\\"url(#clip6302)\\\" style=\\\"fill:#009af9; stroke:none; fill-opacity:1\\\" cx=\\\"1842.5\\\" cy=\\\"833.909\\\" r=\\\"14\\\"\\/>\\n<circle clip-path=\\\"url(#clip6302)\\\" style=\\\"fill:#000000; stroke:none; fill-opacity:1\\\" cx=\\\"1568.18\\\" cy=\\\"357.067\\\" r=\\\"18\\\"\\/>\\n<circle clip-path=\\\"url(#clip6302)\\\" style=\\\"fill:#009af9; stroke:none; fill-opacity:1\\\" cx=\\\"1568.18\\\" cy=\\\"357.067\\\" r=\\\"14\\\"\\/>\\n<circle clip-path=\\\"url(#clip6302)\\\" style=\\\"fill:#000000; stroke:none; fill-opacity:1\\\" cx=\\\"1327.42\\\" cy=\\\"350.314\\\" r=\\\"18\\\"\\/>\\n<circle clip-path=\\\"url(#clip6302)\\\" style=\\\"fill:#009af9; stroke:none; fill-opacity:1\\\" cx=\\\"1327.42\\\" cy=\\\"350.314\\\" r=\\\"14\\\"\\/>\\n<circle clip-path=\\\"url(#clip6302)\\\" style=\\\"fill:#000000; stroke:none; fill-opacity:1\\\" cx=\\\"1497.7\\\" cy=\\\"351.814\\\" r=\\\"18\\\"\\/>\\n<circle clip-path=\\\"url(#clip6302)\\\" style=\\\"fill:#009af9; stroke:none; fill-opacity:1\\\" cx=\\\"1497.7\\\" cy=\\\"351.814\\\" r=\\\"14\\\"\\/>\\n<circle clip-path=\\\"url(#clip6302)\\\" style=\\\"fill:#000000; stroke:none; fill-opacity:1\\\" cx=\\\"1370.32\\\" cy=\\\"366.999\\\" r=\\\"18\\\"\\/>\\n<circle clip-path=\\\"url(#clip6302)\\\" style=\\\"fill:#009af9; stroke:none; fill-opacity:1\\\" cx=\\\"1370.32\\\" cy=\\\"366.999\\\" r=\\\"14\\\"\\/>\\n<circle clip-path=\\\"url(#clip6302)\\\" style=\\\"fill:#000000; stroke:none; fill-opacity:1\\\" cx=\\\"981.066\\\" cy=\\\"647.071\\\" r=\\\"18\\\"\\/>\\n<circle clip-path=\\\"url(#clip6302)\\\" style=\\\"fill:#009af9; stroke:none; fill-opacity:1\\\" cx=\\\"981.066\\\" cy=\\\"647.071\\\" r=\\\"14\\\"\\/>\\n<circle clip-path=\\\"url(#clip6302)\\\" style=\\\"fill:#000000; stroke:none; fill-opacity:1\\\" cx=\\\"1368.33\\\" cy=\\\"387.179\\\" r=\\\"18\\\"\\/>\\n<circle clip-path=\\\"url(#clip6302)\\\" style=\\\"fill:#009af9; stroke:none; fill-opacity:1\\\" cx=\\\"1368.33\\\" cy=\\\"387.179\\\" r=\\\"14\\\"\\/>\\n<circle clip-path=\\\"url(#clip6302)\\\" style=\\\"fill:#000000; stroke:none; fill-opacity:1\\\" cx=\\\"1804.34\\\" cy=\\\"727.549\\\" r=\\\"18\\\"\\/>\\n<circle clip-path=\\\"url(#clip6302)\\\" style=\\\"fill:#009af9; stroke:none; fill-opacity:1\\\" cx=\\\"1804.34\\\" cy=\\\"727.549\\\" r=\\\"14\\\"\\/>\\n<circle clip-path=\\\"url(#clip6302)\\\" style=\\\"fill:#000000; stroke:none; fill-opacity:1\\\" cx=\\\"1375.2\\\" cy=\\\"417.246\\\" r=\\\"18\\\"\\/>\\n<circle clip-path=\\\"url(#clip6302)\\\" style=\\\"fill:#009af9; stroke:none; fill-opacity:1\\\" cx=\\\"1375.2\\\" cy=\\\"417.246\\\" r=\\\"14\\\"\\/>\\n<circle clip-path=\\\"url(#clip6302)\\\" style=\\\"fill:#000000; stroke:none; fill-opacity:1\\\" cx=\\\"1403.76\\\" cy=\\\"386.329\\\" r=\\\"18\\\"\\/>\\n<circle clip-path=\\\"url(#clip6302)\\\" style=\\\"fill:#009af9; stroke:none; fill-opacity:1\\\" cx=\\\"1403.76\\\" cy=\\\"386.329\\\" r=\\\"14\\\"\\/>\\n<circle clip-path=\\\"url(#clip6302)\\\" style=\\\"fill:#000000; stroke:none; fill-opacity:1\\\" cx=\\\"1596.86\\\" cy=\\\"423.462\\\" r=\\\"18\\\"\\/>\\n<circle clip-path=\\\"url(#clip6302)\\\" style=\\\"fill:#009af9; stroke:none; fill-opacity:1\\\" cx=\\\"1596.86\\\" cy=\\\"423.462\\\" r=\\\"14\\\"\\/>\\n<circle clip-path=\\\"url(#clip6302)\\\" style=\\\"fill:#000000; stroke:none; fill-opacity:1\\\" cx=\\\"1690.96\\\" cy=\\\"552.798\\\" r=\\\"18\\\"\\/>\\n<circle clip-path=\\\"url(#clip6302)\\\" style=\\\"fill:#009af9; stroke:none; fill-opacity:1\\\" cx=\\\"1690.96\\\" cy=\\\"552.798\\\" r=\\\"14\\\"\\/>\\n<circle clip-path=\\\"url(#clip6302)\\\" style=\\\"fill:#000000; stroke:none; fill-opacity:1\\\" cx=\\\"736.382\\\" cy=\\\"501.274\\\" r=\\\"18\\\"\\/>\\n<circle clip-path=\\\"url(#clip6302)\\\" style=\\\"fill:#009af9; stroke:none; fill-opacity:1\\\" cx=\\\"736.382\\\" cy=\\\"501.274\\\" r=\\\"14\\\"\\/>\\n<circle clip-path=\\\"url(#clip6302)\\\" style=\\\"fill:#000000; stroke:none; fill-opacity:1\\\" cx=\\\"1072.41\\\" cy=\\\"598.793\\\" r=\\\"18\\\"\\/>\\n<circle clip-path=\\\"url(#clip6302)\\\" style=\\\"fill:#009af9; stroke:none; fill-opacity:1\\\" cx=\\\"1072.41\\\" cy=\\\"598.793\\\" r=\\\"14\\\"\\/>\\n<circle clip-path=\\\"url(#clip6302)\\\" style=\\\"fill:#000000; stroke:none; fill-opacity:1\\\" cx=\\\"1160.24\\\" cy=\\\"577.321\\\" r=\\\"18\\\"\\/>\\n<circle clip-path=\\\"url(#clip6302)\\\" style=\\\"fill:#009af9; stroke:none; fill-opacity:1\\\" cx=\\\"1160.24\\\" cy=\\\"577.321\\\" r=\\\"14\\\"\\/>\\n<circle clip-path=\\\"url(#clip6302)\\\" style=\\\"fill:#000000; stroke:none; fill-opacity:1\\\" cx=\\\"1275.86\\\" cy=\\\"492.218\\\" r=\\\"18\\\"\\/>\\n<circle clip-path=\\\"url(#clip6302)\\\" style=\\\"fill:#009af9; stroke:none; fill-opacity:1\\\" cx=\\\"1275.86\\\" cy=\\\"492.218\\\" r=\\\"14\\\"\\/>\\n<circle clip-path=\\\"url(#clip6302)\\\" style=\\\"fill:#000000; stroke:none; fill-opacity:1\\\" cx=\\\"1577.29\\\" cy=\\\"427.718\\\" r=\\\"18\\\"\\/>\\n<circle clip-path=\\\"url(#clip6302)\\\" style=\\\"fill:#009af9; stroke:none; fill-opacity:1\\\" cx=\\\"1577.29\\\" cy=\\\"427.718\\\" r=\\\"14\\\"\\/>\\n<circle clip-path=\\\"url(#clip6302)\\\" style=\\\"fill:#000000; stroke:none; fill-opacity:1\\\" cx=\\\"1196.56\\\" cy=\\\"526.493\\\" r=\\\"18\\\"\\/>\\n<circle clip-path=\\\"url(#clip6302)\\\" style=\\\"fill:#009af9; stroke:none; fill-opacity:1\\\" cx=\\\"1196.56\\\" cy=\\\"526.493\\\" r=\\\"14\\\"\\/>\\n<circle clip-path=\\\"url(#clip6302)\\\" style=\\\"fill:#000000; stroke:none; fill-opacity:1\\\" cx=\\\"1193.78\\\" cy=\\\"504.244\\\" r=\\\"18\\\"\\/>\\n<circle clip-path=\\\"url(#clip6302)\\\" style=\\\"fill:#009af9; stroke:none; fill-opacity:1\\\" cx=\\\"1193.78\\\" cy=\\\"504.244\\\" r=\\\"14\\\"\\/>\\n<circle clip-path=\\\"url(#clip6302)\\\" style=\\\"fill:#000000; stroke:none; fill-opacity:1\\\" cx=\\\"1414.81\\\" cy=\\\"404.552\\\" r=\\\"18\\\"\\/>\\n<circle clip-path=\\\"url(#clip6302)\\\" style=\\\"fill:#009af9; stroke:none; fill-opacity:1\\\" cx=\\\"1414.81\\\" cy=\\\"404.552\\\" r=\\\"14\\\"\\/>\\n<circle clip-path=\\\"url(#clip6302)\\\" style=\\\"fill:#000000; stroke:none; fill-opacity:1\\\" cx=\\\"1028.6\\\" cy=\\\"654.304\\\" r=\\\"18\\\"\\/>\\n<circle clip-path=\\\"url(#clip6302)\\\" style=\\\"fill:#009af9; stroke:none; fill-opacity:1\\\" cx=\\\"1028.6\\\" cy=\\\"654.304\\\" r=\\\"14\\\"\\/>\\n<circle clip-path=\\\"url(#clip6302)\\\" style=\\\"fill:#000000; stroke:none; fill-opacity:1\\\" cx=\\\"1279.28\\\" cy=\\\"471.934\\\" r=\\\"18\\\"\\/>\\n<circle clip-path=\\\"url(#clip6302)\\\" style=\\\"fill:#009af9; stroke:none; fill-opacity:1\\\" cx=\\\"1279.28\\\" cy=\\\"471.934\\\" r=\\\"14\\\"\\/>\\n<circle clip-path=\\\"url(#clip6302)\\\" style=\\\"fill:#000000; stroke:none; fill-opacity:1\\\" cx=\\\"1077.05\\\" cy=\\\"583.954\\\" r=\\\"18\\\"\\/>\\n<circle clip-path=\\\"url(#clip6302)\\\" style=\\\"fill:#009af9; stroke:none; fill-opacity:1\\\" cx=\\\"1077.05\\\" cy=\\\"583.954\\\" r=\\\"14\\\"\\/>\\n<circle clip-path=\\\"url(#clip6302)\\\" style=\\\"fill:#000000; stroke:none; fill-opacity:1\\\" cx=\\\"1359.72\\\" cy=\\\"409.137\\\" r=\\\"18\\\"\\/>\\n<circle clip-path=\\\"url(#clip6302)\\\" style=\\\"fill:#009af9; stroke:none; fill-opacity:1\\\" cx=\\\"1359.72\\\" cy=\\\"409.137\\\" r=\\\"14\\\"\\/>\\n<circle clip-path=\\\"url(#clip6302)\\\" style=\\\"fill:#000000; stroke:none; fill-opacity:1\\\" cx=\\\"1012.81\\\" cy=\\\"649.389\\\" r=\\\"18\\\"\\/>\\n<circle clip-path=\\\"url(#clip6302)\\\" style=\\\"fill:#009af9; stroke:none; fill-opacity:1\\\" cx=\\\"1012.81\\\" cy=\\\"649.389\\\" r=\\\"14\\\"\\/>\\n<circle clip-path=\\\"url(#clip6302)\\\" style=\\\"fill:#000000; stroke:none; fill-opacity:1\\\" cx=\\\"963.035\\\" cy=\\\"669.059\\\" r=\\\"18\\\"\\/>\\n<circle clip-path=\\\"url(#clip6302)\\\" style=\\\"fill:#009af9; stroke:none; fill-opacity:1\\\" cx=\\\"963.035\\\" cy=\\\"669.059\\\" r=\\\"14\\\"\\/>\\n<circle clip-path=\\\"url(#clip6302)\\\" style=\\\"fill:#000000; stroke:none; fill-opacity:1\\\" cx=\\\"1056.11\\\" cy=\\\"615.204\\\" r=\\\"18\\\"\\/>\\n<circle clip-path=\\\"url(#clip6302)\\\" style=\\\"fill:#009af9; stroke:none; fill-opacity:1\\\" cx=\\\"1056.11\\\" cy=\\\"615.204\\\" r=\\\"14\\\"\\/>\\n<circle clip-path=\\\"url(#clip6302)\\\" style=\\\"fill:#000000; stroke:none; fill-opacity:1\\\" cx=\\\"837.063\\\" cy=\\\"607.501\\\" r=\\\"18\\\"\\/>\\n<circle clip-path=\\\"url(#clip6302)\\\" style=\\\"fill:#009af9; stroke:none; fill-opacity:1\\\" cx=\\\"837.063\\\" cy=\\\"607.501\\\" r=\\\"14\\\"\\/>\\n<circle clip-path=\\\"url(#clip6302)\\\" style=\\\"fill:#000000; stroke:none; fill-opacity:1\\\" cx=\\\"1282.12\\\" cy=\\\"449.021\\\" r=\\\"18\\\"\\/>\\n<circle clip-path=\\\"url(#clip6302)\\\" style=\\\"fill:#009af9; stroke:none; fill-opacity:1\\\" cx=\\\"1282.12\\\" cy=\\\"449.021\\\" r=\\\"14\\\"\\/>\\n<circle clip-path=\\\"url(#clip6302)\\\" style=\\\"fill:#000000; stroke:none; fill-opacity:1\\\" cx=\\\"1825.03\\\" cy=\\\"820.499\\\" r=\\\"18\\\"\\/>\\n<circle clip-path=\\\"url(#clip6302)\\\" style=\\\"fill:#009af9; stroke:none; fill-opacity:1\\\" cx=\\\"1825.03\\\" cy=\\\"820.499\\\" r=\\\"14\\\"\\/>\\n<circle clip-path=\\\"url(#clip6302)\\\" style=\\\"fill:#000000; stroke:none; fill-opacity:1\\\" cx=\\\"1665.94\\\" cy=\\\"530.18\\\" r=\\\"18\\\"\\/>\\n<circle clip-path=\\\"url(#clip6302)\\\" style=\\\"fill:#009af9; stroke:none; fill-opacity:1\\\" cx=\\\"1665.94\\\" cy=\\\"530.18\\\" r=\\\"14\\\"\\/>\\n<circle clip-path=\\\"url(#clip6302)\\\" style=\\\"fill:#000000; stroke:none; fill-opacity:1\\\" cx=\\\"1109\\\" cy=\\\"597.68\\\" r=\\\"18\\\"\\/>\\n<circle clip-path=\\\"url(#clip6302)\\\" style=\\\"fill:#009af9; stroke:none; fill-opacity:1\\\" cx=\\\"1109\\\" cy=\\\"597.68\\\" r=\\\"14\\\"\\/>\\n<circle clip-path=\\\"url(#clip6302)\\\" style=\\\"fill:#000000; stroke:none; fill-opacity:1\\\" cx=\\\"1668.44\\\" cy=\\\"509.165\\\" r=\\\"18\\\"\\/>\\n<circle clip-path=\\\"url(#clip6302)\\\" style=\\\"fill:#009af9; stroke:none; fill-opacity:1\\\" cx=\\\"1668.44\\\" cy=\\\"509.165\\\" r=\\\"14\\\"\\/>\\n<circle clip-path=\\\"url(#clip6302)\\\" style=\\\"fill:#000000; stroke:none; fill-opacity:1\\\" cx=\\\"1469.58\\\" cy=\\\"359.625\\\" r=\\\"18\\\"\\/>\\n<circle clip-path=\\\"url(#clip6302)\\\" style=\\\"fill:#009af9; stroke:none; fill-opacity:1\\\" cx=\\\"1469.58\\\" cy=\\\"359.625\\\" r=\\\"14\\\"\\/>\\n<circle clip-path=\\\"url(#clip6302)\\\" style=\\\"fill:#000000; stroke:none; fill-opacity:1\\\" cx=\\\"1324.98\\\" cy=\\\"419.528\\\" r=\\\"18\\\"\\/>\\n<circle clip-path=\\\"url(#clip6302)\\\" style=\\\"fill:#009af9; stroke:none; fill-opacity:1\\\" cx=\\\"1324.98\\\" cy=\\\"419.528\\\" r=\\\"14\\\"\\/>\\n<circle clip-path=\\\"url(#clip6302)\\\" style=\\\"fill:#000000; stroke:none; fill-opacity:1\\\" cx=\\\"1856.66\\\" cy=\\\"879.167\\\" r=\\\"18\\\"\\/>\\n<circle clip-path=\\\"url(#clip6302)\\\" style=\\\"fill:#009af9; stroke:none; fill-opacity:1\\\" cx=\\\"1856.66\\\" cy=\\\"879.167\\\" r=\\\"14\\\"\\/>\\n<circle clip-path=\\\"url(#clip6302)\\\" style=\\\"fill:#000000; stroke:none; fill-opacity:1\\\" cx=\\\"1291.2\\\" cy=\\\"421.68\\\" r=\\\"18\\\"\\/>\\n<circle clip-path=\\\"url(#clip6302)\\\" style=\\\"fill:#009af9; stroke:none; fill-opacity:1\\\" cx=\\\"1291.2\\\" cy=\\\"421.68\\\" r=\\\"14\\\"\\/>\\n<circle clip-path=\\\"url(#clip6302)\\\" style=\\\"fill:#000000; stroke:none; fill-opacity:1\\\" cx=\\\"1752.55\\\" cy=\\\"641.532\\\" r=\\\"18\\\"\\/>\\n<circle clip-path=\\\"url(#clip6302)\\\" style=\\\"fill:#009af9; stroke:none; fill-opacity:1\\\" cx=\\\"1752.55\\\" cy=\\\"641.532\\\" r=\\\"14\\\"\\/>\\n<circle clip-path=\\\"url(#clip6302)\\\" style=\\\"fill:#000000; stroke:none; fill-opacity:1\\\" cx=\\\"1348.66\\\" cy=\\\"411.497\\\" r=\\\"18\\\"\\/>\\n<circle clip-path=\\\"url(#clip6302)\\\" style=\\\"fill:#009af9; stroke:none; fill-opacity:1\\\" cx=\\\"1348.66\\\" cy=\\\"411.497\\\" r=\\\"14\\\"\\/>\\n<circle clip-path=\\\"url(#clip6302)\\\" style=\\\"fill:#000000; stroke:none; fill-opacity:1\\\" cx=\\\"1511.47\\\" cy=\\\"383.935\\\" r=\\\"18\\\"\\/>\\n<circle clip-path=\\\"url(#clip6302)\\\" style=\\\"fill:#009af9; stroke:none; fill-opacity:1\\\" cx=\\\"1511.47\\\" cy=\\\"383.935\\\" r=\\\"14\\\"\\/>\\n<circle clip-path=\\\"url(#clip6302)\\\" style=\\\"fill:#000000; stroke:none; fill-opacity:1\\\" cx=\\\"384.948\\\" cy=\\\"99.6889\\\" r=\\\"18\\\"\\/>\\n<circle clip-path=\\\"url(#clip6302)\\\" style=\\\"fill:#009af9; stroke:none; fill-opacity:1\\\" cx=\\\"384.948\\\" cy=\\\"99.6889\\\" r=\\\"14\\\"\\/>\\n<circle clip-path=\\\"url(#clip6302)\\\" style=\\\"fill:#000000; stroke:none; fill-opacity:1\\\" cx=\\\"1265.55\\\" cy=\\\"459.71\\\" r=\\\"18\\\"\\/>\\n<circle clip-path=\\\"url(#clip6302)\\\" style=\\\"fill:#009af9; stroke:none; fill-opacity:1\\\" cx=\\\"1265.55\\\" cy=\\\"459.71\\\" r=\\\"14\\\"\\/>\\n<circle clip-path=\\\"url(#clip6302)\\\" style=\\\"fill:#000000; stroke:none; fill-opacity:1\\\" cx=\\\"1459.09\\\" cy=\\\"340.593\\\" r=\\\"18\\\"\\/>\\n<circle clip-path=\\\"url(#clip6302)\\\" style=\\\"fill:#009af9; stroke:none; fill-opacity:1\\\" cx=\\\"1459.09\\\" cy=\\\"340.593\\\" r=\\\"14\\\"\\/>\\n<circle clip-path=\\\"url(#clip6302)\\\" style=\\\"fill:#000000; stroke:none; fill-opacity:1\\\" cx=\\\"2054.19\\\" cy=\\\"1282.04\\\" r=\\\"18\\\"\\/>\\n<circle clip-path=\\\"url(#clip6302)\\\" style=\\\"fill:#009af9; stroke:none; fill-opacity:1\\\" cx=\\\"2054.19\\\" cy=\\\"1282.04\\\" r=\\\"14\\\"\\/>\\n<circle clip-path=\\\"url(#clip6302)\\\" style=\\\"fill:#000000; stroke:none; fill-opacity:1\\\" cx=\\\"1880.19\\\" cy=\\\"903.839\\\" r=\\\"18\\\"\\/>\\n<circle clip-path=\\\"url(#clip6302)\\\" style=\\\"fill:#009af9; stroke:none; fill-opacity:1\\\" cx=\\\"1880.19\\\" cy=\\\"903.839\\\" r=\\\"14\\\"\\/>\\n<circle clip-path=\\\"url(#clip6302)\\\" style=\\\"fill:#000000; stroke:none; fill-opacity:1\\\" cx=\\\"792.125\\\" cy=\\\"533.129\\\" r=\\\"18\\\"\\/>\\n<circle clip-path=\\\"url(#clip6302)\\\" style=\\\"fill:#009af9; stroke:none; fill-opacity:1\\\" cx=\\\"792.125\\\" cy=\\\"533.129\\\" r=\\\"14\\\"\\/>\\n<circle clip-path=\\\"url(#clip6302)\\\" style=\\\"fill:#000000; stroke:none; fill-opacity:1\\\" cx=\\\"1590.71\\\" cy=\\\"370.773\\\" r=\\\"18\\\"\\/>\\n<circle clip-path=\\\"url(#clip6302)\\\" style=\\\"fill:#009af9; stroke:none; fill-opacity:1\\\" cx=\\\"1590.71\\\" cy=\\\"370.773\\\" r=\\\"14\\\"\\/>\\n<circle clip-path=\\\"url(#clip6302)\\\" style=\\\"fill:#000000; stroke:none; fill-opacity:1\\\" cx=\\\"1253.44\\\" cy=\\\"439.157\\\" r=\\\"18\\\"\\/>\\n<circle clip-path=\\\"url(#clip6302)\\\" style=\\\"fill:#009af9; stroke:none; fill-opacity:1\\\" cx=\\\"1253.44\\\" cy=\\\"439.157\\\" r=\\\"14\\\"\\/>\\n<circle clip-path=\\\"url(#clip6302)\\\" style=\\\"fill:#000000; stroke:none; fill-opacity:1\\\" cx=\\\"1280.98\\\" cy=\\\"464.562\\\" r=\\\"18\\\"\\/>\\n<circle clip-path=\\\"url(#clip6302)\\\" style=\\\"fill:#009af9; stroke:none; fill-opacity:1\\\" cx=\\\"1280.98\\\" cy=\\\"464.562\\\" r=\\\"14\\\"\\/>\\n<circle clip-path=\\\"url(#clip6302)\\\" style=\\\"fill:#000000; stroke:none; fill-opacity:1\\\" cx=\\\"1476.2\\\" cy=\\\"329.431\\\" r=\\\"18\\\"\\/>\\n<circle clip-path=\\\"url(#clip6302)\\\" style=\\\"fill:#009af9; stroke:none; fill-opacity:1\\\" cx=\\\"1476.2\\\" cy=\\\"329.431\\\" r=\\\"14\\\"\\/>\\n<circle clip-path=\\\"url(#clip6302)\\\" style=\\\"fill:#000000; stroke:none; fill-opacity:1\\\" cx=\\\"969.163\\\" cy=\\\"659.823\\\" r=\\\"18\\\"\\/>\\n<circle clip-path=\\\"url(#clip6302)\\\" style=\\\"fill:#009af9; stroke:none; fill-opacity:1\\\" cx=\\\"969.163\\\" cy=\\\"659.823\\\" r=\\\"14\\\"\\/>\\n<circle clip-path=\\\"url(#clip6302)\\\" style=\\\"fill:#000000; stroke:none; fill-opacity:1\\\" cx=\\\"1556.2\\\" cy=\\\"419.926\\\" r=\\\"18\\\"\\/>\\n<circle clip-path=\\\"url(#clip6302)\\\" style=\\\"fill:#009af9; stroke:none; fill-opacity:1\\\" cx=\\\"1556.2\\\" cy=\\\"419.926\\\" r=\\\"14\\\"\\/>\\n<circle clip-path=\\\"url(#clip6302)\\\" style=\\\"fill:#000000; stroke:none; fill-opacity:1\\\" cx=\\\"1926.34\\\" cy=\\\"1058.78\\\" r=\\\"18\\\"\\/>\\n<circle clip-path=\\\"url(#clip6302)\\\" style=\\\"fill:#009af9; stroke:none; fill-opacity:1\\\" cx=\\\"1926.34\\\" cy=\\\"1058.78\\\" r=\\\"14\\\"\\/>\\n<circle clip-path=\\\"url(#clip6302)\\\" style=\\\"fill:#000000; stroke:none; fill-opacity:1\\\" cx=\\\"1495.35\\\" cy=\\\"377.733\\\" r=\\\"18\\\"\\/>\\n<circle clip-path=\\\"url(#clip6302)\\\" style=\\\"fill:#009af9; stroke:none; fill-opacity:1\\\" cx=\\\"1495.35\\\" cy=\\\"377.733\\\" r=\\\"14\\\"\\/>\\n<circle clip-path=\\\"url(#clip6302)\\\" style=\\\"fill:#000000; stroke:none; fill-opacity:1\\\" cx=\\\"2117.18\\\" cy=\\\"1357.55\\\" r=\\\"18\\\"\\/>\\n<circle clip-path=\\\"url(#clip6302)\\\" style=\\\"fill:#009af9; stroke:none; fill-opacity:1\\\" cx=\\\"2117.18\\\" cy=\\\"1357.55\\\" r=\\\"14\\\"\\/>\\n<circle clip-path=\\\"url(#clip6302)\\\" style=\\\"fill:#000000; stroke:none; fill-opacity:1\\\" cx=\\\"1399.36\\\" cy=\\\"404.362\\\" r=\\\"18\\\"\\/>\\n<circle clip-path=\\\"url(#clip6302)\\\" style=\\\"fill:#009af9; stroke:none; fill-opacity:1\\\" cx=\\\"1399.36\\\" cy=\\\"404.362\\\" r=\\\"14\\\"\\/>\\n<circle clip-path=\\\"url(#clip6302)\\\" style=\\\"fill:#000000; stroke:none; fill-opacity:1\\\" cx=\\\"1824.74\\\" cy=\\\"845.984\\\" r=\\\"18\\\"\\/>\\n<circle clip-path=\\\"url(#clip6302)\\\" style=\\\"fill:#009af9; stroke:none; fill-opacity:1\\\" cx=\\\"1824.74\\\" cy=\\\"845.984\\\" r=\\\"14\\\"\\/>\\n<circle clip-path=\\\"url(#clip6302)\\\" style=\\\"fill:#000000; stroke:none; fill-opacity:1\\\" cx=\\\"1789.33\\\" cy=\\\"763.12\\\" r=\\\"18\\\"\\/>\\n<circle clip-path=\\\"url(#clip6302)\\\" style=\\\"fill:#009af9; stroke:none; fill-opacity:1\\\" cx=\\\"1789.33\\\" cy=\\\"763.12\\\" r=\\\"14\\\"\\/>\\n<circle clip-path=\\\"url(#clip6302)\\\" style=\\\"fill:#000000; stroke:none; fill-opacity:1\\\" cx=\\\"1057.78\\\" cy=\\\"602.127\\\" r=\\\"18\\\"\\/>\\n<circle clip-path=\\\"url(#clip6302)\\\" style=\\\"fill:#009af9; stroke:none; fill-opacity:1\\\" cx=\\\"1057.78\\\" cy=\\\"602.127\\\" r=\\\"14\\\"\\/>\\n<circle clip-path=\\\"url(#clip6302)\\\" style=\\\"fill:#000000; stroke:none; fill-opacity:1\\\" cx=\\\"1500.87\\\" cy=\\\"370.445\\\" r=\\\"18\\\"\\/>\\n<circle clip-path=\\\"url(#clip6302)\\\" style=\\\"fill:#009af9; stroke:none; fill-opacity:1\\\" cx=\\\"1500.87\\\" cy=\\\"370.445\\\" r=\\\"14\\\"\\/>\\n<circle clip-path=\\\"url(#clip6302)\\\" style=\\\"fill:#000000; stroke:none; fill-opacity:1\\\" cx=\\\"1663.51\\\" cy=\\\"512.524\\\" r=\\\"18\\\"\\/>\\n<circle clip-path=\\\"url(#clip6302)\\\" style=\\\"fill:#009af9; stroke:none; fill-opacity:1\\\" cx=\\\"1663.51\\\" cy=\\\"512.524\\\" r=\\\"14\\\"\\/>\\n<polyline clip-path=\\\"url(#clip6302)\\\" style=\\\"stroke:#e26f46; stroke-width:4; stroke-opacity:1; fill:none\\\" points=\\\"\\n  195.389,773.79 200.656,734.856 205.923,697.389 211.191,661.356 216.458,626.729 228.633,551.903 240.809,484.071 252.984,422.885 265.16,368.007 277.335,319.107 \\n  289.511,275.866 301.686,237.972 313.862,205.124 326.037,177.03 338.213,153.406 350.388,133.977 362.564,118.478 386.915,98.2481 411.266,90.7562 440.534,96.0369 \\n  469.802,114.159 499.07,142.452 528.338,178.494 577.829,251.064 627.32,330.556 681.082,416.225 734.843,494.153 784.406,554.607 833.97,601.345 860.538,620.192 \\n  887.107,634.559 913.675,644.432 940.244,649.875 971.026,650.822 1001.81,646.328 1032.59,636.818 1063.37,622.814 1118.08,588.747 1172.8,546.321 1220.77,505.688 \\n  1268.75,465.123 1321.06,424.704 1373.36,392.173 1425.98,371.214 1478.6,365.44 1507.69,369.808 1536.78,380.047 1565.87,396.442 1594.95,419.187 1622.63,446.807 \\n  1650.31,480.244 1677.98,519.385 1705.66,564.013 1763.22,672.81 1820.77,799.092 1869.22,913.757 1917.67,1029.97 1947.24,1098.61 1976.82,1163.18 2006.39,1221.47 \\n  2035.97,1271.05 2063.77,1307.31 2091.57,1331.02 2105.47,1337.35 2119.37,1339.53 2133.28,1337.18 2147.18,1329.93 2169.45,1307.09 2191.72,1268.92 2202.85,1243.52 \\n  2213.99,1213.6 2225.12,1178.92 2236.26,1139.22 2247.39,1094.26 2258.53,1043.76 2269.66,987.46 2280.8,925.082 2291.93,856.343 2303.07,780.952 2314.2,698.612 \\n  2325.34,609.019 2332.19,550.125 2339.05,488.291 2345.9,423.44 2352.76,355.498 \\n  \\\"\\/>\\n<path clip-path=\\\"url(#clip6300)\\\" d=\\\"\\nM1989.93 312.204 L2280.76 312.204 L2280.76 130.764 L1989.93 130.764  Z\\n  \\\" fill=\\\"#ffffff\\\" fill-rule=\\\"evenodd\\\" fill-opacity=\\\"1\\\"\\/>\\n<polyline clip-path=\\\"url(#clip6300)\\\" style=\\\"stroke:#000000; stroke-width:4; stroke-opacity:1; fill:none\\\" points=\\\"\\n  1989.93,312.204 2280.76,312.204 2280.76,130.764 1989.93,130.764 1989.93,312.204 \\n  \\\"\\/>\\n<circle clip-path=\\\"url(#clip6300)\\\" style=\\\"fill:#000000; stroke:none; fill-opacity:1\\\" cx=\\\"2097.93\\\" cy=\\\"191.244\\\" r=\\\"25\\\"\\/>\\n<circle clip-path=\\\"url(#clip6300)\\\" style=\\\"fill:#009af9; stroke:none; fill-opacity:1\\\" cx=\\\"2097.93\\\" cy=\\\"191.244\\\" r=\\\"21\\\"\\/>\\n<g clip-path=\\\"url(#clip6300)\\\">\\n<text style=\\\"fill:#000000; fill-opacity:1; font-family:Arial,Helvetica Neue,Helvetica,sans-serif; font-size:48px; text-anchor:start;\\\" transform=\\\"rotate(0, 2181.93, 208.744)\\\" x=\\\"2181.93\\\" y=\\\"208.744\\\">y1<\\/text>\\n<\\/g>\\n<polyline clip-path=\\\"url(#clip6300)\\\" style=\\\"stroke:#e26f46; stroke-width:4; stroke-opacity:1; fill:none\\\" points=\\\"\\n  2013.93,251.724 2157.93,251.724 \\n  \\\"\\/>\\n<g clip-path=\\\"url(#clip6300)\\\">\\n<text style=\\\"fill:#000000; fill-opacity:1; font-family:Arial,Helvetica Neue,Helvetica,sans-serif; font-size:48px; text-anchor:start;\\\" transform=\\\"rotate(0, 2181.93, 269.224)\\\" x=\\\"2181.93\\\" y=\\\"269.224\\\">y2<\\/text>\\n<\\/g>\\n<\\/svg>\\n\"},\"nodeType\":\"DOM\",\"type\":\"node\",\"instanceArgs\":{\"namespace\":\"html\",\"tag\":\"div\"},\"children\":[]}]}}}},\"children\":[{\"props\":{},\"nodeType\":\"ObservableNode\",\"type\":\"node\",\"instanceArgs\":{\"id\":\"ob_69\",\"name\":\"obs-node\"},\"children\":[]}]}]},\n",
       "            window,\n",
       "        );\n",
       "    } else {\n",
       "        document\n",
       "            .querySelector('[data-webio-mountpoint=\"2119504123034582213\"]')\n",
       "            .innerHTML = (\n",
       "                '<div style=\"padding: 1em; background-color: #f8d6da; border: 1px solid #f5c6cb\">' +\n",
       "                '<p><strong>WebIO not detected.</strong></p>' +\n",
       "                '<p>Please read ' +\n",
       "                '<a href=\"https://juliagizmos.github.io/WebIO.jl/latest/troubleshooting/not-detected/\" target=\"_blank\">the troubleshooting guide</a> ' +\n",
       "                'for more information on how to resolve this issue.</p>' +\n",
       "                '<p><a href=\"https://juliagizmos.github.io/WebIO.jl/latest/troubleshooting/not-detected/\" target=\"_blank\">https://juliagizmos.github.io/WebIO.jl/latest/troubleshooting/not-detected/</a></p>' +\n",
       "                '</div>'\n",
       "            );\n",
       "    }\n",
       "    </script>\n",
       "</div>\n"
      ],
      "text/plain": [
       "Node{WebIO.DOM}(WebIO.DOM(:html, :div), Any[Node{WebIO.DOM}(WebIO.DOM(:html, :div), Any[Scope(Node{WebIO.DOM}(WebIO.DOM(:html, :div), Any[Node{WebIO.DOM}(WebIO.DOM(:html, :div), Any[Node{WebIO.DOM}(WebIO.DOM(:html, :label), Any[\"d\"], Dict{Symbol,Any}(:className => \"interact \",:style => Dict{Any,Any}(:padding => \"5px 10px 0px 10px\")))], Dict{Symbol,Any}(:className => \"interact-flex-row-left\")), Node{WebIO.DOM}(WebIO.DOM(:html, :div), Any[Node{WebIO.DOM}(WebIO.DOM(:html, :input), Any[], Dict{Symbol,Any}(:max => 9,:min => 1,:attributes => Dict{Any,Any}(:type => \"range\",Symbol(\"data-bind\") => \"numericValue: index, valueUpdate: 'input', event: {change: function (){this.changes(this.changes()+1)}}\",\"orient\" => \"horizontal\"),:step => 1,:className => \"slider slider is-fullwidth\",:style => Dict{Any,Any}()))], Dict{Symbol,Any}(:className => \"interact-flex-row-center\")), Node{WebIO.DOM}(WebIO.DOM(:html, :div), Any[Node{WebIO.DOM}(WebIO.DOM(:html, :p), Any[], Dict{Symbol,Any}(:attributes => Dict(\"data-bind\" => \"text: formatted_val\")))], Dict{Symbol,Any}(:className => \"interact-flex-row-right\"))], Dict{Symbol,Any}(:className => \"interact-flex-row interact-widget\")), Dict{String,Tuple{Observables.AbstractObservable,Union{Nothing, Bool}}}(\"changes\" => (Observable{Int64} with 1 listeners. Value:\n",
       "0, nothing),\"index\" => (Observable{Int64} with 2 listeners. Value:\n",
       "5, nothing)), Set(String[]), nothing, Asset[Asset(\"js\", \"knockout\", \"/Users/mpf/.julia/packages/Knockout/1sDlc/src/../assets/knockout.js\"), Asset(\"js\", \"knockout_punches\", \"/Users/mpf/.julia/packages/Knockout/1sDlc/src/../assets/knockout_punches.js\"), Asset(\"js\", nothing, \"/Users/mpf/.julia/packages/InteractBase/9mFwe/src/../assets/all.js\"), Asset(\"css\", nothing, \"/Users/mpf/.julia/packages/InteractBase/9mFwe/src/../assets/style.css\"), Asset(\"css\", nothing, \"/Users/mpf/.julia/packages/Interact/SbgIk/src/../assets/bulma_confined.min.css\")], Dict{Any,Any}(\"changes\" => Any[WebIO.JSString(\"(function (val){return (val!=this.model[\\\"changes\\\"]()) ? (this.valueFromJulia[\\\"changes\\\"]=true, this.model[\\\"changes\\\"](val)) : undefined})\")],\"index\" => Any[WebIO.JSString(\"(function (val){return (val!=this.model[\\\"index\\\"]()) ? (this.valueFromJulia[\\\"index\\\"]=true, this.model[\\\"index\\\"](val)) : undefined})\")]), WebIO.ConnectionPool(Channel{Any}(sz_max:32,sz_curr:0), Set(AbstractConnection[]), Base.GenericCondition{Base.AlwaysLockedST}(Base.InvasiveLinkedList{Task}(Task (runnable) @0x000000010fbf7850, Task (runnable) @0x000000010fbf7850), Base.AlwaysLockedST(1))), WebIO.JSString[WebIO.JSString(\"function () {\\n    var handler = (function (ko, koPunches) {\\n    ko.punches.enableAll();\\n    ko.bindingHandlers.numericValue = {\\n        init: function(element, valueAccessor, allBindings, data, context) {\\n            var stringified = ko.observable(ko.unwrap(valueAccessor()));\\n            stringified.subscribe(function(value) {\\n                var val = parseFloat(value);\\n                if (!isNaN(val)) {\\n                    valueAccessor()(val);\\n                }\\n            });\\n            valueAccessor().subscribe(function(value) {\\n                var str = JSON.stringify(value);\\n                if ((str == \\\"0\\\") && ([\\\"-0\\\", \\\"-0.\\\"].indexOf(stringified()) >= 0))\\n                     return;\\n                 if ([\\\"null\\\", \\\"\\\"].indexOf(str) >= 0)\\n                     return;\\n                stringified(str);\\n            });\\n            ko.applyBindingsToNode(\\n                element,\\n                {\\n                    value: stringified,\\n                    valueUpdate: allBindings.get('valueUpdate'),\\n                },\\n                context,\\n            );\\n        }\\n    };\\n    var json_data = {\\\"formatted_vals\\\":[\\\"1\\\",\\\"2\\\",\\\"3\\\",\\\"4\\\",\\\"5\\\",\\\"6\\\",\\\"7\\\",\\\"8\\\",\\\"9\\\"],\\\"changes\\\":WebIO.getval({\\\"name\\\":\\\"changes\\\",\\\"scope\\\":\\\"9186766342923947323\\\",\\\"id\\\":\\\"ob_63\\\",\\\"type\\\":\\\"observable\\\"}),\\\"index\\\":WebIO.getval({\\\"name\\\":\\\"index\\\",\\\"scope\\\":\\\"9186766342923947323\\\",\\\"id\\\":\\\"ob_62\\\",\\\"type\\\":\\\"observable\\\"})};\\n    var self = this;\\n    function AppViewModel() {\\n        for (var key in json_data) {\\n            var el = json_data[key];\\n            this[key] = Array.isArray(el) ? ko.observableArray(el) : ko.observable(el);\\n        }\\n        \\n        [this[\\\"formatted_val\\\"]=ko.computed(    function(){\\n        return this.formatted_vals()[parseInt(this.index())-(1)];\\n    }\\n,this)]\\n        [this[\\\"changes\\\"].subscribe((function (val){!(this.valueFromJulia[\\\"changes\\\"]) ? (WebIO.setval({\\\"name\\\":\\\"changes\\\",\\\"scope\\\":\\\"9186766342923947323\\\",\\\"id\\\":\\\"ob_63\\\",\\\"type\\\":\\\"observable\\\"},val)) : undefined; return this.valueFromJulia[\\\"changes\\\"]=false}),self),this[\\\"index\\\"].subscribe((function (val){!(this.valueFromJulia[\\\"index\\\"]) ? (WebIO.setval({\\\"name\\\":\\\"index\\\",\\\"scope\\\":\\\"9186766342923947323\\\",\\\"id\\\":\\\"ob_62\\\",\\\"type\\\":\\\"observable\\\"},val)) : undefined; return this.valueFromJulia[\\\"index\\\"]=false}),self)]\\n        \\n    }\\n    self.model = new AppViewModel();\\n    self.valueFromJulia = {};\\n    for (var key in json_data) {\\n        self.valueFromJulia[key] = false;\\n    }\\n    ko.applyBindings(self.model, self.dom);\\n}\\n);\\n    (WebIO.importBlock({\\\"data\\\":[{\\\"name\\\":\\\"knockout\\\",\\\"type\\\":\\\"js\\\",\\\"url\\\":\\\"/assetserver/3f712825d914ad7ceb56bfee8c26f86f12ffa94d-knockout.js\\\"},{\\\"name\\\":\\\"knockout_punches\\\",\\\"type\\\":\\\"js\\\",\\\"url\\\":\\\"/assetserver/bb1b62fcbdf49c4be6ac0dad8b532b184373033e-knockout_punches.js\\\"}],\\\"type\\\":\\\"async_block\\\"})).then((imports) => handler.apply(this, imports));\\n}\\n\")])], Dict{Symbol,Any}(:className => \"field interact-widget\")), Node{WebIO.DOM}(WebIO.DOM(:html, :div), Any[Scope(Node{WebIO.DOM}(WebIO.DOM(:html, :div), Any[Node{WebIO.DOM}(WebIO.DOM(:html, :div), Any[Node{WebIO.DOM}(WebIO.DOM(:html, :label), Any[\"η\"], Dict{Symbol,Any}(:className => \"interact \",:style => Dict{Any,Any}(:padding => \"5px 10px 0px 10px\")))], Dict{Symbol,Any}(:className => \"interact-flex-row-left\")), Node{WebIO.DOM}(WebIO.DOM(:html, :div), Any[Node{WebIO.DOM}(WebIO.DOM(:html, :input), Any[], Dict{Symbol,Any}(:max => 50,:min => 0,:attributes => Dict{Any,Any}(:type => \"range\",Symbol(\"data-bind\") => \"numericValue: index, valueUpdate: 'input', event: {change: function (){this.changes(this.changes()+1)}}\",\"orient\" => \"horizontal\"),:step => 1,:className => \"slider slider is-fullwidth\",:style => Dict{Any,Any}()))], Dict{Symbol,Any}(:className => \"interact-flex-row-center\")), Node{WebIO.DOM}(WebIO.DOM(:html, :div), Any[Node{WebIO.DOM}(WebIO.DOM(:html, :p), Any[], Dict{Symbol,Any}(:attributes => Dict(\"data-bind\" => \"text: formatted_val\")))], Dict{Symbol,Any}(:className => \"interact-flex-row-right\"))], Dict{Symbol,Any}(:className => \"interact-flex-row interact-widget\")), Dict{String,Tuple{Observables.AbstractObservable,Union{Nothing, Bool}}}(\"changes\" => (Observable{Int64} with 1 listeners. Value:\n",
       "0, nothing),\"index\" => (Observable{Int64} with 2 listeners. Value:\n",
       "25, nothing)), Set(String[]), nothing, Asset[Asset(\"js\", \"knockout\", \"/Users/mpf/.julia/packages/Knockout/1sDlc/src/../assets/knockout.js\"), Asset(\"js\", \"knockout_punches\", \"/Users/mpf/.julia/packages/Knockout/1sDlc/src/../assets/knockout_punches.js\"), Asset(\"js\", nothing, \"/Users/mpf/.julia/packages/InteractBase/9mFwe/src/../assets/all.js\"), Asset(\"css\", nothing, \"/Users/mpf/.julia/packages/InteractBase/9mFwe/src/../assets/style.css\"), Asset(\"css\", nothing, \"/Users/mpf/.julia/packages/Interact/SbgIk/src/../assets/bulma_confined.min.css\")], Dict{Any,Any}(\"changes\" => Any[WebIO.JSString(\"(function (val){return (val!=this.model[\\\"changes\\\"]()) ? (this.valueFromJulia[\\\"changes\\\"]=true, this.model[\\\"changes\\\"](val)) : undefined})\")],\"index\" => Any[WebIO.JSString(\"(function (val){return (val!=this.model[\\\"index\\\"]()) ? (this.valueFromJulia[\\\"index\\\"]=true, this.model[\\\"index\\\"](val)) : undefined})\")]), WebIO.ConnectionPool(Channel{Any}(sz_max:32,sz_curr:0), Set(AbstractConnection[]), Base.GenericCondition{Base.AlwaysLockedST}(Base.InvasiveLinkedList{Task}(Task (runnable) @0x000000010fc3a1d0, Task (runnable) @0x000000010fc3a1d0), Base.AlwaysLockedST(1))), WebIO.JSString[WebIO.JSString(\"function () {\\n    var handler = (function (ko, koPunches) {\\n    ko.punches.enableAll();\\n    ko.bindingHandlers.numericValue = {\\n        init: function(element, valueAccessor, allBindings, data, context) {\\n            var stringified = ko.observable(ko.unwrap(valueAccessor()));\\n            stringified.subscribe(function(value) {\\n                var val = parseFloat(value);\\n                if (!isNaN(val)) {\\n                    valueAccessor()(val);\\n                }\\n            });\\n            valueAccessor().subscribe(function(value) {\\n                var str = JSON.stringify(value);\\n                if ((str == \\\"0\\\") && ([\\\"-0\\\", \\\"-0.\\\"].indexOf(stringified()) >= 0))\\n                     return;\\n                 if ([\\\"null\\\", \\\"\\\"].indexOf(str) >= 0)\\n                     return;\\n                stringified(str);\\n            });\\n            ko.applyBindingsToNode(\\n                element,\\n                {\\n                    value: stringified,\\n                    valueUpdate: allBindings.get('valueUpdate'),\\n                },\\n                context,\\n            );\\n        }\\n    };\\n    var json_data = {\\\"formatted_vals\\\":[\\\"0\\\",\\\"1\\\",\\\"2\\\",\\\"3\\\",\\\"4\\\",\\\"5\\\",\\\"6\\\",\\\"7\\\",\\\"8\\\",\\\"9\\\",\\\"10\\\",\\\"11\\\",\\\"12\\\",\\\"13\\\",\\\"14\\\",\\\"15\\\",\\\"16\\\",\\\"17\\\",\\\"18\\\",\\\"19\\\",\\\"20\\\",\\\"21\\\",\\\"22\\\",\\\"23\\\",\\\"24\\\",\\\"25\\\",\\\"26\\\",\\\"27\\\",\\\"28\\\",\\\"29\\\",\\\"30\\\",\\\"31\\\",\\\"32\\\",\\\"33\\\",\\\"34\\\",\\\"35\\\",\\\"36\\\",\\\"37\\\",\\\"38\\\",\\\"39\\\",\\\"40\\\",\\\"41\\\",\\\"42\\\",\\\"43\\\",\\\"44\\\",\\\"45\\\",\\\"46\\\",\\\"47\\\",\\\"48\\\",\\\"49\\\",\\\"50\\\"],\\\"changes\\\":WebIO.getval({\\\"name\\\":\\\"changes\\\",\\\"scope\\\":\\\"13257527843932597223\\\",\\\"id\\\":\\\"ob_65\\\",\\\"type\\\":\\\"observable\\\"}),\\\"index\\\":WebIO.getval({\\\"name\\\":\\\"index\\\",\\\"scope\\\":\\\"13257527843932597223\\\",\\\"id\\\":\\\"ob_64\\\",\\\"type\\\":\\\"observable\\\"})};\\n    var self = this;\\n    function AppViewModel() {\\n        for (var key in json_data) {\\n            var el = json_data[key];\\n            this[key] = Array.isArray(el) ? ko.observableArray(el) : ko.observable(el);\\n        }\\n        \\n        [this[\\\"formatted_val\\\"]=ko.computed(    function(){\\n        return this.formatted_vals()[parseInt(this.index())-(0)];\\n    }\\n,this)]\\n        [this[\\\"changes\\\"].subscribe((function (val){!(this.valueFromJulia[\\\"changes\\\"]) ? (WebIO.setval({\\\"name\\\":\\\"changes\\\",\\\"scope\\\":\\\"13257527843932597223\\\",\\\"id\\\":\\\"ob_65\\\",\\\"type\\\":\\\"observable\\\"},val)) : undefined; return this.valueFromJulia[\\\"changes\\\"]=false}),self),this[\\\"index\\\"].subscribe((function (val){!(this.valueFromJulia[\\\"index\\\"]) ? (WebIO.setval({\\\"name\\\":\\\"index\\\",\\\"scope\\\":\\\"13257527843932597223\\\",\\\"id\\\":\\\"ob_64\\\",\\\"type\\\":\\\"observable\\\"},val)) : undefined; return this.valueFromJulia[\\\"index\\\"]=false}),self)]\\n        \\n    }\\n    self.model = new AppViewModel();\\n    self.valueFromJulia = {};\\n    for (var key in json_data) {\\n        self.valueFromJulia[key] = false;\\n    }\\n    ko.applyBindings(self.model, self.dom);\\n}\\n);\\n    (WebIO.importBlock({\\\"data\\\":[{\\\"name\\\":\\\"knockout\\\",\\\"type\\\":\\\"js\\\",\\\"url\\\":\\\"/assetserver/3f712825d914ad7ceb56bfee8c26f86f12ffa94d-knockout.js\\\"},{\\\"name\\\":\\\"knockout_punches\\\",\\\"type\\\":\\\"js\\\",\\\"url\\\":\\\"/assetserver/bb1b62fcbdf49c4be6ac0dad8b532b184373033e-knockout_punches.js\\\"}],\\\"type\\\":\\\"async_block\\\"})).then((imports) => handler.apply(this, imports));\\n}\\n\")])], Dict{Symbol,Any}(:className => \"field interact-widget\")), Observable{Any} with 0 listeners. Value:\n",
       "Node{WebIO.DOM}(WebIO.DOM(:html, :div), Any[Plot{Plots.GRBackend() n=2}], Dict{Symbol,Any}(:className => \"interact-flex-row interact-widget\"))], Dict{Symbol,Any}())"
      ]
     },
     "execution_count": 34,
     "metadata": {
      "application/vnd.webio.node+json": {
       "kernelId": "2be5efad-22e3-4a66-820d-f0a37a0d9375"
      }
     },
     "output_type": "execute_result"
    }
   ],
   "source": [
    "# Compute polynomial fit\n",
    "@manipulate for d in 1:9, η in 0:50 # degree of fit\n",
    "    t, b = gen_data(p, m, η)\n",
    "    pp = polyfit(t, b, d)\n",
    "    scatter(t, b, xlim=xlim, ylim=(-100,60))\n",
    "    plot!( t->pp(t), xlim... )\n",
    "end"
   ]
  },
  {
   "cell_type": "markdown",
   "metadata": {},
   "source": [
    "Let's now do this manually, by creating the data for the least-square problem."
   ]
  },
  {
   "cell_type": "code",
   "execution_count": 39,
   "metadata": {},
   "outputs": [
    {
     "data": {
      "image/svg+xml": [
       "<?xml version=\"1.0\" encoding=\"utf-8\"?>\n",
       "<svg xmlns=\"http://www.w3.org/2000/svg\" xmlns:xlink=\"http://www.w3.org/1999/xlink\" width=\"600\" height=\"400\" viewBox=\"0 0 2400 1600\">\n",
       "<defs>\n",
       "  <clipPath id=\"clip2300\">\n",
       "    <rect x=\"0\" y=\"0\" width=\"2400\" height=\"1600\"/>\n",
       "  </clipPath>\n",
       "</defs>\n",
       "<path clip-path=\"url(#clip2300)\" d=\"\n",
       "M0 1600 L2400 1600 L2400 0 L0 0  Z\n",
       "  \" fill=\"#ffffff\" fill-rule=\"evenodd\" fill-opacity=\"1\"/>\n",
       "<defs>\n",
       "  <clipPath id=\"clip2301\">\n",
       "    <rect x=\"480\" y=\"0\" width=\"1681\" height=\"1600\"/>\n",
       "  </clipPath>\n",
       "</defs>\n",
       "<path clip-path=\"url(#clip2300)\" d=\"\n",
       "M195.389 1487.47 L2352.76 1487.47 L2352.76 47.2441 L195.389 47.2441  Z\n",
       "  \" fill=\"#ffffff\" fill-rule=\"evenodd\" fill-opacity=\"1\"/>\n",
       "<defs>\n",
       "  <clipPath id=\"clip2302\">\n",
       "    <rect x=\"195\" y=\"47\" width=\"2158\" height=\"1441\"/>\n",
       "  </clipPath>\n",
       "</defs>\n",
       "<polyline clip-path=\"url(#clip2302)\" style=\"stroke:#000000; stroke-width:2; stroke-opacity:0.1; fill:none\" points=\"\n",
       "  225.353,1487.47 225.353,47.2441 \n",
       "  \"/>\n",
       "<polyline clip-path=\"url(#clip2302)\" style=\"stroke:#000000; stroke-width:2; stroke-opacity:0.1; fill:none\" points=\"\n",
       "  824.621,1487.47 824.621,47.2441 \n",
       "  \"/>\n",
       "<polyline clip-path=\"url(#clip2302)\" style=\"stroke:#000000; stroke-width:2; stroke-opacity:0.1; fill:none\" points=\"\n",
       "  1423.89,1487.47 1423.89,47.2441 \n",
       "  \"/>\n",
       "<polyline clip-path=\"url(#clip2302)\" style=\"stroke:#000000; stroke-width:2; stroke-opacity:0.1; fill:none\" points=\"\n",
       "  2023.16,1487.47 2023.16,47.2441 \n",
       "  \"/>\n",
       "<polyline clip-path=\"url(#clip2302)\" style=\"stroke:#000000; stroke-width:2; stroke-opacity:0.1; fill:none\" points=\"\n",
       "  195.389,1487.47 2352.76,1487.47 \n",
       "  \"/>\n",
       "<polyline clip-path=\"url(#clip2302)\" style=\"stroke:#000000; stroke-width:2; stroke-opacity:0.1; fill:none\" points=\"\n",
       "  195.389,1037.4 2352.76,1037.4 \n",
       "  \"/>\n",
       "<polyline clip-path=\"url(#clip2302)\" style=\"stroke:#000000; stroke-width:2; stroke-opacity:0.1; fill:none\" points=\"\n",
       "  195.389,587.331 2352.76,587.331 \n",
       "  \"/>\n",
       "<polyline clip-path=\"url(#clip2302)\" style=\"stroke:#000000; stroke-width:2; stroke-opacity:0.1; fill:none\" points=\"\n",
       "  195.389,137.259 2352.76,137.259 \n",
       "  \"/>\n",
       "<polyline clip-path=\"url(#clip2300)\" style=\"stroke:#000000; stroke-width:4; stroke-opacity:1; fill:none\" points=\"\n",
       "  195.389,1487.47 2352.76,1487.47 \n",
       "  \"/>\n",
       "<polyline clip-path=\"url(#clip2300)\" style=\"stroke:#000000; stroke-width:4; stroke-opacity:1; fill:none\" points=\"\n",
       "  195.389,1487.47 195.389,47.2441 \n",
       "  \"/>\n",
       "<polyline clip-path=\"url(#clip2300)\" style=\"stroke:#000000; stroke-width:4; stroke-opacity:1; fill:none\" points=\"\n",
       "  225.353,1487.47 225.353,1470.19 \n",
       "  \"/>\n",
       "<polyline clip-path=\"url(#clip2300)\" style=\"stroke:#000000; stroke-width:4; stroke-opacity:1; fill:none\" points=\"\n",
       "  824.621,1487.47 824.621,1470.19 \n",
       "  \"/>\n",
       "<polyline clip-path=\"url(#clip2300)\" style=\"stroke:#000000; stroke-width:4; stroke-opacity:1; fill:none\" points=\"\n",
       "  1423.89,1487.47 1423.89,1470.19 \n",
       "  \"/>\n",
       "<polyline clip-path=\"url(#clip2300)\" style=\"stroke:#000000; stroke-width:4; stroke-opacity:1; fill:none\" points=\"\n",
       "  2023.16,1487.47 2023.16,1470.19 \n",
       "  \"/>\n",
       "<polyline clip-path=\"url(#clip2300)\" style=\"stroke:#000000; stroke-width:4; stroke-opacity:1; fill:none\" points=\"\n",
       "  195.389,1487.47 221.278,1487.47 \n",
       "  \"/>\n",
       "<polyline clip-path=\"url(#clip2300)\" style=\"stroke:#000000; stroke-width:4; stroke-opacity:1; fill:none\" points=\"\n",
       "  195.389,1037.4 221.278,1037.4 \n",
       "  \"/>\n",
       "<polyline clip-path=\"url(#clip2300)\" style=\"stroke:#000000; stroke-width:4; stroke-opacity:1; fill:none\" points=\"\n",
       "  195.389,587.331 221.278,587.331 \n",
       "  \"/>\n",
       "<polyline clip-path=\"url(#clip2300)\" style=\"stroke:#000000; stroke-width:4; stroke-opacity:1; fill:none\" points=\"\n",
       "  195.389,137.259 221.278,137.259 \n",
       "  \"/>\n",
       "<g clip-path=\"url(#clip2300)\">\n",
       "<text style=\"fill:#000000; fill-opacity:1; font-family:Arial,Helvetica Neue,Helvetica,sans-serif; font-size:48px; text-anchor:middle;\" transform=\"rotate(0, 225.353, 1541.47)\" x=\"225.353\" y=\"1541.47\">-4</text>\n",
       "</g>\n",
       "<g clip-path=\"url(#clip2300)\">\n",
       "<text style=\"fill:#000000; fill-opacity:1; font-family:Arial,Helvetica Neue,Helvetica,sans-serif; font-size:48px; text-anchor:middle;\" transform=\"rotate(0, 824.621, 1541.47)\" x=\"824.621\" y=\"1541.47\">-2</text>\n",
       "</g>\n",
       "<g clip-path=\"url(#clip2300)\">\n",
       "<text style=\"fill:#000000; fill-opacity:1; font-family:Arial,Helvetica Neue,Helvetica,sans-serif; font-size:48px; text-anchor:middle;\" transform=\"rotate(0, 1423.89, 1541.47)\" x=\"1423.89\" y=\"1541.47\">0</text>\n",
       "</g>\n",
       "<g clip-path=\"url(#clip2300)\">\n",
       "<text style=\"fill:#000000; fill-opacity:1; font-family:Arial,Helvetica Neue,Helvetica,sans-serif; font-size:48px; text-anchor:middle;\" transform=\"rotate(0, 2023.16, 1541.47)\" x=\"2023.16\" y=\"1541.47\">2</text>\n",
       "</g>\n",
       "<g clip-path=\"url(#clip2300)\">\n",
       "<text style=\"fill:#000000; fill-opacity:1; font-family:Arial,Helvetica Neue,Helvetica,sans-serif; font-size:48px; text-anchor:end;\" transform=\"rotate(0, 171.389, 1504.97)\" x=\"171.389\" y=\"1504.97\">-100</text>\n",
       "</g>\n",
       "<g clip-path=\"url(#clip2300)\">\n",
       "<text style=\"fill:#000000; fill-opacity:1; font-family:Arial,Helvetica Neue,Helvetica,sans-serif; font-size:48px; text-anchor:end;\" transform=\"rotate(0, 171.389, 1054.9)\" x=\"171.389\" y=\"1054.9\">-50</text>\n",
       "</g>\n",
       "<g clip-path=\"url(#clip2300)\">\n",
       "<text style=\"fill:#000000; fill-opacity:1; font-family:Arial,Helvetica Neue,Helvetica,sans-serif; font-size:48px; text-anchor:end;\" transform=\"rotate(0, 171.389, 604.831)\" x=\"171.389\" y=\"604.831\">0</text>\n",
       "</g>\n",
       "<g clip-path=\"url(#clip2300)\">\n",
       "<text style=\"fill:#000000; fill-opacity:1; font-family:Arial,Helvetica Neue,Helvetica,sans-serif; font-size:48px; text-anchor:end;\" transform=\"rotate(0, 171.389, 154.759)\" x=\"171.389\" y=\"154.759\">50</text>\n",
       "</g>\n",
       "<circle clip-path=\"url(#clip2302)\" style=\"fill:#000000; stroke:none; fill-opacity:1\" cx=\"1627.37\" cy=\"457.735\" r=\"18\"/>\n",
       "<circle clip-path=\"url(#clip2302)\" style=\"fill:#009af9; stroke:none; fill-opacity:1\" cx=\"1627.37\" cy=\"457.735\" r=\"14\"/>\n",
       "<circle clip-path=\"url(#clip2302)\" style=\"fill:#000000; stroke:none; fill-opacity:1\" cx=\"1672.11\" cy=\"500.94\" r=\"18\"/>\n",
       "<circle clip-path=\"url(#clip2302)\" style=\"fill:#009af9; stroke:none; fill-opacity:1\" cx=\"1672.11\" cy=\"500.94\" r=\"14\"/>\n",
       "<circle clip-path=\"url(#clip2302)\" style=\"fill:#000000; stroke:none; fill-opacity:1\" cx=\"1318.12\" cy=\"426.259\" r=\"18\"/>\n",
       "<circle clip-path=\"url(#clip2302)\" style=\"fill:#009af9; stroke:none; fill-opacity:1\" cx=\"1318.12\" cy=\"426.259\" r=\"14\"/>\n",
       "<circle clip-path=\"url(#clip2302)\" style=\"fill:#000000; stroke:none; fill-opacity:1\" cx=\"1383.48\" cy=\"389.738\" r=\"18\"/>\n",
       "<circle clip-path=\"url(#clip2302)\" style=\"fill:#009af9; stroke:none; fill-opacity:1\" cx=\"1383.48\" cy=\"389.738\" r=\"14\"/>\n",
       "<circle clip-path=\"url(#clip2302)\" style=\"fill:#000000; stroke:none; fill-opacity:1\" cx=\"1599.66\" cy=\"438.003\" r=\"18\"/>\n",
       "<circle clip-path=\"url(#clip2302)\" style=\"fill:#009af9; stroke:none; fill-opacity:1\" cx=\"1599.66\" cy=\"438.003\" r=\"14\"/>\n",
       "<circle clip-path=\"url(#clip2302)\" style=\"fill:#000000; stroke:none; fill-opacity:1\" cx=\"1512.98\" cy=\"357.697\" r=\"18\"/>\n",
       "<circle clip-path=\"url(#clip2302)\" style=\"fill:#009af9; stroke:none; fill-opacity:1\" cx=\"1512.98\" cy=\"357.697\" r=\"14\"/>\n",
       "<circle clip-path=\"url(#clip2302)\" style=\"fill:#000000; stroke:none; fill-opacity:1\" cx=\"1443.35\" cy=\"383.342\" r=\"18\"/>\n",
       "<circle clip-path=\"url(#clip2302)\" style=\"fill:#009af9; stroke:none; fill-opacity:1\" cx=\"1443.35\" cy=\"383.342\" r=\"14\"/>\n",
       "<circle clip-path=\"url(#clip2302)\" style=\"fill:#000000; stroke:none; fill-opacity:1\" cx=\"1391.22\" cy=\"366.512\" r=\"18\"/>\n",
       "<circle clip-path=\"url(#clip2302)\" style=\"fill:#009af9; stroke:none; fill-opacity:1\" cx=\"1391.22\" cy=\"366.512\" r=\"14\"/>\n",
       "<circle clip-path=\"url(#clip2302)\" style=\"fill:#000000; stroke:none; fill-opacity:1\" cx=\"1269.81\" cy=\"486.337\" r=\"18\"/>\n",
       "<circle clip-path=\"url(#clip2302)\" style=\"fill:#009af9; stroke:none; fill-opacity:1\" cx=\"1269.81\" cy=\"486.337\" r=\"14\"/>\n",
       "<circle clip-path=\"url(#clip2302)\" style=\"fill:#000000; stroke:none; fill-opacity:1\" cx=\"1895.61\" cy=\"956.378\" r=\"18\"/>\n",
       "<circle clip-path=\"url(#clip2302)\" style=\"fill:#009af9; stroke:none; fill-opacity:1\" cx=\"1895.61\" cy=\"956.378\" r=\"14\"/>\n",
       "<circle clip-path=\"url(#clip2302)\" style=\"fill:#000000; stroke:none; fill-opacity:1\" cx=\"1217.47\" cy=\"516.794\" r=\"18\"/>\n",
       "<circle clip-path=\"url(#clip2302)\" style=\"fill:#009af9; stroke:none; fill-opacity:1\" cx=\"1217.47\" cy=\"516.794\" r=\"14\"/>\n",
       "<circle clip-path=\"url(#clip2302)\" style=\"fill:#000000; stroke:none; fill-opacity:1\" cx=\"1195.33\" cy=\"513.986\" r=\"18\"/>\n",
       "<circle clip-path=\"url(#clip2302)\" style=\"fill:#009af9; stroke:none; fill-opacity:1\" cx=\"1195.33\" cy=\"513.986\" r=\"14\"/>\n",
       "<circle clip-path=\"url(#clip2302)\" style=\"fill:#000000; stroke:none; fill-opacity:1\" cx=\"1542.99\" cy=\"399.416\" r=\"18\"/>\n",
       "<circle clip-path=\"url(#clip2302)\" style=\"fill:#009af9; stroke:none; fill-opacity:1\" cx=\"1542.99\" cy=\"399.416\" r=\"14\"/>\n",
       "<circle clip-path=\"url(#clip2302)\" style=\"fill:#000000; stroke:none; fill-opacity:1\" cx=\"1667.08\" cy=\"484.919\" r=\"18\"/>\n",
       "<circle clip-path=\"url(#clip2302)\" style=\"fill:#009af9; stroke:none; fill-opacity:1\" cx=\"1667.08\" cy=\"484.919\" r=\"14\"/>\n",
       "<circle clip-path=\"url(#clip2302)\" style=\"fill:#000000; stroke:none; fill-opacity:1\" cx=\"1320.11\" cy=\"427.136\" r=\"18\"/>\n",
       "<circle clip-path=\"url(#clip2302)\" style=\"fill:#009af9; stroke:none; fill-opacity:1\" cx=\"1320.11\" cy=\"427.136\" r=\"14\"/>\n",
       "<circle clip-path=\"url(#clip2302)\" style=\"fill:#000000; stroke:none; fill-opacity:1\" cx=\"1367.69\" cy=\"404.109\" r=\"18\"/>\n",
       "<circle clip-path=\"url(#clip2302)\" style=\"fill:#009af9; stroke:none; fill-opacity:1\" cx=\"1367.69\" cy=\"404.109\" r=\"14\"/>\n",
       "<circle clip-path=\"url(#clip2302)\" style=\"fill:#000000; stroke:none; fill-opacity:1\" cx=\"942.301\" cy=\"666.844\" r=\"18\"/>\n",
       "<circle clip-path=\"url(#clip2302)\" style=\"fill:#009af9; stroke:none; fill-opacity:1\" cx=\"942.301\" cy=\"666.844\" r=\"14\"/>\n",
       "<circle clip-path=\"url(#clip2302)\" style=\"fill:#000000; stroke:none; fill-opacity:1\" cx=\"680.559\" cy=\"415.8\" r=\"18\"/>\n",
       "<circle clip-path=\"url(#clip2302)\" style=\"fill:#009af9; stroke:none; fill-opacity:1\" cx=\"680.559\" cy=\"415.8\" r=\"14\"/>\n",
       "<circle clip-path=\"url(#clip2302)\" style=\"fill:#000000; stroke:none; fill-opacity:1\" cx=\"2105.93\" cy=\"1326.74\" r=\"18\"/>\n",
       "<circle clip-path=\"url(#clip2302)\" style=\"fill:#009af9; stroke:none; fill-opacity:1\" cx=\"2105.93\" cy=\"1326.74\" r=\"14\"/>\n",
       "<circle clip-path=\"url(#clip2302)\" style=\"fill:#000000; stroke:none; fill-opacity:1\" cx=\"1489.72\" cy=\"361.683\" r=\"18\"/>\n",
       "<circle clip-path=\"url(#clip2302)\" style=\"fill:#009af9; stroke:none; fill-opacity:1\" cx=\"1489.72\" cy=\"361.683\" r=\"14\"/>\n",
       "<circle clip-path=\"url(#clip2302)\" style=\"fill:#000000; stroke:none; fill-opacity:1\" cx=\"1388.79\" cy=\"412.687\" r=\"18\"/>\n",
       "<circle clip-path=\"url(#clip2302)\" style=\"fill:#009af9; stroke:none; fill-opacity:1\" cx=\"1388.79\" cy=\"412.687\" r=\"14\"/>\n",
       "<circle clip-path=\"url(#clip2302)\" style=\"fill:#000000; stroke:none; fill-opacity:1\" cx=\"1243.73\" cy=\"516.751\" r=\"18\"/>\n",
       "<circle clip-path=\"url(#clip2302)\" style=\"fill:#009af9; stroke:none; fill-opacity:1\" cx=\"1243.73\" cy=\"516.751\" r=\"14\"/>\n",
       "<circle clip-path=\"url(#clip2302)\" style=\"fill:#000000; stroke:none; fill-opacity:1\" cx=\"1766.15\" cy=\"675.268\" r=\"18\"/>\n",
       "<circle clip-path=\"url(#clip2302)\" style=\"fill:#009af9; stroke:none; fill-opacity:1\" cx=\"1766.15\" cy=\"675.268\" r=\"14\"/>\n",
       "<circle clip-path=\"url(#clip2302)\" style=\"fill:#000000; stroke:none; fill-opacity:1\" cx=\"1397.34\" cy=\"380.042\" r=\"18\"/>\n",
       "<circle clip-path=\"url(#clip2302)\" style=\"fill:#009af9; stroke:none; fill-opacity:1\" cx=\"1397.34\" cy=\"380.042\" r=\"14\"/>\n",
       "<circle clip-path=\"url(#clip2302)\" style=\"fill:#000000; stroke:none; fill-opacity:1\" cx=\"1507.63\" cy=\"365.104\" r=\"18\"/>\n",
       "<circle clip-path=\"url(#clip2302)\" style=\"fill:#009af9; stroke:none; fill-opacity:1\" cx=\"1507.63\" cy=\"365.104\" r=\"14\"/>\n",
       "<circle clip-path=\"url(#clip2302)\" style=\"fill:#000000; stroke:none; fill-opacity:1\" cx=\"1457.28\" cy=\"318.794\" r=\"18\"/>\n",
       "<circle clip-path=\"url(#clip2302)\" style=\"fill:#009af9; stroke:none; fill-opacity:1\" cx=\"1457.28\" cy=\"318.794\" r=\"14\"/>\n",
       "<circle clip-path=\"url(#clip2302)\" style=\"fill:#000000; stroke:none; fill-opacity:1\" cx=\"1316.66\" cy=\"441.367\" r=\"18\"/>\n",
       "<circle clip-path=\"url(#clip2302)\" style=\"fill:#009af9; stroke:none; fill-opacity:1\" cx=\"1316.66\" cy=\"441.367\" r=\"14\"/>\n",
       "<circle clip-path=\"url(#clip2302)\" style=\"fill:#000000; stroke:none; fill-opacity:1\" cx=\"1565.83\" cy=\"393.074\" r=\"18\"/>\n",
       "<circle clip-path=\"url(#clip2302)\" style=\"fill:#009af9; stroke:none; fill-opacity:1\" cx=\"1565.83\" cy=\"393.074\" r=\"14\"/>\n",
       "<circle clip-path=\"url(#clip2302)\" style=\"fill:#000000; stroke:none; fill-opacity:1\" cx=\"1513.85\" cy=\"361.477\" r=\"18\"/>\n",
       "<circle clip-path=\"url(#clip2302)\" style=\"fill:#009af9; stroke:none; fill-opacity:1\" cx=\"1513.85\" cy=\"361.477\" r=\"14\"/>\n",
       "<circle clip-path=\"url(#clip2302)\" style=\"fill:#000000; stroke:none; fill-opacity:1\" cx=\"1195.37\" cy=\"554.711\" r=\"18\"/>\n",
       "<circle clip-path=\"url(#clip2302)\" style=\"fill:#009af9; stroke:none; fill-opacity:1\" cx=\"1195.37\" cy=\"554.711\" r=\"14\"/>\n",
       "<circle clip-path=\"url(#clip2302)\" style=\"fill:#000000; stroke:none; fill-opacity:1\" cx=\"1850.28\" cy=\"865.02\" r=\"18\"/>\n",
       "<circle clip-path=\"url(#clip2302)\" style=\"fill:#009af9; stroke:none; fill-opacity:1\" cx=\"1850.28\" cy=\"865.02\" r=\"14\"/>\n",
       "<circle clip-path=\"url(#clip2302)\" style=\"fill:#000000; stroke:none; fill-opacity:1\" cx=\"1546.26\" cy=\"395.821\" r=\"18\"/>\n",
       "<circle clip-path=\"url(#clip2302)\" style=\"fill:#009af9; stroke:none; fill-opacity:1\" cx=\"1546.26\" cy=\"395.821\" r=\"14\"/>\n",
       "<circle clip-path=\"url(#clip2302)\" style=\"fill:#000000; stroke:none; fill-opacity:1\" cx=\"1600.26\" cy=\"400.667\" r=\"18\"/>\n",
       "<circle clip-path=\"url(#clip2302)\" style=\"fill:#009af9; stroke:none; fill-opacity:1\" cx=\"1600.26\" cy=\"400.667\" r=\"14\"/>\n",
       "<circle clip-path=\"url(#clip2302)\" style=\"fill:#000000; stroke:none; fill-opacity:1\" cx=\"1335.11\" cy=\"417.573\" r=\"18\"/>\n",
       "<circle clip-path=\"url(#clip2302)\" style=\"fill:#009af9; stroke:none; fill-opacity:1\" cx=\"1335.11\" cy=\"417.573\" r=\"14\"/>\n",
       "<circle clip-path=\"url(#clip2302)\" style=\"fill:#000000; stroke:none; fill-opacity:1\" cx=\"1630.97\" cy=\"472.672\" r=\"18\"/>\n",
       "<circle clip-path=\"url(#clip2302)\" style=\"fill:#009af9; stroke:none; fill-opacity:1\" cx=\"1630.97\" cy=\"472.672\" r=\"14\"/>\n",
       "<circle clip-path=\"url(#clip2302)\" style=\"fill:#000000; stroke:none; fill-opacity:1\" cx=\"1575.77\" cy=\"415.096\" r=\"18\"/>\n",
       "<circle clip-path=\"url(#clip2302)\" style=\"fill:#009af9; stroke:none; fill-opacity:1\" cx=\"1575.77\" cy=\"415.096\" r=\"14\"/>\n",
       "<circle clip-path=\"url(#clip2302)\" style=\"fill:#000000; stroke:none; fill-opacity:1\" cx=\"1406.83\" cy=\"373.564\" r=\"18\"/>\n",
       "<circle clip-path=\"url(#clip2302)\" style=\"fill:#009af9; stroke:none; fill-opacity:1\" cx=\"1406.83\" cy=\"373.564\" r=\"14\"/>\n",
       "<circle clip-path=\"url(#clip2302)\" style=\"fill:#000000; stroke:none; fill-opacity:1\" cx=\"893.23\" cy=\"637.207\" r=\"18\"/>\n",
       "<circle clip-path=\"url(#clip2302)\" style=\"fill:#009af9; stroke:none; fill-opacity:1\" cx=\"893.23\" cy=\"637.207\" r=\"14\"/>\n",
       "<circle clip-path=\"url(#clip2302)\" style=\"fill:#000000; stroke:none; fill-opacity:1\" cx=\"1900.49\" cy=\"1011.76\" r=\"18\"/>\n",
       "<circle clip-path=\"url(#clip2302)\" style=\"fill:#009af9; stroke:none; fill-opacity:1\" cx=\"1900.49\" cy=\"1011.76\" r=\"14\"/>\n",
       "<circle clip-path=\"url(#clip2302)\" style=\"fill:#000000; stroke:none; fill-opacity:1\" cx=\"1842.5\" cy=\"834.95\" r=\"18\"/>\n",
       "<circle clip-path=\"url(#clip2302)\" style=\"fill:#009af9; stroke:none; fill-opacity:1\" cx=\"1842.5\" cy=\"834.95\" r=\"14\"/>\n",
       "<circle clip-path=\"url(#clip2302)\" style=\"fill:#000000; stroke:none; fill-opacity:1\" cx=\"1568.18\" cy=\"364.39\" r=\"18\"/>\n",
       "<circle clip-path=\"url(#clip2302)\" style=\"fill:#009af9; stroke:none; fill-opacity:1\" cx=\"1568.18\" cy=\"364.39\" r=\"14\"/>\n",
       "<circle clip-path=\"url(#clip2302)\" style=\"fill:#000000; stroke:none; fill-opacity:1\" cx=\"1327.42\" cy=\"364.632\" r=\"18\"/>\n",
       "<circle clip-path=\"url(#clip2302)\" style=\"fill:#009af9; stroke:none; fill-opacity:1\" cx=\"1327.42\" cy=\"364.632\" r=\"14\"/>\n",
       "<circle clip-path=\"url(#clip2302)\" style=\"fill:#000000; stroke:none; fill-opacity:1\" cx=\"1497.7\" cy=\"354.5\" r=\"18\"/>\n",
       "<circle clip-path=\"url(#clip2302)\" style=\"fill:#009af9; stroke:none; fill-opacity:1\" cx=\"1497.7\" cy=\"354.5\" r=\"14\"/>\n",
       "<circle clip-path=\"url(#clip2302)\" style=\"fill:#000000; stroke:none; fill-opacity:1\" cx=\"1370.32\" cy=\"372.512\" r=\"18\"/>\n",
       "<circle clip-path=\"url(#clip2302)\" style=\"fill:#009af9; stroke:none; fill-opacity:1\" cx=\"1370.32\" cy=\"372.512\" r=\"14\"/>\n",
       "<circle clip-path=\"url(#clip2302)\" style=\"fill:#000000; stroke:none; fill-opacity:1\" cx=\"981.066\" cy=\"647.694\" r=\"18\"/>\n",
       "<circle clip-path=\"url(#clip2302)\" style=\"fill:#009af9; stroke:none; fill-opacity:1\" cx=\"981.066\" cy=\"647.694\" r=\"14\"/>\n",
       "<circle clip-path=\"url(#clip2302)\" style=\"fill:#000000; stroke:none; fill-opacity:1\" cx=\"1368.33\" cy=\"388.88\" r=\"18\"/>\n",
       "<circle clip-path=\"url(#clip2302)\" style=\"fill:#009af9; stroke:none; fill-opacity:1\" cx=\"1368.33\" cy=\"388.88\" r=\"14\"/>\n",
       "<circle clip-path=\"url(#clip2302)\" style=\"fill:#000000; stroke:none; fill-opacity:1\" cx=\"1804.34\" cy=\"732.364\" r=\"18\"/>\n",
       "<circle clip-path=\"url(#clip2302)\" style=\"fill:#009af9; stroke:none; fill-opacity:1\" cx=\"1804.34\" cy=\"732.364\" r=\"14\"/>\n",
       "<circle clip-path=\"url(#clip2302)\" style=\"fill:#000000; stroke:none; fill-opacity:1\" cx=\"1375.2\" cy=\"412.177\" r=\"18\"/>\n",
       "<circle clip-path=\"url(#clip2302)\" style=\"fill:#009af9; stroke:none; fill-opacity:1\" cx=\"1375.2\" cy=\"412.177\" r=\"14\"/>\n",
       "<circle clip-path=\"url(#clip2302)\" style=\"fill:#000000; stroke:none; fill-opacity:1\" cx=\"1403.76\" cy=\"384.745\" r=\"18\"/>\n",
       "<circle clip-path=\"url(#clip2302)\" style=\"fill:#009af9; stroke:none; fill-opacity:1\" cx=\"1403.76\" cy=\"384.745\" r=\"14\"/>\n",
       "<circle clip-path=\"url(#clip2302)\" style=\"fill:#000000; stroke:none; fill-opacity:1\" cx=\"1596.86\" cy=\"421.929\" r=\"18\"/>\n",
       "<circle clip-path=\"url(#clip2302)\" style=\"fill:#009af9; stroke:none; fill-opacity:1\" cx=\"1596.86\" cy=\"421.929\" r=\"14\"/>\n",
       "<circle clip-path=\"url(#clip2302)\" style=\"fill:#000000; stroke:none; fill-opacity:1\" cx=\"1690.96\" cy=\"548.669\" r=\"18\"/>\n",
       "<circle clip-path=\"url(#clip2302)\" style=\"fill:#009af9; stroke:none; fill-opacity:1\" cx=\"1690.96\" cy=\"548.669\" r=\"14\"/>\n",
       "<circle clip-path=\"url(#clip2302)\" style=\"fill:#000000; stroke:none; fill-opacity:1\" cx=\"736.382\" cy=\"498.069\" r=\"18\"/>\n",
       "<circle clip-path=\"url(#clip2302)\" style=\"fill:#009af9; stroke:none; fill-opacity:1\" cx=\"736.382\" cy=\"498.069\" r=\"14\"/>\n",
       "<circle clip-path=\"url(#clip2302)\" style=\"fill:#000000; stroke:none; fill-opacity:1\" cx=\"1072.41\" cy=\"603.104\" r=\"18\"/>\n",
       "<circle clip-path=\"url(#clip2302)\" style=\"fill:#009af9; stroke:none; fill-opacity:1\" cx=\"1072.41\" cy=\"603.104\" r=\"14\"/>\n",
       "<circle clip-path=\"url(#clip2302)\" style=\"fill:#000000; stroke:none; fill-opacity:1\" cx=\"1160.24\" cy=\"573.812\" r=\"18\"/>\n",
       "<circle clip-path=\"url(#clip2302)\" style=\"fill:#009af9; stroke:none; fill-opacity:1\" cx=\"1160.24\" cy=\"573.812\" r=\"14\"/>\n",
       "<circle clip-path=\"url(#clip2302)\" style=\"fill:#000000; stroke:none; fill-opacity:1\" cx=\"1275.86\" cy=\"486.135\" r=\"18\"/>\n",
       "<circle clip-path=\"url(#clip2302)\" style=\"fill:#009af9; stroke:none; fill-opacity:1\" cx=\"1275.86\" cy=\"486.135\" r=\"14\"/>\n",
       "<circle clip-path=\"url(#clip2302)\" style=\"fill:#000000; stroke:none; fill-opacity:1\" cx=\"1577.29\" cy=\"422.18\" r=\"18\"/>\n",
       "<circle clip-path=\"url(#clip2302)\" style=\"fill:#009af9; stroke:none; fill-opacity:1\" cx=\"1577.29\" cy=\"422.18\" r=\"14\"/>\n",
       "<circle clip-path=\"url(#clip2302)\" style=\"fill:#000000; stroke:none; fill-opacity:1\" cx=\"1196.56\" cy=\"527.106\" r=\"18\"/>\n",
       "<circle clip-path=\"url(#clip2302)\" style=\"fill:#009af9; stroke:none; fill-opacity:1\" cx=\"1196.56\" cy=\"527.106\" r=\"14\"/>\n",
       "<circle clip-path=\"url(#clip2302)\" style=\"fill:#000000; stroke:none; fill-opacity:1\" cx=\"1193.78\" cy=\"509.78\" r=\"18\"/>\n",
       "<circle clip-path=\"url(#clip2302)\" style=\"fill:#009af9; stroke:none; fill-opacity:1\" cx=\"1193.78\" cy=\"509.78\" r=\"14\"/>\n",
       "<circle clip-path=\"url(#clip2302)\" style=\"fill:#000000; stroke:none; fill-opacity:1\" cx=\"1414.81\" cy=\"398.49\" r=\"18\"/>\n",
       "<circle clip-path=\"url(#clip2302)\" style=\"fill:#009af9; stroke:none; fill-opacity:1\" cx=\"1414.81\" cy=\"398.49\" r=\"14\"/>\n",
       "<circle clip-path=\"url(#clip2302)\" style=\"fill:#000000; stroke:none; fill-opacity:1\" cx=\"1028.6\" cy=\"651.416\" r=\"18\"/>\n",
       "<circle clip-path=\"url(#clip2302)\" style=\"fill:#009af9; stroke:none; fill-opacity:1\" cx=\"1028.6\" cy=\"651.416\" r=\"14\"/>\n",
       "<circle clip-path=\"url(#clip2302)\" style=\"fill:#000000; stroke:none; fill-opacity:1\" cx=\"1279.28\" cy=\"469.344\" r=\"18\"/>\n",
       "<circle clip-path=\"url(#clip2302)\" style=\"fill:#009af9; stroke:none; fill-opacity:1\" cx=\"1279.28\" cy=\"469.344\" r=\"14\"/>\n",
       "<circle clip-path=\"url(#clip2302)\" style=\"fill:#000000; stroke:none; fill-opacity:1\" cx=\"1077.05\" cy=\"590.722\" r=\"18\"/>\n",
       "<circle clip-path=\"url(#clip2302)\" style=\"fill:#009af9; stroke:none; fill-opacity:1\" cx=\"1077.05\" cy=\"590.722\" r=\"14\"/>\n",
       "<circle clip-path=\"url(#clip2302)\" style=\"fill:#000000; stroke:none; fill-opacity:1\" cx=\"1359.72\" cy=\"407.448\" r=\"18\"/>\n",
       "<circle clip-path=\"url(#clip2302)\" style=\"fill:#009af9; stroke:none; fill-opacity:1\" cx=\"1359.72\" cy=\"407.448\" r=\"14\"/>\n",
       "<circle clip-path=\"url(#clip2302)\" style=\"fill:#000000; stroke:none; fill-opacity:1\" cx=\"1012.81\" cy=\"648.438\" r=\"18\"/>\n",
       "<circle clip-path=\"url(#clip2302)\" style=\"fill:#009af9; stroke:none; fill-opacity:1\" cx=\"1012.81\" cy=\"648.438\" r=\"14\"/>\n",
       "<circle clip-path=\"url(#clip2302)\" style=\"fill:#000000; stroke:none; fill-opacity:1\" cx=\"963.035\" cy=\"665.402\" r=\"18\"/>\n",
       "<circle clip-path=\"url(#clip2302)\" style=\"fill:#009af9; stroke:none; fill-opacity:1\" cx=\"963.035\" cy=\"665.402\" r=\"14\"/>\n",
       "<circle clip-path=\"url(#clip2302)\" style=\"fill:#000000; stroke:none; fill-opacity:1\" cx=\"1056.11\" cy=\"617.887\" r=\"18\"/>\n",
       "<circle clip-path=\"url(#clip2302)\" style=\"fill:#009af9; stroke:none; fill-opacity:1\" cx=\"1056.11\" cy=\"617.887\" r=\"14\"/>\n",
       "<circle clip-path=\"url(#clip2302)\" style=\"fill:#000000; stroke:none; fill-opacity:1\" cx=\"837.063\" cy=\"605.612\" r=\"18\"/>\n",
       "<circle clip-path=\"url(#clip2302)\" style=\"fill:#009af9; stroke:none; fill-opacity:1\" cx=\"837.063\" cy=\"605.612\" r=\"14\"/>\n",
       "<circle clip-path=\"url(#clip2302)\" style=\"fill:#000000; stroke:none; fill-opacity:1\" cx=\"1282.12\" cy=\"450.55\" r=\"18\"/>\n",
       "<circle clip-path=\"url(#clip2302)\" style=\"fill:#009af9; stroke:none; fill-opacity:1\" cx=\"1282.12\" cy=\"450.55\" r=\"14\"/>\n",
       "<circle clip-path=\"url(#clip2302)\" style=\"fill:#000000; stroke:none; fill-opacity:1\" cx=\"1825.03\" cy=\"816.1\" r=\"18\"/>\n",
       "<circle clip-path=\"url(#clip2302)\" style=\"fill:#009af9; stroke:none; fill-opacity:1\" cx=\"1825.03\" cy=\"816.1\" r=\"14\"/>\n",
       "<circle clip-path=\"url(#clip2302)\" style=\"fill:#000000; stroke:none; fill-opacity:1\" cx=\"1665.94\" cy=\"523.1\" r=\"18\"/>\n",
       "<circle clip-path=\"url(#clip2302)\" style=\"fill:#009af9; stroke:none; fill-opacity:1\" cx=\"1665.94\" cy=\"523.1\" r=\"14\"/>\n",
       "<circle clip-path=\"url(#clip2302)\" style=\"fill:#000000; stroke:none; fill-opacity:1\" cx=\"1109\" cy=\"597.742\" r=\"18\"/>\n",
       "<circle clip-path=\"url(#clip2302)\" style=\"fill:#009af9; stroke:none; fill-opacity:1\" cx=\"1109\" cy=\"597.742\" r=\"14\"/>\n",
       "<circle clip-path=\"url(#clip2302)\" style=\"fill:#000000; stroke:none; fill-opacity:1\" cx=\"1668.44\" cy=\"506.995\" r=\"18\"/>\n",
       "<circle clip-path=\"url(#clip2302)\" style=\"fill:#009af9; stroke:none; fill-opacity:1\" cx=\"1668.44\" cy=\"506.995\" r=\"14\"/>\n",
       "<circle clip-path=\"url(#clip2302)\" style=\"fill:#000000; stroke:none; fill-opacity:1\" cx=\"1469.58\" cy=\"360.411\" r=\"18\"/>\n",
       "<circle clip-path=\"url(#clip2302)\" style=\"fill:#009af9; stroke:none; fill-opacity:1\" cx=\"1469.58\" cy=\"360.411\" r=\"14\"/>\n",
       "<circle clip-path=\"url(#clip2302)\" style=\"fill:#000000; stroke:none; fill-opacity:1\" cx=\"1324.98\" cy=\"420.351\" r=\"18\"/>\n",
       "<circle clip-path=\"url(#clip2302)\" style=\"fill:#009af9; stroke:none; fill-opacity:1\" cx=\"1324.98\" cy=\"420.351\" r=\"14\"/>\n",
       "<circle clip-path=\"url(#clip2302)\" style=\"fill:#000000; stroke:none; fill-opacity:1\" cx=\"1856.66\" cy=\"877.837\" r=\"18\"/>\n",
       "<circle clip-path=\"url(#clip2302)\" style=\"fill:#009af9; stroke:none; fill-opacity:1\" cx=\"1856.66\" cy=\"877.837\" r=\"14\"/>\n",
       "<circle clip-path=\"url(#clip2302)\" style=\"fill:#000000; stroke:none; fill-opacity:1\" cx=\"1291.2\" cy=\"427.211\" r=\"18\"/>\n",
       "<circle clip-path=\"url(#clip2302)\" style=\"fill:#009af9; stroke:none; fill-opacity:1\" cx=\"1291.2\" cy=\"427.211\" r=\"14\"/>\n",
       "<circle clip-path=\"url(#clip2302)\" style=\"fill:#000000; stroke:none; fill-opacity:1\" cx=\"1752.55\" cy=\"641.676\" r=\"18\"/>\n",
       "<circle clip-path=\"url(#clip2302)\" style=\"fill:#009af9; stroke:none; fill-opacity:1\" cx=\"1752.55\" cy=\"641.676\" r=\"14\"/>\n",
       "<circle clip-path=\"url(#clip2302)\" style=\"fill:#000000; stroke:none; fill-opacity:1\" cx=\"1348.66\" cy=\"410.707\" r=\"18\"/>\n",
       "<circle clip-path=\"url(#clip2302)\" style=\"fill:#009af9; stroke:none; fill-opacity:1\" cx=\"1348.66\" cy=\"410.707\" r=\"14\"/>\n",
       "<circle clip-path=\"url(#clip2302)\" style=\"fill:#000000; stroke:none; fill-opacity:1\" cx=\"1511.47\" cy=\"380.749\" r=\"18\"/>\n",
       "<circle clip-path=\"url(#clip2302)\" style=\"fill:#009af9; stroke:none; fill-opacity:1\" cx=\"1511.47\" cy=\"380.749\" r=\"14\"/>\n",
       "<circle clip-path=\"url(#clip2302)\" style=\"fill:#000000; stroke:none; fill-opacity:1\" cx=\"384.948\" cy=\"96.9124\" r=\"18\"/>\n",
       "<circle clip-path=\"url(#clip2302)\" style=\"fill:#009af9; stroke:none; fill-opacity:1\" cx=\"384.948\" cy=\"96.9124\" r=\"14\"/>\n",
       "<circle clip-path=\"url(#clip2302)\" style=\"fill:#000000; stroke:none; fill-opacity:1\" cx=\"1265.55\" cy=\"461.845\" r=\"18\"/>\n",
       "<circle clip-path=\"url(#clip2302)\" style=\"fill:#009af9; stroke:none; fill-opacity:1\" cx=\"1265.55\" cy=\"461.845\" r=\"14\"/>\n",
       "<circle clip-path=\"url(#clip2302)\" style=\"fill:#000000; stroke:none; fill-opacity:1\" cx=\"1459.09\" cy=\"345.321\" r=\"18\"/>\n",
       "<circle clip-path=\"url(#clip2302)\" style=\"fill:#009af9; stroke:none; fill-opacity:1\" cx=\"1459.09\" cy=\"345.321\" r=\"14\"/>\n",
       "<circle clip-path=\"url(#clip2302)\" style=\"fill:#000000; stroke:none; fill-opacity:1\" cx=\"2054.19\" cy=\"1281.54\" r=\"18\"/>\n",
       "<circle clip-path=\"url(#clip2302)\" style=\"fill:#009af9; stroke:none; fill-opacity:1\" cx=\"2054.19\" cy=\"1281.54\" r=\"14\"/>\n",
       "<circle clip-path=\"url(#clip2302)\" style=\"fill:#000000; stroke:none; fill-opacity:1\" cx=\"1880.19\" cy=\"908.786\" r=\"18\"/>\n",
       "<circle clip-path=\"url(#clip2302)\" style=\"fill:#009af9; stroke:none; fill-opacity:1\" cx=\"1880.19\" cy=\"908.786\" r=\"14\"/>\n",
       "<circle clip-path=\"url(#clip2302)\" style=\"fill:#000000; stroke:none; fill-opacity:1\" cx=\"792.125\" cy=\"537.469\" r=\"18\"/>\n",
       "<circle clip-path=\"url(#clip2302)\" style=\"fill:#009af9; stroke:none; fill-opacity:1\" cx=\"792.125\" cy=\"537.469\" r=\"14\"/>\n",
       "<circle clip-path=\"url(#clip2302)\" style=\"fill:#000000; stroke:none; fill-opacity:1\" cx=\"1590.71\" cy=\"378.724\" r=\"18\"/>\n",
       "<circle clip-path=\"url(#clip2302)\" style=\"fill:#009af9; stroke:none; fill-opacity:1\" cx=\"1590.71\" cy=\"378.724\" r=\"14\"/>\n",
       "<circle clip-path=\"url(#clip2302)\" style=\"fill:#000000; stroke:none; fill-opacity:1\" cx=\"1253.44\" cy=\"447.452\" r=\"18\"/>\n",
       "<circle clip-path=\"url(#clip2302)\" style=\"fill:#009af9; stroke:none; fill-opacity:1\" cx=\"1253.44\" cy=\"447.452\" r=\"14\"/>\n",
       "<circle clip-path=\"url(#clip2302)\" style=\"fill:#000000; stroke:none; fill-opacity:1\" cx=\"1280.98\" cy=\"463.168\" r=\"18\"/>\n",
       "<circle clip-path=\"url(#clip2302)\" style=\"fill:#009af9; stroke:none; fill-opacity:1\" cx=\"1280.98\" cy=\"463.168\" r=\"14\"/>\n",
       "<circle clip-path=\"url(#clip2302)\" style=\"fill:#000000; stroke:none; fill-opacity:1\" cx=\"1476.2\" cy=\"336.243\" r=\"18\"/>\n",
       "<circle clip-path=\"url(#clip2302)\" style=\"fill:#009af9; stroke:none; fill-opacity:1\" cx=\"1476.2\" cy=\"336.243\" r=\"14\"/>\n",
       "<circle clip-path=\"url(#clip2302)\" style=\"fill:#000000; stroke:none; fill-opacity:1\" cx=\"969.163\" cy=\"658.016\" r=\"18\"/>\n",
       "<circle clip-path=\"url(#clip2302)\" style=\"fill:#009af9; stroke:none; fill-opacity:1\" cx=\"969.163\" cy=\"658.016\" r=\"14\"/>\n",
       "<circle clip-path=\"url(#clip2302)\" style=\"fill:#000000; stroke:none; fill-opacity:1\" cx=\"1556.2\" cy=\"413.198\" r=\"18\"/>\n",
       "<circle clip-path=\"url(#clip2302)\" style=\"fill:#009af9; stroke:none; fill-opacity:1\" cx=\"1556.2\" cy=\"413.198\" r=\"14\"/>\n",
       "<circle clip-path=\"url(#clip2302)\" style=\"fill:#000000; stroke:none; fill-opacity:1\" cx=\"1926.34\" cy=\"1054.58\" r=\"18\"/>\n",
       "<circle clip-path=\"url(#clip2302)\" style=\"fill:#009af9; stroke:none; fill-opacity:1\" cx=\"1926.34\" cy=\"1054.58\" r=\"14\"/>\n",
       "<circle clip-path=\"url(#clip2302)\" style=\"fill:#000000; stroke:none; fill-opacity:1\" cx=\"1495.35\" cy=\"375.167\" r=\"18\"/>\n",
       "<circle clip-path=\"url(#clip2302)\" style=\"fill:#009af9; stroke:none; fill-opacity:1\" cx=\"1495.35\" cy=\"375.167\" r=\"14\"/>\n",
       "<circle clip-path=\"url(#clip2302)\" style=\"fill:#000000; stroke:none; fill-opacity:1\" cx=\"2117.18\" cy=\"1349.99\" r=\"18\"/>\n",
       "<circle clip-path=\"url(#clip2302)\" style=\"fill:#009af9; stroke:none; fill-opacity:1\" cx=\"2117.18\" cy=\"1349.99\" r=\"14\"/>\n",
       "<circle clip-path=\"url(#clip2302)\" style=\"fill:#000000; stroke:none; fill-opacity:1\" cx=\"1399.36\" cy=\"399.537\" r=\"18\"/>\n",
       "<circle clip-path=\"url(#clip2302)\" style=\"fill:#009af9; stroke:none; fill-opacity:1\" cx=\"1399.36\" cy=\"399.537\" r=\"14\"/>\n",
       "<circle clip-path=\"url(#clip2302)\" style=\"fill:#000000; stroke:none; fill-opacity:1\" cx=\"1824.74\" cy=\"836.356\" r=\"18\"/>\n",
       "<circle clip-path=\"url(#clip2302)\" style=\"fill:#009af9; stroke:none; fill-opacity:1\" cx=\"1824.74\" cy=\"836.356\" r=\"14\"/>\n",
       "<circle clip-path=\"url(#clip2302)\" style=\"fill:#000000; stroke:none; fill-opacity:1\" cx=\"1789.33\" cy=\"754.221\" r=\"18\"/>\n",
       "<circle clip-path=\"url(#clip2302)\" style=\"fill:#009af9; stroke:none; fill-opacity:1\" cx=\"1789.33\" cy=\"754.221\" r=\"14\"/>\n",
       "<circle clip-path=\"url(#clip2302)\" style=\"fill:#000000; stroke:none; fill-opacity:1\" cx=\"1057.78\" cy=\"607.268\" r=\"18\"/>\n",
       "<circle clip-path=\"url(#clip2302)\" style=\"fill:#009af9; stroke:none; fill-opacity:1\" cx=\"1057.78\" cy=\"607.268\" r=\"14\"/>\n",
       "<circle clip-path=\"url(#clip2302)\" style=\"fill:#000000; stroke:none; fill-opacity:1\" cx=\"1500.87\" cy=\"369.508\" r=\"18\"/>\n",
       "<circle clip-path=\"url(#clip2302)\" style=\"fill:#009af9; stroke:none; fill-opacity:1\" cx=\"1500.87\" cy=\"369.508\" r=\"14\"/>\n",
       "<circle clip-path=\"url(#clip2302)\" style=\"fill:#000000; stroke:none; fill-opacity:1\" cx=\"1663.51\" cy=\"508.299\" r=\"18\"/>\n",
       "<circle clip-path=\"url(#clip2302)\" style=\"fill:#009af9; stroke:none; fill-opacity:1\" cx=\"1663.51\" cy=\"508.299\" r=\"14\"/>\n",
       "<polyline clip-path=\"url(#clip2302)\" style=\"stroke:#e26f46; stroke-width:4; stroke-opacity:1; fill:none\" points=\"\n",
       "  195.389,778.936 200.656,739.636 205.923,701.811 211.191,665.433 216.458,630.469 228.633,554.902 240.809,486.38 252.984,424.552 265.16,369.077 277.335,319.625 \n",
       "  289.511,275.874 301.686,237.51 313.862,204.232 326.037,175.745 338.213,151.763 350.388,132.011 362.564,116.22 386.915,95.497 411.266,87.6236 440.534,92.5769 \n",
       "  469.802,110.498 499.07,138.699 528.338,174.741 577.829,247.485 627.32,327.311 681.082,413.464 734.843,491.944 784.406,552.924 833.97,600.172 860.538,619.279 \n",
       "  887.107,633.891 913.675,643.992 940.244,649.643 971.026,650.807 1001.81,646.5 1032.59,637.146 1063.37,623.266 1118.08,589.343 1172.8,546.964 1220.77,506.299 \n",
       "  1268.75,465.64 1321.06,425.059 1373.36,392.316 1425.98,371.107 1478.6,365.058 1507.69,369.27 1536.78,379.35 1565.87,395.588 1594.95,418.176 1622.63,445.651 \n",
       "  1650.31,478.946 1677.98,517.95 1705.66,562.446 1763.22,670.983 1820.77,797.022 1869.22,911.485 1917.67,1027.49 1947.24,1095.99 1976.82,1160.39 2006.39,1218.51 \n",
       "  2035.97,1267.88 2063.77,1303.91 2091.57,1327.36 2105.47,1333.55 2119.37,1335.56 2133.28,1333.04 2147.18,1325.6 2169.45,1302.42 2191.72,1263.87 2202.85,1238.26 \n",
       "  2213.99,1208.11 2225.12,1173.19 2236.26,1133.24 2247.39,1088.01 2258.53,1037.22 2269.66,980.618 2280.8,917.917 2291.93,848.836 2303.07,773.083 2314.2,690.359 \n",
       "  2325.34,600.36 2332.19,541.205 2339.05,479.099 2345.9,413.969 2352.76,345.737 \n",
       "  \"/>\n",
       "<path clip-path=\"url(#clip2300)\" d=\"\n",
       "M1989.93 312.204 L2280.76 312.204 L2280.76 130.764 L1989.93 130.764  Z\n",
       "  \" fill=\"#ffffff\" fill-rule=\"evenodd\" fill-opacity=\"1\"/>\n",
       "<polyline clip-path=\"url(#clip2300)\" style=\"stroke:#000000; stroke-width:4; stroke-opacity:1; fill:none\" points=\"\n",
       "  1989.93,312.204 2280.76,312.204 2280.76,130.764 1989.93,130.764 1989.93,312.204 \n",
       "  \"/>\n",
       "<circle clip-path=\"url(#clip2300)\" style=\"fill:#000000; stroke:none; fill-opacity:1\" cx=\"2097.93\" cy=\"191.244\" r=\"25\"/>\n",
       "<circle clip-path=\"url(#clip2300)\" style=\"fill:#009af9; stroke:none; fill-opacity:1\" cx=\"2097.93\" cy=\"191.244\" r=\"21\"/>\n",
       "<g clip-path=\"url(#clip2300)\">\n",
       "<text style=\"fill:#000000; fill-opacity:1; font-family:Arial,Helvetica Neue,Helvetica,sans-serif; font-size:48px; text-anchor:start;\" transform=\"rotate(0, 2181.93, 208.744)\" x=\"2181.93\" y=\"208.744\">y1</text>\n",
       "</g>\n",
       "<polyline clip-path=\"url(#clip2300)\" style=\"stroke:#e26f46; stroke-width:4; stroke-opacity:1; fill:none\" points=\"\n",
       "  2013.93,251.724 2157.93,251.724 \n",
       "  \"/>\n",
       "<g clip-path=\"url(#clip2300)\">\n",
       "<text style=\"fill:#000000; fill-opacity:1; font-family:Arial,Helvetica Neue,Helvetica,sans-serif; font-size:48px; text-anchor:start;\" transform=\"rotate(0, 2181.93, 269.224)\" x=\"2181.93\" y=\"269.224\">y2</text>\n",
       "</g>\n",
       "</svg>\n"
      ]
     },
     "execution_count": 39,
     "metadata": {},
     "output_type": "execute_result"
    }
   ],
   "source": [
    "d = 5\n",
    "A = [ t[i]^k for i=1:m, k=0:d ]\n",
    "x = A \\ b\n",
    "pp = Poly(x)\n",
    "plot!( t->pp(t), xlim..., ylim=(-100,60) )"
   ]
  },
  {
   "cell_type": "code",
   "execution_count": null,
   "metadata": {},
   "outputs": [],
   "source": []
  }
 ],
 "metadata": {
  "@webio": {
   "lastCommId": "8bea4ab8d90943ddae0397ee5a5ecd71",
   "lastKernelId": "2be5efad-22e3-4a66-820d-f0a37a0d9375"
  },
  "kernelspec": {
   "display_name": "Julia 1.3.1",
   "language": "julia",
   "name": "julia-1.3"
  },
  "language_info": {
   "file_extension": ".jl",
   "mimetype": "application/julia",
   "name": "julia",
   "version": "1.3.1"
  }
 },
 "nbformat": 4,
 "nbformat_minor": 2
}
