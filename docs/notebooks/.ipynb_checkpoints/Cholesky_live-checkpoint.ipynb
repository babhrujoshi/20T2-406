{
 "cells": [
  {
   "cell_type": "code",
   "execution_count": 7,
   "metadata": {},
   "outputs": [],
   "source": [
    "using Plots, ForwardDiff, Interact, Printf, LinearAlgebra"
   ]
  },
  {
   "cell_type": "code",
   "execution_count": 9,
   "metadata": {},
   "outputs": [
    {
     "data": {
      "text/plain": [
       "CholeskyFull (generic function with 1 method)"
      ]
     },
     "execution_count": 9,
     "metadata": {},
     "output_type": "execute_result"
    }
   ],
   "source": [
    "# check if matrix is symmetric\n",
    "function isSymmetric(M)\n",
    "    (m,n) = size(M)   \n",
    "    if m != n\n",
    "        return false\n",
    "    end\n",
    "    for i in 1:m\n",
    "        for j in 1:n\n",
    "            if M[i,j] != M[j,i]\n",
    "                return false\n",
    "            end\n",
    "        end\n",
    "    end\n",
    "    return true\n",
    "end\n",
    "\n",
    "# one iterate of cholesky factorization\n",
    "function CholeskyIterate(M) \n",
    "    (n,~) = size(M)\n",
    "    \n",
    "    ϵ = .1;\n",
    "    tol = 1e-4\n",
    "    \n",
    "    R = similar(M)\n",
    "    A = similar(M)\n",
    "    log_PD = true\n",
    "\n",
    "    # Compute Schur complement matrix\n",
    "    \n",
    "    if M[1,1] <= tol\n",
    "        log_PD = false\n",
    "        return nothing \n",
    "    else\n",
    "        α = √(M[1,1])\n",
    "        w = M[1, 2:end]\n",
    "        R = [α w'/α; zeros(n-1, 1) I(n-1)]\n",
    "        A = [ 1 zeros(1, n-1); zeros(n-1,1) M[2:end,2:end] - w*w' / (α^2)]\n",
    "    end\n",
    "    \n",
    "    return log_PD, R, A\n",
    "\n",
    "end\n",
    "\n",
    "\n",
    "function CholeskyFull(M)\n",
    "    tol = 1e-4\n",
    "    \n",
    "    if isSymmetric(M)\n",
    "        (n,~) = size(M) \n",
    "    \n",
    "        # Cholesky iterate\n",
    "        \n",
    "        Rt = I(n)\n",
    "        for i in 1:n-1\n",
    "            (log_PD, R, M) = CholeskyIterate(M[i:end, i:end])\n",
    "            if log_PD\n",
    "                 Rt = [I(i-1) zeros(i-1, n-i+1); zeros(n-i+1, i-1) R] * Rt\n",
    "            else\n",
    "                @printf(\"the matrix is not positive definite\\n\")\n",
    "                return nothing\n",
    "            end\n",
    "        \n",
    "        end\n",
    "        if M[2,2] <= tol        \n",
    "            @printf(\"Matrix is not PD\")\n",
    "            return nothing\n",
    "        else\n",
    "            Rt[n,n] = Rt[n,n] * √(M[2,2])\n",
    "        end\n",
    "        return Rt\n",
    "                  \n",
    "    else\n",
    "        @printf(\"Matrix is not symmetric\\n\")\n",
    "        return nothing\n",
    "    end       \n",
    "end"
   ]
  },
  {
   "cell_type": "code",
   "execution_count": 10,
   "metadata": {},
   "outputs": [
    {
     "name": "stdout",
     "output_type": "stream",
     "text": [
      "Cholesky:\n"
     ]
    },
    {
     "ename": "UndefVarError",
     "evalue": "UndefVarError: log_false not defined",
     "output_type": "error",
     "traceback": [
      "UndefVarError: log_false not defined",
      "",
      "Stacktrace:",
      " [1] CholeskyIterate(::Array{Float64,2}) at ./In[9]:40",
      " [2] CholeskyFull(::Array{Float64,2}) at ./In[9]:55",
      " [3] top-level scope at In[10]:7"
     ]
    }
   ],
   "source": [
    "x1 = randn(3)\n",
    "x2 = randn(3)\n",
    "x3 = randn(3)\n",
    "\n",
    "X = x1*x1' + x2*x2';\n",
    "@printf(\"Cholesky:\\n\")\n",
    "K1 = CholeskyFull(X)\n",
    "\n",
    "\n",
    "# @show(norm(K1'K1 - X));\n"
   ]
  },
  {
   "cell_type": "code",
   "execution_count": 4,
   "metadata": {},
   "outputs": [
    {
     "data": {
      "text/plain": [
       "ModifiedCholeskyFull (generic function with 1 method)"
      ]
     },
     "execution_count": 4,
     "metadata": {},
     "output_type": "execute_result"
    }
   ],
   "source": [
    "# modified Cholesky\n",
    "function ModifiedCholeskyFull(M)\n",
    "    ϵ = .1\n",
    "    tol = 1e-4;\n",
    "    \n",
    "    if isSymmetric(M)\n",
    "        (n,~) = size(M) \n",
    "\n",
    "        Rt = I(n)\n",
    "        for i in 1:n-1\n",
    "            (log_PD, R, M) = CholeskyIterate(M[i:end,i:end])\n",
    "            if log_PD\n",
    "                Rt = [I(i-1) zeros(i-1, n-i+1); zeros(n-i+1, i-1 ) R] * Rt\n",
    "            else\n",
    "                @printf(\"Using moified Cholesky step\\n\")\n",
    "                Rt = [I(i-1) zeros(i-1, n-i+1); zeros(n-i+1, i-1 ) R] * Rt\n",
    "            end                \n",
    "        end   \n",
    "        \n",
    "        if abs(M[2,2]) <= tol\n",
    "            @printf(\"Using moified Cholesky step\\n\")\n",
    "            Rt[n,n] = Rt[n,n] * ϵ\n",
    "        else\n",
    "            Rt[n,n] = Rt[n,n] * √(M[2,2])\n",
    "        end\n",
    "        \n",
    "        return Rt\n",
    "            \n",
    "    else\n",
    "        @printf(\"Matrix is not symmetric\\n\")\n",
    "        return nothing\n",
    "    end       \n",
    "end"
   ]
  },
  {
   "cell_type": "code",
   "execution_count": 5,
   "metadata": {},
   "outputs": [
    {
     "name": "stdout",
     "output_type": "stream",
     "text": [
      "Cholesky:\n",
      "Using moified Cholesky step\n",
      "norm(K1' * K1 - X) = 0.010000000000000342\n"
     ]
    }
   ],
   "source": [
    "x1 = randn(3)\n",
    "x2 = randn(3)\n",
    "x3 = randn(3)\n",
    "\n",
    "X = x1*x1' + x2*x2';\n",
    "@printf(\"Cholesky:\\n\")\n",
    "K1 = ModifiedCholeskyFull(X)\n",
    "\n",
    "@show(norm(K1'K1 - X));\n"
   ]
  },
  {
   "cell_type": "code",
   "execution_count": null,
   "metadata": {},
   "outputs": [],
   "source": []
  }
 ],
 "metadata": {
  "kernelspec": {
   "display_name": "Julia 1.3.1",
   "language": "julia",
   "name": "julia-1.3"
  },
  "language_info": {
   "file_extension": ".jl",
   "mimetype": "application/julia",
   "name": "julia",
   "version": "1.3.1"
  }
 },
 "nbformat": 4,
 "nbformat_minor": 2
}
